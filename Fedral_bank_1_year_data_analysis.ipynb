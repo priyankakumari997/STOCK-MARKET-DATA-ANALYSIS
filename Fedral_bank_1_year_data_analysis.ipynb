{
  "cells": [
    {
      "cell_type": "code",
      "execution_count": 101,
      "metadata": {
        "id": "jrSwrG1P-lYG"
      },
      "outputs": [],
      "source": [
        "import pandas as pd\n",
        "import numpy as np\n",
        "import matplotlib.pyplot as plt\n",
        "import plotly.graph_objects as go\n",
        "df2 = pd.read_csv(\"/content/14-05-2021-TO-13-05-2022FEDERALBNKALLN.csv\")\n",
        "# Dataset is now stored in a Pandas Dataframe\n",
        "data=df2[['Date','Open Price', 'High Price','Low Price','Close Price']]\n",
        "x= data['Close Price']"
      ]
    },
    {
      "cell_type": "code",
      "source": [
        "data.head()"
      ],
      "metadata": {
        "colab": {
          "base_uri": "https://localhost:8080/",
          "height": 206
        },
        "id": "1I7PYroElJXz",
        "outputId": "6d763c02-ed34-43bf-a319-efbc81b5b951"
      },
      "execution_count": 102,
      "outputs": [
        {
          "output_type": "execute_result",
          "data": {
            "text/plain": [
              "          Date  Open Price  High Price  Low Price  Close Price\n",
              "0  14-May-2021       82.45       82.85      79.05        79.65\n",
              "1  17-May-2021       80.80       83.50      77.65        81.55\n",
              "2  18-May-2021       84.00       86.40      83.10        84.35\n",
              "3  19-May-2021       84.30       85.40      83.30        84.40\n",
              "4  20-May-2021       84.70       85.50      82.85        83.45"
            ],
            "text/html": [
              "\n",
              "  <div id=\"df-43842d52-c377-4f12-bc0e-52c9c52ee9c8\">\n",
              "    <div class=\"colab-df-container\">\n",
              "      <div>\n",
              "<style scoped>\n",
              "    .dataframe tbody tr th:only-of-type {\n",
              "        vertical-align: middle;\n",
              "    }\n",
              "\n",
              "    .dataframe tbody tr th {\n",
              "        vertical-align: top;\n",
              "    }\n",
              "\n",
              "    .dataframe thead th {\n",
              "        text-align: right;\n",
              "    }\n",
              "</style>\n",
              "<table border=\"1\" class=\"dataframe\">\n",
              "  <thead>\n",
              "    <tr style=\"text-align: right;\">\n",
              "      <th></th>\n",
              "      <th>Date</th>\n",
              "      <th>Open Price</th>\n",
              "      <th>High Price</th>\n",
              "      <th>Low Price</th>\n",
              "      <th>Close Price</th>\n",
              "    </tr>\n",
              "  </thead>\n",
              "  <tbody>\n",
              "    <tr>\n",
              "      <th>0</th>\n",
              "      <td>14-May-2021</td>\n",
              "      <td>82.45</td>\n",
              "      <td>82.85</td>\n",
              "      <td>79.05</td>\n",
              "      <td>79.65</td>\n",
              "    </tr>\n",
              "    <tr>\n",
              "      <th>1</th>\n",
              "      <td>17-May-2021</td>\n",
              "      <td>80.80</td>\n",
              "      <td>83.50</td>\n",
              "      <td>77.65</td>\n",
              "      <td>81.55</td>\n",
              "    </tr>\n",
              "    <tr>\n",
              "      <th>2</th>\n",
              "      <td>18-May-2021</td>\n",
              "      <td>84.00</td>\n",
              "      <td>86.40</td>\n",
              "      <td>83.10</td>\n",
              "      <td>84.35</td>\n",
              "    </tr>\n",
              "    <tr>\n",
              "      <th>3</th>\n",
              "      <td>19-May-2021</td>\n",
              "      <td>84.30</td>\n",
              "      <td>85.40</td>\n",
              "      <td>83.30</td>\n",
              "      <td>84.40</td>\n",
              "    </tr>\n",
              "    <tr>\n",
              "      <th>4</th>\n",
              "      <td>20-May-2021</td>\n",
              "      <td>84.70</td>\n",
              "      <td>85.50</td>\n",
              "      <td>82.85</td>\n",
              "      <td>83.45</td>\n",
              "    </tr>\n",
              "  </tbody>\n",
              "</table>\n",
              "</div>\n",
              "      <button class=\"colab-df-convert\" onclick=\"convertToInteractive('df-43842d52-c377-4f12-bc0e-52c9c52ee9c8')\"\n",
              "              title=\"Convert this dataframe to an interactive table.\"\n",
              "              style=\"display:none;\">\n",
              "        \n",
              "  <svg xmlns=\"http://www.w3.org/2000/svg\" height=\"24px\"viewBox=\"0 0 24 24\"\n",
              "       width=\"24px\">\n",
              "    <path d=\"M0 0h24v24H0V0z\" fill=\"none\"/>\n",
              "    <path d=\"M18.56 5.44l.94 2.06.94-2.06 2.06-.94-2.06-.94-.94-2.06-.94 2.06-2.06.94zm-11 1L8.5 8.5l.94-2.06 2.06-.94-2.06-.94L8.5 2.5l-.94 2.06-2.06.94zm10 10l.94 2.06.94-2.06 2.06-.94-2.06-.94-.94-2.06-.94 2.06-2.06.94z\"/><path d=\"M17.41 7.96l-1.37-1.37c-.4-.4-.92-.59-1.43-.59-.52 0-1.04.2-1.43.59L10.3 9.45l-7.72 7.72c-.78.78-.78 2.05 0 2.83L4 21.41c.39.39.9.59 1.41.59.51 0 1.02-.2 1.41-.59l7.78-7.78 2.81-2.81c.8-.78.8-2.07 0-2.86zM5.41 20L4 18.59l7.72-7.72 1.47 1.35L5.41 20z\"/>\n",
              "  </svg>\n",
              "      </button>\n",
              "      \n",
              "  <style>\n",
              "    .colab-df-container {\n",
              "      display:flex;\n",
              "      flex-wrap:wrap;\n",
              "      gap: 12px;\n",
              "    }\n",
              "\n",
              "    .colab-df-convert {\n",
              "      background-color: #E8F0FE;\n",
              "      border: none;\n",
              "      border-radius: 50%;\n",
              "      cursor: pointer;\n",
              "      display: none;\n",
              "      fill: #1967D2;\n",
              "      height: 32px;\n",
              "      padding: 0 0 0 0;\n",
              "      width: 32px;\n",
              "    }\n",
              "\n",
              "    .colab-df-convert:hover {\n",
              "      background-color: #E2EBFA;\n",
              "      box-shadow: 0px 1px 2px rgba(60, 64, 67, 0.3), 0px 1px 3px 1px rgba(60, 64, 67, 0.15);\n",
              "      fill: #174EA6;\n",
              "    }\n",
              "\n",
              "    [theme=dark] .colab-df-convert {\n",
              "      background-color: #3B4455;\n",
              "      fill: #D2E3FC;\n",
              "    }\n",
              "\n",
              "    [theme=dark] .colab-df-convert:hover {\n",
              "      background-color: #434B5C;\n",
              "      box-shadow: 0px 1px 3px 1px rgba(0, 0, 0, 0.15);\n",
              "      filter: drop-shadow(0px 1px 2px rgba(0, 0, 0, 0.3));\n",
              "      fill: #FFFFFF;\n",
              "    }\n",
              "  </style>\n",
              "\n",
              "      <script>\n",
              "        const buttonEl =\n",
              "          document.querySelector('#df-43842d52-c377-4f12-bc0e-52c9c52ee9c8 button.colab-df-convert');\n",
              "        buttonEl.style.display =\n",
              "          google.colab.kernel.accessAllowed ? 'block' : 'none';\n",
              "\n",
              "        async function convertToInteractive(key) {\n",
              "          const element = document.querySelector('#df-43842d52-c377-4f12-bc0e-52c9c52ee9c8');\n",
              "          const dataTable =\n",
              "            await google.colab.kernel.invokeFunction('convertToInteractive',\n",
              "                                                     [key], {});\n",
              "          if (!dataTable) return;\n",
              "\n",
              "          const docLinkHtml = 'Like what you see? Visit the ' +\n",
              "            '<a target=\"_blank\" href=https://colab.research.google.com/notebooks/data_table.ipynb>data table notebook</a>'\n",
              "            + ' to learn more about interactive tables.';\n",
              "          element.innerHTML = '';\n",
              "          dataTable['output_type'] = 'display_data';\n",
              "          await google.colab.output.renderOutput(dataTable, element);\n",
              "          const docLink = document.createElement('div');\n",
              "          docLink.innerHTML = docLinkHtml;\n",
              "          element.appendChild(docLink);\n",
              "        }\n",
              "      </script>\n",
              "    </div>\n",
              "  </div>\n",
              "  "
            ]
          },
          "metadata": {},
          "execution_count": 102
        }
      ]
    },
    {
      "cell_type": "code",
      "source": [
        "data.corr()"
      ],
      "metadata": {
        "colab": {
          "base_uri": "https://localhost:8080/",
          "height": 175
        },
        "id": "AxKOxLpLlPQN",
        "outputId": "ae7ddcda-f101-498b-bc41-49ffdd021ed5"
      },
      "execution_count": 103,
      "outputs": [
        {
          "output_type": "execute_result",
          "data": {
            "text/plain": [
              "             Open Price  High Price  Low Price  Close Price\n",
              "Open Price     1.000000    0.985747   0.984370     0.968785\n",
              "High Price     0.985747    1.000000   0.980165     0.989129\n",
              "Low Price      0.984370    0.980165   1.000000     0.984035\n",
              "Close Price    0.968785    0.989129   0.984035     1.000000"
            ],
            "text/html": [
              "\n",
              "  <div id=\"df-04c8ff37-5603-4682-ad0e-a471300b4562\">\n",
              "    <div class=\"colab-df-container\">\n",
              "      <div>\n",
              "<style scoped>\n",
              "    .dataframe tbody tr th:only-of-type {\n",
              "        vertical-align: middle;\n",
              "    }\n",
              "\n",
              "    .dataframe tbody tr th {\n",
              "        vertical-align: top;\n",
              "    }\n",
              "\n",
              "    .dataframe thead th {\n",
              "        text-align: right;\n",
              "    }\n",
              "</style>\n",
              "<table border=\"1\" class=\"dataframe\">\n",
              "  <thead>\n",
              "    <tr style=\"text-align: right;\">\n",
              "      <th></th>\n",
              "      <th>Open Price</th>\n",
              "      <th>High Price</th>\n",
              "      <th>Low Price</th>\n",
              "      <th>Close Price</th>\n",
              "    </tr>\n",
              "  </thead>\n",
              "  <tbody>\n",
              "    <tr>\n",
              "      <th>Open Price</th>\n",
              "      <td>1.000000</td>\n",
              "      <td>0.985747</td>\n",
              "      <td>0.984370</td>\n",
              "      <td>0.968785</td>\n",
              "    </tr>\n",
              "    <tr>\n",
              "      <th>High Price</th>\n",
              "      <td>0.985747</td>\n",
              "      <td>1.000000</td>\n",
              "      <td>0.980165</td>\n",
              "      <td>0.989129</td>\n",
              "    </tr>\n",
              "    <tr>\n",
              "      <th>Low Price</th>\n",
              "      <td>0.984370</td>\n",
              "      <td>0.980165</td>\n",
              "      <td>1.000000</td>\n",
              "      <td>0.984035</td>\n",
              "    </tr>\n",
              "    <tr>\n",
              "      <th>Close Price</th>\n",
              "      <td>0.968785</td>\n",
              "      <td>0.989129</td>\n",
              "      <td>0.984035</td>\n",
              "      <td>1.000000</td>\n",
              "    </tr>\n",
              "  </tbody>\n",
              "</table>\n",
              "</div>\n",
              "      <button class=\"colab-df-convert\" onclick=\"convertToInteractive('df-04c8ff37-5603-4682-ad0e-a471300b4562')\"\n",
              "              title=\"Convert this dataframe to an interactive table.\"\n",
              "              style=\"display:none;\">\n",
              "        \n",
              "  <svg xmlns=\"http://www.w3.org/2000/svg\" height=\"24px\"viewBox=\"0 0 24 24\"\n",
              "       width=\"24px\">\n",
              "    <path d=\"M0 0h24v24H0V0z\" fill=\"none\"/>\n",
              "    <path d=\"M18.56 5.44l.94 2.06.94-2.06 2.06-.94-2.06-.94-.94-2.06-.94 2.06-2.06.94zm-11 1L8.5 8.5l.94-2.06 2.06-.94-2.06-.94L8.5 2.5l-.94 2.06-2.06.94zm10 10l.94 2.06.94-2.06 2.06-.94-2.06-.94-.94-2.06-.94 2.06-2.06.94z\"/><path d=\"M17.41 7.96l-1.37-1.37c-.4-.4-.92-.59-1.43-.59-.52 0-1.04.2-1.43.59L10.3 9.45l-7.72 7.72c-.78.78-.78 2.05 0 2.83L4 21.41c.39.39.9.59 1.41.59.51 0 1.02-.2 1.41-.59l7.78-7.78 2.81-2.81c.8-.78.8-2.07 0-2.86zM5.41 20L4 18.59l7.72-7.72 1.47 1.35L5.41 20z\"/>\n",
              "  </svg>\n",
              "      </button>\n",
              "      \n",
              "  <style>\n",
              "    .colab-df-container {\n",
              "      display:flex;\n",
              "      flex-wrap:wrap;\n",
              "      gap: 12px;\n",
              "    }\n",
              "\n",
              "    .colab-df-convert {\n",
              "      background-color: #E8F0FE;\n",
              "      border: none;\n",
              "      border-radius: 50%;\n",
              "      cursor: pointer;\n",
              "      display: none;\n",
              "      fill: #1967D2;\n",
              "      height: 32px;\n",
              "      padding: 0 0 0 0;\n",
              "      width: 32px;\n",
              "    }\n",
              "\n",
              "    .colab-df-convert:hover {\n",
              "      background-color: #E2EBFA;\n",
              "      box-shadow: 0px 1px 2px rgba(60, 64, 67, 0.3), 0px 1px 3px 1px rgba(60, 64, 67, 0.15);\n",
              "      fill: #174EA6;\n",
              "    }\n",
              "\n",
              "    [theme=dark] .colab-df-convert {\n",
              "      background-color: #3B4455;\n",
              "      fill: #D2E3FC;\n",
              "    }\n",
              "\n",
              "    [theme=dark] .colab-df-convert:hover {\n",
              "      background-color: #434B5C;\n",
              "      box-shadow: 0px 1px 3px 1px rgba(0, 0, 0, 0.15);\n",
              "      filter: drop-shadow(0px 1px 2px rgba(0, 0, 0, 0.3));\n",
              "      fill: #FFFFFF;\n",
              "    }\n",
              "  </style>\n",
              "\n",
              "      <script>\n",
              "        const buttonEl =\n",
              "          document.querySelector('#df-04c8ff37-5603-4682-ad0e-a471300b4562 button.colab-df-convert');\n",
              "        buttonEl.style.display =\n",
              "          google.colab.kernel.accessAllowed ? 'block' : 'none';\n",
              "\n",
              "        async function convertToInteractive(key) {\n",
              "          const element = document.querySelector('#df-04c8ff37-5603-4682-ad0e-a471300b4562');\n",
              "          const dataTable =\n",
              "            await google.colab.kernel.invokeFunction('convertToInteractive',\n",
              "                                                     [key], {});\n",
              "          if (!dataTable) return;\n",
              "\n",
              "          const docLinkHtml = 'Like what you see? Visit the ' +\n",
              "            '<a target=\"_blank\" href=https://colab.research.google.com/notebooks/data_table.ipynb>data table notebook</a>'\n",
              "            + ' to learn more about interactive tables.';\n",
              "          element.innerHTML = '';\n",
              "          dataTable['output_type'] = 'display_data';\n",
              "          await google.colab.output.renderOutput(dataTable, element);\n",
              "          const docLink = document.createElement('div');\n",
              "          docLink.innerHTML = docLinkHtml;\n",
              "          element.appendChild(docLink);\n",
              "        }\n",
              "      </script>\n",
              "    </div>\n",
              "  </div>\n",
              "  "
            ]
          },
          "metadata": {},
          "execution_count": 103
        }
      ]
    },
    {
      "cell_type": "code",
      "source": [
        "data.describe()"
      ],
      "metadata": {
        "colab": {
          "base_uri": "https://localhost:8080/",
          "height": 300
        },
        "id": "Bm9lFZP8lRGd",
        "outputId": "01ee6483-5c0f-4eca-9c0d-416f5a9d1b4d"
      },
      "execution_count": 104,
      "outputs": [
        {
          "output_type": "execute_result",
          "data": {
            "text/plain": [
              "       Open Price  High Price   Low Price  Close Price\n",
              "count  249.000000  249.000000  249.000000   249.000000\n",
              "mean    90.921888   92.087149   89.397390    90.665060\n",
              "std      6.817689    7.018581    6.692506     6.854326\n",
              "min     78.000000   78.650000   77.500000    77.950000\n",
              "25%     85.700000   86.400000   84.250000    85.300000\n",
              "50%     89.150000   90.300000   87.750000    89.150000\n",
              "75%     97.400000   98.700000   96.000000    97.400000\n",
              "max    105.000000  107.650000  102.300000   104.450000"
            ],
            "text/html": [
              "\n",
              "  <div id=\"df-0e3a3882-b01c-40af-99f2-600490ad2069\">\n",
              "    <div class=\"colab-df-container\">\n",
              "      <div>\n",
              "<style scoped>\n",
              "    .dataframe tbody tr th:only-of-type {\n",
              "        vertical-align: middle;\n",
              "    }\n",
              "\n",
              "    .dataframe tbody tr th {\n",
              "        vertical-align: top;\n",
              "    }\n",
              "\n",
              "    .dataframe thead th {\n",
              "        text-align: right;\n",
              "    }\n",
              "</style>\n",
              "<table border=\"1\" class=\"dataframe\">\n",
              "  <thead>\n",
              "    <tr style=\"text-align: right;\">\n",
              "      <th></th>\n",
              "      <th>Open Price</th>\n",
              "      <th>High Price</th>\n",
              "      <th>Low Price</th>\n",
              "      <th>Close Price</th>\n",
              "    </tr>\n",
              "  </thead>\n",
              "  <tbody>\n",
              "    <tr>\n",
              "      <th>count</th>\n",
              "      <td>249.000000</td>\n",
              "      <td>249.000000</td>\n",
              "      <td>249.000000</td>\n",
              "      <td>249.000000</td>\n",
              "    </tr>\n",
              "    <tr>\n",
              "      <th>mean</th>\n",
              "      <td>90.921888</td>\n",
              "      <td>92.087149</td>\n",
              "      <td>89.397390</td>\n",
              "      <td>90.665060</td>\n",
              "    </tr>\n",
              "    <tr>\n",
              "      <th>std</th>\n",
              "      <td>6.817689</td>\n",
              "      <td>7.018581</td>\n",
              "      <td>6.692506</td>\n",
              "      <td>6.854326</td>\n",
              "    </tr>\n",
              "    <tr>\n",
              "      <th>min</th>\n",
              "      <td>78.000000</td>\n",
              "      <td>78.650000</td>\n",
              "      <td>77.500000</td>\n",
              "      <td>77.950000</td>\n",
              "    </tr>\n",
              "    <tr>\n",
              "      <th>25%</th>\n",
              "      <td>85.700000</td>\n",
              "      <td>86.400000</td>\n",
              "      <td>84.250000</td>\n",
              "      <td>85.300000</td>\n",
              "    </tr>\n",
              "    <tr>\n",
              "      <th>50%</th>\n",
              "      <td>89.150000</td>\n",
              "      <td>90.300000</td>\n",
              "      <td>87.750000</td>\n",
              "      <td>89.150000</td>\n",
              "    </tr>\n",
              "    <tr>\n",
              "      <th>75%</th>\n",
              "      <td>97.400000</td>\n",
              "      <td>98.700000</td>\n",
              "      <td>96.000000</td>\n",
              "      <td>97.400000</td>\n",
              "    </tr>\n",
              "    <tr>\n",
              "      <th>max</th>\n",
              "      <td>105.000000</td>\n",
              "      <td>107.650000</td>\n",
              "      <td>102.300000</td>\n",
              "      <td>104.450000</td>\n",
              "    </tr>\n",
              "  </tbody>\n",
              "</table>\n",
              "</div>\n",
              "      <button class=\"colab-df-convert\" onclick=\"convertToInteractive('df-0e3a3882-b01c-40af-99f2-600490ad2069')\"\n",
              "              title=\"Convert this dataframe to an interactive table.\"\n",
              "              style=\"display:none;\">\n",
              "        \n",
              "  <svg xmlns=\"http://www.w3.org/2000/svg\" height=\"24px\"viewBox=\"0 0 24 24\"\n",
              "       width=\"24px\">\n",
              "    <path d=\"M0 0h24v24H0V0z\" fill=\"none\"/>\n",
              "    <path d=\"M18.56 5.44l.94 2.06.94-2.06 2.06-.94-2.06-.94-.94-2.06-.94 2.06-2.06.94zm-11 1L8.5 8.5l.94-2.06 2.06-.94-2.06-.94L8.5 2.5l-.94 2.06-2.06.94zm10 10l.94 2.06.94-2.06 2.06-.94-2.06-.94-.94-2.06-.94 2.06-2.06.94z\"/><path d=\"M17.41 7.96l-1.37-1.37c-.4-.4-.92-.59-1.43-.59-.52 0-1.04.2-1.43.59L10.3 9.45l-7.72 7.72c-.78.78-.78 2.05 0 2.83L4 21.41c.39.39.9.59 1.41.59.51 0 1.02-.2 1.41-.59l7.78-7.78 2.81-2.81c.8-.78.8-2.07 0-2.86zM5.41 20L4 18.59l7.72-7.72 1.47 1.35L5.41 20z\"/>\n",
              "  </svg>\n",
              "      </button>\n",
              "      \n",
              "  <style>\n",
              "    .colab-df-container {\n",
              "      display:flex;\n",
              "      flex-wrap:wrap;\n",
              "      gap: 12px;\n",
              "    }\n",
              "\n",
              "    .colab-df-convert {\n",
              "      background-color: #E8F0FE;\n",
              "      border: none;\n",
              "      border-radius: 50%;\n",
              "      cursor: pointer;\n",
              "      display: none;\n",
              "      fill: #1967D2;\n",
              "      height: 32px;\n",
              "      padding: 0 0 0 0;\n",
              "      width: 32px;\n",
              "    }\n",
              "\n",
              "    .colab-df-convert:hover {\n",
              "      background-color: #E2EBFA;\n",
              "      box-shadow: 0px 1px 2px rgba(60, 64, 67, 0.3), 0px 1px 3px 1px rgba(60, 64, 67, 0.15);\n",
              "      fill: #174EA6;\n",
              "    }\n",
              "\n",
              "    [theme=dark] .colab-df-convert {\n",
              "      background-color: #3B4455;\n",
              "      fill: #D2E3FC;\n",
              "    }\n",
              "\n",
              "    [theme=dark] .colab-df-convert:hover {\n",
              "      background-color: #434B5C;\n",
              "      box-shadow: 0px 1px 3px 1px rgba(0, 0, 0, 0.15);\n",
              "      filter: drop-shadow(0px 1px 2px rgba(0, 0, 0, 0.3));\n",
              "      fill: #FFFFFF;\n",
              "    }\n",
              "  </style>\n",
              "\n",
              "      <script>\n",
              "        const buttonEl =\n",
              "          document.querySelector('#df-0e3a3882-b01c-40af-99f2-600490ad2069 button.colab-df-convert');\n",
              "        buttonEl.style.display =\n",
              "          google.colab.kernel.accessAllowed ? 'block' : 'none';\n",
              "\n",
              "        async function convertToInteractive(key) {\n",
              "          const element = document.querySelector('#df-0e3a3882-b01c-40af-99f2-600490ad2069');\n",
              "          const dataTable =\n",
              "            await google.colab.kernel.invokeFunction('convertToInteractive',\n",
              "                                                     [key], {});\n",
              "          if (!dataTable) return;\n",
              "\n",
              "          const docLinkHtml = 'Like what you see? Visit the ' +\n",
              "            '<a target=\"_blank\" href=https://colab.research.google.com/notebooks/data_table.ipynb>data table notebook</a>'\n",
              "            + ' to learn more about interactive tables.';\n",
              "          element.innerHTML = '';\n",
              "          dataTable['output_type'] = 'display_data';\n",
              "          await google.colab.output.renderOutput(dataTable, element);\n",
              "          const docLink = document.createElement('div');\n",
              "          docLink.innerHTML = docLinkHtml;\n",
              "          element.appendChild(docLink);\n",
              "        }\n",
              "      </script>\n",
              "    </div>\n",
              "  </div>\n",
              "  "
            ]
          },
          "metadata": {},
          "execution_count": 104
        }
      ]
    },
    {
      "cell_type": "markdown",
      "source": [
        "#Hypothesis testing"
      ],
      "metadata": {
        "id": "TBNTJzdOhLYc"
      }
    },
    {
      "cell_type": "code",
      "source": [
        "data['diff']=data['Open Price']-data['Close Price']\n",
        "data['diff'].plot.kde()"
      ],
      "metadata": {
        "colab": {
          "base_uri": "https://localhost:8080/",
          "height": 421
        },
        "id": "MffO8VDcqLgX",
        "outputId": "d6fb822d-5d10-4e6f-a06e-d430ac4f3902"
      },
      "execution_count": 105,
      "outputs": [
        {
          "output_type": "stream",
          "name": "stderr",
          "text": [
            "/usr/local/lib/python3.7/dist-packages/ipykernel_launcher.py:1: SettingWithCopyWarning:\n",
            "\n",
            "\n",
            "A value is trying to be set on a copy of a slice from a DataFrame.\n",
            "Try using .loc[row_indexer,col_indexer] = value instead\n",
            "\n",
            "See the caveats in the documentation: https://pandas.pydata.org/pandas-docs/stable/user_guide/indexing.html#returning-a-view-versus-a-copy\n",
            "\n"
          ]
        },
        {
          "output_type": "execute_result",
          "data": {
            "text/plain": [
              "<matplotlib.axes._subplots.AxesSubplot at 0x7f8f68e36750>"
            ]
          },
          "metadata": {},
          "execution_count": 105
        },
        {
          "output_type": "display_data",
          "data": {
            "text/plain": [
              "<Figure size 432x288 with 1 Axes>"
            ],
            "image/png": "[encoded data removed]"
          },
          "metadata": {
            "needs_background": "light"
          }
        }
      ]
    },
    {
      "cell_type": "markdown",
      "source": [
        "Distribution curve for the variable difference of open price and the close price: -"
      ],
      "metadata": {
        "id": "xa3gNnOxhtIy"
      }
    },
    {
      "cell_type": "markdown",
      "source": [
        "The above distribution curve indicates that it is symmetrical, because there is no amount of tail present in the either side. \n",
        "The variable difference can be assumed to be normally distributed. To check the above hypothesis, we can use a parametric test. Test name: - Paired sample t-test.\n"
      ],
      "metadata": {
        "id": "e7FvlD7Ohp2T"
      }
    },
    {
      "cell_type": "code",
      "source": [
        "from scipy.stats import ttest_1samp, ttest_rel\n",
        "ttest_rel(data['Open Price'],data['Close Price'])"
      ],
      "metadata": {
        "colab": {
          "base_uri": "https://localhost:8080/"
        },
        "id": "lG8PM7mjqLjR",
        "outputId": "4117f055-de5d-4fdc-fb9c-832c06cac36f"
      },
      "execution_count": 106,
      "outputs": [
        {
          "output_type": "execute_result",
          "data": {
            "text/plain": [
              "Ttest_relResult(statistic=2.372137768822742, pvalue=0.018449424092120182)"
            ]
          },
          "metadata": {},
          "execution_count": 106
        }
      ]
    },
    {
      "cell_type": "markdown",
      "source": [
        "the p value from Python is 0.0184 which is less than 0.05 and therefore the null hypothesis is rejected which means there is significant difference in the open price and the close price."
      ],
      "metadata": {
        "id": "N-G50QY8hnRZ"
      }
    },
    {
      "cell_type": "markdown",
      "source": [
        "#Statistical Data Analysis"
      ],
      "metadata": {
        "id": "s9H11ShkhynW"
      }
    },
    {
      "cell_type": "code",
      "source": [
        "data.info()"
      ],
      "metadata": {
        "colab": {
          "base_uri": "https://localhost:8080/"
        },
        "id": "pd8RwfxsqLm6",
        "outputId": "77a586ac-26e4-475a-fd0a-a74c80400e48"
      },
      "execution_count": 107,
      "outputs": [
        {
          "output_type": "stream",
          "name": "stdout",
          "text": [
            "<class 'pandas.core.frame.DataFrame'>\n",
            "RangeIndex: 249 entries, 0 to 248\n",
            "Data columns (total 6 columns):\n",
            " #   Column       Non-Null Count  Dtype  \n",
            "---  ------       --------------  -----  \n",
            " 0   Date         249 non-null    object \n",
            " 1   Open Price   249 non-null    float64\n",
            " 2   High Price   249 non-null    float64\n",
            " 3   Low Price    249 non-null    float64\n",
            " 4   Close Price  249 non-null    float64\n",
            " 5   diff         249 non-null    float64\n",
            "dtypes: float64(5), object(1)\n",
            "memory usage: 11.8+ KB\n"
          ]
        }
      ]
    },
    {
      "cell_type": "code",
      "source": [
        "data.describe()"
      ],
      "metadata": {
        "colab": {
          "base_uri": "https://localhost:8080/",
          "height": 300
        },
        "id": "4dmuin5MqLqg",
        "outputId": "17aa459d-61f1-4742-8b2c-1e13efef48df"
      },
      "execution_count": 108,
      "outputs": [
        {
          "output_type": "execute_result",
          "data": {
            "text/plain": [
              "       Open Price  High Price   Low Price  Close Price        diff\n",
              "count  249.000000  249.000000  249.000000   249.000000  249.000000\n",
              "mean    90.921888   92.087149   89.397390    90.665060    0.256827\n",
              "std      6.817689    7.018581    6.692506     6.854326    1.708445\n",
              "min     78.000000   78.650000   77.500000    77.950000   -6.700000\n",
              "25%     85.700000   86.400000   84.250000    85.300000   -0.650000\n",
              "50%     89.150000   90.300000   87.750000    89.150000    0.300000\n",
              "75%     97.400000   98.700000   96.000000    97.400000    1.300000\n",
              "max    105.000000  107.650000  102.300000   104.450000    5.100000"
            ],
            "text/html": [
              "\n",
              "  <div id=\"df-d2a57711-ddea-4157-9ca1-9e21304b9d6a\">\n",
              "    <div class=\"colab-df-container\">\n",
              "      <div>\n",
              "<style scoped>\n",
              "    .dataframe tbody tr th:only-of-type {\n",
              "        vertical-align: middle;\n",
              "    }\n",
              "\n",
              "    .dataframe tbody tr th {\n",
              "        vertical-align: top;\n",
              "    }\n",
              "\n",
              "    .dataframe thead th {\n",
              "        text-align: right;\n",
              "    }\n",
              "</style>\n",
              "<table border=\"1\" class=\"dataframe\">\n",
              "  <thead>\n",
              "    <tr style=\"text-align: right;\">\n",
              "      <th></th>\n",
              "      <th>Open Price</th>\n",
              "      <th>High Price</th>\n",
              "      <th>Low Price</th>\n",
              "      <th>Close Price</th>\n",
              "      <th>diff</th>\n",
              "    </tr>\n",
              "  </thead>\n",
              "  <tbody>\n",
              "    <tr>\n",
              "      <th>count</th>\n",
              "      <td>249.000000</td>\n",
              "      <td>249.000000</td>\n",
              "      <td>249.000000</td>\n",
              "      <td>249.000000</td>\n",
              "      <td>249.000000</td>\n",
              "    </tr>\n",
              "    <tr>\n",
              "      <th>mean</th>\n",
              "      <td>90.921888</td>\n",
              "      <td>92.087149</td>\n",
              "      <td>89.397390</td>\n",
              "      <td>90.665060</td>\n",
              "      <td>0.256827</td>\n",
              "    </tr>\n",
              "    <tr>\n",
              "      <th>std</th>\n",
              "      <td>6.817689</td>\n",
              "      <td>7.018581</td>\n",
              "      <td>6.692506</td>\n",
              "      <td>6.854326</td>\n",
              "      <td>1.708445</td>\n",
              "    </tr>\n",
              "    <tr>\n",
              "      <th>min</th>\n",
              "      <td>78.000000</td>\n",
              "      <td>78.650000</td>\n",
              "      <td>77.500000</td>\n",
              "      <td>77.950000</td>\n",
              "      <td>-6.700000</td>\n",
              "    </tr>\n",
              "    <tr>\n",
              "      <th>25%</th>\n",
              "      <td>85.700000</td>\n",
              "      <td>86.400000</td>\n",
              "      <td>84.250000</td>\n",
              "      <td>85.300000</td>\n",
              "      <td>-0.650000</td>\n",
              "    </tr>\n",
              "    <tr>\n",
              "      <th>50%</th>\n",
              "      <td>89.150000</td>\n",
              "      <td>90.300000</td>\n",
              "      <td>87.750000</td>\n",
              "      <td>89.150000</td>\n",
              "      <td>0.300000</td>\n",
              "    </tr>\n",
              "    <tr>\n",
              "      <th>75%</th>\n",
              "      <td>97.400000</td>\n",
              "      <td>98.700000</td>\n",
              "      <td>96.000000</td>\n",
              "      <td>97.400000</td>\n",
              "      <td>1.300000</td>\n",
              "    </tr>\n",
              "    <tr>\n",
              "      <th>max</th>\n",
              "      <td>105.000000</td>\n",
              "      <td>107.650000</td>\n",
              "      <td>102.300000</td>\n",
              "      <td>104.450000</td>\n",
              "      <td>5.100000</td>\n",
              "    </tr>\n",
              "  </tbody>\n",
              "</table>\n",
              "</div>\n",
              "      <button class=\"colab-df-convert\" onclick=\"convertToInteractive('df-d2a57711-ddea-4157-9ca1-9e21304b9d6a')\"\n",
              "              title=\"Convert this dataframe to an interactive table.\"\n",
              "              style=\"display:none;\">\n",
              "        \n",
              "  <svg xmlns=\"http://www.w3.org/2000/svg\" height=\"24px\"viewBox=\"0 0 24 24\"\n",
              "       width=\"24px\">\n",
              "    <path d=\"M0 0h24v24H0V0z\" fill=\"none\"/>\n",
              "    <path d=\"M18.56 5.44l.94 2.06.94-2.06 2.06-.94-2.06-.94-.94-2.06-.94 2.06-2.06.94zm-11 1L8.5 8.5l.94-2.06 2.06-.94-2.06-.94L8.5 2.5l-.94 2.06-2.06.94zm10 10l.94 2.06.94-2.06 2.06-.94-2.06-.94-.94-2.06-.94 2.06-2.06.94z\"/><path d=\"M17.41 7.96l-1.37-1.37c-.4-.4-.92-.59-1.43-.59-.52 0-1.04.2-1.43.59L10.3 9.45l-7.72 7.72c-.78.78-.78 2.05 0 2.83L4 21.41c.39.39.9.59 1.41.59.51 0 1.02-.2 1.41-.59l7.78-7.78 2.81-2.81c.8-.78.8-2.07 0-2.86zM5.41 20L4 18.59l7.72-7.72 1.47 1.35L5.41 20z\"/>\n",
              "  </svg>\n",
              "      </button>\n",
              "      \n",
              "  <style>\n",
              "    .colab-df-container {\n",
              "      display:flex;\n",
              "      flex-wrap:wrap;\n",
              "      gap: 12px;\n",
              "    }\n",
              "\n",
              "    .colab-df-convert {\n",
              "      background-color: #E8F0FE;\n",
              "      border: none;\n",
              "      border-radius: 50%;\n",
              "      cursor: pointer;\n",
              "      display: none;\n",
              "      fill: #1967D2;\n",
              "      height: 32px;\n",
              "      padding: 0 0 0 0;\n",
              "      width: 32px;\n",
              "    }\n",
              "\n",
              "    .colab-df-convert:hover {\n",
              "      background-color: #E2EBFA;\n",
              "      box-shadow: 0px 1px 2px rgba(60, 64, 67, 0.3), 0px 1px 3px 1px rgba(60, 64, 67, 0.15);\n",
              "      fill: #174EA6;\n",
              "    }\n",
              "\n",
              "    [theme=dark] .colab-df-convert {\n",
              "      background-color: #3B4455;\n",
              "      fill: #D2E3FC;\n",
              "    }\n",
              "\n",
              "    [theme=dark] .colab-df-convert:hover {\n",
              "      background-color: #434B5C;\n",
              "      box-shadow: 0px 1px 3px 1px rgba(0, 0, 0, 0.15);\n",
              "      filter: drop-shadow(0px 1px 2px rgba(0, 0, 0, 0.3));\n",
              "      fill: #FFFFFF;\n",
              "    }\n",
              "  </style>\n",
              "\n",
              "      <script>\n",
              "        const buttonEl =\n",
              "          document.querySelector('#df-d2a57711-ddea-4157-9ca1-9e21304b9d6a button.colab-df-convert');\n",
              "        buttonEl.style.display =\n",
              "          google.colab.kernel.accessAllowed ? 'block' : 'none';\n",
              "\n",
              "        async function convertToInteractive(key) {\n",
              "          const element = document.querySelector('#df-d2a57711-ddea-4157-9ca1-9e21304b9d6a');\n",
              "          const dataTable =\n",
              "            await google.colab.kernel.invokeFunction('convertToInteractive',\n",
              "                                                     [key], {});\n",
              "          if (!dataTable) return;\n",
              "\n",
              "          const docLinkHtml = 'Like what you see? Visit the ' +\n",
              "            '<a target=\"_blank\" href=https://colab.research.google.com/notebooks/data_table.ipynb>data table notebook</a>'\n",
              "            + ' to learn more about interactive tables.';\n",
              "          element.innerHTML = '';\n",
              "          dataTable['output_type'] = 'display_data';\n",
              "          await google.colab.output.renderOutput(dataTable, element);\n",
              "          const docLink = document.createElement('div');\n",
              "          docLink.innerHTML = docLinkHtml;\n",
              "          element.appendChild(docLink);\n",
              "        }\n",
              "      </script>\n",
              "    </div>\n",
              "  </div>\n",
              "  "
            ]
          },
          "metadata": {},
          "execution_count": 108
        }
      ]
    },
    {
      "cell_type": "markdown",
      "source": [
        "Here, we are working on the variable Close Price of the stock. The variable is stored in the object, x. Firstly a line chart has been drawn representing the close price of the Federal bank stock price."
      ],
      "metadata": {
        "id": "dcBtRknjiAEO"
      }
    },
    {
      "cell_type": "code",
      "source": [
        "plt.plot(data['Close Price'])\n",
        "plt.show()"
      ],
      "metadata": {
        "id": "iw0fg9zpqLtV",
        "colab": {
          "base_uri": "https://localhost:8080/",
          "height": 265
        },
        "outputId": "6f452d66-11ac-40e2-cae8-83e254a910b2"
      },
      "execution_count": 109,
      "outputs": [
        {
          "output_type": "display_data",
          "data": {
            "text/plain": [
              "<Figure size 432x288 with 1 Axes>"
            ],
            "image/png": "[encoded data removed]"
          },
          "metadata": {
            "needs_background": "light"
          }
        }
      ]
    },
    {
      "cell_type": "markdown",
      "source": [
        "In the above graph it can be clearly observed that there is no trend.\n",
        "In statistical analysis of a stock, returns play an important role. The percentage change in the closing price between two days is the return. It can be calculated by using following formula: -\n",
        "![image.png](data:image/png;base64,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)\n",
        " \n",
        "\n",
        "In python, the pct change () method returns a Dataframe with the percentage difference between each row's values and the previous row's values, by default.\n"
      ],
      "metadata": {
        "id": "xafXP4zPiIYl"
      }
    },
    {
      "cell_type": "code",
      "source": [
        "returns = x.pct_change(1).dropna() \n",
        "plt.hist(returns,bins=\"rice\",label=\"Daily close price\")\n",
        "plt.legend()\n",
        "plt.show()"
      ],
      "metadata": {
        "colab": {
          "base_uri": "https://localhost:8080/",
          "height": 265
        },
        "id": "nLqVqzg_isbA",
        "outputId": "4055f2f1-90e9-4b8a-d55f-7473e419d016"
      },
      "execution_count": 110,
      "outputs": [
        {
          "output_type": "display_data",
          "data": {
            "text/plain": [
              "<Figure size 432x288 with 1 Axes>"
            ],
            "image/png": "[encoded data removed]"
          },
          "metadata": {
            "needs_background": "light"
          }
        }
      ]
    },
    {
      "cell_type": "code",
      "source": [
        "returns.plot.density()"
      ],
      "metadata": {
        "colab": {
          "base_uri": "https://localhost:8080/",
          "height": 282
        },
        "id": "0OIzbQf3jXRX",
        "outputId": "02288048-e5b2-4731-9df0-f8ac5b4ee10c"
      },
      "execution_count": 111,
      "outputs": [
        {
          "output_type": "execute_result",
          "data": {
            "text/plain": [
              "<matplotlib.axes._subplots.AxesSubplot at 0x7f8f68960050>"
            ]
          },
          "metadata": {},
          "execution_count": 111
        },
        {
          "output_type": "display_data",
          "data": {
            "text/plain": [
              "<Figure size 432x288 with 1 Axes>"
            ],
            "image/png": "[encoded data removed]"
          },
          "metadata": {
            "needs_background": "light"
          }
        }
      ]
    },
    {
      "cell_type": "code",
      "source": [
        "plt.boxplot(returns,labels=[\"Daily close price\"])\n",
        "plt.show()"
      ],
      "metadata": {
        "colab": {
          "base_uri": "https://localhost:8080/",
          "height": 265
        },
        "id": "CPQArhDGjbKO",
        "outputId": "4ef0eb88-fdbc-45aa-b12a-b828331d54aa"
      },
      "execution_count": 112,
      "outputs": [
        {
          "output_type": "display_data",
          "data": {
            "text/plain": [
              "<Figure size 432x288 with 1 Axes>"
            ],
            "image/png": "[encoded data removed]"
          },
          "metadata": {
            "needs_background": "light"
          }
        }
      ]
    },
    {
      "cell_type": "code",
      "source": [
        "t = np.linspace(0.01,0.99,1000)\n",
        "q1 = np.quantile(returns,t)\n",
        "q2 = norm.ppf(t,loc=np.mean(returns),scale=np.std(returns))\n",
        "plt.plot(q1,q2)\n",
        "plt.plot([min(q1),max(q1)],[min(q2),max(q2)])\n",
        "plt.xlim((min(q1),max(q1)))\n",
        "plt.ylim((min(q2),max(q2)))\n",
        "plt.xlabel(\"Daily returns\")\n",
        "plt.ylabel(\"Normal distribution\")\n",
        "plt.show()"
      ],
      "metadata": {
        "colab": {
          "base_uri": "https://localhost:8080/",
          "height": 279
        },
        "id": "1kQMGFkmjfc0",
        "outputId": "00b73d94-eaeb-483b-aa12-ba35e579b8ef"
      },
      "execution_count": 113,
      "outputs": [
        {
          "output_type": "display_data",
          "data": {
            "text/plain": [
              "<Figure size 432x288 with 1 Axes>"
            ],
            "image/png": "[encoded data removed]"
          },
          "metadata": {
            "needs_background": "light"
          }
        }
      ]
    },
    {
      "cell_type": "markdown",
      "source": [
        "The blue line is what we receive from our data, whereas the straight line is what we expect from a normal distribution.\n",
        "It is clear from the graph that the returns are slightly normal distributed as it overlaps the orange line."
      ],
      "metadata": {
        "id": "Y06ZCqEbjir6"
      }
    },
    {
      "cell_type": "code",
      "source": [
        "plt.plot(returns)\n",
        "plt.xlabel(\"Time\")\n",
        "plt.ylabel(\"Daily returns\")\n",
        "plt.show()"
      ],
      "metadata": {
        "colab": {
          "base_uri": "https://localhost:8080/",
          "height": 279
        },
        "id": "Ewt3shCPjqQb",
        "outputId": "ff668f58-45b8-4732-a1f5-7f30b8c08ab0"
      },
      "execution_count": 114,
      "outputs": [
        {
          "output_type": "display_data",
          "data": {
            "text/plain": [
              "<Figure size 432x288 with 1 Axes>"
            ],
            "image/png": "[encoded data removed]"
          },
          "metadata": {
            "needs_background": "light"
          }
        }
      ]
    },
    {
      "cell_type": "markdown",
      "source": [
        "It is clear from the graph that there was normal volatility during the given time frame. Hence, the time series was stationary."
      ],
      "metadata": {
        "id": "lZN8-rd5js9T"
      }
    },
    {
      "cell_type": "code",
      "source": [
        "plt.plot(returns.rolling(20).std())\n",
        "plt.xlabel(\"Time\")\n",
        "plt.ylabel(\"20-days rolling standard deviation\")\n",
        "plt.show()"
      ],
      "metadata": {
        "colab": {
          "base_uri": "https://localhost:8080/",
          "height": 279
        },
        "id": "zzjrJ4LEjxQ2",
        "outputId": "8ee0b1a6-e03d-47ca-c637-3f180b387e9e"
      },
      "execution_count": 115,
      "outputs": [
        {
          "output_type": "display_data",
          "data": {
            "text/plain": [
              "<Figure size 432x288 with 1 Axes>"
            ],
            "image/png": "[encoded data removed]"
          },
          "metadata": {
            "needs_background": "light"
          }
        }
      ]
    },
    {
      "cell_type": "markdown",
      "source": [
        "Above is the 20-days rolling standard deviation chart, which clearly shows that there were little spikes and oscillations during the given time frame. \n",
        " \n"
      ],
      "metadata": {
        "id": "P7CCv9pajwUD"
      }
    },
    {
      "cell_type": "code",
      "source": [
        "np.mean(returns)"
      ],
      "metadata": {
        "colab": {
          "base_uri": "https://localhost:8080/"
        },
        "id": "nISDhyuYiHWa",
        "outputId": "31d351bb-51be-47fc-9f8a-c70f68e75e7e"
      },
      "execution_count": 116,
      "outputs": [
        {
          "output_type": "execute_result",
          "data": {
            "text/plain": [
              "0.00040268374249162556"
            ]
          },
          "metadata": {},
          "execution_count": 116
        }
      ]
    },
    {
      "cell_type": "code",
      "source": [
        "np.std(returns)"
      ],
      "metadata": {
        "colab": {
          "base_uri": "https://localhost:8080/"
        },
        "id": "mm--2t45qLv7",
        "outputId": "8da5ffa8-b651-4a1b-c37b-a338f966a832"
      },
      "execution_count": 117,
      "outputs": [
        {
          "output_type": "execute_result",
          "data": {
            "text/plain": [
              "0.020606253557374218"
            ]
          },
          "metadata": {},
          "execution_count": 117
        }
      ]
    },
    {
      "cell_type": "code",
      "source": [
        "np.quantile(returns,0.25)"
      ],
      "metadata": {
        "id": "lOIJ7sVvqLyo",
        "colab": {
          "base_uri": "https://localhost:8080/"
        },
        "outputId": "4cf67c17-aabf-4ca3-c3ab-b132cd4b0475"
      },
      "execution_count": 118,
      "outputs": [
        {
          "output_type": "execute_result",
          "data": {
            "text/plain": [
              "-0.010961839405335017"
            ]
          },
          "metadata": {},
          "execution_count": 118
        }
      ]
    },
    {
      "cell_type": "code",
      "source": [
        "np.quantile(returns,0.5)"
      ],
      "metadata": {
        "id": "xuS3ac0RqL1e",
        "colab": {
          "base_uri": "https://localhost:8080/"
        },
        "outputId": "5b8db45b-2ffc-4181-adda-09021d86d190"
      },
      "execution_count": 119,
      "outputs": [
        {
          "output_type": "execute_result",
          "data": {
            "text/plain": [
              "-0.0011434488797417708"
            ]
          },
          "metadata": {},
          "execution_count": 119
        }
      ]
    },
    {
      "cell_type": "code",
      "source": [
        "np.quantile(returns,0.75)"
      ],
      "metadata": {
        "id": "VOhCF2-6qL42",
        "colab": {
          "base_uri": "https://localhost:8080/"
        },
        "outputId": "d78f4154-a822-424b-ae00-afb6ab762311"
      },
      "execution_count": 120,
      "outputs": [
        {
          "output_type": "execute_result",
          "data": {
            "text/plain": [
              "0.010959823609630215"
            ]
          },
          "metadata": {},
          "execution_count": 120
        }
      ]
    },
    {
      "cell_type": "code",
      "source": [
        "from scipy.stats import skew,kurtosis,norm,skewtest,kurtosistest\n",
        "skew(returns)"
      ],
      "metadata": {
        "id": "ln_V_xRJqL79",
        "colab": {
          "base_uri": "https://localhost:8080/"
        },
        "outputId": "a19b2e06-592f-4837-a557-86daf21a7b6b"
      },
      "execution_count": 121,
      "outputs": [
        {
          "output_type": "execute_result",
          "data": {
            "text/plain": [
              "0.026229718621429504"
            ]
          },
          "metadata": {},
          "execution_count": 121
        }
      ]
    },
    {
      "cell_type": "markdown",
      "source": [
        "Skewness tells the measure of asymmetry of a distribution. Since the value of skewness is close to 0. It means the returns are symmetrical in nature."
      ],
      "metadata": {
        "id": "rQiYJkX9jC6U"
      }
    },
    {
      "cell_type": "code",
      "execution_count": 122,
      "metadata": {
        "colab": {
          "base_uri": "https://localhost:8080/"
        },
        "id": "SmxBuggGo_Ou",
        "outputId": "406a217d-ea7a-4148-e7c1-d80348c4b0d1"
      },
      "outputs": [
        {
          "output_type": "execute_result",
          "data": {
            "text/plain": [
              "SkewtestResult(statistic=0.17337233825804826, pvalue=0.8623587667070112)"
            ]
          },
          "metadata": {},
          "execution_count": 122
        }
      ],
      "source": [
        "skewtest(returns)"
      ]
    },
    {
      "cell_type": "markdown",
      "source": [
        "The p-value of the test is greater than 0.05, so we can assume that the distribution is symmetrical."
      ],
      "metadata": {
        "id": "lqdCKX8OjAUK"
      }
    },
    {
      "cell_type": "code",
      "execution_count": 123,
      "metadata": {
        "colab": {
          "base_uri": "https://localhost:8080/"
        },
        "id": "QPY90YPErVB0",
        "outputId": "ba95ee06-b209-4d34-faba-2d4693274420"
      },
      "outputs": [
        {
          "output_type": "execute_result",
          "data": {
            "text/plain": [
              "1.4342958541361464"
            ]
          },
          "metadata": {},
          "execution_count": 123
        }
      ],
      "source": [
        "kurtosis(returns)"
      ]
    },
    {
      "cell_type": "markdown",
      "source": [
        "Kurtosis tells us the peakedness of the distribution. The Kurtosis value is greater than 1, it means the distribution is too peaked."
      ],
      "metadata": {
        "id": "DsaJP9v3jJPX"
      }
    },
    {
      "cell_type": "code",
      "execution_count": 124,
      "metadata": {
        "id": "tf-v6hcOpCt6",
        "colab": {
          "base_uri": "https://localhost:8080/"
        },
        "outputId": "3606e040-998e-45a4-d1ed-471e9c9b50b6"
      },
      "outputs": [
        {
          "output_type": "execute_result",
          "data": {
            "text/plain": [
              "KurtosistestResult(statistic=3.195716169820148, pvalue=0.0013948425154417267)"
            ]
          },
          "metadata": {},
          "execution_count": 124
        }
      ],
      "source": [
        "kurtosistest(returns)"
      ]
    },
    {
      "cell_type": "markdown",
      "source": [
        "Here the p-value is less than 0.05, so the null hypothesis is rejected. The kurtosis is not the same as a normal distribution."
      ],
      "metadata": {
        "id": "y_yl0bg5jN9s"
      }
    },
    {
      "cell_type": "markdown",
      "source": [
        "#MODEL DEVELOPMENT"
      ],
      "metadata": {
        "id": "WssJqx32kA4G"
      }
    },
    {
      "cell_type": "code",
      "execution_count": 125,
      "metadata": {
        "colab": {
          "base_uri": "https://localhost:8080/",
          "height": 542
        },
        "id": "XXWnaOJZrZe9",
        "outputId": "b7e4b920-6000-4f8a-a689-7668faa870b0"
      },
      "outputs": [
        {
          "output_type": "display_data",
          "data": {
            "text/html": [
              "<html>\n",
              "<head><meta charset=\"utf-8\" /></head>\n",
              "<body>\n",
              "    <div>            <script src=\"https://cdnjs.cloudflare.com/ajax/libs/mathjax/2.7.5/MathJax.js?config=TeX-AMS-MML_SVG\"></script><script type=\"text/javascript\">if (window.MathJax) {MathJax.Hub.Config({SVG: {font: \"STIX-Web\"}});}</script>                <script type=\"text/javascript\">window.PlotlyConfig = {MathJaxConfig: 'local'};</script>\n",
              "        <script src=\"https://cdn.plot.ly/plotly-2.8.3.min.js\"></script>                <div id=\"76cbd1d6-c5c6-48ff-8cb0-dafedbc955c8\" class=\"plotly-graph-div\" style=\"height:525px; width:100%;\"></div>            <script type=\"text/javascript\">                                    window.PLOTLYENV=window.PLOTLYENV || {};                                    if (document.getElementById(\"76cbd1d6-c5c6-48ff-8cb0-dafedbc955c8\")) {                    Plotly.newPlot(                        \"76cbd1d6-c5c6-48ff-8cb0-dafedbc955c8\",                        [{\"close\":[79.65,81.55,84.35,84.4,83.45,85.15,86.4,86.85,87.0,88.05,89.0,87.25,85.75,87.6,88.0,87.85,87.55,86.2,84.5,86.45,86.05,85.3,86.0,84.95,85.35,83.85,85.35,84.6,84.8,84.85,85.75,87.35,86.5,87.1,86.0,85.3,87.25,86.9,86.3,86.05,85.6,89.5,89.25,89.85,88.4,87.9,86.0,83.75,84.25,85.4,87.25,86.3,85.55,85.9,87.45,86.55,89.15,87.75,85.95,87.15,87.75,86.4,85.2,85.6,85.3,84.8,83.25,83.25,79.9,78.25,80.1,80.45,78.2,77.95,81.35,81.25,82.4,82.8,82.85,82.4,81.55,83.1,82.4,82.1,82.35,83.65,85.9,83.3,79.7,80.05,81.1,81.85,80.85,81.6,80.9,81.35,84.3,83.15,85.05,85.75,84.4,85.45,85.6,86.25,88.6,93.6,93.1,95.3,92.85,94.0,96.55,103.9,102.5,102.0,100.35,97.8,97.45,98.0,101.95,100.2,101.1,101.55,102.05,100.35,100.2,100.1,99.55,97.4,97.1,94.7,91.45,92.75,93.05,92.9,88.7,87.05,86.8,88.55,88.9,89.2,87.75,89.65,90.35,90.8,92.6,91.95,91.0,89.3,88.6,85.2,81.05,80.55,81.3,82.15,81.0,81.25,81.9,81.95,82.2,83.0,87.2,88.5,90.05,90.05,91.35,95.55,96.45,98.5,100.6,99.5,100.0,98.3,98.55,97.85,93.9,92.0,95.85,100.1,100.2,100.6,100.25,101.4,101.0,98.9,99.5,99.0,102.15,104.45,102.95,96.2,100.45,99.6,98.5,97.9,99.75,99.45,100.3,93.85,96.75,97.0,96.05,95.75,93.25,87.4,89.65,92.45,94.7,95.3,94.9,93.45,98.35,98.05,97.35,98.85,98.55,98.0,97.5,98.65,97.55,97.05,97.4,101.6,102.5,98.25,99.3,98.45,100.2,100.05,98.45,98.95,96.95,96.3,96.1,96.6,95.75,95.4,97.5,97.05,97.65,96.0,94.55,94.45,94.15,91.1,93.8,92.4,90.7,85.45,83.5],\"high\":[82.85,83.5,86.4,85.4,85.5,85.5,87.25,87.65,87.7,88.7,89.4,89.35,87.9,87.9,89.25,88.5,88.6,87.9,87.6,86.75,87.65,86.05,87.2,86.7,86.45,86.0,85.6,86.6,86.35,85.4,86.2,88.1,87.75,87.55,86.9,86.3,87.55,88.5,86.9,87.8,86.1,90.9,90.35,90.3,90.0,88.9,87.4,86.35,85.4,87.0,87.6,88.45,86.45,86.4,88.0,88.1,89.4,90.0,88.05,87.4,88.2,88.15,86.8,86.25,86.1,85.5,84.8,84.15,82.85,80.85,80.55,80.95,80.6,78.65,81.95,81.75,83.25,83.35,84.45,83.5,82.7,83.45,83.25,82.65,82.9,84.2,86.2,86.7,83.0,80.5,81.65,82.5,82.55,82.0,82.0,82.25,86.25,84.3,86.0,86.2,86.9,86.45,86.35,87.5,88.95,94.0,95.5,96.5,96.05,94.4,98.0,105.7,107.65,104.7,102.75,101.6,100.0,99.25,102.7,102.65,101.85,102.2,103.35,102.8,102.1,101.05,101.3,99.75,98.3,98.1,95.3,93.2,94.55,94.4,92.7,88.55,90.2,88.75,89.2,90.0,89.5,89.95,90.85,91.4,92.9,93.4,91.5,91.45,90.1,88.55,84.75,82.25,82.4,83.1,82.5,81.9,82.35,82.5,82.75,83.5,87.85,88.9,90.35,90.6,91.9,95.9,96.9,99.5,101.9,101.0,100.5,101.0,99.8,99.2,97.1,94.75,97.65,100.5,102.75,101.7,102.0,102.2,101.9,101.2,100.5,100.05,103.0,105.0,106.0,100.45,100.95,101.5,100.2,98.95,101.85,100.05,102.1,97.55,97.6,97.3,97.75,97.5,95.65,92.5,90.4,93.0,97.25,95.75,96.0,95.8,98.7,100.3,98.45,99.2,100.0,99.15,98.7,99.05,99.8,98.65,98.4,102.25,104.0,103.2,100.3,99.8,100.9,101.35,100.05,100.2,98.7,98.85,97.8,97.3,96.7,96.55,97.75,97.7,98.0,98.6,96.55,97.75,96.9,93.9,94.9,95.0,93.55,90.75,87.85],\"low\":[79.05,77.65,83.1,83.3,82.85,83.4,84.85,85.6,86.6,86.25,87.65,87.0,85.1,85.25,87.75,86.9,87.2,86.05,83.5,84.55,85.3,83.35,85.5,84.75,84.25,81.25,81.9,84.3,84.6,84.05,84.85,85.9,86.0,86.45,85.8,84.9,85.3,86.5,85.35,85.5,85.0,87.1,88.5,88.75,87.6,87.6,85.8,82.95,83.85,83.7,84.65,86.05,84.75,85.0,85.35,86.3,86.05,87.25,85.45,85.8,86.35,85.5,84.05,85.1,84.45,84.6,83.0,82.4,79.55,77.85,78.1,80.1,78.0,77.5,78.25,80.1,81.1,82.4,82.1,82.3,80.65,81.25,81.85,81.65,81.95,81.85,83.4,83.1,79.4,78.15,79.9,81.25,80.55,81.0,80.1,79.5,81.7,82.7,83.95,84.5,84.05,84.8,84.8,85.8,85.5,88.5,92.75,94.0,92.45,91.0,93.3,93.6,100.3,101.65,98.3,97.05,96.0,96.85,98.55,99.0,100.9,100.2,100.75,100.05,99.3,99.75,99.0,97.05,96.5,94.0,90.5,90.75,92.55,92.05,88.05,84.7,86.25,87.1,87.5,88.8,87.4,88.15,89.65,90.1,90.0,91.65,89.9,89.05,88.0,84.8,78.8,79.85,80.4,81.6,80.35,78.6,81.3,81.4,80.6,82.1,82.95,86.9,87.75,89.0,90.05,91.6,94.45,97.7,97.75,98.8,99.2,97.8,97.3,97.4,93.1,90.25,90.8,94.0,99.6,99.8,98.25,100.3,100.8,98.25,97.8,97.0,99.7,100.9,102.3,95.45,94.4,98.95,98.05,96.95,97.0,96.15,99.45,92.6,95.0,95.0,94.65,95.3,92.85,86.0,86.05,89.5,93.75,93.8,93.8,93.0,94.55,97.75,96.8,96.5,98.15,97.7,97.1,96.2,97.3,96.65,96.9,97.15,101.25,97.7,97.5,98.0,99.0,99.55,97.25,98.25,96.15,95.0,95.75,96.0,95.4,93.7,96.25,95.9,96.3,95.7,93.5,93.85,93.9,88.65,89.35,91.85,89.3,83.95,83.2],\"open\":[82.45,80.8,84.0,84.3,84.7,84.05,85.75,86.85,87.2,87.0,88.85,88.8,87.3,85.75,87.95,88.1,87.9,87.6,86.4,85.0,87.0,86.05,85.75,86.0,84.5,85.75,82.7,85.8,85.1,85.25,85.15,86.2,87.45,87.0,86.8,86.2,85.65,87.4,86.9,86.5,86.05,88.45,90.35,89.5,89.85,88.6,86.5,86.0,85.0,84.95,85.65,87.5,86.3,85.95,86.15,87.9,86.05,89.15,88.0,86.0,87.0,87.8,86.5,85.2,85.75,85.3,84.7,83.65,82.35,80.5,78.3,80.45,80.5,78.0,78.9,81.3,81.5,82.8,83.2,83.5,82.7,81.8,82.95,82.4,82.5,82.3,84.45,86.5,83.0,79.5,80.4,82.0,82.5,81.4,81.9,80.7,81.8,83.95,84.5,85.15,85.9,85.7,85.95,86.5,86.95,89.05,94.7,95.0,96.05,92.85,94.8,97.2,105.0,103.0,102.7,100.35,97.9,98.0,98.75,102.65,101.4,101.6,101.55,102.05,100.9,100.95,100.6,99.75,97.4,97.15,95.3,91.0,93.25,93.05,92.65,88.0,87.5,87.5,88.5,89.1,89.35,88.75,90.85,90.5,90.75,93.35,91.5,91.25,90.0,88.2,84.75,81.95,82.4,82.0,82.5,80.25,82.1,81.75,81.95,82.2,83.2,88.0,88.45,89.7,90.8,91.85,95.95,98.7,98.5,100.45,99.45,100.2,98.5,98.4,97.05,93.9,92.0,95.4,100.75,101.5,101.1,101.0,101.25,101.0,99.0,99.85,99.7,102.5,103.9,100.0,96.8,101.0,99.7,97.0,97.8,97.75,99.45,97.0,95.45,96.1,96.0,97.45,95.3,92.0,87.0,90.8,95.2,94.4,95.35,95.35,94.95,99.65,98.45,97.5,99.0,98.3,98.1,97.8,99.65,98.55,97.2,97.4,102.0,103.2,98.25,99.3,99.5,100.0,100.05,99.0,98.7,97.6,96.95,96.9,96.5,95.0,96.8,96.85,97.2,98.0,94.0,95.2,95.3,93.0,91.65,93.2,93.55,90.55,87.85],\"x\":[\"14-May-2021\",\"17-May-2021\",\"18-May-2021\",\"19-May-2021\",\"20-May-2021\",\"21-May-2021\",\"24-May-2021\",\"25-May-2021\",\"26-May-2021\",\"27-May-2021\",\"28-May-2021\",\"31-May-2021\",\"01-Jun-2021\",\"02-Jun-2021\",\"03-Jun-2021\",\"04-Jun-2021\",\"07-Jun-2021\",\"08-Jun-2021\",\"09-Jun-2021\",\"10-Jun-2021\",\"11-Jun-2021\",\"14-Jun-2021\",\"15-Jun-2021\",\"16-Jun-2021\",\"17-Jun-2021\",\"18-Jun-2021\",\"21-Jun-2021\",\"22-Jun-2021\",\"23-Jun-2021\",\"24-Jun-2021\",\"25-Jun-2021\",\"28-Jun-2021\",\"29-Jun-2021\",\"30-Jun-2021\",\"01-Jul-2021\",\"02-Jul-2021\",\"05-Jul-2021\",\"06-Jul-2021\",\"07-Jul-2021\",\"08-Jul-2021\",\"09-Jul-2021\",\"12-Jul-2021\",\"13-Jul-2021\",\"14-Jul-2021\",\"15-Jul-2021\",\"16-Jul-2021\",\"19-Jul-2021\",\"20-Jul-2021\",\"22-Jul-2021\",\"23-Jul-2021\",\"26-Jul-2021\",\"27-Jul-2021\",\"28-Jul-2021\",\"29-Jul-2021\",\"30-Jul-2021\",\"02-Aug-2021\",\"03-Aug-2021\",\"04-Aug-2021\",\"05-Aug-2021\",\"06-Aug-2021\",\"09-Aug-2021\",\"10-Aug-2021\",\"11-Aug-2021\",\"12-Aug-2021\",\"13-Aug-2021\",\"16-Aug-2021\",\"17-Aug-2021\",\"18-Aug-2021\",\"20-Aug-2021\",\"23-Aug-2021\",\"24-Aug-2021\",\"25-Aug-2021\",\"26-Aug-2021\",\"27-Aug-2021\",\"30-Aug-2021\",\"31-Aug-2021\",\"01-Sep-2021\",\"02-Sep-2021\",\"03-Sep-2021\",\"06-Sep-2021\",\"07-Sep-2021\",\"08-Sep-2021\",\"09-Sep-2021\",\"13-Sep-2021\",\"14-Sep-2021\",\"15-Sep-2021\",\"16-Sep-2021\",\"17-Sep-2021\",\"20-Sep-2021\",\"21-Sep-2021\",\"22-Sep-2021\",\"23-Sep-2021\",\"24-Sep-2021\",\"27-Sep-2021\",\"28-Sep-2021\",\"29-Sep-2021\",\"30-Sep-2021\",\"01-Oct-2021\",\"04-Oct-2021\",\"05-Oct-2021\",\"06-Oct-2021\",\"07-Oct-2021\",\"08-Oct-2021\",\"11-Oct-2021\",\"12-Oct-2021\",\"13-Oct-2021\",\"14-Oct-2021\",\"18-Oct-2021\",\"19-Oct-2021\",\"20-Oct-2021\",\"21-Oct-2021\",\"22-Oct-2021\",\"25-Oct-2021\",\"26-Oct-2021\",\"27-Oct-2021\",\"28-Oct-2021\",\"29-Oct-2021\",\"01-Nov-2021\",\"02-Nov-2021\",\"03-Nov-2021\",\"04-Nov-2021\",\"08-Nov-2021\",\"09-Nov-2021\",\"10-Nov-2021\",\"11-Nov-2021\",\"12-Nov-2021\",\"15-Nov-2021\",\"16-Nov-2021\",\"17-Nov-2021\",\"18-Nov-2021\",\"22-Nov-2021\",\"23-Nov-2021\",\"24-Nov-2021\",\"25-Nov-2021\",\"26-Nov-2021\",\"29-Nov-2021\",\"30-Nov-2021\",\"01-Dec-2021\",\"02-Dec-2021\",\"03-Dec-2021\",\"06-Dec-2021\",\"07-Dec-2021\",\"08-Dec-2021\",\"09-Dec-2021\",\"10-Dec-2021\",\"13-Dec-2021\",\"14-Dec-2021\",\"15-Dec-2021\",\"16-Dec-2021\",\"17-Dec-2021\",\"20-Dec-2021\",\"21-Dec-2021\",\"22-Dec-2021\",\"23-Dec-2021\",\"24-Dec-2021\",\"27-Dec-2021\",\"28-Dec-2021\",\"29-Dec-2021\",\"30-Dec-2021\",\"31-Dec-2021\",\"03-Jan-2022\",\"04-Jan-2022\",\"05-Jan-2022\",\"06-Jan-2022\",\"07-Jan-2022\",\"10-Jan-2022\",\"11-Jan-2022\",\"12-Jan-2022\",\"13-Jan-2022\",\"14-Jan-2022\",\"17-Jan-2022\",\"18-Jan-2022\",\"19-Jan-2022\",\"20-Jan-2022\",\"21-Jan-2022\",\"24-Jan-2022\",\"25-Jan-2022\",\"27-Jan-2022\",\"28-Jan-2022\",\"31-Jan-2022\",\"01-Feb-2022\",\"02-Feb-2022\",\"03-Feb-2022\",\"04-Feb-2022\",\"07-Feb-2022\",\"08-Feb-2022\",\"09-Feb-2022\",\"10-Feb-2022\",\"11-Feb-2022\",\"14-Feb-2022\",\"15-Feb-2022\",\"16-Feb-2022\",\"17-Feb-2022\",\"18-Feb-2022\",\"21-Feb-2022\",\"22-Feb-2022\",\"23-Feb-2022\",\"24-Feb-2022\",\"25-Feb-2022\",\"28-Feb-2022\",\"02-Mar-2022\",\"03-Mar-2022\",\"04-Mar-2022\",\"07-Mar-2022\",\"08-Mar-2022\",\"09-Mar-2022\",\"10-Mar-2022\",\"11-Mar-2022\",\"14-Mar-2022\",\"15-Mar-2022\",\"16-Mar-2022\",\"17-Mar-2022\",\"21-Mar-2022\",\"22-Mar-2022\",\"23-Mar-2022\",\"24-Mar-2022\",\"25-Mar-2022\",\"28-Mar-2022\",\"29-Mar-2022\",\"30-Mar-2022\",\"31-Mar-2022\",\"01-Apr-2022\",\"04-Apr-2022\",\"05-Apr-2022\",\"06-Apr-2022\",\"07-Apr-2022\",\"08-Apr-2022\",\"11-Apr-2022\",\"12-Apr-2022\",\"13-Apr-2022\",\"18-Apr-2022\",\"19-Apr-2022\",\"20-Apr-2022\",\"21-Apr-2022\",\"22-Apr-2022\",\"25-Apr-2022\",\"26-Apr-2022\",\"27-Apr-2022\",\"28-Apr-2022\",\"29-Apr-2022\",\"02-May-2022\",\"04-May-2022\",\"05-May-2022\",\"06-May-2022\",\"09-May-2022\",\"10-May-2022\",\"11-May-2022\",\"12-May-2022\",\"13-May-2022\"],\"type\":\"candlestick\"}],                        {\"template\":{\"data\":{\"bar\":[{\"error_x\":{\"color\":\"#2a3f5f\"},\"error_y\":{\"color\":\"#2a3f5f\"},\"marker\":{\"line\":{\"color\":\"#E5ECF6\",\"width\":0.5},\"pattern\":{\"fillmode\":\"overlay\",\"size\":10,\"solidity\":0.2}},\"type\":\"bar\"}],\"barpolar\":[{\"marker\":{\"line\":{\"color\":\"#E5ECF6\",\"width\":0.5},\"pattern\":{\"fillmode\":\"overlay\",\"size\":10,\"solidity\":0.2}},\"type\":\"barpolar\"}],\"carpet\":[{\"aaxis\":{\"endlinecolor\":\"#2a3f5f\",\"gridcolor\":\"white\",\"linecolor\":\"white\",\"minorgridcolor\":\"white\",\"startlinecolor\":\"#2a3f5f\"},\"baxis\":{\"endlinecolor\":\"#2a3f5f\",\"gridcolor\":\"white\",\"linecolor\":\"white\",\"minorgridcolor\":\"white\",\"startlinecolor\":\"#2a3f5f\"},\"type\":\"carpet\"}],\"choropleth\":[{\"colorbar\":{\"outlinewidth\":0,\"ticks\":\"\"},\"type\":\"choropleth\"}],\"contour\":[{\"colorbar\":{\"outlinewidth\":0,\"ticks\":\"\"},\"colorscale\":[[0.0,\"#0d0887\"],[0.1111111111111111,\"#46039f\"],[0.2222222222222222,\"#7201a8\"],[0.3333333333333333,\"#9c179e\"],[0.4444444444444444,\"#bd3786\"],[0.5555555555555556,\"#d8576b\"],[0.6666666666666666,\"#ed7953\"],[0.7777777777777778,\"#fb9f3a\"],[0.8888888888888888,\"#fdca26\"],[1.0,\"#f0f921\"]],\"type\":\"contour\"}],\"contourcarpet\":[{\"colorbar\":{\"outlinewidth\":0,\"ticks\":\"\"},\"type\":\"contourcarpet\"}],\"heatmap\":[{\"colorbar\":{\"outlinewidth\":0,\"ticks\":\"\"},\"colorscale\":[[0.0,\"#0d0887\"],[0.1111111111111111,\"#46039f\"],[0.2222222222222222,\"#7201a8\"],[0.3333333333333333,\"#9c179e\"],[0.4444444444444444,\"#bd3786\"],[0.5555555555555556,\"#d8576b\"],[0.6666666666666666,\"#ed7953\"],[0.7777777777777778,\"#fb9f3a\"],[0.8888888888888888,\"#fdca26\"],[1.0,\"#f0f921\"]],\"type\":\"heatmap\"}],\"heatmapgl\":[{\"colorbar\":{\"outlinewidth\":0,\"ticks\":\"\"},\"colorscale\":[[0.0,\"#0d0887\"],[0.1111111111111111,\"#46039f\"],[0.2222222222222222,\"#7201a8\"],[0.3333333333333333,\"#9c179e\"],[0.4444444444444444,\"#bd3786\"],[0.5555555555555556,\"#d8576b\"],[0.6666666666666666,\"#ed7953\"],[0.7777777777777778,\"#fb9f3a\"],[0.8888888888888888,\"#fdca26\"],[1.0,\"#f0f921\"]],\"type\":\"heatmapgl\"}],\"histogram\":[{\"marker\":{\"pattern\":{\"fillmode\":\"overlay\",\"size\":10,\"solidity\":0.2}},\"type\":\"histogram\"}],\"histogram2d\":[{\"colorbar\":{\"outlinewidth\":0,\"ticks\":\"\"},\"colorscale\":[[0.0,\"#0d0887\"],[0.1111111111111111,\"#46039f\"],[0.2222222222222222,\"#7201a8\"],[0.3333333333333333,\"#9c179e\"],[0.4444444444444444,\"#bd3786\"],[0.5555555555555556,\"#d8576b\"],[0.6666666666666666,\"#ed7953\"],[0.7777777777777778,\"#fb9f3a\"],[0.8888888888888888,\"#fdca26\"],[1.0,\"#f0f921\"]],\"type\":\"histogram2d\"}],\"histogram2dcontour\":[{\"colorbar\":{\"outlinewidth\":0,\"ticks\":\"\"},\"colorscale\":[[0.0,\"#0d0887\"],[0.1111111111111111,\"#46039f\"],[0.2222222222222222,\"#7201a8\"],[0.3333333333333333,\"#9c179e\"],[0.4444444444444444,\"#bd3786\"],[0.5555555555555556,\"#d8576b\"],[0.6666666666666666,\"#ed7953\"],[0.7777777777777778,\"#fb9f3a\"],[0.8888888888888888,\"#fdca26\"],[1.0,\"#f0f921\"]],\"type\":\"histogram2dcontour\"}],\"mesh3d\":[{\"colorbar\":{\"outlinewidth\":0,\"ticks\":\"\"},\"type\":\"mesh3d\"}],\"parcoords\":[{\"line\":{\"colorbar\":{\"outlinewidth\":0,\"ticks\":\"\"}},\"type\":\"parcoords\"}],\"pie\":[{\"automargin\":true,\"type\":\"pie\"}],\"scatter\":[{\"marker\":{\"colorbar\":{\"outlinewidth\":0,\"ticks\":\"\"}},\"type\":\"scatter\"}],\"scatter3d\":[{\"line\":{\"colorbar\":{\"outlinewidth\":0,\"ticks\":\"\"}},\"marker\":{\"colorbar\":{\"outlinewidth\":0,\"ticks\":\"\"}},\"type\":\"scatter3d\"}],\"scattercarpet\":[{\"marker\":{\"colorbar\":{\"outlinewidth\":0,\"ticks\":\"\"}},\"type\":\"scattercarpet\"}],\"scattergeo\":[{\"marker\":{\"colorbar\":{\"outlinewidth\":0,\"ticks\":\"\"}},\"type\":\"scattergeo\"}],\"scattergl\":[{\"marker\":{\"colorbar\":{\"outlinewidth\":0,\"ticks\":\"\"}},\"type\":\"scattergl\"}],\"scattermapbox\":[{\"marker\":{\"colorbar\":{\"outlinewidth\":0,\"ticks\":\"\"}},\"type\":\"scattermapbox\"}],\"scatterpolar\":[{\"marker\":{\"colorbar\":{\"outlinewidth\":0,\"ticks\":\"\"}},\"type\":\"scatterpolar\"}],\"scatterpolargl\":[{\"marker\":{\"colorbar\":{\"outlinewidth\":0,\"ticks\":\"\"}},\"type\":\"scatterpolargl\"}],\"scatterternary\":[{\"marker\":{\"colorbar\":{\"outlinewidth\":0,\"ticks\":\"\"}},\"type\":\"scatterternary\"}],\"surface\":[{\"colorbar\":{\"outlinewidth\":0,\"ticks\":\"\"},\"colorscale\":[[0.0,\"#0d0887\"],[0.1111111111111111,\"#46039f\"],[0.2222222222222222,\"#7201a8\"],[0.3333333333333333,\"#9c179e\"],[0.4444444444444444,\"#bd3786\"],[0.5555555555555556,\"#d8576b\"],[0.6666666666666666,\"#ed7953\"],[0.7777777777777778,\"#fb9f3a\"],[0.8888888888888888,\"#fdca26\"],[1.0,\"#f0f921\"]],\"type\":\"surface\"}],\"table\":[{\"cells\":{\"fill\":{\"color\":\"#EBF0F8\"},\"line\":{\"color\":\"white\"}},\"header\":{\"fill\":{\"color\":\"#C8D4E3\"},\"line\":{\"color\":\"white\"}},\"type\":\"table\"}]},\"layout\":{\"annotationdefaults\":{\"arrowcolor\":\"#2a3f5f\",\"arrowhead\":0,\"arrowwidth\":1},\"autotypenumbers\":\"strict\",\"coloraxis\":{\"colorbar\":{\"outlinewidth\":0,\"ticks\":\"\"}},\"colorscale\":{\"diverging\":[[0,\"#8e0152\"],[0.1,\"#c51b7d\"],[0.2,\"#de77ae\"],[0.3,\"#f1b6da\"],[0.4,\"#fde0ef\"],[0.5,\"#f7f7f7\"],[0.6,\"#e6f5d0\"],[0.7,\"#b8e186\"],[0.8,\"#7fbc41\"],[0.9,\"#4d9221\"],[1,\"#276419\"]],\"sequential\":[[0.0,\"#0d0887\"],[0.1111111111111111,\"#46039f\"],[0.2222222222222222,\"#7201a8\"],[0.3333333333333333,\"#9c179e\"],[0.4444444444444444,\"#bd3786\"],[0.5555555555555556,\"#d8576b\"],[0.6666666666666666,\"#ed7953\"],[0.7777777777777778,\"#fb9f3a\"],[0.8888888888888888,\"#fdca26\"],[1.0,\"#f0f921\"]],\"sequentialminus\":[[0.0,\"#0d0887\"],[0.1111111111111111,\"#46039f\"],[0.2222222222222222,\"#7201a8\"],[0.3333333333333333,\"#9c179e\"],[0.4444444444444444,\"#bd3786\"],[0.5555555555555556,\"#d8576b\"],[0.6666666666666666,\"#ed7953\"],[0.7777777777777778,\"#fb9f3a\"],[0.8888888888888888,\"#fdca26\"],[1.0,\"#f0f921\"]]},\"colorway\":[\"#636efa\",\"#EF553B\",\"#00cc96\",\"#ab63fa\",\"#FFA15A\",\"#19d3f3\",\"#FF6692\",\"#B6E880\",\"#FF97FF\",\"#FECB52\"],\"font\":{\"color\":\"#2a3f5f\"},\"geo\":{\"bgcolor\":\"white\",\"lakecolor\":\"white\",\"landcolor\":\"#E5ECF6\",\"showlakes\":true,\"showland\":true,\"subunitcolor\":\"white\"},\"hoverlabel\":{\"align\":\"left\"},\"hovermode\":\"closest\",\"mapbox\":{\"style\":\"light\"},\"paper_bgcolor\":\"white\",\"plot_bgcolor\":\"#E5ECF6\",\"polar\":{\"angularaxis\":{\"gridcolor\":\"white\",\"linecolor\":\"white\",\"ticks\":\"\"},\"bgcolor\":\"#E5ECF6\",\"radialaxis\":{\"gridcolor\":\"white\",\"linecolor\":\"white\",\"ticks\":\"\"}},\"scene\":{\"xaxis\":{\"backgroundcolor\":\"#E5ECF6\",\"gridcolor\":\"white\",\"gridwidth\":2,\"linecolor\":\"white\",\"showbackground\":true,\"ticks\":\"\",\"zerolinecolor\":\"white\"},\"yaxis\":{\"backgroundcolor\":\"#E5ECF6\",\"gridcolor\":\"white\",\"gridwidth\":2,\"linecolor\":\"white\",\"showbackground\":true,\"ticks\":\"\",\"zerolinecolor\":\"white\"},\"zaxis\":{\"backgroundcolor\":\"#E5ECF6\",\"gridcolor\":\"white\",\"gridwidth\":2,\"linecolor\":\"white\",\"showbackground\":true,\"ticks\":\"\",\"zerolinecolor\":\"white\"}},\"shapedefaults\":{\"line\":{\"color\":\"#2a3f5f\"}},\"ternary\":{\"aaxis\":{\"gridcolor\":\"white\",\"linecolor\":\"white\",\"ticks\":\"\"},\"baxis\":{\"gridcolor\":\"white\",\"linecolor\":\"white\",\"ticks\":\"\"},\"bgcolor\":\"#E5ECF6\",\"caxis\":{\"gridcolor\":\"white\",\"linecolor\":\"white\",\"ticks\":\"\"}},\"title\":{\"x\":0.05},\"xaxis\":{\"automargin\":true,\"gridcolor\":\"white\",\"linecolor\":\"white\",\"ticks\":\"\",\"title\":{\"standoff\":15},\"zerolinecolor\":\"white\",\"zerolinewidth\":2},\"yaxis\":{\"automargin\":true,\"gridcolor\":\"white\",\"linecolor\":\"white\",\"ticks\":\"\",\"title\":{\"standoff\":15},\"zerolinecolor\":\"white\",\"zerolinewidth\":2}}},\"xaxis\":{\"rangeslider\":{\"visible\":false}},\"title\":{\"text\":\"Fedral Bank Stock Price Analysis\"}},                        {\"responsive\": true}                    ).then(function(){\n",
              "                            \n",
              "var gd = document.getElementById('76cbd1d6-c5c6-48ff-8cb0-dafedbc955c8');\n",
              "var x = new MutationObserver(function (mutations, observer) {{\n",
              "        var display = window.getComputedStyle(gd).display;\n",
              "        if (!display || display === 'none') {{\n",
              "            console.log([gd, 'removed!']);\n",
              "            Plotly.purge(gd);\n",
              "            observer.disconnect();\n",
              "        }}\n",
              "}});\n",
              "\n",
              "// Listen for the removal of the full notebook cells\n",
              "var notebookContainer = gd.closest('#notebook-container');\n",
              "if (notebookContainer) {{\n",
              "    x.observe(notebookContainer, {childList: true});\n",
              "}}\n",
              "\n",
              "// Listen for the clearing of the current output cell\n",
              "var outputEl = gd.closest('.output');\n",
              "if (outputEl) {{\n",
              "    x.observe(outputEl, {childList: true});\n",
              "}}\n",
              "\n",
              "                        })                };                            </script>        </div>\n",
              "</body>\n",
              "</html>"
            ]
          },
          "metadata": {}
        }
      ],
      "source": [
        "figure = go.Figure(data=[go.Candlestick(x=data[\"Date\"],\n",
        "                                        open=data[\"Open Price\"], high=data[\"High Price\"],\n",
        "                                        low=data[\"Low Price\"], close=data[\"Close Price\"])])\n",
        "figure.update_layout(title = \"Fedral Bank Stock Price Analysis\", xaxis_rangeslider_visible=False)\n",
        "figure.show()"
      ]
    },
    {
      "cell_type": "code",
      "execution_count": 126,
      "metadata": {
        "colab": {
          "base_uri": "https://localhost:8080/",
          "height": 214
        },
        "id": "iP40HipCCRQu",
        "outputId": "a2085bdf-03f1-4ac1-90f1-0fec7f2cb7f2"
      },
      "outputs": [
        {
          "output_type": "execute_result",
          "data": {
            "text/plain": [
              "<seaborn.axisgrid.PairGrid at 0x7f8f68728b50>"
            ]
          },
          "metadata": {},
          "execution_count": 126
        },
        {
          "output_type": "display_data",
          "data": {
            "text/plain": [
              "<Figure size 720x180 with 5 Axes>"
            ],
            "image/png": "[encoded data removed]"
          },
          "metadata": {
            "needs_background": "light"
          }
        }
      ],
      "source": [
        "import seaborn as sns\n",
        "sns.pairplot(data, x_vars=['Open Price', 'High Price', 'Low Price', 'Close Price'], y_vars='Close Price')\n"
      ]
    },
    {
      "cell_type": "code",
      "source": [
        "pip install AutoTS"
      ],
      "metadata": {
        "colab": {
          "base_uri": "https://localhost:8080/"
        },
        "id": "H3-WWMLemAY6",
        "outputId": "9b1caf77-dc7d-460e-b143-1cf53f5891d8"
      },
      "execution_count": 128,
      "outputs": [
        {
          "output_type": "stream",
          "name": "stdout",
          "text": [
            "Looking in indexes: https://pypi.org/simple, https://us-python.pkg.dev/colab-wheels/public/simple/\n",
            "Collecting AutoTS\n",
            "  Downloading AutoTS-0.5.0-py3-none-any.whl (529 kB)\n",
            "\u001b[K     |████████████████████████████████| 529 kB 5.4 MB/s \n",
            "\u001b[?25hRequirement already satisfied: pandas>=0.25.* in /usr/local/lib/python3.7/dist-packages (from AutoTS) (1.3.5)\n",
            "Requirement already satisfied: statsmodels>=0.10.* in /usr/local/lib/python3.7/dist-packages (from AutoTS) (0.12.2)\n",
            "Requirement already satisfied: numpy>=1.14.6 in /usr/local/lib/python3.7/dist-packages (from AutoTS) (1.21.6)\n",
            "Requirement already satisfied: scikit-learn>=0.20.* in /usr/local/lib/python3.7/dist-packages (from AutoTS) (1.0.2)\n",
            "Requirement already satisfied: python-dateutil>=2.7.3 in /usr/local/lib/python3.7/dist-packages (from pandas>=0.25.*->AutoTS) (2.8.2)\n",
            "Requirement already satisfied: pytz>=2017.3 in /usr/local/lib/python3.7/dist-packages (from pandas>=0.25.*->AutoTS) (2022.2.1)\n",
            "Requirement already satisfied: six>=1.5 in /usr/local/lib/python3.7/dist-packages (from python-dateutil>=2.7.3->pandas>=0.25.*->AutoTS) (1.15.0)\n",
            "Requirement already satisfied: threadpoolctl>=2.0.0 in /usr/local/lib/python3.7/dist-packages (from scikit-learn>=0.20.*->AutoTS) (3.1.0)\n",
            "Requirement already satisfied: scipy>=1.1.0 in /usr/local/lib/python3.7/dist-packages (from scikit-learn>=0.20.*->AutoTS) (1.7.3)\n",
            "Requirement already satisfied: joblib>=0.11 in /usr/local/lib/python3.7/dist-packages (from scikit-learn>=0.20.*->AutoTS) (1.1.0)\n",
            "Requirement already satisfied: patsy>=0.5 in /usr/local/lib/python3.7/dist-packages (from statsmodels>=0.10.*->AutoTS) (0.5.2)\n",
            "Installing collected packages: AutoTS\n",
            "Successfully installed AutoTS-0.5.0\n"
          ]
        }
      ]
    },
    {
      "cell_type": "code",
      "execution_count": null,
      "metadata": {
        "colab": {
          "base_uri": "https://localhost:8080/"
        },
        "id": "eoHYRma3Clk_",
        "outputId": "55808ad9-b705-4786-89a8-5fb7e09a0918"
      },
      "outputs": [
        {
          "metadata": {
            "tags": null
          },
          "name": "stdout",
          "output_type": "stream",
          "text": [
            "Inferred frequency is: B\n",
            "Model Number: 1 with model ARIMA in generation 0 of 10\n",
            "Model Number: 2 with model ARIMA in generation 0 of 10\n",
            "Model Number: 3 with model ARIMA in generation 0 of 10\n",
            "Model Number: 4 with model AverageValueNaive in generation 0 of 10\n",
            "Model Number: 5 with model AverageValueNaive in generation 0 of 10\n",
            "Model Number: 6 with model AverageValueNaive in generation 0 of 10\n",
            "Model Number: 7 with model DatepartRegression in generation 0 of 10\n",
            "Model Number: 8 with model DatepartRegression in generation 0 of 10\n",
            "Model Number: 9 with model DatepartRegression in generation 0 of 10\n"
          ]
        },
        {
          "metadata": {
            "tags": null
          },
          "name": "stderr",
          "output_type": "stream",
          "text": [
            "/usr/local/lib/python3.7/dist-packages/sklearn/svm/_base.py:1208: ConvergenceWarning:\n",
            "\n",
            "Liblinear failed to converge, increase the number of iterations.\n",
            "\n",
            "/usr/local/lib/python3.7/dist-packages/sklearn/neural_network/_multilayer_perceptron.py:549: ConvergenceWarning:\n",
            "\n",
            "lbfgs failed to converge (status=1):\n",
            "STOP: TOTAL NO. of ITERATIONS REACHED LIMIT.\n",
            "\n",
            "Increase the number of iterations (max_iter) or scale the data as shown in:\n",
            "    https://scikit-learn.org/stable/modules/preprocessing.html\n",
            "\n"
          ]
        },
        {
          "metadata": {
            "tags": null
          },
          "name": "stdout",
          "output_type": "stream",
          "text": [
            "Model Number: 10 with model DatepartRegression in generation 0 of 10\n",
            "Epoch 1/50\n",
            "8/8 [==============================] - 5s 5ms/step - loss: 0.3920\n",
            "Epoch 2/50\n",
            "8/8 [==============================] - 0s 4ms/step - loss: 0.3854\n",
            "Epoch 3/50\n",
            "8/8 [==============================] - 0s 4ms/step - loss: 0.3766\n",
            "Epoch 4/50\n",
            "8/8 [==============================] - 0s 4ms/step - loss: 0.3627\n",
            "Epoch 5/50\n",
            "8/8 [==============================] - 0s 4ms/step - loss: 0.3526\n",
            "Epoch 6/50\n",
            "8/8 [==============================] - 0s 4ms/step - loss: 0.3428\n",
            "Epoch 7/50\n",
            "8/8 [==============================] - 0s 4ms/step - loss: 0.3253\n",
            "Epoch 8/50\n",
            "8/8 [==============================] - 0s 5ms/step - loss: 0.3115\n",
            "Epoch 9/50\n",
            "8/8 [==============================] - 0s 5ms/step - loss: 0.3025\n",
            "Epoch 10/50\n",
            "8/8 [==============================] - 0s 5ms/step - loss: 0.2933\n",
            "Epoch 11/50\n",
            "8/8 [==============================] - 0s 5ms/step - loss: 0.2900\n",
            "Epoch 12/50\n",
            "8/8 [==============================] - 0s 5ms/step - loss: 0.2913\n",
            "Epoch 13/50\n",
            "8/8 [==============================] - 0s 4ms/step - loss: 0.2848\n",
            "Epoch 14/50\n",
            "8/8 [==============================] - 0s 4ms/step - loss: 0.2812\n",
            "Epoch 15/50\n",
            "8/8 [==============================] - 0s 5ms/step - loss: 0.2760\n",
            "Epoch 16/50\n",
            "8/8 [==============================] - 0s 9ms/step - loss: 0.2767\n",
            "Epoch 17/50\n",
            "8/8 [==============================] - 0s 6ms/step - loss: 0.2736\n",
            "Epoch 18/50\n",
            "8/8 [==============================] - 0s 6ms/step - loss: 0.2737\n",
            "Epoch 19/50\n",
            "8/8 [==============================] - 0s 7ms/step - loss: 0.2718\n",
            "Epoch 20/50\n",
            "8/8 [==============================] - 0s 6ms/step - loss: 0.2723\n",
            "Epoch 21/50\n",
            "8/8 [==============================] - 0s 5ms/step - loss: 0.2742\n",
            "Epoch 22/50\n",
            "8/8 [==============================] - 0s 6ms/step - loss: 0.2684\n",
            "Epoch 23/50\n",
            "8/8 [==============================] - 0s 5ms/step - loss: 0.2581\n",
            "Epoch 24/50\n",
            "8/8 [==============================] - 0s 5ms/step - loss: 0.2643\n",
            "Epoch 25/50\n",
            "8/8 [==============================] - 0s 6ms/step - loss: 0.2583\n",
            "Epoch 26/50\n",
            "8/8 [==============================] - 0s 7ms/step - loss: 0.2569\n",
            "Epoch 27/50\n",
            "8/8 [==============================] - 0s 5ms/step - loss: 0.2568\n",
            "Epoch 28/50\n",
            "8/8 [==============================] - 0s 6ms/step - loss: 0.2653\n",
            "Epoch 29/50\n",
            "8/8 [==============================] - 0s 5ms/step - loss: 0.2596\n",
            "Epoch 30/50\n",
            "8/8 [==============================] - 0s 5ms/step - loss: 0.2543\n",
            "Epoch 31/50\n",
            "8/8 [==============================] - 0s 5ms/step - loss: 0.2572\n",
            "Epoch 32/50\n",
            "8/8 [==============================] - 0s 5ms/step - loss: 0.2584\n",
            "Epoch 33/50\n",
            "8/8 [==============================] - 0s 5ms/step - loss: 0.2579\n",
            "Epoch 34/50\n",
            "8/8 [==============================] - 0s 6ms/step - loss: 0.2529\n",
            "Epoch 35/50\n",
            "8/8 [==============================] - 0s 5ms/step - loss: 0.2475\n",
            "Epoch 36/50\n",
            "8/8 [==============================] - 0s 5ms/step - loss: 0.2513\n",
            "Epoch 37/50\n",
            "8/8 [==============================] - 0s 5ms/step - loss: 0.2434\n",
            "Epoch 38/50\n",
            "8/8 [==============================] - 0s 5ms/step - loss: 0.2420\n",
            "Epoch 39/50\n",
            "8/8 [==============================] - 0s 5ms/step - loss: 0.2413\n",
            "Epoch 40/50\n",
            "8/8 [==============================] - 0s 5ms/step - loss: 0.2513\n",
            "Epoch 41/50\n",
            "8/8 [==============================] - 0s 6ms/step - loss: 0.2459\n",
            "Epoch 42/50\n",
            "8/8 [==============================] - 0s 6ms/step - loss: 0.2419\n",
            "Epoch 43/50\n",
            "8/8 [==============================] - 0s 6ms/step - loss: 0.2414\n",
            "Epoch 44/50\n",
            "8/8 [==============================] - 0s 6ms/step - loss: 0.2336\n",
            "Epoch 45/50\n",
            "8/8 [==============================] - 0s 6ms/step - loss: 0.2335\n",
            "Epoch 46/50\n",
            "8/8 [==============================] - 0s 5ms/step - loss: 0.2426\n",
            "Epoch 47/50\n",
            "8/8 [==============================] - 0s 5ms/step - loss: 0.2332\n",
            "Epoch 48/50\n",
            "8/8 [==============================] - 0s 6ms/step - loss: 0.2335\n",
            "Epoch 49/50\n",
            "8/8 [==============================] - 0s 5ms/step - loss: 0.2323\n",
            "Epoch 50/50\n",
            "8/8 [==============================] - 0s 6ms/step - loss: 0.2316\n",
            "Model Number: 11 with model ETS in generation 0 of 10\n",
            "Model Number: 12 with model ETS in generation 0 of 10\n",
            "Model Number: 13 with model GLM in generation 0 of 10\n",
            "Template Eval Error: ValueError('shapes (5,54) and (58,) not aligned: 54 (dim 1) != 58 (dim 0)') in model 13: GLM\n",
            "Model Number: 14 with model GLM in generation 0 of 10\n",
            "Model Number: 15 with model GLS in generation 0 of 10\n",
            "Model Number: 16 with model GLS in generation 0 of 10\n",
            "Model Number: 17 with model GluonTS in generation 0 of 10\n",
            "Template Eval Error: ImportError('GluonTS installation not found or installed version is incompatible with AutoTS.') in model 17: GluonTS\n",
            "Model Number: 18 with model GluonTS in generation 0 of 10\n",
            "Template Eval Error: ImportError('GluonTS installation not found or installed version is incompatible with AutoTS.') in model 18: GluonTS\n",
            "Model Number: 19 with model GluonTS in generation 0 of 10\n",
            "Template Eval Error: ImportError('GluonTS installation not found or installed version is incompatible with AutoTS.') in model 19: GluonTS\n",
            "Model Number: 20 with model GluonTS in generation 0 of 10\n",
            "Template Eval Error: ImportError('GluonTS installation not found or installed version is incompatible with AutoTS.') in model 20: GluonTS\n",
            "Model Number: 21 with model GluonTS in generation 0 of 10\n",
            "Template Eval Error: ImportError('GluonTS installation not found or installed version is incompatible with AutoTS.') in model 21: GluonTS\n",
            "Model Number: 22 with model LastValueNaive in generation 0 of 10\n",
            "Model Number: 23 with model LastValueNaive in generation 0 of 10\n",
            "Model Number: 24 with model LastValueNaive in generation 0 of 10\n",
            "Model Number: 25 with model LastValueNaive in generation 0 of 10\n",
            "Model Number: 26 with model SeasonalNaive in generation 0 of 10\n",
            "Model Number: 27 with model SeasonalNaive in generation 0 of 10\n",
            "Model Number: 28 with model SeasonalNaive in generation 0 of 10\n",
            "Model Number: 29 with model UnobservedComponents in generation 0 of 10\n",
            "Model Number: 30 with model UnobservedComponents in generation 0 of 10\n",
            "Model Number: 31 with model UnobservedComponents in generation 0 of 10\n",
            "Model Number: 32 with model VAR in generation 0 of 10\n",
            "Template Eval Error: ValueError('Only gave one variable to VAR') in model 32: VAR\n",
            "Model Number: 33 with model VAR in generation 0 of 10\n",
            "Template Eval Error: ValueError('Only gave one variable to VAR') in model 33: VAR\n",
            "Model Number: 34 with model VECM in generation 0 of 10\n",
            "Template Eval Error: ValueError('Only gave one variable to VECM') in model 34: VECM\n",
            "Model Number: 35 with model VECM in generation 0 of 10\n",
            "Template Eval Error: ValueError('Only gave one variable to VECM') in model 35: VECM\n",
            "Model Number: 36 with model WindowRegression in generation 0 of 10\n",
            "Model Number: 37 with model ConstantNaive in generation 0 of 10\n"
          ]
        },
        {
          "metadata": {
            "tags": null
          },
          "name": "stderr",
          "output_type": "stream",
          "text": [
            "/usr/local/lib/python3.7/dist-packages/sklearn/neural_network/_multilayer_perceptron.py:549: ConvergenceWarning:\n",
            "\n",
            "lbfgs failed to converge (status=1):\n",
            "STOP: TOTAL NO. of ITERATIONS REACHED LIMIT.\n",
            "\n",
            "Increase the number of iterations (max_iter) or scale the data as shown in:\n",
            "    https://scikit-learn.org/stable/modules/preprocessing.html\n",
            "\n"
          ]
        },
        {
          "metadata": {
            "tags": null
          },
          "name": "stdout",
          "output_type": "stream",
          "text": [
            "Model Number: 38 with model FBProphet in generation 0 of 10\n"
          ]
        },
        {
          "metadata": {
            "tags": null
          },
          "name": "stderr",
          "output_type": "stream",
          "text": [
            "INFO:prophet:Disabling yearly seasonality. Run prophet with yearly_seasonality=True to override this.\n",
            "INFO:prophet:Disabling daily seasonality. Run prophet with daily_seasonality=True to override this.\n",
            "DEBUG:cmdstanpy:input tempfile: /tmp/tmpjl9_res0/zni5r2uk.json\n",
            "DEBUG:cmdstanpy:input tempfile: /tmp/tmpjl9_res0/pppqpo0y.json\n",
            "DEBUG:cmdstanpy:idx 0\n",
            "DEBUG:cmdstanpy:running CmdStan, num_threads: None\n",
            "DEBUG:cmdstanpy:CmdStan args: ['/usr/local/lib/python3.7/dist-packages/prophet/stan_model/prophet_model.bin', 'random', 'seed=81007', 'data', 'file=/tmp/tmpjl9_res0/zni5r2uk.json', 'init=/tmp/tmpjl9_res0/pppqpo0y.json', 'output', 'file=/tmp/tmpt4uo0v1r/prophet_model-20220831111208.csv', 'method=optimize', 'algorithm=lbfgs', 'iter=10000']\n",
            "11:12:08 - cmdstanpy - INFO - Chain [1] start processing\n",
            "INFO:cmdstanpy:Chain [1] start processing\n",
            "11:12:08 - cmdstanpy - INFO - Chain [1] done processing\n",
            "INFO:cmdstanpy:Chain [1] done processing\n"
          ]
        },
        {
          "metadata": {
            "tags": null
          },
          "name": "stdout",
          "output_type": "stream",
          "text": [
            "Model Number: 39 with model GluonTS in generation 0 of 10\n",
            "Template Eval Error: ImportError('GluonTS installation not found or installed version is incompatible with AutoTS.') in model 39: GluonTS\n",
            "Model Number: 40 with model MultivariateRegression in generation 0 of 10\n"
          ]
        },
        {
          "metadata": {
            "tags": null
          },
          "name": "stderr",
          "output_type": "stream",
          "text": [
            "[Parallel(n_jobs=-2)]: Using backend SequentialBackend with 1 concurrent workers.\n",
            "[Parallel(n_jobs=-2)]: Done 200 out of 200 | elapsed:    0.3s finished\n",
            "[Parallel(n_jobs=1)]: Using backend SequentialBackend with 1 concurrent workers.\n",
            "[Parallel(n_jobs=1)]: Done 200 out of 200 | elapsed:    0.0s finished\n",
            "[Parallel(n_jobs=1)]: Using backend SequentialBackend with 1 concurrent workers.\n",
            "[Parallel(n_jobs=1)]: Done 200 out of 200 | elapsed:    0.0s finished\n",
            "[Parallel(n_jobs=1)]: Using backend SequentialBackend with 1 concurrent workers.\n",
            "[Parallel(n_jobs=1)]: Done 200 out of 200 | elapsed:    0.0s finished\n",
            "[Parallel(n_jobs=1)]: Using backend SequentialBackend with 1 concurrent workers.\n",
            "[Parallel(n_jobs=1)]: Done 200 out of 200 | elapsed:    0.0s finished\n",
            "[Parallel(n_jobs=1)]: Using backend SequentialBackend with 1 concurrent workers.\n",
            "[Parallel(n_jobs=1)]: Done 200 out of 200 | elapsed:    0.0s finished\n"
          ]
        },
        {
          "metadata": {
            "tags": null
          },
          "name": "stdout",
          "output_type": "stream",
          "text": [
            "Model Number: 41 with model MultivariateRegression in generation 0 of 10\n",
            "Template Eval Error: ValueError(\"regression_type='User' but not future_regressor supplied.\") in model 41: MultivariateRegression\n",
            "Model Number: 42 with model DatepartRegression in generation 0 of 10\n",
            "Template Eval Error: ValueError(\"regression_type='User' but no future_regressor passed\") in model 42: DatepartRegression\n",
            "Model Number: 43 with model SeasonalNaive in generation 0 of 10\n",
            "Model Number: 44 with model DatepartRegression in generation 0 of 10\n",
            "Model Number: 45 with model UnobservedComponents in generation 0 of 10\n",
            "Model Number: 46 with model UnobservedComponents in generation 0 of 10\n",
            "Model Number: 47 with model ETS in generation 0 of 10\n",
            "Model Number: 48 with model VECM in generation 0 of 10\n",
            "Template Eval Error: ValueError('Only gave one variable to VECM') in model 48: VECM\n",
            "Model Number: 49 with model ARDL in generation 0 of 10\n",
            "Template Eval Error: ImportError(\"cannot import name 'ARDL' from 'statsmodels.tsa.api' (/usr/local/lib/python3.7/dist-packages/statsmodels/tsa/api.py)\") in model 49: ARDL\n",
            "Model Number: 50 with model MultivariateMotif in generation 0 of 10\n",
            "Model Number: 51 with model MultivariateMotif in generation 0 of 10\n",
            "Model Number: 52 with model UnivariateMotif in generation 0 of 10\n",
            "Model Number: 53 with model UnivariateMotif in generation 0 of 10\n",
            "Model Number: 54 with model SectionalMotif in generation 0 of 10\n",
            "Model Number: 55 with model SectionalMotif in generation 0 of 10\n",
            "Model Number: 56 with model MultivariateRegression in generation 0 of 10\n"
          ]
        },
        {
          "metadata": {
            "tags": null
          },
          "name": "stderr",
          "output_type": "stream",
          "text": [
            "INFO:prophet:Disabling yearly seasonality. Run prophet with yearly_seasonality=True to override this.\n",
            "INFO:prophet:Disabling daily seasonality. Run prophet with daily_seasonality=True to override this.\n",
            "DEBUG:cmdstanpy:input tempfile: /tmp/tmpjl9_res0/7_yuw22s.json\n",
            "DEBUG:cmdstanpy:input tempfile: /tmp/tmpjl9_res0/c4yyo9il.json\n",
            "DEBUG:cmdstanpy:idx 0\n",
            "DEBUG:cmdstanpy:running CmdStan, num_threads: None\n",
            "DEBUG:cmdstanpy:CmdStan args: ['/usr/local/lib/python3.7/dist-packages/prophet/stan_model/prophet_model.bin', 'random', 'seed=35394', 'data', 'file=/tmp/tmpjl9_res0/7_yuw22s.json', 'init=/tmp/tmpjl9_res0/c4yyo9il.json', 'output', 'file=/tmp/tmp_6o75gff/prophet_model-20220831111211.csv', 'method=optimize', 'algorithm=lbfgs', 'iter=10000']\n",
            "11:12:11 - cmdstanpy - INFO - Chain [1] start processing\n",
            "INFO:cmdstanpy:Chain [1] start processing\n"
          ]
        },
        {
          "metadata": {
            "tags": null
          },
          "name": "stdout",
          "output_type": "stream",
          "text": [
            "Model Number: 57 with model FBProphet in generation 0 of 10\n"
          ]
        },
        {
          "metadata": {
            "tags": null
          },
          "name": "stderr",
          "output_type": "stream",
          "text": [
            "11:12:12 - cmdstanpy - INFO - Chain [1] done processing\n",
            "INFO:cmdstanpy:Chain [1] done processing\n"
          ]
        },
        {
          "metadata": {
            "tags": null
          },
          "name": "stdout",
          "output_type": "stream",
          "text": [
            "Model Number: 58 with model SeasonalNaive in generation 0 of 10\n",
            "Model Number: 59 with model DatepartRegression in generation 0 of 10\n",
            "Template Eval Error: ValueError('X has 54 features, but RandomForestRegressor is expecting 58 features as input.') in model 59: DatepartRegression\n",
            "Model Number: 60 with model NVAR in generation 0 of 10\n"
          ]
        },
        {
          "metadata": {
            "tags": null
          },
          "name": "stderr",
          "output_type": "stream",
          "text": [
            "[Parallel(n_jobs=-2)]: Using backend SequentialBackend with 1 concurrent workers.\n",
            "[Parallel(n_jobs=-2)]: Done 100 out of 100 | elapsed:    0.2s finished\n",
            "/usr/local/lib/python3.7/dist-packages/sklearn/base.py:493: FutureWarning:\n",
            "\n",
            "The feature names should match those that were passed during fit. Starting version 1.2, an error will be raised.\n",
            "Feature names seen at fit time, yet now missing:\n",
            "- weekdayofmonth_1\n",
            "- weekdayofmonth_3\n",
            "- weekdayofmonth_4\n",
            "- weekdayofmonth_5\n",
            "\n",
            "\n"
          ]
        },
        {
          "metadata": {
            "tags": null
          },
          "name": "stdout",
          "output_type": "stream",
          "text": [
            "Model Number: 61 with model Theta in generation 0 of 10\n",
            "Model Number: 62 with model UnivariateRegression in generation 0 of 10\n",
            "Template Eval Error: ValueError(\"Input contains NaN, infinity or a value too large for dtype('float32').\") in model 62: UnivariateRegression\n",
            "Model Number: 63 with model ARCH in generation 0 of 10\n",
            "Template Eval Error: ImportError('`arch` package must be installed from pip') in model 63: ARCH\n",
            "Model Number: 64 with model ConstantNaive in generation 0 of 10\n",
            "Model Number: 65 with model LastValueNaive in generation 0 of 10\n",
            "Template Eval Error: Exception('Transformer HolidayTransformer failed on fit') in model 65: LastValueNaive\n",
            "Model Number: 66 with model AverageValueNaive in generation 0 of 10\n",
            "Model Number: 67 with model GLS in generation 0 of 10\n",
            "Model Number: 68 with model SeasonalNaive in generation 0 of 10\n",
            "Model Number: 69 with model GLM in generation 0 of 10\n",
            "Template Eval Error: ValueError('NaN, inf or invalid value detected in weights, estimation infeasible.') in model 69: GLM\n",
            "Model Number: 70 with model ETS in generation 0 of 10\n"
          ]
        },
        {
          "metadata": {
            "tags": null
          },
          "name": "stderr",
          "output_type": "stream",
          "text": [
            "/usr/local/lib/python3.7/dist-packages/statsmodels/genmod/families/family.py:1444: RuntimeWarning:\n",
            "\n",
            "invalid value encountered in log\n",
            "\n",
            "/usr/local/lib/python3.7/dist-packages/statsmodels/genmod/families/links.py:517: RuntimeWarning:\n",
            "\n",
            "overflow encountered in exp\n",
            "\n",
            "/usr/local/lib/python3.7/dist-packages/statsmodels/genmod/families/family.py:1444: RuntimeWarning:\n",
            "\n",
            "divide by zero encountered in log\n",
            "\n",
            "/usr/local/lib/python3.7/dist-packages/statsmodels/genmod/families/family.py:1444: RuntimeWarning:\n",
            "\n",
            "invalid value encountered in add\n",
            "\n",
            "/usr/local/lib/python3.7/dist-packages/statsmodels/genmod/generalized_linear_model.py:798: RuntimeWarning:\n",
            "\n",
            "invalid value encountered in true_divide\n",
            "\n",
            "/usr/local/lib/python3.7/dist-packages/statsmodels/genmod/families/family.py:134: RuntimeWarning:\n",
            "\n",
            "invalid value encountered in multiply\n",
            "\n",
            "/usr/local/lib/python3.7/dist-packages/statsmodels/genmod/generalized_linear_model.py:1199: RuntimeWarning:\n",
            "\n",
            "invalid value encountered in multiply\n",
            "\n",
            "INFO:prophet:Disabling yearly seasonality. Run prophet with yearly_seasonality=True to override this.\n",
            "INFO:prophet:Disabling daily seasonality. Run prophet with daily_seasonality=True to override this.\n",
            "DEBUG:cmdstanpy:input tempfile: /tmp/tmpjl9_res0/2xktur_k.json\n",
            "DEBUG:cmdstanpy:input tempfile: /tmp/tmpjl9_res0/snsex7lz.json\n"
          ]
        },
        {
          "metadata": {
            "tags": null
          },
          "name": "stdout",
          "output_type": "stream",
          "text": [
            "Model Number: 71 with model FBProphet in generation 0 of 10\n"
          ]
        },
        {
          "metadata": {
            "tags": null
          },
          "name": "stderr",
          "output_type": "stream",
          "text": [
            "DEBUG:cmdstanpy:idx 0\n",
            "DEBUG:cmdstanpy:running CmdStan, num_threads: None\n",
            "DEBUG:cmdstanpy:CmdStan args: ['/usr/local/lib/python3.7/dist-packages/prophet/stan_model/prophet_model.bin', 'random', 'seed=18587', 'data', 'file=/tmp/tmpjl9_res0/2xktur_k.json', 'init=/tmp/tmpjl9_res0/snsex7lz.json', 'output', 'file=/tmp/tmpvgjcgq45/prophet_model-20220831111214.csv', 'method=optimize', 'algorithm=lbfgs', 'iter=10000']\n",
            "11:12:14 - cmdstanpy - INFO - Chain [1] start processing\n",
            "INFO:cmdstanpy:Chain [1] start processing\n",
            "11:12:14 - cmdstanpy - INFO - Chain [1] done processing\n",
            "INFO:cmdstanpy:Chain [1] done processing\n"
          ]
        },
        {
          "metadata": {
            "tags": null
          },
          "name": "stdout",
          "output_type": "stream",
          "text": [
            "Model Number: 72 with model GluonTS in generation 0 of 10\n",
            "Template Eval Error: ImportError('GluonTS installation not found or installed version is incompatible with AutoTS.') in model 72: GluonTS\n",
            "Model Number: 73 with model UnobservedComponents in generation 0 of 10\n",
            "Template Eval Error: ValueError(\"regression_type='User' but no future_regressor supplied\") in model 73: UnobservedComponents\n",
            "Model Number: 74 with model VAR in generation 0 of 10\n",
            "Template Eval Error: ValueError('Only gave one variable to VAR') in model 74: VAR\n",
            "Model Number: 75 with model VECM in generation 0 of 10\n",
            "Template Eval Error: ValueError('Only gave one variable to VECM') in model 75: VECM\n",
            "Model Number: 76 with model ARIMA in generation 0 of 10\n",
            "Model Number: 77 with model WindowRegression in generation 0 of 10\n",
            "Model Number: 78 with model DatepartRegression in generation 0 of 10\n",
            "Template Eval Error: Exception('Transformer DatepartRegression failed on fit') in model 78: DatepartRegression\n",
            "Model Number: 79 with model UnivariateRegression in generation 0 of 10\n",
            "Template Eval Error: ValueError(\"Input contains NaN, infinity or a value too large for dtype('float64').\") in model 79: UnivariateRegression\n",
            "Model Number: 80 with model MultivariateRegression in generation 0 of 10\n",
            "Model Number: 81 with model UnivariateMotif in generation 0 of 10\n",
            "Model Number: 82 with model MultivariateMotif in generation 0 of 10\n",
            "Model Number: 83 with model SectionalMotif in generation 0 of 10\n",
            "Template Eval Error: ValueError(\"regression_type=='User' but no future_regressor supplied\") in model 83: SectionalMotif\n",
            "Model Number: 84 with model NVAR in generation 0 of 10\n",
            "Model Number: 85 with model Theta in generation 0 of 10\n",
            "Model Number: 86 with model ARDL in generation 0 of 10\n",
            "Template Eval Error: ImportError(\"cannot import name 'ARDL' from 'statsmodels.tsa.api' (/usr/local/lib/python3.7/dist-packages/statsmodels/tsa/api.py)\") in model 86: ARDL\n",
            "Model Number: 87 with model ARCH in generation 0 of 10\n",
            "Template Eval Error: ImportError('`arch` package must be installed from pip') in model 87: ARCH\n",
            "Model Number: 88 with model Theta in generation 0 of 10\n",
            "Model Number: 89 with model ConstantNaive in generation 0 of 10\n",
            "Model Number: 90 with model ARCH in generation 0 of 10\n",
            "Template Eval Error: ImportError('`arch` package must be installed from pip') in model 90: ARCH\n",
            "Model Number: 91 with model UnivariateRegression in generation 0 of 10\n",
            "Model Number: 92 with model SeasonalNaive in generation 0 of 10\n",
            "Model Number: 93 with model LastValueNaive in generation 0 of 10\n",
            "Model Number: 94 with model SeasonalNaive in generation 0 of 10\n",
            "Model Number: 95 with model ConstantNaive in generation 0 of 10\n",
            "Model Number: 96 with model UnivariateMotif in generation 0 of 10\n",
            "Model Number: 97 with model ARCH in generation 0 of 10\n",
            "Template Eval Error: ImportError('`arch` package must be installed from pip') in model 97: ARCH\n",
            "Model Number: 98 with model GLM in generation 0 of 10\n",
            "Model Number: 99 with model GluonTS in generation 0 of 10\n",
            "Template Eval Error: ImportError('GluonTS installation not found or installed version is incompatible with AutoTS.') in model 99: GluonTS\n",
            "Model Number: 100 with model VAR in generation 0 of 10\n",
            "Template Eval Error: ValueError('Only gave one variable to VAR') in model 100: VAR\n",
            "Model Number: 101 with model ARDL in generation 0 of 10\n",
            "Template Eval Error: ValueError(\"regression_type='User' but future_regressor not supplied\") in model 101: ARDL\n",
            "Model Number: 102 with model GLS in generation 0 of 10\n",
            "Model Number: 103 with model SectionalMotif in generation 0 of 10\n",
            "Model Number: 104 with model NVAR in generation 0 of 10\n",
            "Model Number: 105 with model GLM in generation 0 of 10\n",
            "Model Number: 106 with model DatepartRegression in generation 0 of 10\n",
            "Template Eval Error: Exception('Transformer DatepartRegression failed on fit') in model 106: DatepartRegression\n",
            "Model Number: 107 with model SectionalMotif in generation 0 of 10\n",
            "Template Eval Error: ValueError('kth(=100) out of bounds (49)') in model 107: SectionalMotif\n",
            "Model Number: 108 with model ConstantNaive in generation 0 of 10\n",
            "Model Number: 109 with model LastValueNaive in generation 0 of 10\n",
            "Model Number: 110 with model LastValueNaive in generation 0 of 10\n",
            "Model Number: 111 with model Theta in generation 0 of 10\n",
            "Model Number: 112 with model ETS in generation 0 of 10\n",
            "ETS error ValueError('endog must be strictly positive when usingmultiplicative trend or seasonal components.')\n",
            "ETS failed on Close Price with ValueError('endog must be strictly positive when usingmultiplicative trend or seasonal components.')\n",
            "Model Number: 113 with model UnivariateMotif in generation 0 of 10\n",
            "Model Number: 114 with model UnivariateRegression in generation 0 of 10\n",
            "Model Number: 115 with model ETS in generation 0 of 10\n"
          ]
        },
        {
          "metadata": {
            "tags": null
          },
          "name": "stderr",
          "output_type": "stream",
          "text": [
            "/usr/local/lib/python3.7/dist-packages/scipy/interpolate/polyint.py:545: RuntimeWarning:\n",
            "\n",
            "overflow encountered in multiply\n",
            "\n",
            "/usr/local/lib/python3.7/dist-packages/scipy/interpolate/polyint.py:546: RuntimeWarning:\n",
            "\n",
            "overflow encountered in reduce\n",
            "\n",
            "/usr/local/lib/python3.7/dist-packages/scipy/interpolate/polyint.py:643: RuntimeWarning:\n",
            "\n",
            "invalid value encountered in true_divide\n",
            "\n"
          ]
        },
        {
          "metadata": {
            "tags": null
          },
          "name": "stdout",
          "output_type": "stream",
          "text": [
            "Model Number: 116 with model WindowRegression in generation 0 of 10\n",
            "Template Eval Error: ValueError(\"regression_type='User' but no future_regressor passed\") in model 116: WindowRegression\n",
            "Model Number: 117 with model MultivariateRegression in generation 0 of 10\n"
          ]
        },
        {
          "metadata": {
            "tags": null
          },
          "name": "stderr",
          "output_type": "stream",
          "text": [
            "/usr/local/lib/python3.7/dist-packages/sklearn/experimental/enable_hist_gradient_boosting.py:17: UserWarning:\n",
            "\n",
            "Since version 1.0, it is not needed to import enable_hist_gradient_boosting anymore. HistGradientBoostingClassifier and HistGradientBoostingRegressor are now stable and can be normally imported from sklearn.ensemble.\n",
            "\n"
          ]
        },
        {
          "metadata": {
            "tags": null
          },
          "name": "stdout",
          "output_type": "stream",
          "text": [
            "Model Number: 118 with model Theta in generation 0 of 10\n",
            "Template Eval Error: Exception('Transformer Detrend failed on fit') in model 118: Theta\n",
            "Model Number: 119 with model UnobservedComponents in generation 0 of 10\n",
            "Model Number: 120 with model ConstantNaive in generation 0 of 10\n",
            "Model Number: 121 with model MultivariateRegression in generation 0 of 10\n",
            "Template Eval Error: ValueError(\"regression_type='User' but not future_regressor supplied.\") in model 121: MultivariateRegression\n",
            "Model Number: 122 with model SeasonalNaive in generation 0 of 10\n",
            "Model Number: 123 with model SectionalMotif in generation 0 of 10\n",
            "Model Number: 124 with model LastValueNaive in generation 0 of 10\n",
            "Model Number: 125 with model SeasonalNaive in generation 0 of 10\n",
            "Model Number: 126 with model DatepartRegression in generation 0 of 10\n",
            "Template Eval Error: ValueError(\"regression_type='User' but no future_regressor passed\") in model 126: DatepartRegression\n",
            "Model Number: 127 with model GluonTS in generation 0 of 10\n",
            "Template Eval Error: ImportError('GluonTS installation not found or installed version is incompatible with AutoTS.') in model 127: GluonTS\n",
            "Model Number: 128 with model ARCH in generation 0 of 10\n",
            "Template Eval Error: ImportError('`arch` package must be installed from pip') in model 128: ARCH\n",
            "Model Number: 129 with model Theta in generation 0 of 10\n",
            "Model Number: 130 with model WindowRegression in generation 0 of 10\n",
            "Model Number: 131 with model GLM in generation 0 of 10\n"
          ]
        },
        {
          "metadata": {
            "tags": null
          },
          "name": "stderr",
          "output_type": "stream",
          "text": [
            "/usr/local/lib/python3.7/dist-packages/sklearn/linear_model/_ridge.py:157: LinAlgWarning:\n",
            "\n",
            "Ill-conditioned matrix (rcond=6.45737e-25): result may not be accurate.\n",
            "\n"
          ]
        },
        {
          "metadata": {
            "tags": null
          },
          "name": "stdout",
          "output_type": "stream",
          "text": [
            "Template Eval Error: Exception('Transformer HolidayTransformer failed on fit') in model 131: GLM\n",
            "Model Number: 132 with model AverageValueNaive in generation 0 of 10\n",
            "Model Number: 133 with model LastValueNaive in generation 0 of 10\n",
            "Model Number: 134 with model MultivariateRegression in generation 0 of 10\n",
            "Epoch 1/100\n",
            "8/8 [==============================] - 7s 28ms/step - loss: 0.2765\n",
            "Epoch 2/100\n",
            "8/8 [==============================] - 0s 29ms/step - loss: 0.2369\n",
            "Epoch 3/100\n",
            "8/8 [==============================] - 0s 28ms/step - loss: 0.2367\n",
            "Epoch 4/100\n",
            "8/8 [==============================] - 0s 26ms/step - loss: 0.2302\n",
            "Epoch 5/100\n",
            "8/8 [==============================] - 0s 23ms/step - loss: 0.2266\n",
            "Epoch 6/100\n",
            "8/8 [==============================] - 0s 23ms/step - loss: 0.2181\n",
            "Epoch 7/100\n",
            "8/8 [==============================] - 0s 24ms/step - loss: 0.2076\n",
            "Epoch 8/100\n",
            "8/8 [==============================] - 0s 24ms/step - loss: 0.2011\n",
            "Epoch 9/100\n",
            "8/8 [==============================] - 0s 28ms/step - loss: 0.1807\n",
            "Epoch 10/100\n",
            "8/8 [==============================] - 0s 28ms/step - loss: 0.1862\n",
            "Epoch 11/100\n",
            "8/8 [==============================] - 0s 29ms/step - loss: 0.1535\n",
            "Epoch 12/100\n",
            "8/8 [==============================] - 0s 27ms/step - loss: 0.1497\n",
            "Epoch 13/100\n",
            "8/8 [==============================] - 0s 28ms/step - loss: 0.1367\n",
            "Epoch 14/100\n",
            "8/8 [==============================] - 0s 25ms/step - loss: 0.1491\n",
            "Epoch 15/100\n",
            "8/8 [==============================] - 0s 23ms/step - loss: 0.1160\n",
            "Epoch 16/100\n",
            "8/8 [==============================] - 0s 24ms/step - loss: 0.1310\n",
            "Epoch 17/100\n",
            "8/8 [==============================] - 0s 25ms/step - loss: 0.1017\n",
            "Epoch 18/100\n",
            "8/8 [==============================] - 0s 25ms/step - loss: 0.1100\n",
            "Epoch 19/100\n",
            "8/8 [==============================] - 0s 23ms/step - loss: 0.0962\n",
            "Epoch 20/100\n",
            "8/8 [==============================] - 0s 22ms/step - loss: 0.1017\n",
            "Epoch 21/100\n",
            "8/8 [==============================] - 0s 23ms/step - loss: 0.1018\n",
            "Epoch 22/100\n",
            "8/8 [==============================] - 0s 24ms/step - loss: 0.1029\n",
            "Epoch 23/100\n",
            "8/8 [==============================] - 0s 24ms/step - loss: 0.0989\n",
            "Epoch 24/100\n",
            "8/8 [==============================] - 0s 27ms/step - loss: 0.1005\n",
            "Epoch 25/100\n",
            "8/8 [==============================] - 0s 26ms/step - loss: 0.1012\n",
            "Epoch 26/100\n",
            "8/8 [==============================] - 0s 27ms/step - loss: 0.1008\n",
            "Epoch 27/100\n",
            "8/8 [==============================] - 0s 25ms/step - loss: 0.0919\n",
            "Epoch 28/100\n",
            "8/8 [==============================] - 0s 27ms/step - loss: 0.0981\n",
            "Epoch 29/100\n",
            "8/8 [==============================] - 0s 24ms/step - loss: 0.0949\n",
            "Epoch 30/100\n",
            "8/8 [==============================] - 0s 23ms/step - loss: 0.0947\n",
            "Epoch 31/100\n",
            "8/8 [==============================] - 0s 26ms/step - loss: 0.0985\n",
            "Epoch 32/100\n",
            "8/8 [==============================] - 0s 25ms/step - loss: 0.0942\n",
            "Epoch 33/100\n",
            "8/8 [==============================] - 0s 27ms/step - loss: 0.0947\n",
            "Epoch 34/100\n",
            "8/8 [==============================] - 0s 26ms/step - loss: 0.0904\n",
            "Epoch 35/100\n",
            "8/8 [==============================] - 0s 26ms/step - loss: 0.0900\n",
            "Epoch 36/100\n",
            "8/8 [==============================] - 0s 28ms/step - loss: 0.1061\n",
            "Epoch 37/100\n",
            "8/8 [==============================] - 0s 26ms/step - loss: 0.0890\n",
            "Epoch 38/100\n",
            "8/8 [==============================] - 0s 26ms/step - loss: 0.0913\n",
            "Epoch 39/100\n",
            "8/8 [==============================] - 0s 28ms/step - loss: 0.0937\n",
            "Epoch 40/100\n",
            "8/8 [==============================] - 0s 29ms/step - loss: 0.0948\n",
            "Epoch 41/100\n",
            "8/8 [==============================] - 0s 27ms/step - loss: 0.0913\n",
            "Epoch 42/100\n",
            "8/8 [==============================] - 0s 27ms/step - loss: 0.1028\n",
            "Epoch 43/100\n",
            "8/8 [==============================] - 0s 27ms/step - loss: 0.0903\n",
            "Epoch 44/100\n",
            "8/8 [==============================] - 0s 27ms/step - loss: 0.0963\n",
            "Epoch 45/100\n",
            "8/8 [==============================] - 0s 28ms/step - loss: 0.0974\n",
            "Epoch 46/100\n",
            "8/8 [==============================] - 0s 29ms/step - loss: 0.0847\n",
            "Epoch 47/100\n",
            "8/8 [==============================] - 0s 25ms/step - loss: 0.0919\n",
            "Epoch 48/100\n",
            "8/8 [==============================] - 0s 23ms/step - loss: 0.0915\n",
            "Epoch 49/100\n",
            "8/8 [==============================] - 0s 23ms/step - loss: 0.0957\n",
            "Epoch 50/100\n",
            "8/8 [==============================] - 0s 22ms/step - loss: 0.0948\n",
            "Epoch 51/100\n",
            "8/8 [==============================] - 0s 24ms/step - loss: 0.0904\n",
            "Epoch 52/100\n",
            "8/8 [==============================] - 0s 23ms/step - loss: 0.0923\n",
            "Epoch 53/100\n",
            "8/8 [==============================] - 0s 23ms/step - loss: 0.0920\n",
            "Epoch 54/100\n",
            "8/8 [==============================] - 0s 24ms/step - loss: 0.0886\n",
            "Epoch 55/100\n",
            "8/8 [==============================] - 0s 28ms/step - loss: 0.0904\n",
            "Epoch 56/100\n",
            "8/8 [==============================] - 0s 26ms/step - loss: 0.0959\n",
            "Epoch 57/100\n",
            "8/8 [==============================] - 0s 26ms/step - loss: 0.0903\n",
            "Epoch 58/100\n",
            "8/8 [==============================] - 0s 30ms/step - loss: 0.0986\n",
            "Epoch 59/100\n",
            "8/8 [==============================] - 0s 29ms/step - loss: 0.0871\n",
            "Epoch 60/100\n",
            "8/8 [==============================] - 0s 26ms/step - loss: 0.0933\n",
            "Epoch 61/100\n",
            "8/8 [==============================] - 0s 30ms/step - loss: 0.0884\n",
            "Epoch 62/100\n",
            "8/8 [==============================] - 0s 26ms/step - loss: 0.0906\n",
            "Epoch 63/100\n",
            "8/8 [==============================] - 0s 24ms/step - loss: 0.0886\n",
            "Epoch 64/100\n",
            "8/8 [==============================] - 0s 23ms/step - loss: 0.0878\n",
            "Epoch 65/100\n",
            "8/8 [==============================] - 0s 23ms/step - loss: 0.0908\n",
            "Epoch 66/100\n",
            "8/8 [==============================] - 0s 25ms/step - loss: 0.0863\n",
            "Epoch 67/100\n",
            "8/8 [==============================] - 0s 27ms/step - loss: 0.0877\n",
            "Epoch 68/100\n",
            "8/8 [==============================] - 0s 28ms/step - loss: 0.0937\n",
            "Epoch 69/100\n",
            "8/8 [==============================] - 0s 29ms/step - loss: 0.0863\n",
            "Epoch 70/100\n",
            "8/8 [==============================] - 0s 27ms/step - loss: 0.0915\n",
            "Epoch 71/100\n",
            "8/8 [==============================] - 0s 26ms/step - loss: 0.0883\n",
            "Epoch 72/100\n",
            "8/8 [==============================] - 0s 28ms/step - loss: 0.0848\n",
            "Epoch 73/100\n",
            "8/8 [==============================] - 0s 28ms/step - loss: 0.0963\n",
            "Epoch 74/100\n",
            "8/8 [==============================] - 0s 27ms/step - loss: 0.0875\n",
            "Epoch 75/100\n",
            "8/8 [==============================] - 0s 24ms/step - loss: 0.0921\n",
            "Epoch 76/100\n",
            "8/8 [==============================] - 0s 28ms/step - loss: 0.0858\n",
            "Epoch 77/100\n",
            "8/8 [==============================] - 0s 27ms/step - loss: 0.0835\n",
            "Epoch 78/100\n",
            "8/8 [==============================] - 0s 29ms/step - loss: 0.0871\n",
            "Epoch 79/100\n",
            "8/8 [==============================] - 0s 25ms/step - loss: 0.0897\n",
            "Epoch 80/100\n",
            "8/8 [==============================] - 0s 27ms/step - loss: 0.0873\n",
            "Epoch 81/100\n",
            "8/8 [==============================] - 0s 27ms/step - loss: 0.0890\n",
            "Epoch 82/100\n",
            "8/8 [==============================] - 0s 29ms/step - loss: 0.0885\n",
            "Epoch 83/100\n",
            "8/8 [==============================] - 0s 29ms/step - loss: 0.0889\n",
            "Epoch 84/100\n",
            "8/8 [==============================] - 0s 28ms/step - loss: 0.0857\n",
            "Epoch 85/100\n",
            "8/8 [==============================] - 0s 28ms/step - loss: 0.0882\n",
            "Epoch 86/100\n",
            "8/8 [==============================] - 0s 28ms/step - loss: 0.0846\n",
            "Epoch 87/100\n",
            "8/8 [==============================] - 0s 30ms/step - loss: 0.0878\n",
            "Epoch 88/100\n",
            "8/8 [==============================] - 0s 28ms/step - loss: 0.0845\n",
            "Epoch 89/100\n",
            "8/8 [==============================] - 0s 26ms/step - loss: 0.0885\n",
            "Epoch 90/100\n",
            "8/8 [==============================] - 0s 28ms/step - loss: 0.0889\n",
            "Epoch 91/100\n",
            "8/8 [==============================] - 0s 31ms/step - loss: 0.0863\n",
            "Epoch 92/100\n",
            "8/8 [==============================] - 0s 27ms/step - loss: 0.0900\n",
            "Epoch 93/100\n",
            "8/8 [==============================] - 0s 27ms/step - loss: 0.0845\n",
            "Epoch 94/100\n",
            "8/8 [==============================] - 0s 25ms/step - loss: 0.0892\n",
            "Epoch 95/100\n",
            "8/8 [==============================] - 0s 23ms/step - loss: 0.0878\n",
            "Epoch 96/100\n",
            "8/8 [==============================] - 0s 31ms/step - loss: 0.0880\n",
            "Epoch 97/100\n",
            "8/8 [==============================] - 0s 27ms/step - loss: 0.0832\n",
            "Epoch 98/100\n",
            "8/8 [==============================] - 0s 27ms/step - loss: 0.0853\n",
            "Epoch 99/100\n",
            "8/8 [==============================] - 0s 29ms/step - loss: 0.0900\n",
            "Epoch 100/100\n",
            "8/8 [==============================] - 0s 30ms/step - loss: 0.0826\n",
            "Model Number: 135 with model UnobservedComponents in generation 0 of 10\n",
            "Model Number: 136 with model MultivariateMotif in generation 0 of 10\n",
            "Model Number: 137 with model MultivariateMotif in generation 0 of 10\n",
            "No anomalies detected.\n"
          ]
        },
        {
          "metadata": {
            "tags": null
          },
          "name": "stderr",
          "output_type": "stream",
          "text": [
            "/usr/local/lib/python3.7/dist-packages/sklearn/linear_model/_ridge.py:157: LinAlgWarning:\n",
            "\n",
            "Ill-conditioned matrix (rcond=6.45737e-25): result may not be accurate.\n",
            "\n"
          ]
        },
        {
          "metadata": {
            "tags": null
          },
          "name": "stdout",
          "output_type": "stream",
          "text": [
            "Model Number: 138 with model ConstantNaive in generation 0 of 10\n",
            "Model Number: 139 with model VECM in generation 0 of 10\n",
            "Template Eval Error: ValueError('Only gave one variable to VECM') in model 139: VECM\n",
            "Model Number: 140 with model MultivariateMotif in generation 0 of 10\n",
            "Model Number: 141 with model SectionalMotif in generation 0 of 10\n",
            "Model Number: 142 with model UnobservedComponents in generation 0 of 10\n",
            "Model Number: 143 with model SectionalMotif in generation 0 of 10\n",
            "Model Number: 144 with model UnobservedComponents in generation 0 of 10\n",
            "Model Number: 145 with model UnivariateMotif in generation 0 of 10\n",
            "Model Number: 146 with model ETS in generation 0 of 10\n",
            "Model Number: 147 with model LastValueNaive in generation 0 of 10\n",
            "Model Number: 148 with model UnobservedComponents in generation 0 of 10\n",
            "Model Number: 149 with model ETS in generation 0 of 10\n",
            "Model Number: 150 with model GLM in generation 0 of 10\n",
            "Template Eval Error: ValueError('The first guess on the deviance function returned a nan.  This could be a boundary  problem and should be reported.') in model 150: GLM\n",
            "Model Number: 151 with model GLS in generation 0 of 10\n",
            "Model Number: 152 with model ConstantNaive in generation 0 of 10\n",
            "Model Number: 153 with model ARDL in generation 0 of 10\n",
            "Template Eval Error: Exception('Transformer SinTrend failed on fit') in model 153: ARDL\n",
            "Model Number: 154 with model GluonTS in generation 0 of 10\n"
          ]
        },
        {
          "metadata": {
            "tags": null
          },
          "name": "stderr",
          "output_type": "stream",
          "text": [
            "/usr/local/lib/python3.7/dist-packages/statsmodels/genmod/families/family.py:1231: RuntimeWarning:\n",
            "\n",
            "invalid value encountered in log\n",
            "\n"
          ]
        },
        {
          "metadata": {
            "tags": null
          },
          "name": "stdout",
          "output_type": "stream",
          "text": [
            "Template Eval Error: ImportError('GluonTS installation not found or installed version is incompatible with AutoTS.') in model 154: GluonTS\n",
            "Model Number: 155 with model SeasonalNaive in generation 0 of 10\n",
            "Model Number: 156 with model ARIMA in generation 0 of 10\n",
            "Template Eval Error: ValueError(\"regression_type='User' but future_regressor not supplied\") in model 156: ARIMA\n",
            "Model Number: 157 with model ConstantNaive in generation 0 of 10\n",
            "Model Number: 158 with model ARIMA in generation 0 of 10\n",
            "Model Number: 159 with model LastValueNaive in generation 0 of 10\n",
            "Model Number: 160 with model GluonTS in generation 0 of 10\n",
            "Template Eval Error: ImportError('GluonTS installation not found or installed version is incompatible with AutoTS.') in model 160: GluonTS\n",
            "Model Number: 161 with model LastValueNaive in generation 0 of 10\n",
            "Model Number: 162 with model ARCH in generation 0 of 10\n",
            "Template Eval Error: ImportError('`arch` package must be installed from pip') in model 162: ARCH\n",
            "Model Number: 163 with model GLM in generation 0 of 10\n",
            "Template Eval Error: ValueError('regression_type=user and no future_regressor passed') in model 163: GLM\n",
            "Model Number: 164 with model ConstantNaive in generation 0 of 10\n",
            "No anomalies detected.\n",
            "Model Number: 165 with model WindowRegression in generation 0 of 10\n",
            "Model Number: 166 with model UnivariateRegression in generation 0 of 10\n",
            "Model Number: 167 with model AverageValueNaive in generation 0 of 10\n",
            "Model Number: 168 with model VECM in generation 0 of 10\n",
            "Template Eval Error: ValueError('Only gave one variable to VECM') in model 168: VECM\n",
            "Model Number: 169 with model SectionalMotif in generation 0 of 10\n",
            "Model Number: 170 with model VECM in generation 0 of 10\n",
            "Template Eval Error: ValueError('Only gave one variable to VECM') in model 170: VECM\n",
            "Model Number: 171 with model GluonTS in generation 0 of 10\n",
            "Template Eval Error: Exception('Transformer RobustScaler failed on fit') in model 171: GluonTS\n",
            "Model Number: 172 with model UnivariateMotif in generation 0 of 10\n",
            "Model Number: 173 with model ARDL in generation 0 of 10\n",
            "Template Eval Error: ImportError(\"cannot import name 'ARDL' from 'statsmodels.tsa.api' (/usr/local/lib/python3.7/dist-packages/statsmodels/tsa/api.py)\") in model 173: ARDL\n",
            "Model Number: 174 with model MultivariateMotif in generation 0 of 10\n",
            "Model Number: 175 with model MultivariateMotif in generation 0 of 10\n",
            "Model Number: 176 with model GLM in generation 0 of 10\n",
            "Template Eval Error: ValueError('NaN, inf or invalid value detected in weights, estimation infeasible.') in model 176: GLM\n"
          ]
        },
        {
          "metadata": {
            "tags": null
          },
          "name": "stderr",
          "output_type": "stream",
          "text": [
            "/usr/local/lib/python3.7/dist-packages/sklearn/utils/validation.py:1692: FutureWarning:\n",
            "\n",
            "Feature names only support names that are all strings. Got feature names with dtypes: ['Timestamp', 'str']. An error will be raised in 1.2.\n",
            "\n",
            "/usr/local/lib/python3.7/dist-packages/numpy/lib/nanfunctions.py:1120: RuntimeWarning:\n",
            "\n",
            "All-NaN slice encountered\n",
            "\n",
            "/usr/local/lib/python3.7/dist-packages/numpy/lib/nanfunctions.py:1376: RuntimeWarning:\n",
            "\n",
            "All-NaN slice encountered\n",
            "\n",
            "/usr/local/lib/python3.7/dist-packages/sklearn/utils/validation.py:1692: FutureWarning:\n",
            "\n",
            "Feature names only support names that are all strings. Got feature names with dtypes: ['Timestamp', 'str']. An error will be raised in 1.2.\n",
            "\n",
            "/usr/local/lib/python3.7/dist-packages/statsmodels/genmod/families/links.py:517: RuntimeWarning:\n",
            "\n",
            "overflow encountered in exp\n",
            "\n",
            "/usr/local/lib/python3.7/dist-packages/statsmodels/genmod/families/family.py:134: RuntimeWarning:\n",
            "\n",
            "invalid value encountered in multiply\n",
            "\n",
            "/usr/local/lib/python3.7/dist-packages/statsmodels/genmod/generalized_linear_model.py:1199: RuntimeWarning:\n",
            "\n",
            "invalid value encountered in multiply\n",
            "\n"
          ]
        },
        {
          "metadata": {
            "tags": null
          },
          "name": "stdout",
          "output_type": "stream",
          "text": [
            "Model Number: 177 with model GLS in generation 0 of 10\n",
            "Model Number: 178 with model VAR in generation 0 of 10\n",
            "Template Eval Error: ValueError('Only gave one variable to VAR') in model 178: VAR\n",
            "Model Number: 179 with model UnivariateMotif in generation 0 of 10\n",
            "Model Number: 180 with model MultivariateMotif in generation 0 of 10\n",
            "Model Number: 181 with model SeasonalNaive in generation 0 of 10\n",
            "Model Number: 182 with model UnivariateMotif in generation 0 of 10\n",
            "Template Eval Error: Exception('Transformer DatepartRegression failed on inverse') in model 182: UnivariateMotif\n",
            "Model Number: 183 with model ARDL in generation 0 of 10\n",
            "Template Eval Error: ImportError(\"cannot import name 'ARDL' from 'statsmodels.tsa.api' (/usr/local/lib/python3.7/dist-packages/statsmodels/tsa/api.py)\") in model 183: ARDL\n"
          ]
        },
        {
          "metadata": {
            "tags": null
          },
          "name": "stderr",
          "output_type": "stream",
          "text": [
            "/usr/local/lib/python3.7/dist-packages/sklearn/base.py:493: FutureWarning:\n",
            "\n",
            "The feature names should match those that were passed during fit. Starting version 1.2, an error will be raised.\n",
            "Feature names seen at fit time, yet now missing:\n",
            "- weekdayofmonth_1\n",
            "- weekdayofmonth_3\n",
            "- weekdayofmonth_4\n",
            "- weekdayofmonth_5\n",
            "\n",
            "\n"
          ]
        },
        {
          "metadata": {
            "tags": null
          },
          "name": "stdout",
          "output_type": "stream",
          "text": [
            "New Generation: 1 of 10\n",
            "Model Number: 184 with model GLS in generation 1 of 10\n",
            "Model Number: 185 with model ETS in generation 1 of 10\n",
            "Model Number: 186 with model AverageValueNaive in generation 1 of 10\n",
            "Model Number: 187 with model Theta in generation 1 of 10\n",
            "Model Number: 188 with model ConstantNaive in generation 1 of 10\n",
            "Model Number: 189 with model LastValueNaive in generation 1 of 10\n",
            "Template Eval Error: ValueError('Model LastValueNaive returned NaN for one or more series. fail_on_forecast_nan=True') in model 189: LastValueNaive\n",
            "Model Number: 190 with model SectionalMotif in generation 1 of 10\n",
            "Model Number: 191 with model MultivariateRegression in generation 1 of 10\n",
            "Template Eval Error: ValueError(\"regression_type='User' but not future_regressor supplied.\") in model 191: MultivariateRegression\n",
            "Model Number: 192 with model UnobservedComponents in generation 1 of 10\n",
            "Template Eval Error: ValueError(\"regression_type='User' but no future_regressor supplied\") in model 192: UnobservedComponents\n",
            "Model Number: 193 with model AverageValueNaive in generation 1 of 10\n"
          ]
        },
        {
          "metadata": {
            "tags": null
          },
          "name": "stderr",
          "output_type": "stream",
          "text": [
            "/usr/local/lib/python3.7/dist-packages/autots/tools/percentile.py:47: RuntimeWarning:\n",
            "\n",
            "All-NaN slice encountered\n",
            "\n"
          ]
        },
        {
          "metadata": {
            "tags": null
          },
          "name": "stdout",
          "output_type": "stream",
          "text": [
            "Model Number: 194 with model AverageValueNaive in generation 1 of 10\n",
            "Model Number: 195 with model DatepartRegression in generation 1 of 10\n",
            "Model Number: 196 with model AverageValueNaive in generation 1 of 10\n",
            "Model Number: 197 with model SeasonalNaive in generation 1 of 10\n",
            "Model Number: 198 with model Theta in generation 1 of 10\n",
            "Model Number: 199 with model ARIMA in generation 1 of 10\n",
            "Model Number: 200 with model DatepartRegression in generation 1 of 10\n",
            "Epoch 1/50\n",
            "8/8 [==============================] - 5s 6ms/step - loss: 0.3920\n",
            "Epoch 2/50\n",
            "8/8 [==============================] - 0s 5ms/step - loss: 0.3854\n",
            "Epoch 3/50\n",
            "8/8 [==============================] - 0s 5ms/step - loss: 0.3766\n",
            "Epoch 4/50\n",
            "8/8 [==============================] - 0s 5ms/step - loss: 0.3628\n",
            "Epoch 5/50\n",
            "8/8 [==============================] - 0s 5ms/step - loss: 0.3526\n",
            "Epoch 6/50\n",
            "8/8 [==============================] - 0s 5ms/step - loss: 0.3428\n",
            "Epoch 7/50\n",
            "8/8 [==============================] - 0s 5ms/step - loss: 0.3253\n",
            "Epoch 8/50\n",
            "8/8 [==============================] - 0s 5ms/step - loss: 0.3115\n",
            "Epoch 9/50\n",
            "8/8 [==============================] - 0s 6ms/step - loss: 0.3025\n",
            "Epoch 10/50\n",
            "8/8 [==============================] - 0s 7ms/step - loss: 0.2933\n",
            "Epoch 11/50\n",
            "8/8 [==============================] - 0s 5ms/step - loss: 0.2900\n",
            "Epoch 12/50\n",
            "8/8 [==============================] - 0s 5ms/step - loss: 0.2913\n",
            "Epoch 13/50\n",
            "8/8 [==============================] - 0s 5ms/step - loss: 0.2848\n",
            "Epoch 14/50\n",
            "8/8 [==============================] - 0s 6ms/step - loss: 0.2812\n",
            "Epoch 15/50\n",
            "8/8 [==============================] - 0s 5ms/step - loss: 0.2760\n",
            "Epoch 16/50\n",
            "8/8 [==============================] - 0s 5ms/step - loss: 0.2767\n",
            "Epoch 17/50\n",
            "8/8 [==============================] - 0s 6ms/step - loss: 0.2736\n",
            "Epoch 18/50\n",
            "8/8 [==============================] - 0s 6ms/step - loss: 0.2737\n",
            "Epoch 19/50\n",
            "8/8 [==============================] - 0s 7ms/step - loss: 0.2718\n",
            "Epoch 20/50\n",
            "8/8 [==============================] - 0s 6ms/step - loss: 0.2724\n",
            "Epoch 21/50\n",
            "8/8 [==============================] - 0s 7ms/step - loss: 0.2742\n",
            "Epoch 22/50\n",
            "8/8 [==============================] - 0s 6ms/step - loss: 0.2685\n",
            "Epoch 23/50\n",
            "8/8 [==============================] - 0s 5ms/step - loss: 0.2581\n",
            "Epoch 24/50\n",
            "8/8 [==============================] - 0s 6ms/step - loss: 0.2644\n",
            "Epoch 25/50\n",
            "8/8 [==============================] - 0s 6ms/step - loss: 0.2583\n",
            "Epoch 26/50\n",
            "8/8 [==============================] - 0s 9ms/step - loss: 0.2570\n",
            "Epoch 27/50\n",
            "8/8 [==============================] - 0s 6ms/step - loss: 0.2568\n",
            "Epoch 28/50\n",
            "8/8 [==============================] - 0s 6ms/step - loss: 0.2653\n",
            "Epoch 29/50\n",
            "8/8 [==============================] - 0s 6ms/step - loss: 0.2597\n",
            "Epoch 30/50\n",
            "8/8 [==============================] - 0s 6ms/step - loss: 0.2544\n",
            "Epoch 31/50\n",
            "8/8 [==============================] - 0s 6ms/step - loss: 0.2573\n",
            "Epoch 32/50\n",
            "8/8 [==============================] - 0s 6ms/step - loss: 0.2585\n",
            "Epoch 33/50\n",
            "8/8 [==============================] - 0s 6ms/step - loss: 0.2579\n",
            "Epoch 34/50\n",
            "8/8 [==============================] - 0s 5ms/step - loss: 0.2530\n",
            "Epoch 35/50\n",
            "8/8 [==============================] - 0s 6ms/step - loss: 0.2475\n",
            "Epoch 36/50\n",
            "8/8 [==============================] - 0s 6ms/step - loss: 0.2513\n",
            "Epoch 37/50\n",
            "8/8 [==============================] - 0s 6ms/step - loss: 0.2434\n",
            "Epoch 38/50\n",
            "8/8 [==============================] - 0s 6ms/step - loss: 0.2420\n",
            "Epoch 39/50\n",
            "8/8 [==============================] - 0s 6ms/step - loss: 0.2414\n",
            "Epoch 40/50\n",
            "8/8 [==============================] - 0s 6ms/step - loss: 0.2513\n",
            "Epoch 41/50\n",
            "8/8 [==============================] - 0s 7ms/step - loss: 0.2459\n",
            "Epoch 42/50\n",
            "8/8 [==============================] - 0s 7ms/step - loss: 0.2420\n",
            "Epoch 43/50\n",
            "8/8 [==============================] - 0s 7ms/step - loss: 0.2415\n",
            "Epoch 44/50\n",
            "8/8 [==============================] - 0s 6ms/step - loss: 0.2337\n",
            "Epoch 45/50\n",
            "8/8 [==============================] - 0s 6ms/step - loss: 0.2336\n",
            "Epoch 46/50\n",
            "8/8 [==============================] - 0s 8ms/step - loss: 0.2427\n",
            "Epoch 47/50\n",
            "8/8 [==============================] - 0s 7ms/step - loss: 0.2333\n",
            "Epoch 48/50\n",
            "8/8 [==============================] - 0s 7ms/step - loss: 0.2336\n",
            "Epoch 49/50\n",
            "8/8 [==============================] - 0s 6ms/step - loss: 0.2324\n",
            "Epoch 50/50\n",
            "8/8 [==============================] - 0s 6ms/step - loss: 0.2317\n",
            "Model Number: 201 with model Theta in generation 1 of 10\n",
            "Model Number: 202 with model ARIMA in generation 1 of 10\n",
            "Template Eval Error: ValueError(\"regression_type='User' but future_regressor not supplied\") in model 202: ARIMA\n",
            "Model Number: 203 with model MultivariateMotif in generation 1 of 10\n",
            "Model Number: 204 with model UnobservedComponents in generation 1 of 10\n",
            "Model Number: 205 with model MultivariateMotif in generation 1 of 10\n",
            "Template Eval Error: ValueError('Model MultivariateMotif returned NaN for one or more series. fail_on_forecast_nan=True') in model 205: MultivariateMotif\n",
            "Model Number: 206 with model UnivariateRegression in generation 1 of 10\n",
            "Model Number: 207 with model LastValueNaive in generation 1 of 10\n",
            "Model Number: 208 with model DatepartRegression in generation 1 of 10\n",
            "No anomalies detected.\n"
          ]
        },
        {
          "metadata": {
            "tags": null
          },
          "name": "stderr",
          "output_type": "stream",
          "text": [
            "/usr/local/lib/python3.7/dist-packages/numpy/core/_methods.py:48: RuntimeWarning:\n",
            "\n",
            "invalid value encountered in reduce\n",
            "\n"
          ]
        },
        {
          "metadata": {
            "tags": null
          },
          "name": "stdout",
          "output_type": "stream",
          "text": [
            "Model Number: 209 with model GLS in generation 1 of 10\n",
            "Model Number: 210 with model DatepartRegression in generation 1 of 10\n"
          ]
        },
        {
          "metadata": {
            "tags": null
          },
          "name": "stderr",
          "output_type": "stream",
          "text": [
            "/usr/local/lib/python3.7/dist-packages/sklearn/svm/_base.py:1208: ConvergenceWarning:\n",
            "\n",
            "Liblinear failed to converge, increase the number of iterations.\n",
            "\n"
          ]
        },
        {
          "metadata": {
            "tags": null
          },
          "name": "stdout",
          "output_type": "stream",
          "text": [
            "Model Number: 211 with model DatepartRegression in generation 1 of 10\n",
            "Template Eval Error: ValueError(\"regression_type='User' but no future_regressor passed\") in model 211: DatepartRegression\n",
            "Model Number: 212 with model GLS in generation 1 of 10\n",
            "Model Number: 213 with model UnivariateMotif in generation 1 of 10\n",
            "Model Number: 214 with model UnobservedComponents in generation 1 of 10\n",
            "Model Number: 215 with model UnivariateRegression in generation 1 of 10\n",
            "Template Eval Error: ValueError(\"regression_type='User' but not future_regressor supplied.\") in model 215: UnivariateRegression\n",
            "Model Number: 216 with model AverageValueNaive in generation 1 of 10\n",
            "Model Number: 217 with model LastValueNaive in generation 1 of 10\n",
            "Model Number: 218 with model ETS in generation 1 of 10\n",
            "Model Number: 219 with model ConstantNaive in generation 1 of 10\n",
            "Model Number: 220 with model UnivariateMotif in generation 1 of 10\n",
            "Model Number: 221 with model GLS in generation 1 of 10\n",
            "Model Number: 222 with model SeasonalNaive in generation 1 of 10\n",
            "Model Number: 223 with model GLM in generation 1 of 10\n",
            "Template Eval Error: ValueError('shapes (5,54) and (58,) not aligned: 54 (dim 1) != 58 (dim 0)') in model 223: GLM\n",
            "Model Number: 224 with model Theta in generation 1 of 10\n",
            "Model Number: 225 with model ETS in generation 1 of 10\n",
            "Model Number: 226 with model UnivariateRegression in generation 1 of 10\n",
            "Template Eval Error: ValueError(\"regression_type='User' but not future_regressor supplied.\") in model 226: UnivariateRegression\n",
            "Model Number: 227 with model WindowRegression in generation 1 of 10\n",
            "Model Number: 228 with model MultivariateMotif in generation 1 of 10\n",
            "Model Number: 229 with model GLS in generation 1 of 10\n"
          ]
        },
        {
          "metadata": {
            "tags": null
          },
          "name": "stderr",
          "output_type": "stream",
          "text": [
            "/usr/local/lib/python3.7/dist-packages/sklearn/neural_network/_multilayer_perceptron.py:549: ConvergenceWarning:\n",
            "\n",
            "lbfgs failed to converge (status=1):\n",
            "STOP: TOTAL NO. of ITERATIONS REACHED LIMIT.\n",
            "\n",
            "Increase the number of iterations (max_iter) or scale the data as shown in:\n",
            "    https://scikit-learn.org/stable/modules/preprocessing.html\n",
            "\n"
          ]
        },
        {
          "metadata": {
            "tags": null
          },
          "name": "stdout",
          "output_type": "stream",
          "text": [
            "Model Number: 230 with model GLS in generation 1 of 10\n",
            "Model Number: 231 with model DatepartRegression in generation 1 of 10\n",
            "Template Eval Error: ValueError(\"regression_type='User' but no future_regressor passed\") in model 231: DatepartRegression\n",
            "Model Number: 232 with model AverageValueNaive in generation 1 of 10\n",
            "Model Number: 233 with model LastValueNaive in generation 1 of 10\n",
            "Model Number: 234 with model Theta in generation 1 of 10\n",
            "Model Number: 235 with model GLS in generation 1 of 10\n",
            "Model Number: 236 with model UnobservedComponents in generation 1 of 10\n",
            "Model Number: 237 with model UnivariateMotif in generation 1 of 10\n",
            "Model Number: 238 with model MultivariateMotif in generation 1 of 10\n",
            "Model Number: 239 with model AverageValueNaive in generation 1 of 10\n",
            "Model Number: 240 with model GLM in generation 1 of 10\n",
            "Model Number: 241 with model ETS in generation 1 of 10\n",
            "Model Number: 242 with model ARIMA in generation 1 of 10\n",
            "Model Number: 243 with model UnobservedComponents in generation 1 of 10\n",
            "Template Eval Error: Exception('Transformer Cointegration failed on fit') in model 243: UnobservedComponents\n",
            "Model Number: 244 with model AverageValueNaive in generation 1 of 10\n",
            "Model Number: 245 with model ConstantNaive in generation 1 of 10\n",
            "Model Number: 246 with model LastValueNaive in generation 1 of 10\n",
            "Template Eval Error: Exception('Transformer QuantileTransformer failed on inverse') in model 246: LastValueNaive\n",
            "Model Number: 247 with model MultivariateMotif in generation 1 of 10\n",
            "Model Number: 248 with model NVAR in generation 1 of 10\n",
            "Model Number: 249 with model LastValueNaive in generation 1 of 10\n",
            "Model Number: 250 with model LastValueNaive in generation 1 of 10\n"
          ]
        },
        {
          "metadata": {
            "tags": null
          },
          "name": "stderr",
          "output_type": "stream",
          "text": [
            "/usr/local/lib/python3.7/dist-packages/autots/tools/impute.py:53: RuntimeWarning:\n",
            "\n",
            "Mean of empty slice\n",
            "\n",
            "/usr/local/lib/python3.7/dist-packages/sklearn/utils/validation.py:1692: FutureWarning:\n",
            "\n",
            "Feature names only support names that are all strings. Got feature names with dtypes: ['Timestamp', 'str']. An error will be raised in 1.2.\n",
            "\n",
            "/usr/local/lib/python3.7/dist-packages/sklearn/base.py:451: UserWarning:\n",
            "\n",
            "X does not have valid feature names, but QuantileTransformer was fitted with feature names\n",
            "\n"
          ]
        },
        {
          "metadata": {
            "tags": null
          },
          "name": "stdout",
          "output_type": "stream",
          "text": [
            "Model Number: 251 with model Theta in generation 1 of 10\n",
            "Model Number: 252 with model ETS in generation 1 of 10\n",
            "Model Number: 253 with model UnobservedComponents in generation 1 of 10\n",
            "Model Number: 254 with model MultivariateMotif in generation 1 of 10\n",
            "Model Number: 255 with model MultivariateMotif in generation 1 of 10\n",
            "Model Number: 256 with model AverageValueNaive in generation 1 of 10\n",
            "Model Number: 257 with model MultivariateRegression in generation 1 of 10\n",
            "Model Number: 258 with model Theta in generation 1 of 10\n",
            "Model Number: 259 with model AverageValueNaive in generation 1 of 10\n"
          ]
        },
        {
          "metadata": {
            "tags": null
          },
          "name": "stderr",
          "output_type": "stream",
          "text": [
            "/usr/local/lib/python3.7/dist-packages/sklearn/svm/_base.py:1208: ConvergenceWarning:\n",
            "\n",
            "Liblinear failed to converge, increase the number of iterations.\n",
            "\n"
          ]
        },
        {
          "metadata": {
            "tags": null
          },
          "name": "stdout",
          "output_type": "stream",
          "text": [
            "Model Number: 260 with model UnobservedComponents in generation 1 of 10\n",
            "Template Eval Error: ValueError(\"regression_type='User' but no future_regressor supplied\") in model 260: UnobservedComponents\n",
            "Model Number: 261 with model UnobservedComponents in generation 1 of 10\n",
            "Model Number: 262 with model Theta in generation 1 of 10\n"
          ]
        },
        {
          "metadata": {
            "tags": null
          },
          "name": "stderr",
          "output_type": "stream",
          "text": [
            "/usr/local/lib/python3.7/dist-packages/sklearn/linear_model/_ridge.py:157: LinAlgWarning:\n",
            "\n",
            "Ill-conditioned matrix (rcond=6.45737e-25): result may not be accurate.\n",
            "\n"
          ]
        },
        {
          "metadata": {
            "tags": null
          },
          "name": "stdout",
          "output_type": "stream",
          "text": [
            "Model Number: 263 with model GLM in generation 1 of 10\n",
            "Template Eval Error: ValueError('The first guess on the deviance function returned a nan.  This could be a boundary  problem and should be reported.') in model 263: GLM\n",
            "Model Number: 264 with model MultivariateRegression in generation 1 of 10\n",
            "Model Number: 265 with model SeasonalNaive in generation 1 of 10\n"
          ]
        },
        {
          "metadata": {
            "tags": null
          },
          "name": "stderr",
          "output_type": "stream",
          "text": [
            "/usr/local/lib/python3.7/dist-packages/statsmodels/genmod/families/family.py:1231: RuntimeWarning:\n",
            "\n",
            "invalid value encountered in log\n",
            "\n",
            "/usr/local/lib/python3.7/dist-packages/sklearn/svm/_base.py:1208: ConvergenceWarning:\n",
            "\n",
            "Liblinear failed to converge, increase the number of iterations.\n",
            "\n"
          ]
        },
        {
          "output_type": "stream",
          "name": "stdout",
          "text": [
            "Model Number: 266 with model Theta in generation 1 of 10\n",
            "Model Number: 267 with model UnivariateMotif in generation 1 of 10\n",
            "Model Number: 268 with model MultivariateRegression in generation 1 of 10\n",
            "Model Number: 269 with model ETS in generation 1 of 10\n",
            "Model Number: 270 with model LastValueNaive in generation 1 of 10\n",
            "Model Number: 271 with model ARIMA in generation 1 of 10\n",
            "Model Number: 272 with model WindowRegression in generation 1 of 10\n",
            "Model Number: 273 with model ARIMA in generation 1 of 10\n",
            "Template Eval Error: ValueError(\"regression_type='User' but future_regressor not supplied\") in model 273: ARIMA\n",
            "Model Number: 274 with model WindowRegression in generation 1 of 10\n",
            "Model Number: 275 with model UnobservedComponents in generation 1 of 10\n",
            "Template Eval Error: ValueError(\"regression_type='User' but no future_regressor supplied\") in model 275: UnobservedComponents\n",
            "Model Number: 276 with model MultivariateMotif in generation 1 of 10\n",
            "Model Number: 277 with model MultivariateRegression in generation 1 of 10\n"
          ]
        },
        {
          "output_type": "stream",
          "name": "stderr",
          "text": [
            "/usr/local/lib/python3.7/dist-packages/scipy/interpolate/polyint.py:545: RuntimeWarning:\n",
            "\n",
            "overflow encountered in multiply\n",
            "\n",
            "/usr/local/lib/python3.7/dist-packages/scipy/interpolate/polyint.py:546: RuntimeWarning:\n",
            "\n",
            "overflow encountered in reduce\n",
            "\n",
            "/usr/local/lib/python3.7/dist-packages/scipy/interpolate/polyint.py:643: RuntimeWarning:\n",
            "\n",
            "invalid value encountered in true_divide\n",
            "\n",
            "/usr/local/lib/python3.7/dist-packages/sklearn/svm/_base.py:1208: ConvergenceWarning:\n",
            "\n",
            "Liblinear failed to converge, increase the number of iterations.\n",
            "\n"
          ]
        },
        {
          "output_type": "stream",
          "name": "stdout",
          "text": [
            "Model Number: 278 with model LastValueNaive in generation 1 of 10\n",
            "Model Number: 279 with model MultivariateMotif in generation 1 of 10\n",
            "Model Number: 280 with model MultivariateRegression in generation 1 of 10\n",
            "Model Number: 281 with model ARIMA in generation 1 of 10\n"
          ]
        },
        {
          "output_type": "stream",
          "name": "stderr",
          "text": [
            "INFO:prophet:Disabling yearly seasonality. Run prophet with yearly_seasonality=True to override this.\n",
            "INFO:prophet:Disabling daily seasonality. Run prophet with daily_seasonality=True to override this.\n",
            "DEBUG:cmdstanpy:input tempfile: /tmp/tmpjl9_res0/jsxqkidl.json\n",
            "DEBUG:cmdstanpy:input tempfile: /tmp/tmpjl9_res0/qs841adx.json\n",
            "DEBUG:cmdstanpy:idx 0\n",
            "DEBUG:cmdstanpy:running CmdStan, num_threads: None\n",
            "DEBUG:cmdstanpy:CmdStan args: ['/usr/local/lib/python3.7/dist-packages/prophet/stan_model/prophet_model.bin', 'random', 'seed=65191', 'data', 'file=/tmp/tmpjl9_res0/jsxqkidl.json', 'init=/tmp/tmpjl9_res0/qs841adx.json', 'output', 'file=/tmp/tmpopop93t3/prophet_model-20220831111421.csv', 'method=optimize', 'algorithm=newton', 'iter=10000']\n",
            "11:14:21 - cmdstanpy - INFO - Chain [1] start processing\n",
            "INFO:cmdstanpy:Chain [1] start processing\n",
            "11:14:21 - cmdstanpy - INFO - Chain [1] done processing\n",
            "INFO:cmdstanpy:Chain [1] done processing\n"
          ]
        },
        {
          "output_type": "stream",
          "name": "stdout",
          "text": [
            "Model Number: 282 with model FBProphet in generation 1 of 10\n"
          ]
        },
        {
          "output_type": "stream",
          "name": "stderr",
          "text": [
            "INFO:prophet:Disabling yearly seasonality. Run prophet with yearly_seasonality=True to override this.\n",
            "INFO:prophet:Disabling daily seasonality. Run prophet with daily_seasonality=True to override this.\n",
            "DEBUG:cmdstanpy:input tempfile: /tmp/tmpjl9_res0/dcmo4av6.json\n",
            "DEBUG:cmdstanpy:input tempfile: /tmp/tmpjl9_res0/oxlbgsf5.json\n",
            "DEBUG:cmdstanpy:idx 0\n",
            "DEBUG:cmdstanpy:running CmdStan, num_threads: None\n",
            "DEBUG:cmdstanpy:CmdStan args: ['/usr/local/lib/python3.7/dist-packages/prophet/stan_model/prophet_model.bin', 'random', 'seed=14201', 'data', 'file=/tmp/tmpjl9_res0/dcmo4av6.json', 'init=/tmp/tmpjl9_res0/oxlbgsf5.json', 'output', 'file=/tmp/tmps87b6rp5/prophet_model-20220831111423.csv', 'method=optimize', 'algorithm=lbfgs', 'iter=10000']\n",
            "11:14:23 - cmdstanpy - INFO - Chain [1] start processing\n",
            "INFO:cmdstanpy:Chain [1] start processing\n"
          ]
        },
        {
          "output_type": "stream",
          "name": "stdout",
          "text": [
            "Model Number: 283 with model FBProphet in generation 1 of 10\n"
          ]
        },
        {
          "output_type": "stream",
          "name": "stderr",
          "text": [
            "11:14:23 - cmdstanpy - INFO - Chain [1] done processing\n",
            "INFO:cmdstanpy:Chain [1] done processing\n"
          ]
        },
        {
          "output_type": "stream",
          "name": "stdout",
          "text": [
            "Model Number: 284 with model UnivariateMotif in generation 1 of 10\n",
            "Model Number: 285 with model AverageValueNaive in generation 1 of 10\n",
            "Model Number: 286 with model LastValueNaive in generation 1 of 10\n",
            "Model Number: 287 with model AverageValueNaive in generation 1 of 10\n",
            "Model Number: 288 with model WindowRegression in generation 1 of 10\n",
            "Model Number: 289 with model SectionalMotif in generation 1 of 10\n",
            "Model Number: 290 with model SeasonalNaive in generation 1 of 10\n",
            "Model Number: 291 with model SeasonalNaive in generation 1 of 10\n",
            "Model Number: 292 with model ConstantNaive in generation 1 of 10\n",
            "No anomalies detected.\n",
            "Model Number: 293 with model UnobservedComponents in generation 1 of 10\n",
            "Model Number: 294 with model UnobservedComponents in generation 1 of 10\n",
            "Model Number: 295 with model DatepartRegression in generation 1 of 10\n",
            "Epoch 1/50\n",
            "7/7 [==============================] - 5s 134ms/step - loss: 2053515247616.0000 - val_loss: 229549801472.0000\n",
            "Epoch 2/50\n",
            "7/7 [==============================] - 0s 24ms/step - loss: 1911281942528.0000 - val_loss: 194434138112.0000\n",
            "Epoch 3/50\n",
            "7/7 [==============================] - 0s 24ms/step - loss: 1791753322496.0000 - val_loss: 163718299648.0000\n",
            "Epoch 4/50\n",
            "7/7 [==============================] - 0s 21ms/step - loss: 2085752668160.0000 - val_loss: 132898693120.0000\n",
            "Epoch 5/50\n",
            "7/7 [==============================] - 0s 22ms/step - loss: 1717728706560.0000 - val_loss: 109592608768.0000\n",
            "Epoch 6/50\n",
            "7/7 [==============================] - 0s 20ms/step - loss: 2121510420480.0000 - val_loss: 86696747008.0000\n",
            "Epoch 7/50\n",
            "7/7 [==============================] - 0s 23ms/step - loss: 1800727822336.0000 - val_loss: 70835650560.0000\n",
            "Epoch 8/50\n",
            "7/7 [==============================] - 0s 21ms/step - loss: 1752799510528.0000 - val_loss: 59156099072.0000\n",
            "Epoch 9/50\n",
            "7/7 [==============================] - 0s 21ms/step - loss: 2103952015360.0000 - val_loss: 47645736960.0000\n",
            "Epoch 10/50\n",
            "7/7 [==============================] - 0s 21ms/step - loss: 1510380666880.0000 - val_loss: 40482582528.0000\n",
            "Epoch 11/50\n",
            "7/7 [==============================] - 0s 21ms/step - loss: 1875537166336.0000 - val_loss: 34009210880.0000\n",
            "Epoch 12/50\n",
            "7/7 [==============================] - 0s 24ms/step - loss: 1576040792064.0000 - val_loss: 28205524992.0000\n",
            "Epoch 13/50\n",
            "7/7 [==============================] - 0s 24ms/step - loss: 1971036356608.0000 - val_loss: 22019160064.0000\n",
            "Epoch 14/50\n",
            "7/7 [==============================] - 0s 27ms/step - loss: 1501140877312.0000 - val_loss: 16541680640.0000\n",
            "Epoch 15/50\n",
            "7/7 [==============================] - 0s 25ms/step - loss: 2078543577088.0000 - val_loss: 12050109440.0000\n",
            "Epoch 16/50\n",
            "7/7 [==============================] - 0s 26ms/step - loss: 1599058870272.0000 - val_loss: 9268339712.0000\n",
            "Epoch 17/50\n",
            "7/7 [==============================] - 0s 28ms/step - loss: 1690598768640.0000 - val_loss: 7036382208.0000\n",
            "Epoch 18/50\n",
            "7/7 [==============================] - 0s 29ms/step - loss: 1768177401856.0000 - val_loss: 5335007232.0000\n",
            "Epoch 19/50\n",
            "7/7 [==============================] - 0s 32ms/step - loss: 1658125287424.0000 - val_loss: 3804569600.0000\n",
            "Epoch 20/50\n",
            "7/7 [==============================] - 0s 28ms/step - loss: 1572541169664.0000 - val_loss: 2077297792.0000\n",
            "Epoch 21/50\n",
            "7/7 [==============================] - 0s 22ms/step - loss: 1760905658368.0000 - val_loss: 1517480704.0000\n",
            "Epoch 22/50\n",
            "7/7 [==============================] - 0s 21ms/step - loss: 1792855375872.0000 - val_loss: 1455055616.0000\n",
            "Epoch 23/50\n",
            "7/7 [==============================] - 0s 21ms/step - loss: 1493375385600.0000 - val_loss: 887215808.0000\n",
            "Epoch 24/50\n",
            "7/7 [==============================] - 0s 22ms/step - loss: 1487139373056.0000 - val_loss: 1097452288.0000\n",
            "Epoch 25/50\n",
            "7/7 [==============================] - 0s 21ms/step - loss: 1527493165056.0000 - val_loss: 1423175680.0000\n",
            "Epoch 26/50\n",
            "7/7 [==============================] - 0s 21ms/step - loss: 1321564766208.0000 - val_loss: 1655613952.0000\n",
            "Epoch 27/50\n",
            "7/7 [==============================] - 0s 24ms/step - loss: 1539436052480.0000 - val_loss: 2820801792.0000\n",
            "Epoch 28/50\n",
            "7/7 [==============================] - 0s 25ms/step - loss: 1815392288768.0000 - val_loss: 2454609408.0000\n",
            "Epoch 29/50\n",
            "7/7 [==============================] - 0s 27ms/step - loss: 1506053324800.0000 - val_loss: 1495743744.0000\n",
            "Epoch 30/50\n",
            "7/7 [==============================] - 0s 27ms/step - loss: 1461294858240.0000 - val_loss: 1044390272.0000\n",
            "Epoch 31/50\n",
            "7/7 [==============================] - 0s 27ms/step - loss: 1443744186368.0000 - val_loss: 1349117440.0000\n",
            "Epoch 32/50\n",
            "7/7 [==============================] - 0s 26ms/step - loss: 1657161777152.0000 - val_loss: 1696699520.0000\n",
            "Epoch 33/50\n",
            "7/7 [==============================] - 0s 23ms/step - loss: 1528976506880.0000 - val_loss: 1635264512.0000\n",
            "Template Eval Error: ValueError('Model DatepartRegression returned NaN for one or more series. fail_on_forecast_nan=True') in model 295: DatepartRegression\n",
            "Model Number: 296 with model MultivariateRegression in generation 1 of 10\n",
            "Template Eval Error: ValueError(\"regression_type='User' but not future_regressor supplied.\") in model 296: MultivariateRegression\n",
            "Model Number: 297 with model SeasonalNaive in generation 1 of 10\n",
            "Model Number: 298 with model DatepartRegression in generation 1 of 10\n",
            "Template Eval Error: ValueError(\"regression_type='User' but no future_regressor passed\") in model 298: DatepartRegression\n",
            "Model Number: 299 with model Theta in generation 1 of 10\n",
            "Model Number: 300 with model UnivariateRegression in generation 1 of 10\n",
            "Model Number: 301 with model GLS in generation 1 of 10\n",
            "Model Number: 302 with model SectionalMotif in generation 1 of 10\n",
            "Model Number: 303 with model UnivariateMotif in generation 1 of 10\n",
            "New Generation: 2 of 10\n",
            "Model Number: 304 with model DatepartRegression in generation 2 of 10\n",
            "Epoch 1/50\n",
            "8/8 [==============================] - 5s 6ms/step - loss: 85.9842\n",
            "Epoch 2/50\n",
            "8/8 [==============================] - 0s 6ms/step - loss: -9.7296\n",
            "Epoch 3/50\n",
            "8/8 [==============================] - 0s 8ms/step - loss: -58.2144\n",
            "Epoch 4/50\n",
            "8/8 [==============================] - 0s 9ms/step - loss: -93.6309\n",
            "Epoch 5/50\n",
            "8/8 [==============================] - 0s 7ms/step - loss: -119.8866\n",
            "Epoch 6/50\n",
            "8/8 [==============================] - 0s 5ms/step - loss: -140.5835\n",
            "Epoch 7/50\n",
            "8/8 [==============================] - 0s 5ms/step - loss: -157.7748\n",
            "Epoch 8/50\n",
            "8/8 [==============================] - 0s 6ms/step - loss: -170.8757\n",
            "Epoch 9/50\n",
            "8/8 [==============================] - 0s 6ms/step - loss: -181.8901\n",
            "Epoch 10/50\n",
            "8/8 [==============================] - 0s 6ms/step - loss: -190.3322\n",
            "Epoch 11/50\n",
            "8/8 [==============================] - 0s 7ms/step - loss: -197.5557\n",
            "Epoch 12/50\n",
            "8/8 [==============================] - 0s 5ms/step - loss: -203.9741\n",
            "Epoch 13/50\n",
            "8/8 [==============================] - 0s 5ms/step - loss: -209.1166\n",
            "Epoch 14/50\n",
            "8/8 [==============================] - 0s 6ms/step - loss: -213.5492\n",
            "Epoch 15/50\n",
            "8/8 [==============================] - 0s 6ms/step - loss: -218.3821\n",
            "Epoch 16/50\n",
            "8/8 [==============================] - 0s 8ms/step - loss: -221.3808\n",
            "Epoch 17/50\n",
            "8/8 [==============================] - 0s 6ms/step - loss: -224.5100\n",
            "Epoch 18/50\n",
            "8/8 [==============================] - 0s 6ms/step - loss: -227.3024\n",
            "Epoch 19/50\n",
            "8/8 [==============================] - 0s 6ms/step - loss: -230.2093\n",
            "Epoch 20/50\n",
            "8/8 [==============================] - 0s 6ms/step - loss: -232.9218\n",
            "Epoch 21/50\n",
            "8/8 [==============================] - 0s 6ms/step - loss: -235.1947\n",
            "Epoch 22/50\n",
            "8/8 [==============================] - 0s 6ms/step - loss: -237.3011\n",
            "Epoch 23/50\n",
            "8/8 [==============================] - 0s 6ms/step - loss: -239.3605\n",
            "Epoch 24/50\n",
            "8/8 [==============================] - 0s 6ms/step - loss: -241.1292\n",
            "Epoch 25/50\n",
            "8/8 [==============================] - 0s 6ms/step - loss: -242.7721\n",
            "Epoch 26/50\n",
            "8/8 [==============================] - 0s 6ms/step - loss: -244.6522\n",
            "Epoch 27/50\n",
            "8/8 [==============================] - 0s 6ms/step - loss: -246.4305\n",
            "Epoch 28/50\n",
            "8/8 [==============================] - 0s 6ms/step - loss: -247.5223\n",
            "Epoch 29/50\n",
            "8/8 [==============================] - 0s 6ms/step - loss: -248.9211\n",
            "Epoch 30/50\n",
            "8/8 [==============================] - 0s 6ms/step - loss: -250.3901\n",
            "Epoch 31/50\n",
            "8/8 [==============================] - 0s 8ms/step - loss: -251.7940\n",
            "Epoch 32/50\n",
            "8/8 [==============================] - 0s 10ms/step - loss: -253.0995\n",
            "Epoch 33/50\n",
            "8/8 [==============================] - 0s 6ms/step - loss: -254.4951\n",
            "Epoch 34/50\n",
            "8/8 [==============================] - 0s 6ms/step - loss: -255.4279\n",
            "Epoch 35/50\n",
            "8/8 [==============================] - 0s 7ms/step - loss: -256.6621\n",
            "Epoch 36/50\n",
            "8/8 [==============================] - 0s 6ms/step - loss: -257.7337\n",
            "Epoch 37/50\n",
            "8/8 [==============================] - 0s 6ms/step - loss: -258.7161\n",
            "Epoch 38/50\n",
            "8/8 [==============================] - 0s 7ms/step - loss: -259.7461\n",
            "Epoch 39/50\n",
            "8/8 [==============================] - 0s 6ms/step - loss: -260.7808\n",
            "Epoch 40/50\n",
            "8/8 [==============================] - 0s 5ms/step - loss: -261.7898\n",
            "Epoch 41/50\n",
            "8/8 [==============================] - 0s 6ms/step - loss: -262.6802\n",
            "Epoch 42/50\n",
            "8/8 [==============================] - 0s 6ms/step - loss: -263.4850\n",
            "Epoch 43/50\n",
            "8/8 [==============================] - 0s 6ms/step - loss: -264.5500\n",
            "Epoch 44/50\n",
            "8/8 [==============================] - 0s 7ms/step - loss: -265.2420\n",
            "Epoch 45/50\n",
            "8/8 [==============================] - 0s 6ms/step - loss: -266.1735\n",
            "Epoch 46/50\n",
            "8/8 [==============================] - 0s 6ms/step - loss: -267.0374\n",
            "Epoch 47/50\n",
            "8/8 [==============================] - 0s 7ms/step - loss: -267.7717\n",
            "Epoch 48/50\n",
            "8/8 [==============================] - 0s 6ms/step - loss: -268.5950\n",
            "Epoch 49/50\n",
            "8/8 [==============================] - 0s 8ms/step - loss: -269.2803\n",
            "Epoch 50/50\n",
            "8/8 [==============================] - 0s 8ms/step - loss: -270.0511\n",
            "Template Eval Error: ValueError('in user code:\\n\\n    File \"/usr/local/lib/python3.7/dist-packages/keras/engine/training.py\", line 1801, in predict_function  *\\n        return step_function(self, iterator)\\n    File \"/usr/local/lib/python3.7/dist-packages/keras/engine/training.py\", line 1790, in step_function  **\\n        outputs = model.distribute_strategy.run(run_step, args=(data,))\\n    File \"/usr/local/lib/python3.7/dist-packages/keras/engine/training.py\", line 1783, in run_step  **\\n        outputs = model.predict_step(data)\\n    File \"/usr/local/lib/python3.7/dist-packages/keras/engine/training.py\", line 1751, in predict_step\\n        return self(x, training=False)\\n    File \"/usr/local/lib/python3.7/dist-packages/keras/utils/traceback_utils.py\", line 67, in error_handler\\n        raise e.with_traceback(filtered_tb) from None\\n    File \"/usr/local/lib/python3.7/dist-packages/keras/engine/input_spec.py\", line 264, in assert_input_compatibility\\n        raise ValueError(f\\'Input {input_index} of layer \"{layer_name}\" is \\'\\n\\n    ValueError: Input 0 of layer \"sequential\" is incompatible with the layer: expected shape=(None, 1, 58), found shape=(None, 1, 54)\\n') in model 304: DatepartRegression\n",
            "Model Number: 305 with model UnivariateMotif in generation 2 of 10\n",
            "Model Number: 306 with model Theta in generation 2 of 10\n",
            "Model Number: 307 with model LastValueNaive in generation 2 of 10\n",
            "Model Number: 308 with model UnivariateRegression in generation 2 of 10\n",
            "Template Eval Error: Exception('Transformer Cointegration failed on fit') in model 308: UnivariateRegression\n",
            "Model Number: 309 with model MultivariateRegression in generation 2 of 10\n"
          ]
        },
        {
          "output_type": "stream",
          "name": "stderr",
          "text": [
            "[Parallel(n_jobs=-2)]: Using backend SequentialBackend with 1 concurrent workers.\n",
            "[Parallel(n_jobs=-2)]: Done 200 out of 200 | elapsed:    0.4s finished\n",
            "[Parallel(n_jobs=1)]: Using backend SequentialBackend with 1 concurrent workers.\n",
            "[Parallel(n_jobs=1)]: Done 200 out of 200 | elapsed:    0.0s finished\n",
            "[Parallel(n_jobs=1)]: Using backend SequentialBackend with 1 concurrent workers.\n",
            "[Parallel(n_jobs=1)]: Done 200 out of 200 | elapsed:    0.0s finished\n",
            "[Parallel(n_jobs=1)]: Using backend SequentialBackend with 1 concurrent workers.\n",
            "[Parallel(n_jobs=1)]: Done 200 out of 200 | elapsed:    0.0s finished\n",
            "[Parallel(n_jobs=1)]: Using backend SequentialBackend with 1 concurrent workers.\n",
            "[Parallel(n_jobs=1)]: Done 200 out of 200 | elapsed:    0.0s finished\n",
            "[Parallel(n_jobs=1)]: Using backend SequentialBackend with 1 concurrent workers.\n",
            "[Parallel(n_jobs=1)]: Done 200 out of 200 | elapsed:    0.0s finished\n"
          ]
        },
        {
          "output_type": "stream",
          "name": "stdout",
          "text": [
            "Model Number: 310 with model SeasonalNaive in generation 2 of 10\n",
            "Model Number: 311 with model DatepartRegression in generation 2 of 10\n",
            "Epoch 1/50\n",
            "8/8 [==============================] - 5s 9ms/step - loss: 0.0108\n",
            "Epoch 2/50\n",
            "8/8 [==============================] - 0s 6ms/step - loss: 0.0101\n",
            "Epoch 3/50\n",
            "8/8 [==============================] - 0s 5ms/step - loss: 0.0099\n",
            "Epoch 4/50\n",
            "8/8 [==============================] - 0s 5ms/step - loss: 0.0101\n",
            "Epoch 5/50\n",
            "8/8 [==============================] - 0s 5ms/step - loss: 0.0097\n",
            "Epoch 6/50\n",
            "8/8 [==============================] - 0s 5ms/step - loss: 0.0098\n",
            "Epoch 7/50\n",
            "8/8 [==============================] - 0s 5ms/step - loss: 0.0095\n",
            "Epoch 8/50\n",
            "8/8 [==============================] - 0s 6ms/step - loss: 0.0095\n",
            "Epoch 9/50\n",
            "8/8 [==============================] - 0s 5ms/step - loss: 0.0095\n",
            "Epoch 10/50\n",
            "8/8 [==============================] - 0s 5ms/step - loss: 0.0095\n",
            "Epoch 11/50\n",
            "8/8 [==============================] - 0s 6ms/step - loss: 0.0096\n",
            "Epoch 12/50\n",
            "8/8 [==============================] - 0s 5ms/step - loss: 0.0095\n",
            "Epoch 13/50\n",
            "8/8 [==============================] - 0s 5ms/step - loss: 0.0095\n",
            "Epoch 14/50\n",
            "8/8 [==============================] - 0s 6ms/step - loss: 0.0097\n",
            "Epoch 15/50\n",
            "8/8 [==============================] - 0s 6ms/step - loss: 0.0093\n",
            "Epoch 16/50\n",
            "8/8 [==============================] - 0s 5ms/step - loss: 0.0095\n",
            "Epoch 17/50\n",
            "8/8 [==============================] - 0s 5ms/step - loss: 0.0094\n",
            "Epoch 18/50\n",
            "8/8 [==============================] - 0s 5ms/step - loss: 0.0092\n",
            "Epoch 19/50\n",
            "8/8 [==============================] - 0s 5ms/step - loss: 0.0095\n",
            "Epoch 20/50\n",
            "8/8 [==============================] - 0s 5ms/step - loss: 0.0098\n",
            "Epoch 21/50\n",
            "8/8 [==============================] - 0s 5ms/step - loss: 0.0094\n",
            "Epoch 22/50\n",
            "8/8 [==============================] - 0s 5ms/step - loss: 0.0095\n",
            "Epoch 23/50\n",
            "8/8 [==============================] - 0s 5ms/step - loss: 0.0096\n",
            "Epoch 24/50\n",
            "8/8 [==============================] - 0s 5ms/step - loss: 0.0093\n",
            "Epoch 25/50\n",
            "8/8 [==============================] - 0s 6ms/step - loss: 0.0094\n",
            "Epoch 26/50\n",
            "8/8 [==============================] - 0s 5ms/step - loss: 0.0094\n",
            "Epoch 27/50\n",
            "8/8 [==============================] - 0s 5ms/step - loss: 0.0094\n",
            "Epoch 28/50\n",
            "8/8 [==============================] - 0s 5ms/step - loss: 0.0093\n",
            "Epoch 29/50\n",
            "8/8 [==============================] - 0s 5ms/step - loss: 0.0095\n",
            "Epoch 30/50\n",
            "8/8 [==============================] - 0s 5ms/step - loss: 0.0093\n",
            "Epoch 31/50\n",
            "8/8 [==============================] - 0s 6ms/step - loss: 0.0094\n",
            "Epoch 32/50\n",
            "8/8 [==============================] - 0s 5ms/step - loss: 0.0094\n",
            "Epoch 33/50\n",
            "8/8 [==============================] - 0s 5ms/step - loss: 0.0093\n",
            "Epoch 34/50\n",
            "8/8 [==============================] - 0s 6ms/step - loss: 0.0093\n",
            "Epoch 35/50\n",
            "8/8 [==============================] - 0s 6ms/step - loss: 0.0093\n",
            "Epoch 36/50\n",
            "8/8 [==============================] - 0s 5ms/step - loss: 0.0093\n",
            "Epoch 37/50\n",
            "8/8 [==============================] - 0s 5ms/step - loss: 0.0094\n",
            "Epoch 38/50\n",
            "8/8 [==============================] - 0s 6ms/step - loss: 0.0095\n",
            "Epoch 39/50\n",
            "8/8 [==============================] - 0s 5ms/step - loss: 0.0093\n",
            "Epoch 40/50\n",
            "8/8 [==============================] - 0s 5ms/step - loss: 0.0092\n",
            "Epoch 41/50\n",
            "8/8 [==============================] - 0s 5ms/step - loss: 0.0092\n",
            "Epoch 42/50\n",
            "8/8 [==============================] - 0s 5ms/step - loss: 0.0092\n",
            "Epoch 43/50\n",
            "8/8 [==============================] - 0s 5ms/step - loss: 0.0092\n",
            "Epoch 44/50\n",
            "8/8 [==============================] - 0s 5ms/step - loss: 0.0091\n",
            "Epoch 45/50\n",
            "8/8 [==============================] - 0s 5ms/step - loss: 0.0095\n",
            "Epoch 46/50\n",
            "8/8 [==============================] - 0s 5ms/step - loss: 0.0091\n",
            "Epoch 47/50\n",
            "8/8 [==============================] - 0s 6ms/step - loss: 0.0091\n",
            "Epoch 48/50\n",
            "8/8 [==============================] - 0s 5ms/step - loss: 0.0091\n",
            "Epoch 49/50\n",
            "8/8 [==============================] - 0s 5ms/step - loss: 0.0093\n",
            "Epoch 50/50\n",
            "8/8 [==============================] - 0s 5ms/step - loss: 0.0093\n"
          ]
        },
        {
          "output_type": "stream",
          "name": "stderr",
          "text": [
            "WARNING:tensorflow:5 out of the last 9 calls to <function Model.make_predict_function.<locals>.predict_function at 0x7f8ef94e8a70> triggered tf.function retracing. Tracing is expensive and the excessive number of tracings could be due to (1) creating @tf.function repeatedly in a loop, (2) passing tensors with different shapes, (3) passing Python objects instead of tensors. For (1), please define your @tf.function outside of the loop. For (2), @tf.function has experimental_relax_shapes=True option that relaxes argument shapes that can avoid unnecessary retracing. For (3), please refer to https://www.tensorflow.org/guide/function#controlling_retracing and https://www.tensorflow.org/api_docs/python/tf/function for  more details.\n"
          ]
        },
        {
          "output_type": "stream",
          "name": "stdout",
          "text": [
            "Model Number: 312 with model ETS in generation 2 of 10\n",
            "Model Number: 313 with model MultivariateMotif in generation 2 of 10\n",
            "Template Eval Error: ValueError('Model MultivariateMotif returned NaN for one or more series. fail_on_forecast_nan=True') in model 313: MultivariateMotif\n",
            "Model Number: 314 with model LastValueNaive in generation 2 of 10\n",
            "Model Number: 315 with model MultivariateRegression in generation 2 of 10\n",
            "Model Number: 316 with model GLS in generation 2 of 10\n"
          ]
        },
        {
          "output_type": "stream",
          "name": "stderr",
          "text": [
            "/usr/local/lib/python3.7/dist-packages/numpy/core/_methods.py:48: RuntimeWarning:\n",
            "\n",
            "invalid value encountered in reduce\n",
            "\n",
            "/usr/local/lib/python3.7/dist-packages/sklearn/svm/_base.py:1208: ConvergenceWarning:\n",
            "\n",
            "Liblinear failed to converge, increase the number of iterations.\n",
            "\n"
          ]
        },
        {
          "output_type": "stream",
          "name": "stdout",
          "text": [
            "Model Number: 317 with model UnivariateRegression in generation 2 of 10\n",
            "Model Number: 318 with model MultivariateRegression in generation 2 of 10\n",
            "Template Eval Error: ValueError(\"regression_type='User' but not future_regressor supplied.\") in model 318: MultivariateRegression\n",
            "Model Number: 319 with model UnivariateRegression in generation 2 of 10\n",
            "Model Number: 320 with model UnivariateMotif in generation 2 of 10\n"
          ]
        },
        {
          "output_type": "stream",
          "name": "stderr",
          "text": [
            "/usr/local/lib/python3.7/dist-packages/numpy/lib/nanfunctions.py:1120: RuntimeWarning:\n",
            "\n",
            "All-NaN slice encountered\n",
            "\n",
            "/usr/local/lib/python3.7/dist-packages/autots/tools/percentile.py:47: RuntimeWarning:\n",
            "\n",
            "All-NaN slice encountered\n",
            "\n"
          ]
        },
        {
          "output_type": "stream",
          "name": "stdout",
          "text": [
            "Template Eval Error: ValueError('Model UnivariateMotif returned NaN for one or more series. fail_on_forecast_nan=True') in model 320: UnivariateMotif\n",
            "Model Number: 321 with model UnobservedComponents in generation 2 of 10\n",
            "Model Number: 322 with model GLS in generation 2 of 10\n",
            "Model Number: 323 with model MultivariateRegression in generation 2 of 10\n",
            "Template Eval Error: ValueError(\"regression_type='User' but not future_regressor supplied.\") in model 323: MultivariateRegression\n",
            "Model Number: 324 with model ETS in generation 2 of 10\n"
          ]
        },
        {
          "output_type": "stream",
          "name": "stderr",
          "text": [
            "INFO:prophet:Disabling yearly seasonality. Run prophet with yearly_seasonality=True to override this.\n",
            "INFO:prophet:Disabling daily seasonality. Run prophet with daily_seasonality=True to override this.\n",
            "DEBUG:cmdstanpy:input tempfile: /tmp/tmpjl9_res0/oigl2u1b.json\n",
            "DEBUG:cmdstanpy:input tempfile: /tmp/tmpjl9_res0/29ru1kgj.json\n",
            "DEBUG:cmdstanpy:idx 0\n",
            "DEBUG:cmdstanpy:running CmdStan, num_threads: None\n",
            "DEBUG:cmdstanpy:CmdStan args: ['/usr/local/lib/python3.7/dist-packages/prophet/stan_model/prophet_model.bin', 'random', 'seed=24258', 'data', 'file=/tmp/tmpjl9_res0/oigl2u1b.json', 'init=/tmp/tmpjl9_res0/29ru1kgj.json', 'output', 'file=/tmp/tmpiiz4xtba/prophet_model-20220831111502.csv', 'method=optimize', 'algorithm=lbfgs', 'iter=10000']\n",
            "11:15:02 - cmdstanpy - INFO - Chain [1] start processing\n",
            "INFO:cmdstanpy:Chain [1] start processing\n",
            "11:15:02 - cmdstanpy - INFO - Chain [1] done processing\n",
            "INFO:cmdstanpy:Chain [1] done processing\n"
          ]
        },
        {
          "output_type": "stream",
          "name": "stdout",
          "text": [
            "Model Number: 325 with model FBProphet in generation 2 of 10\n",
            "Model Number: 326 with model GLS in generation 2 of 10\n",
            "Model Number: 327 with model GLS in generation 2 of 10\n",
            "Template Eval Error: Exception('Transformer Cointegration failed on fit') in model 327: GLS\n",
            "Model Number: 328 with model Theta in generation 2 of 10\n",
            "Model Number: 329 with model AverageValueNaive in generation 2 of 10\n",
            "Model Number: 330 with model Theta in generation 2 of 10\n",
            "No anomalies detected.\n",
            "Model Number: 331 with model AverageValueNaive in generation 2 of 10\n",
            "Model Number: 332 with model GLM in generation 2 of 10\n",
            "Template Eval Error: ValueError('shapes (5,54) and (58,) not aligned: 54 (dim 1) != 58 (dim 0)') in model 332: GLM\n",
            "Model Number: 333 with model ARIMA in generation 2 of 10\n",
            "Model Number: 334 with model UnobservedComponents in generation 2 of 10\n",
            "Model Number: 335 with model UnivariateRegression in generation 2 of 10\n",
            "Model Number: 336 with model SeasonalNaive in generation 2 of 10\n",
            "Model Number: 337 with model GLM in generation 2 of 10\n",
            "Model Number: 338 with model UnobservedComponents in generation 2 of 10\n",
            "Model Number: 339 with model ARIMA in generation 2 of 10\n",
            "Model Number: 340 with model UnobservedComponents in generation 2 of 10\n",
            "Template Eval Error: ValueError(\"regression_type='User' but no future_regressor supplied\") in model 340: UnobservedComponents\n",
            "Model Number: 341 with model ETS in generation 2 of 10\n",
            "Model Number: 342 with model UnivariateMotif in generation 2 of 10\n",
            "Model Number: 343 with model ARIMA in generation 2 of 10\n",
            "Model Number: 344 with model UnivariateRegression in generation 2 of 10\n",
            "Template Eval Error: ValueError(\"regression_type='User' but not future_regressor supplied.\") in model 344: UnivariateRegression\n",
            "Model Number: 345 with model ConstantNaive in generation 2 of 10\n",
            "Model Number: 346 with model LastValueNaive in generation 2 of 10\n",
            "Model Number: 347 with model SectionalMotif in generation 2 of 10\n",
            "Model Number: 348 with model ARIMA in generation 2 of 10\n",
            "Model Number: 349 with model UnivariateRegression in generation 2 of 10\n",
            "Model Number: 350 with model SeasonalNaive in generation 2 of 10\n",
            "Model Number: 351 with model MultivariateRegression in generation 2 of 10\n"
          ]
        },
        {
          "output_type": "stream",
          "name": "stderr",
          "text": [
            "/usr/local/lib/python3.7/dist-packages/sklearn/svm/_base.py:1208: ConvergenceWarning:\n",
            "\n",
            "Liblinear failed to converge, increase the number of iterations.\n",
            "\n"
          ]
        },
        {
          "output_type": "stream",
          "name": "stdout",
          "text": [
            "Model Number: 352 with model UnobservedComponents in generation 2 of 10\n",
            "Model Number: 353 with model ARIMA in generation 2 of 10\n",
            "Model Number: 354 with model LastValueNaive in generation 2 of 10\n",
            "Model Number: 355 with model WindowRegression in generation 2 of 10\n",
            "Model Number: 356 with model ETS in generation 2 of 10\n",
            "Model Number: 357 with model GLS in generation 2 of 10\n",
            "Model Number: 358 with model UnivariateMotif in generation 2 of 10\n"
          ]
        },
        {
          "output_type": "stream",
          "name": "stderr",
          "text": [
            "/usr/local/lib/python3.7/dist-packages/autots/tools/percentile.py:47: RuntimeWarning:\n",
            "\n",
            "All-NaN slice encountered\n",
            "\n"
          ]
        },
        {
          "output_type": "stream",
          "name": "stdout",
          "text": [
            "Template Eval Error: ValueError('Model UnivariateMotif returned NaN for one or more series. fail_on_forecast_nan=True') in model 358: UnivariateMotif\n",
            "Model Number: 359 with model NVAR in generation 2 of 10\n",
            "Model Number: 360 with model MultivariateMotif in generation 2 of 10\n",
            "Model Number: 361 with model MultivariateMotif in generation 2 of 10\n",
            "Model Number: 362 with model UnivariateMotif in generation 2 of 10\n",
            "Model Number: 363 with model GLM in generation 2 of 10\n",
            "Model Number: 364 with model UnobservedComponents in generation 2 of 10\n",
            "Model Number: 365 with model AverageValueNaive in generation 2 of 10\n",
            "Model Number: 366 with model ETS in generation 2 of 10\n",
            "Model Number: 367 with model ARIMA in generation 2 of 10\n",
            "Model Number: 368 with model UnivariateMotif in generation 2 of 10\n",
            "Template Eval Error: Exception('Transformer DatepartRegression failed on fit') in model 368: UnivariateMotif\n",
            "Model Number: 369 with model SeasonalNaive in generation 2 of 10\n",
            "Model Number: 370 with model ConstantNaive in generation 2 of 10\n",
            "Model Number: 371 with model DatepartRegression in generation 2 of 10\n",
            "Epoch 1/50\n",
            "8/8 [==============================] - 5s 7ms/step - loss: 0.0075\n",
            "Epoch 2/50\n",
            "8/8 [==============================] - 0s 7ms/step - loss: 0.0070\n",
            "Epoch 3/50\n",
            "8/8 [==============================] - 0s 7ms/step - loss: 0.0068\n",
            "Epoch 4/50\n",
            "8/8 [==============================] - 0s 6ms/step - loss: 0.0070\n",
            "Epoch 5/50\n",
            "8/8 [==============================] - 0s 6ms/step - loss: 0.0068\n",
            "Epoch 6/50\n",
            "8/8 [==============================] - 0s 6ms/step - loss: 0.0069\n",
            "Epoch 7/50\n",
            "8/8 [==============================] - 0s 6ms/step - loss: 0.0067\n",
            "Epoch 8/50\n",
            "8/8 [==============================] - 0s 6ms/step - loss: 0.0066\n",
            "Epoch 9/50\n",
            "8/8 [==============================] - 0s 10ms/step - loss: 0.0067\n",
            "Epoch 10/50\n",
            "8/8 [==============================] - 0s 8ms/step - loss: 0.0066\n",
            "Epoch 11/50\n",
            "8/8 [==============================] - 0s 7ms/step - loss: 0.0067\n",
            "Epoch 12/50\n",
            "8/8 [==============================] - 0s 6ms/step - loss: 0.0066\n",
            "Epoch 13/50\n",
            "8/8 [==============================] - 0s 6ms/step - loss: 0.0066\n",
            "Epoch 14/50\n",
            "8/8 [==============================] - 0s 8ms/step - loss: 0.0067\n",
            "Epoch 15/50\n",
            "8/8 [==============================] - 0s 9ms/step - loss: 0.0065\n",
            "Epoch 16/50\n",
            "8/8 [==============================] - 0s 6ms/step - loss: 0.0066\n",
            "Epoch 17/50\n",
            "8/8 [==============================] - 0s 6ms/step - loss: 0.0065\n",
            "Epoch 18/50\n",
            "8/8 [==============================] - 0s 6ms/step - loss: 0.0064\n",
            "Epoch 19/50\n",
            "8/8 [==============================] - 0s 7ms/step - loss: 0.0066\n",
            "Epoch 20/50\n",
            "8/8 [==============================] - 0s 6ms/step - loss: 0.0069\n",
            "Epoch 21/50\n",
            "8/8 [==============================] - 0s 7ms/step - loss: 0.0066\n",
            "Epoch 22/50\n",
            "8/8 [==============================] - 0s 6ms/step - loss: 0.0066\n",
            "Epoch 23/50\n",
            "8/8 [==============================] - 0s 6ms/step - loss: 0.0067\n",
            "Epoch 24/50\n",
            "8/8 [==============================] - 0s 9ms/step - loss: 0.0065\n",
            "Epoch 25/50\n",
            "8/8 [==============================] - 0s 6ms/step - loss: 0.0065\n",
            "Epoch 26/50\n",
            "8/8 [==============================] - 0s 5ms/step - loss: 0.0066\n",
            "Epoch 27/50\n",
            "8/8 [==============================] - 0s 6ms/step - loss: 0.0065\n",
            "Epoch 28/50\n",
            "8/8 [==============================] - 0s 7ms/step - loss: 0.0065\n",
            "Epoch 29/50\n",
            "8/8 [==============================] - 0s 5ms/step - loss: 0.0066\n",
            "Epoch 30/50\n",
            "8/8 [==============================] - 0s 6ms/step - loss: 0.0065\n",
            "Epoch 31/50\n",
            "8/8 [==============================] - 0s 6ms/step - loss: 0.0066\n",
            "Epoch 32/50\n",
            "8/8 [==============================] - 0s 6ms/step - loss: 0.0066\n",
            "Epoch 33/50\n",
            "8/8 [==============================] - 0s 6ms/step - loss: 0.0065\n",
            "Epoch 34/50\n",
            "8/8 [==============================] - 0s 6ms/step - loss: 0.0065\n",
            "Epoch 35/50\n",
            "8/8 [==============================] - 0s 6ms/step - loss: 0.0064\n",
            "Epoch 36/50\n",
            "8/8 [==============================] - 0s 7ms/step - loss: 0.0064\n",
            "Epoch 37/50\n",
            "8/8 [==============================] - 0s 6ms/step - loss: 0.0065\n",
            "Epoch 38/50\n",
            "8/8 [==============================] - 0s 6ms/step - loss: 0.0066\n",
            "Epoch 39/50\n",
            "8/8 [==============================] - 0s 6ms/step - loss: 0.0065\n",
            "Epoch 40/50\n",
            "8/8 [==============================] - 0s 8ms/step - loss: 0.0064\n",
            "Epoch 41/50\n",
            "8/8 [==============================] - 0s 6ms/step - loss: 0.0064\n",
            "Epoch 42/50\n",
            "8/8 [==============================] - 0s 7ms/step - loss: 0.0064\n",
            "Epoch 43/50\n",
            "8/8 [==============================] - 0s 7ms/step - loss: 0.0064\n",
            "Epoch 44/50\n",
            "8/8 [==============================] - 0s 5ms/step - loss: 0.0063\n",
            "Epoch 45/50\n",
            "8/8 [==============================] - 0s 5ms/step - loss: 0.0066\n",
            "Epoch 46/50\n",
            "8/8 [==============================] - 0s 7ms/step - loss: 0.0064\n",
            "Epoch 47/50\n",
            "8/8 [==============================] - 0s 5ms/step - loss: 0.0064\n",
            "Epoch 48/50\n",
            "8/8 [==============================] - 0s 5ms/step - loss: 0.0063\n",
            "Epoch 49/50\n",
            "8/8 [==============================] - 0s 6ms/step - loss: 0.0065\n",
            "Epoch 50/50\n",
            "8/8 [==============================] - 0s 5ms/step - loss: 0.0064\n"
          ]
        },
        {
          "output_type": "stream",
          "name": "stderr",
          "text": [
            "WARNING:tensorflow:6 out of the last 10 calls to <function Model.make_predict_function.<locals>.predict_function at 0x7f8f6b24a830> triggered tf.function retracing. Tracing is expensive and the excessive number of tracings could be due to (1) creating @tf.function repeatedly in a loop, (2) passing tensors with different shapes, (3) passing Python objects instead of tensors. For (1), please define your @tf.function outside of the loop. For (2), @tf.function has experimental_relax_shapes=True option that relaxes argument shapes that can avoid unnecessary retracing. For (3), please refer to https://www.tensorflow.org/guide/function#controlling_retracing and https://www.tensorflow.org/api_docs/python/tf/function for  more details.\n"
          ]
        },
        {
          "output_type": "stream",
          "name": "stdout",
          "text": [
            "Model Number: 372 with model MultivariateMotif in generation 2 of 10\n"
          ]
        },
        {
          "output_type": "stream",
          "name": "stderr",
          "text": [
            "[Parallel(n_jobs=-2)]: Using backend SequentialBackend with 1 concurrent workers.\n"
          ]
        },
        {
          "output_type": "stream",
          "name": "stdout",
          "text": [
            "Model Number: 373 with model MultivariateRegression in generation 2 of 10\n"
          ]
        },
        {
          "output_type": "stream",
          "name": "stderr",
          "text": [
            "[Parallel(n_jobs=-2)]: Done 200 out of 200 | elapsed:    0.3s finished\n",
            "[Parallel(n_jobs=1)]: Using backend SequentialBackend with 1 concurrent workers.\n",
            "[Parallel(n_jobs=1)]: Done 200 out of 200 | elapsed:    0.0s finished\n",
            "[Parallel(n_jobs=1)]: Using backend SequentialBackend with 1 concurrent workers.\n",
            "[Parallel(n_jobs=1)]: Done 200 out of 200 | elapsed:    0.0s finished\n",
            "[Parallel(n_jobs=1)]: Using backend SequentialBackend with 1 concurrent workers.\n",
            "[Parallel(n_jobs=1)]: Done 200 out of 200 | elapsed:    0.0s finished\n",
            "[Parallel(n_jobs=1)]: Using backend SequentialBackend with 1 concurrent workers.\n",
            "[Parallel(n_jobs=1)]: Done 200 out of 200 | elapsed:    0.0s finished\n",
            "[Parallel(n_jobs=1)]: Using backend SequentialBackend with 1 concurrent workers.\n"
          ]
        },
        {
          "output_type": "stream",
          "name": "stdout",
          "text": [
            "Model Number: 374 with model SeasonalNaive in generation 2 of 10\n",
            "Model Number: 375 with model UnivariateMotif in generation 2 of 10\n"
          ]
        },
        {
          "output_type": "stream",
          "name": "stderr",
          "text": [
            "[Parallel(n_jobs=1)]: Done 200 out of 200 | elapsed:    0.0s finished\n"
          ]
        },
        {
          "output_type": "stream",
          "name": "stdout",
          "text": [
            "Model Number: 376 with model ARIMA in generation 2 of 10\n",
            "Model Number: 377 with model MultivariateMotif in generation 2 of 10\n",
            "Template Eval Error: Exception('Transformer Detrend failed on fit') in model 377: MultivariateMotif\n",
            "Model Number: 378 with model LastValueNaive in generation 2 of 10\n",
            "Model Number: 379 with model ETS in generation 2 of 10\n",
            "Model Number: 380 with model SectionalMotif in generation 2 of 10\n",
            "Model Number: 381 with model Theta in generation 2 of 10\n",
            "Template Eval Error: KeyError(Timestamp('2021-05-14 00:00:00', freq='B')) in model 381: Theta\n",
            "Model Number: 382 with model Theta in generation 2 of 10\n",
            "Model Number: 383 with model SectionalMotif in generation 2 of 10\n",
            "Model Number: 384 with model LastValueNaive in generation 2 of 10\n",
            "Model Number: 385 with model DatepartRegression in generation 2 of 10\n",
            "Model Number: 386 with model GLS in generation 2 of 10\n",
            "Model Number: 387 with model MultivariateMotif in generation 2 of 10\n"
          ]
        },
        {
          "output_type": "stream",
          "name": "stderr",
          "text": [
            "/usr/local/lib/python3.7/dist-packages/sklearn/linear_model/_ridge.py:157: LinAlgWarning:\n",
            "\n",
            "Ill-conditioned matrix (rcond=6.45737e-25): result may not be accurate.\n",
            "\n"
          ]
        },
        {
          "output_type": "stream",
          "name": "stdout",
          "text": [
            "Model Number: 388 with model AverageValueNaive in generation 2 of 10\n",
            "Model Number: 389 with model Theta in generation 2 of 10\n",
            "Model Number: 390 with model GLM in generation 2 of 10\n",
            "Model Number: 391 with model MultivariateRegression in generation 2 of 10\n",
            "Model Number: 392 with model ETS in generation 2 of 10\n"
          ]
        },
        {
          "output_type": "stream",
          "name": "stderr",
          "text": [
            "/usr/local/lib/python3.7/dist-packages/sklearn/svm/_base.py:1208: ConvergenceWarning:\n",
            "\n",
            "Liblinear failed to converge, increase the number of iterations.\n",
            "\n"
          ]
        },
        {
          "output_type": "stream",
          "name": "stdout",
          "text": [
            "Model Number: 393 with model AverageValueNaive in generation 2 of 10\n",
            "Model Number: 394 with model UnobservedComponents in generation 2 of 10\n",
            "Model Number: 395 with model ConstantNaive in generation 2 of 10\n",
            "Model Number: 396 with model UnobservedComponents in generation 2 of 10\n",
            "Model Number: 397 with model AverageValueNaive in generation 2 of 10\n",
            "Model Number: 398 with model WindowRegression in generation 2 of 10\n",
            "Model Number: 399 with model SectionalMotif in generation 2 of 10\n",
            "Model Number: 400 with model Theta in generation 2 of 10\n",
            "Model Number: 401 with model AverageValueNaive in generation 2 of 10\n",
            "Model Number: 402 with model ARIMA in generation 2 of 10\n",
            "Model Number: 403 with model SectionalMotif in generation 2 of 10\n",
            "Model Number: 404 with model SeasonalNaive in generation 2 of 10\n",
            "Model Number: 405 with model SectionalMotif in generation 2 of 10\n",
            "Model Number: 406 with model LastValueNaive in generation 2 of 10\n",
            "Model Number: 407 with model GLS in generation 2 of 10\n",
            "Model Number: 408 with model SeasonalNaive in generation 2 of 10\n",
            "Model Number: 409 with model ConstantNaive in generation 2 of 10\n",
            "Model Number: 410 with model FBProphet in generation 2 of 10\n"
          ]
        },
        {
          "output_type": "stream",
          "name": "stderr",
          "text": [
            "INFO:prophet:Disabling yearly seasonality. Run prophet with yearly_seasonality=True to override this.\n",
            "INFO:prophet:Disabling daily seasonality. Run prophet with daily_seasonality=True to override this.\n",
            "DEBUG:cmdstanpy:input tempfile: /tmp/tmpjl9_res0/p19mx5jz.json\n",
            "DEBUG:cmdstanpy:input tempfile: /tmp/tmpjl9_res0/nvd7z5u6.json\n",
            "DEBUG:cmdstanpy:idx 0\n",
            "DEBUG:cmdstanpy:running CmdStan, num_threads: None\n",
            "DEBUG:cmdstanpy:CmdStan args: ['/usr/local/lib/python3.7/dist-packages/prophet/stan_model/prophet_model.bin', 'random', 'seed=25857', 'data', 'file=/tmp/tmpjl9_res0/p19mx5jz.json', 'init=/tmp/tmpjl9_res0/nvd7z5u6.json', 'output', 'file=/tmp/tmprq5yxqc0/prophet_model-20220831111759.csv', 'method=optimize', 'algorithm=lbfgs', 'iter=10000']\n",
            "11:17:59 - cmdstanpy - INFO - Chain [1] start processing\n",
            "INFO:cmdstanpy:Chain [1] start processing\n",
            "11:17:59 - cmdstanpy - INFO - Chain [1] done processing\n",
            "INFO:cmdstanpy:Chain [1] done processing\n"
          ]
        },
        {
          "output_type": "stream",
          "name": "stdout",
          "text": [
            "Model Number: 411 with model ETS in generation 2 of 10\n",
            "Model Number: 412 with model UnobservedComponents in generation 2 of 10\n",
            "Model Number: 413 with model MultivariateMotif in generation 2 of 10\n",
            "Model Number: 414 with model AverageValueNaive in generation 2 of 10\n",
            "Model Number: 415 with model UnobservedComponents in generation 2 of 10\n",
            "Model Number: 416 with model MultivariateMotif in generation 2 of 10\n",
            "Model Number: 417 with model Theta in generation 2 of 10\n",
            "Model Number: 418 with model MultivariateMotif in generation 2 of 10\n",
            "Model Number: 419 with model ARIMA in generation 2 of 10\n",
            "Model Number: 420 with model AverageValueNaive in generation 2 of 10\n",
            "Model Number: 421 with model MultivariateRegression in generation 2 of 10\n",
            "Model Number: 422 with model ARIMA in generation 2 of 10\n"
          ]
        },
        {
          "output_type": "stream",
          "name": "stderr",
          "text": [
            "/usr/local/lib/python3.7/dist-packages/sklearn/svm/_base.py:1208: ConvergenceWarning:\n",
            "\n",
            "Liblinear failed to converge, increase the number of iterations.\n",
            "\n"
          ]
        },
        {
          "output_type": "stream",
          "name": "stdout",
          "text": [
            "Model Number: 423 with model NVAR in generation 2 of 10\n",
            "New Generation: 3 of 10\n",
            "Model Number: 424 with model SeasonalNaive in generation 3 of 10\n",
            "Model Number: 425 with model UnivariateRegression in generation 3 of 10\n",
            "Model Number: 426 with model GLS in generation 3 of 10\n",
            "Model Number: 427 with model MultivariateMotif in generation 3 of 10\n",
            "Model Number: 428 with model NVAR in generation 3 of 10\n",
            "Model Number: 429 with model SectionalMotif in generation 3 of 10\n",
            "Template Eval Error: ValueError(\"regression_type=='User' but no future_regressor supplied\") in model 429: SectionalMotif\n",
            "Model Number: 430 with model Theta in generation 3 of 10\n",
            "Model Number: 431 with model UnivariateRegression in generation 3 of 10\n",
            "Model Number: 432 with model UnivariateRegression in generation 3 of 10\n",
            "Template Eval Error: ValueError(\"regression_type='User' but not future_regressor supplied.\") in model 432: UnivariateRegression\n",
            "Model Number: 433 with model UnivariateMotif in generation 3 of 10\n",
            "Model Number: 434 with model ARIMA in generation 3 of 10\n",
            "Model Number: 435 with model ARIMA in generation 3 of 10\n",
            "Template Eval Error: Exception('Transformer DatepartRegression failed on fit') in model 435: ARIMA\n"
          ]
        },
        {
          "output_type": "stream",
          "name": "stderr",
          "text": [
            "/usr/local/lib/python3.7/dist-packages/sklearn/base.py:451: UserWarning:\n",
            "\n",
            "X does not have valid feature names, but MLPRegressor was fitted with feature names\n",
            "\n",
            "/usr/local/lib/python3.7/dist-packages/sklearn/base.py:451: UserWarning:\n",
            "\n",
            "X does not have valid feature names, but MLPRegressor was fitted with feature names\n",
            "\n",
            "/usr/local/lib/python3.7/dist-packages/sklearn/base.py:451: UserWarning:\n",
            "\n",
            "X does not have valid feature names, but MLPRegressor was fitted with feature names\n",
            "\n",
            "/usr/local/lib/python3.7/dist-packages/sklearn/base.py:451: UserWarning:\n",
            "\n",
            "X does not have valid feature names, but MLPRegressor was fitted with feature names\n",
            "\n",
            "/usr/local/lib/python3.7/dist-packages/sklearn/base.py:451: UserWarning:\n",
            "\n",
            "X does not have valid feature names, but MLPRegressor was fitted with feature names\n",
            "\n",
            "/usr/local/lib/python3.7/dist-packages/sklearn/base.py:451: UserWarning:\n",
            "\n",
            "X does not have valid feature names, but MLPRegressor was fitted with feature names\n",
            "\n",
            "/usr/local/lib/python3.7/dist-packages/sklearn/base.py:451: UserWarning:\n",
            "\n",
            "X does not have valid feature names, but MLPRegressor was fitted with feature names\n",
            "\n",
            "/usr/local/lib/python3.7/dist-packages/sklearn/base.py:451: UserWarning:\n",
            "\n",
            "X does not have valid feature names, but MLPRegressor was fitted with feature names\n",
            "\n",
            "/usr/local/lib/python3.7/dist-packages/sklearn/base.py:451: UserWarning:\n",
            "\n",
            "X does not have valid feature names, but MLPRegressor was fitted with feature names\n",
            "\n",
            "/usr/local/lib/python3.7/dist-packages/sklearn/base.py:451: UserWarning:\n",
            "\n",
            "X does not have valid feature names, but MLPRegressor was fitted with feature names\n",
            "\n",
            "/usr/local/lib/python3.7/dist-packages/sklearn/base.py:451: UserWarning:\n",
            "\n",
            "X does not have valid feature names, but MLPRegressor was fitted with feature names\n",
            "\n",
            "/usr/local/lib/python3.7/dist-packages/sklearn/base.py:451: UserWarning:\n",
            "\n",
            "X does not have valid feature names, but MLPRegressor was fitted with feature names\n",
            "\n",
            "/usr/local/lib/python3.7/dist-packages/sklearn/base.py:451: UserWarning:\n",
            "\n",
            "X does not have valid feature names, but MLPRegressor was fitted with feature names\n",
            "\n",
            "/usr/local/lib/python3.7/dist-packages/sklearn/base.py:451: UserWarning:\n",
            "\n",
            "X does not have valid feature names, but MLPRegressor was fitted with feature names\n",
            "\n",
            "/usr/local/lib/python3.7/dist-packages/sklearn/base.py:451: UserWarning:\n",
            "\n",
            "X does not have valid feature names, but MLPRegressor was fitted with feature names\n",
            "\n",
            "/usr/local/lib/python3.7/dist-packages/sklearn/base.py:451: UserWarning:\n",
            "\n",
            "X does not have valid feature names, but MLPRegressor was fitted with feature names\n",
            "\n",
            "/usr/local/lib/python3.7/dist-packages/sklearn/base.py:451: UserWarning:\n",
            "\n",
            "X does not have valid feature names, but MLPRegressor was fitted with feature names\n",
            "\n",
            "/usr/local/lib/python3.7/dist-packages/sklearn/base.py:451: UserWarning:\n",
            "\n",
            "X does not have valid feature names, but MLPRegressor was fitted with feature names\n",
            "\n",
            "/usr/local/lib/python3.7/dist-packages/sklearn/base.py:451: UserWarning:\n",
            "\n",
            "X does not have valid feature names, but MLPRegressor was fitted with feature names\n",
            "\n",
            "/usr/local/lib/python3.7/dist-packages/sklearn/base.py:451: UserWarning:\n",
            "\n",
            "X does not have valid feature names, but MLPRegressor was fitted with feature names\n",
            "\n",
            "/usr/local/lib/python3.7/dist-packages/sklearn/base.py:451: UserWarning:\n",
            "\n",
            "X does not have valid feature names, but MLPRegressor was fitted with feature names\n",
            "\n",
            "/usr/local/lib/python3.7/dist-packages/sklearn/base.py:451: UserWarning:\n",
            "\n",
            "X does not have valid feature names, but MLPRegressor was fitted with feature names\n",
            "\n",
            "/usr/local/lib/python3.7/dist-packages/sklearn/base.py:451: UserWarning:\n",
            "\n",
            "X does not have valid feature names, but MLPRegressor was fitted with feature names\n",
            "\n",
            "/usr/local/lib/python3.7/dist-packages/sklearn/base.py:451: UserWarning:\n",
            "\n",
            "X does not have valid feature names, but MLPRegressor was fitted with feature names\n",
            "\n",
            "/usr/local/lib/python3.7/dist-packages/sklearn/base.py:451: UserWarning:\n",
            "\n",
            "X does not have valid feature names, but MLPRegressor was fitted with feature names\n",
            "\n",
            "/usr/local/lib/python3.7/dist-packages/sklearn/base.py:451: UserWarning:\n",
            "\n",
            "X does not have valid feature names, but MLPRegressor was fitted with feature names\n",
            "\n",
            "/usr/local/lib/python3.7/dist-packages/sklearn/base.py:451: UserWarning:\n",
            "\n",
            "X does not have valid feature names, but MLPRegressor was fitted with feature names\n",
            "\n",
            "/usr/local/lib/python3.7/dist-packages/sklearn/base.py:451: UserWarning:\n",
            "\n",
            "X does not have valid feature names, but MLPRegressor was fitted with feature names\n",
            "\n",
            "/usr/local/lib/python3.7/dist-packages/sklearn/base.py:451: UserWarning:\n",
            "\n",
            "X does not have valid feature names, but MLPRegressor was fitted with feature names\n",
            "\n",
            "/usr/local/lib/python3.7/dist-packages/sklearn/base.py:451: UserWarning:\n",
            "\n",
            "X does not have valid feature names, but MLPRegressor was fitted with feature names\n",
            "\n",
            "/usr/local/lib/python3.7/dist-packages/sklearn/base.py:451: UserWarning:\n",
            "\n",
            "X does not have valid feature names, but MLPRegressor was fitted with feature names\n",
            "\n",
            "/usr/local/lib/python3.7/dist-packages/sklearn/base.py:451: UserWarning:\n",
            "\n",
            "X does not have valid feature names, but MLPRegressor was fitted with feature names\n",
            "\n",
            "/usr/local/lib/python3.7/dist-packages/sklearn/base.py:451: UserWarning:\n",
            "\n",
            "X does not have valid feature names, but MLPRegressor was fitted with feature names\n",
            "\n",
            "/usr/local/lib/python3.7/dist-packages/sklearn/base.py:451: UserWarning:\n",
            "\n",
            "X does not have valid feature names, but MLPRegressor was fitted with feature names\n",
            "\n",
            "/usr/local/lib/python3.7/dist-packages/sklearn/base.py:451: UserWarning:\n",
            "\n",
            "X does not have valid feature names, but MLPRegressor was fitted with feature names\n",
            "\n",
            "/usr/local/lib/python3.7/dist-packages/sklearn/base.py:451: UserWarning:\n",
            "\n",
            "X does not have valid feature names, but MLPRegressor was fitted with feature names\n",
            "\n",
            "/usr/local/lib/python3.7/dist-packages/sklearn/base.py:451: UserWarning:\n",
            "\n",
            "X does not have valid feature names, but MLPRegressor was fitted with feature names\n",
            "\n",
            "/usr/local/lib/python3.7/dist-packages/sklearn/base.py:451: UserWarning:\n",
            "\n",
            "X does not have valid feature names, but MLPRegressor was fitted with feature names\n",
            "\n",
            "/usr/local/lib/python3.7/dist-packages/sklearn/base.py:451: UserWarning:\n",
            "\n",
            "X does not have valid feature names, but MLPRegressor was fitted with feature names\n",
            "\n",
            "/usr/local/lib/python3.7/dist-packages/sklearn/base.py:451: UserWarning:\n",
            "\n",
            "X does not have valid feature names, but MLPRegressor was fitted with feature names\n",
            "\n",
            "/usr/local/lib/python3.7/dist-packages/sklearn/base.py:451: UserWarning:\n",
            "\n",
            "X does not have valid feature names, but MLPRegressor was fitted with feature names\n",
            "\n",
            "/usr/local/lib/python3.7/dist-packages/sklearn/base.py:451: UserWarning:\n",
            "\n",
            "X does not have valid feature names, but MLPRegressor was fitted with feature names\n",
            "\n",
            "/usr/local/lib/python3.7/dist-packages/sklearn/base.py:451: UserWarning:\n",
            "\n",
            "X does not have valid feature names, but MLPRegressor was fitted with feature names\n",
            "\n",
            "/usr/local/lib/python3.7/dist-packages/sklearn/base.py:451: UserWarning:\n",
            "\n",
            "X does not have valid feature names, but MLPRegressor was fitted with feature names\n",
            "\n",
            "/usr/local/lib/python3.7/dist-packages/sklearn/base.py:451: UserWarning:\n",
            "\n",
            "X does not have valid feature names, but MLPRegressor was fitted with feature names\n",
            "\n",
            "/usr/local/lib/python3.7/dist-packages/sklearn/base.py:451: UserWarning:\n",
            "\n",
            "X does not have valid feature names, but MLPRegressor was fitted with feature names\n",
            "\n",
            "/usr/local/lib/python3.7/dist-packages/sklearn/base.py:451: UserWarning:\n",
            "\n",
            "X does not have valid feature names, but MLPRegressor was fitted with feature names\n",
            "\n",
            "/usr/local/lib/python3.7/dist-packages/sklearn/base.py:451: UserWarning:\n",
            "\n",
            "X does not have valid feature names, but MLPRegressor was fitted with feature names\n",
            "\n",
            "/usr/local/lib/python3.7/dist-packages/sklearn/base.py:451: UserWarning:\n",
            "\n",
            "X does not have valid feature names, but MLPRegressor was fitted with feature names\n",
            "\n",
            "/usr/local/lib/python3.7/dist-packages/sklearn/base.py:451: UserWarning:\n",
            "\n",
            "X does not have valid feature names, but MLPRegressor was fitted with feature names\n",
            "\n",
            "/usr/local/lib/python3.7/dist-packages/sklearn/base.py:451: UserWarning:\n",
            "\n",
            "X does not have valid feature names, but MLPRegressor was fitted with feature names\n",
            "\n"
          ]
        },
        {
          "output_type": "stream",
          "name": "stdout",
          "text": [
            "Model Number: 436 with model AverageValueNaive in generation 3 of 10\n",
            "Model Number: 437 with model ARIMA in generation 3 of 10\n",
            "Model Number: 438 with model DatepartRegression in generation 3 of 10\n",
            "Model Number: 439 with model SectionalMotif in generation 3 of 10\n",
            "Model Number: 440 with model GLM in generation 3 of 10\n"
          ]
        },
        {
          "output_type": "stream",
          "name": "stderr",
          "text": [
            "/usr/local/lib/python3.7/dist-packages/sklearn/neural_network/_multilayer_perceptron.py:549: ConvergenceWarning:\n",
            "\n",
            "lbfgs failed to converge (status=1):\n",
            "STOP: TOTAL NO. of ITERATIONS REACHED LIMIT.\n",
            "\n",
            "Increase the number of iterations (max_iter) or scale the data as shown in:\n",
            "    https://scikit-learn.org/stable/modules/preprocessing.html\n",
            "\n"
          ]
        },
        {
          "output_type": "stream",
          "name": "stdout",
          "text": [
            "Model Number: 441 with model UnobservedComponents in generation 3 of 10\n",
            "Template Eval Error: LinAlgError('Schur decomposition solver error.') in model 441: UnobservedComponents\n",
            "Model Number: 442 with model UnobservedComponents in generation 3 of 10\n",
            "Model Number: 443 with model MultivariateRegression in generation 3 of 10\n"
          ]
        },
        {
          "output_type": "stream",
          "name": "stderr",
          "text": [
            "[Parallel(n_jobs=-2)]: Using backend SequentialBackend with 1 concurrent workers.\n",
            "[Parallel(n_jobs=-2)]: Done 200 out of 200 | elapsed:    0.3s finished\n",
            "[Parallel(n_jobs=1)]: Using backend SequentialBackend with 1 concurrent workers.\n",
            "[Parallel(n_jobs=1)]: Done 200 out of 200 | elapsed:    0.0s finished\n",
            "[Parallel(n_jobs=1)]: Using backend SequentialBackend with 1 concurrent workers.\n",
            "[Parallel(n_jobs=1)]: Done 200 out of 200 | elapsed:    0.0s finished\n",
            "[Parallel(n_jobs=1)]: Using backend SequentialBackend with 1 concurrent workers.\n",
            "[Parallel(n_jobs=1)]: Done 200 out of 200 | elapsed:    0.0s finished\n",
            "[Parallel(n_jobs=1)]: Using backend SequentialBackend with 1 concurrent workers.\n",
            "[Parallel(n_jobs=1)]: Done 200 out of 200 | elapsed:    0.0s finished\n",
            "[Parallel(n_jobs=1)]: Using backend SequentialBackend with 1 concurrent workers.\n",
            "[Parallel(n_jobs=1)]: Done 200 out of 200 | elapsed:    0.0s finished\n"
          ]
        },
        {
          "output_type": "stream",
          "name": "stdout",
          "text": [
            "Model Number: 444 with model ARIMA in generation 3 of 10\n",
            "Model Number: 445 with model UnivariateMotif in generation 3 of 10\n",
            "Model Number: 446 with model GLS in generation 3 of 10\n",
            "Model Number: 447 with model LastValueNaive in generation 3 of 10\n",
            "Model Number: 448 with model MultivariateRegression in generation 3 of 10\n",
            "Model Number: 449 with model NVAR in generation 3 of 10\n",
            "Model Number: 450 with model LastValueNaive in generation 3 of 10\n",
            "Model Number: 451 with model AverageValueNaive in generation 3 of 10\n",
            "Model Number: 452 with model ETS in generation 3 of 10\n",
            "ETS error ValueError('Can only dampen the trend component')\n",
            "ETS failed on 0 with ValueError('Can only dampen the trend component')\n",
            "Model Number: 453 with model SectionalMotif in generation 3 of 10\n",
            "Model Number: 454 with model LastValueNaive in generation 3 of 10\n",
            "Model Number: 455 with model AverageValueNaive in generation 3 of 10\n",
            "Model Number: 456 with model UnobservedComponents in generation 3 of 10\n",
            "Model Number: 457 with model MultivariateMotif in generation 3 of 10\n",
            "Model Number: 458 with model MultivariateMotif in generation 3 of 10\n",
            "Model Number: 459 with model SeasonalNaive in generation 3 of 10\n",
            "Model Number: 460 with model AverageValueNaive in generation 3 of 10\n",
            "Model Number: 461 with model GLS in generation 3 of 10\n",
            "Template Eval Error: Exception('Transformer QuantileTransformer failed on fit') in model 461: GLS\n",
            "Model Number: 462 with model SeasonalNaive in generation 3 of 10\n",
            "Model Number: 463 with model ARIMA in generation 3 of 10\n"
          ]
        },
        {
          "output_type": "stream",
          "name": "stderr",
          "text": [
            "/usr/local/lib/python3.7/dist-packages/sklearn/utils/validation.py:1692: FutureWarning:\n",
            "\n",
            "Feature names only support names that are all strings. Got feature names with dtypes: ['Timestamp', 'str']. An error will be raised in 1.2.\n",
            "\n",
            "/usr/local/lib/python3.7/dist-packages/numpy/lib/nanfunctions.py:1376: RuntimeWarning:\n",
            "\n",
            "All-NaN slice encountered\n",
            "\n",
            "/usr/local/lib/python3.7/dist-packages/sklearn/utils/validation.py:1692: FutureWarning:\n",
            "\n",
            "Feature names only support names that are all strings. Got feature names with dtypes: ['Timestamp', 'str']. An error will be raised in 1.2.\n",
            "\n"
          ]
        },
        {
          "output_type": "stream",
          "name": "stdout",
          "text": [
            "Model Number: 464 with model ARIMA in generation 3 of 10\n",
            "Model Number: 465 with model UnobservedComponents in generation 3 of 10\n",
            "Model Number: 466 with model MultivariateRegression in generation 3 of 10\n",
            "Template Eval Error: ValueError(\"regression_type='User' but not future_regressor supplied.\") in model 466: MultivariateRegression\n",
            "Model Number: 467 with model Theta in generation 3 of 10\n",
            "Model Number: 468 with model UnobservedComponents in generation 3 of 10\n",
            "Template Eval Error: ValueError(\"'shape' elements cannot be negative\") in model 468: UnobservedComponents\n",
            "Model Number: 469 with model Theta in generation 3 of 10\n",
            "Model Number: 470 with model UnivariateMotif in generation 3 of 10\n",
            "Model Number: 471 with model UnobservedComponents in generation 3 of 10\n",
            "Model Number: 472 with model ARIMA in generation 3 of 10\n",
            "Model Number: 473 with model UnivariateRegression in generation 3 of 10\n",
            "Model Number: 474 with model SeasonalNaive in generation 3 of 10\n",
            "Model Number: 475 with model ARIMA in generation 3 of 10\n",
            "Template Eval Error: Exception('Transformer Detrend failed on fit') in model 475: ARIMA\n",
            "Model Number: 476 with model ARIMA in generation 3 of 10\n",
            "Model Number: 477 with model UnivariateMotif in generation 3 of 10\n",
            "Model Number: 478 with model GLS in generation 3 of 10\n",
            "Model Number: 479 with model MultivariateMotif in generation 3 of 10\n",
            "Model Number: 480 with model UnobservedComponents in generation 3 of 10\n",
            "Template Eval Error: ValueError(\"regression_type='User' but no future_regressor supplied\") in model 480: UnobservedComponents\n",
            "Model Number: 481 with model ETS in generation 3 of 10\n",
            "Model Number: 482 with model SeasonalNaive in generation 3 of 10\n",
            "Model Number: 483 with model UnivariateMotif in generation 3 of 10\n",
            "Model Number: 484 with model UnivariateMotif in generation 3 of 10\n",
            "Model Number: 485 with model Theta in generation 3 of 10\n",
            "Model Number: 486 with model SectionalMotif in generation 3 of 10\n",
            "Template Eval Error: ValueError(\"regression_type=='User' but no future_regressor supplied\") in model 486: SectionalMotif\n",
            "Model Number: 487 with model UnivariateRegression in generation 3 of 10\n",
            "Model Number: 488 with model AverageValueNaive in generation 3 of 10\n",
            "Model Number: 489 with model GLS in generation 3 of 10\n",
            "Model Number: 490 with model SeasonalNaive in generation 3 of 10\n",
            "Model Number: 491 with model MultivariateMotif in generation 3 of 10\n",
            "Model Number: 492 with model ARIMA in generation 3 of 10\n",
            "Model Number: 493 with model UnivariateMotif in generation 3 of 10\n",
            "Model Number: 494 with model UnivariateRegression in generation 3 of 10\n",
            "Model Number: 495 with model ConstantNaive in generation 3 of 10\n",
            "Model Number: 496 with model AverageValueNaive in generation 3 of 10\n",
            "Model Number: 497 with model UnobservedComponents in generation 3 of 10\n"
          ]
        },
        {
          "output_type": "stream",
          "name": "stderr",
          "text": [
            "/usr/local/lib/python3.7/dist-packages/sklearn/linear_model/_ridge.py:157: LinAlgWarning:\n",
            "\n",
            "Ill-conditioned matrix (rcond=4.07549e-18): result may not be accurate.\n",
            "\n"
          ]
        },
        {
          "output_type": "stream",
          "name": "stdout",
          "text": [
            "Model Number: 498 with model SeasonalNaive in generation 3 of 10\n",
            "Model Number: 499 with model ETS in generation 3 of 10\n",
            "Model Number: 500 with model UnivariateMotif in generation 3 of 10\n",
            "Model Number: 501 with model MultivariateRegression in generation 3 of 10\n",
            "Template Eval Error: ValueError(\"regression_type='User' but not future_regressor supplied.\") in model 501: MultivariateRegression\n",
            "Model Number: 502 with model GLM in generation 3 of 10\n",
            "Model Number: 503 with model MultivariateRegression in generation 3 of 10\n",
            "Model Number: 504 with model SeasonalNaive in generation 3 of 10\n"
          ]
        },
        {
          "output_type": "stream",
          "name": "stderr",
          "text": [
            "/usr/local/lib/python3.7/dist-packages/sklearn/svm/_base.py:1208: ConvergenceWarning:\n",
            "\n",
            "Liblinear failed to converge, increase the number of iterations.\n",
            "\n"
          ]
        },
        {
          "output_type": "stream",
          "name": "stdout",
          "text": [
            "Model Number: 505 with model DatepartRegression in generation 3 of 10\n",
            "Template Eval Error: ValueError(\"regression_type='User' but no future_regressor passed\") in model 505: DatepartRegression\n",
            "Model Number: 506 with model GLS in generation 3 of 10\n",
            "Model Number: 507 with model ARIMA in generation 3 of 10\n",
            "Model Number: 508 with model Theta in generation 3 of 10\n",
            "Model Number: 509 with model WindowRegression in generation 3 of 10\n",
            "Model Number: 510 with model UnobservedComponents in generation 3 of 10\n",
            "Model Number: 511 with model LastValueNaive in generation 3 of 10\n",
            "Model Number: 512 with model ETS in generation 3 of 10\n",
            "Template Eval Error: Exception('Transformer Detrend failed on fit') in model 512: ETS\n",
            "Model Number: 513 with model ETS in generation 3 of 10\n",
            "ETS error ValueError('endog must be strictly positive when usingmultiplicative trend or seasonal components.')\n",
            "ETS failed on Close Price with ValueError('endog must be strictly positive when usingmultiplicative trend or seasonal components.')\n",
            "Model Number: 514 with model AverageValueNaive in generation 3 of 10\n",
            "Model Number: 515 with model UnivariateMotif in generation 3 of 10\n",
            "Model Number: 516 with model Theta in generation 3 of 10\n",
            "Model Number: 517 with model LastValueNaive in generation 3 of 10\n",
            "Model Number: 518 with model NVAR in generation 3 of 10\n",
            "Model Number: 519 with model ARIMA in generation 3 of 10\n",
            "Model Number: 520 with model AverageValueNaive in generation 3 of 10\n",
            "Model Number: 521 with model Theta in generation 3 of 10\n",
            "Model Number: 522 with model UnobservedComponents in generation 3 of 10\n",
            "Template Eval Error: ValueError(\"regression_type='User' but no future_regressor supplied\") in model 522: UnobservedComponents\n",
            "Model Number: 523 with model SectionalMotif in generation 3 of 10\n",
            "Model Number: 524 with model MultivariateRegression in generation 3 of 10\n"
          ]
        },
        {
          "output_type": "stream",
          "name": "stderr",
          "text": [
            "[Parallel(n_jobs=-2)]: Using backend SequentialBackend with 1 concurrent workers.\n",
            "[Parallel(n_jobs=-2)]: Done 200 out of 200 | elapsed:    0.4s finished\n",
            "[Parallel(n_jobs=1)]: Using backend SequentialBackend with 1 concurrent workers.\n",
            "[Parallel(n_jobs=1)]: Done 200 out of 200 | elapsed:    0.0s finished\n",
            "[Parallel(n_jobs=1)]: Using backend SequentialBackend with 1 concurrent workers.\n",
            "[Parallel(n_jobs=1)]: Done 200 out of 200 | elapsed:    0.0s finished\n",
            "[Parallel(n_jobs=1)]: Using backend SequentialBackend with 1 concurrent workers.\n",
            "[Parallel(n_jobs=1)]: Done 200 out of 200 | elapsed:    0.0s finished\n",
            "[Parallel(n_jobs=1)]: Using backend SequentialBackend with 1 concurrent workers.\n",
            "[Parallel(n_jobs=1)]: Done 200 out of 200 | elapsed:    0.0s finished\n",
            "[Parallel(n_jobs=1)]: Using backend SequentialBackend with 1 concurrent workers.\n",
            "[Parallel(n_jobs=1)]: Done 200 out of 200 | elapsed:    0.0s finished\n"
          ]
        },
        {
          "output_type": "stream",
          "name": "stdout",
          "text": [
            "Model Number: 525 with model Theta in generation 3 of 10\n",
            "Template Eval Error: Exception('Transformer BTCD failed on fit') in model 525: Theta\n",
            "Model Number: 526 with model LastValueNaive in generation 3 of 10\n",
            "Template Eval Error: Exception('Transformer BTCD failed on fit') in model 526: LastValueNaive\n",
            "Model Number: 527 with model ARIMA in generation 3 of 10\n",
            "Template Eval Error: ValueError(\"regression_type='User' but future_regressor not supplied\") in model 527: ARIMA\n",
            "Model Number: 528 with model MultivariateMotif in generation 3 of 10\n",
            "Model Number: 529 with model LastValueNaive in generation 3 of 10\n",
            "Model Number: 530 with model AverageValueNaive in generation 3 of 10\n",
            "Model Number: 531 with model DatepartRegression in generation 3 of 10\n",
            "Epoch 1/50\n",
            "7/7 [==============================] - 4s 217ms/step - loss: 173075.6875 - val_loss: 154225.7656\n",
            "Epoch 2/50\n",
            "7/7 [==============================] - 1s 194ms/step - loss: 163341.5156 - val_loss: 134290.5469\n",
            "Epoch 3/50\n",
            "7/7 [==============================] - 1s 190ms/step - loss: 142283.1406 - val_loss: 115408.3828\n",
            "Epoch 4/50\n",
            "7/7 [==============================] - 1s 178ms/step - loss: 130764.4922 - val_loss: 97268.2344\n",
            "Epoch 5/50\n",
            "7/7 [==============================] - 1s 177ms/step - loss: 125696.1562 - val_loss: 80643.0391\n",
            "Epoch 6/50\n",
            "7/7 [==============================] - 1s 188ms/step - loss: 123841.2422 - val_loss: 66912.4531\n",
            "Epoch 7/50\n",
            "7/7 [==============================] - 1s 171ms/step - loss: 128799.2031 - val_loss: 52772.2305\n",
            "Epoch 8/50\n",
            "7/7 [==============================] - 1s 187ms/step - loss: 115446.7969 - val_loss: 39811.4102\n",
            "Epoch 9/50\n",
            "7/7 [==============================] - 1s 185ms/step - loss: 118471.9922 - val_loss: 29510.6211\n",
            "Epoch 10/50\n",
            "7/7 [==============================] - 1s 193ms/step - loss: 115789.0000 - val_loss: 22313.0215\n",
            "Epoch 11/50\n",
            "7/7 [==============================] - 1s 197ms/step - loss: 96817.3828 - val_loss: 18536.2793\n",
            "Epoch 12/50\n",
            "7/7 [==============================] - 1s 197ms/step - loss: 103858.2422 - val_loss: 13806.9043\n",
            "Epoch 13/50\n",
            "7/7 [==============================] - 1s 191ms/step - loss: 114559.3125 - val_loss: 10359.6416\n",
            "Epoch 14/50\n",
            "7/7 [==============================] - 1s 193ms/step - loss: 101855.5625 - val_loss: 8372.4902\n",
            "Epoch 15/50\n",
            "7/7 [==============================] - 1s 188ms/step - loss: 108242.8750 - val_loss: 6124.8818\n",
            "Epoch 16/50\n",
            "7/7 [==============================] - 1s 169ms/step - loss: 113837.4297 - val_loss: 4316.1060\n",
            "Epoch 17/50\n",
            "7/7 [==============================] - 1s 166ms/step - loss: 112512.8516 - val_loss: 3566.2517\n",
            "Epoch 18/50\n",
            "7/7 [==============================] - 1s 166ms/step - loss: 106067.4375 - val_loss: 4512.9248\n",
            "Epoch 19/50\n",
            "7/7 [==============================] - 1s 165ms/step - loss: 117328.9609 - val_loss: 3699.1731\n",
            "Epoch 20/50\n",
            "7/7 [==============================] - 1s 176ms/step - loss: 101331.4922 - val_loss: 2390.5767\n",
            "Epoch 21/50\n",
            "7/7 [==============================] - 1s 181ms/step - loss: 113158.8984 - val_loss: 945.3771\n",
            "Epoch 22/50\n",
            "7/7 [==============================] - 1s 183ms/step - loss: 101952.0781 - val_loss: 7316.8081\n",
            "Epoch 23/50\n",
            "7/7 [==============================] - 1s 168ms/step - loss: 109989.0625 - val_loss: 6809.4653\n",
            "Epoch 24/50\n",
            "7/7 [==============================] - 1s 212ms/step - loss: 94436.0312 - val_loss: 5718.8950\n",
            "Epoch 25/50\n",
            "7/7 [==============================] - 1s 197ms/step - loss: 101589.8984 - val_loss: 1550.9253\n",
            "Epoch 26/50\n",
            "7/7 [==============================] - 1s 171ms/step - loss: 92552.7031 - val_loss: 3390.4150\n",
            "Epoch 27/50\n",
            "7/7 [==============================] - 1s 195ms/step - loss: 102343.4141 - val_loss: 6750.3740\n",
            "Epoch 28/50\n",
            "7/7 [==============================] - 1s 164ms/step - loss: 106945.6797 - val_loss: 6827.7368\n",
            "Epoch 29/50\n",
            "7/7 [==============================] - 1s 178ms/step - loss: 105589.0234 - val_loss: 6660.9556\n",
            "Epoch 30/50\n",
            "7/7 [==============================] - 1s 194ms/step - loss: 100899.2734 - val_loss: 8540.8867\n",
            "Epoch 31/50\n",
            "7/7 [==============================] - 1s 188ms/step - loss: 92875.2656 - val_loss: 10556.1396\n",
            "Template Eval Error: ValueError('in user code:\\n\\n    File \"/usr/local/lib/python3.7/dist-packages/keras/engine/training.py\", line 1801, in predict_function  *\\n        return step_function(self, iterator)\\n    File \"/usr/local/lib/python3.7/dist-packages/keras/engine/training.py\", line 1790, in step_function  **\\n        outputs = model.distribute_strategy.run(run_step, args=(data,))\\n    File \"/usr/local/lib/python3.7/dist-packages/keras/engine/training.py\", line 1783, in run_step  **\\n        outputs = model.predict_step(data)\\n    File \"/usr/local/lib/python3.7/dist-packages/keras/engine/training.py\", line 1751, in predict_step\\n        return self(x, training=False)\\n    File \"/usr/local/lib/python3.7/dist-packages/keras/utils/traceback_utils.py\", line 67, in error_handler\\n        raise e.with_traceback(filtered_tb) from None\\n    File \"/usr/local/lib/python3.7/dist-packages/keras/engine/input_spec.py\", line 264, in assert_input_compatibility\\n        raise ValueError(f\\'Input {input_index} of layer \"{layer_name}\" is \\'\\n\\n    ValueError: Input 0 of layer \"model\" is incompatible with the layer: expected shape=(None, 58, 1), found shape=(None, 54, 1)\\n') in model 531: DatepartRegression\n",
            "Model Number: 532 with model MultivariateRegression in generation 3 of 10\n"
          ]
        },
        {
          "output_type": "stream",
          "name": "stderr",
          "text": [
            "[Parallel(n_jobs=-2)]: Using backend SequentialBackend with 1 concurrent workers.\n",
            "[Parallel(n_jobs=-2)]: Done 200 out of 200 | elapsed:    0.3s finished\n",
            "[Parallel(n_jobs=1)]: Using backend SequentialBackend with 1 concurrent workers.\n",
            "[Parallel(n_jobs=1)]: Done 200 out of 200 | elapsed:    0.0s finished\n",
            "[Parallel(n_jobs=1)]: Using backend SequentialBackend with 1 concurrent workers.\n",
            "[Parallel(n_jobs=1)]: Done 200 out of 200 | elapsed:    0.0s finished\n",
            "[Parallel(n_jobs=1)]: Using backend SequentialBackend with 1 concurrent workers.\n",
            "[Parallel(n_jobs=1)]: Done 200 out of 200 | elapsed:    0.0s finished\n",
            "[Parallel(n_jobs=1)]: Using backend SequentialBackend with 1 concurrent workers.\n",
            "[Parallel(n_jobs=1)]: Done 200 out of 200 | elapsed:    0.0s finished\n",
            "[Parallel(n_jobs=1)]: Using backend SequentialBackend with 1 concurrent workers.\n",
            "[Parallel(n_jobs=1)]: Done 200 out of 200 | elapsed:    0.0s finished\n"
          ]
        },
        {
          "output_type": "stream",
          "name": "stdout",
          "text": [
            "Model Number: 533 with model AverageValueNaive in generation 3 of 10\n",
            "Model Number: 534 with model WindowRegression in generation 3 of 10\n",
            "Model Number: 535 with model GLM in generation 3 of 10\n",
            "Model Number: 536 with model AverageValueNaive in generation 3 of 10\n",
            "Model Number: 537 with model AverageValueNaive in generation 3 of 10\n",
            "Model Number: 538 with model ETS in generation 3 of 10\n",
            "Model Number: 539 with model WindowRegression in generation 3 of 10\n"
          ]
        },
        {
          "output_type": "stream",
          "name": "stderr",
          "text": [
            "/usr/local/lib/python3.7/dist-packages/sklearn/neural_network/_multilayer_perceptron.py:549: ConvergenceWarning:\n",
            "\n",
            "lbfgs failed to converge (status=1):\n",
            "STOP: TOTAL NO. of ITERATIONS REACHED LIMIT.\n",
            "\n",
            "Increase the number of iterations (max_iter) or scale the data as shown in:\n",
            "    https://scikit-learn.org/stable/modules/preprocessing.html\n",
            "\n",
            "INFO:prophet:Disabling yearly seasonality. Run prophet with yearly_seasonality=True to override this.\n",
            "INFO:prophet:Disabling daily seasonality. Run prophet with daily_seasonality=True to override this.\n",
            "DEBUG:cmdstanpy:input tempfile: /tmp/tmpjl9_res0/vlxt3mz4.json\n",
            "DEBUG:cmdstanpy:input tempfile: /tmp/tmpjl9_res0/xwhoaxjb.json\n",
            "DEBUG:cmdstanpy:idx 0\n",
            "DEBUG:cmdstanpy:running CmdStan, num_threads: None\n",
            "DEBUG:cmdstanpy:CmdStan args: ['/usr/local/lib/python3.7/dist-packages/prophet/stan_model/prophet_model.bin', 'random', 'seed=82920', 'data', 'file=/tmp/tmpjl9_res0/vlxt3mz4.json', 'init=/tmp/tmpjl9_res0/xwhoaxjb.json', 'output', 'file=/tmp/tmpnprh06cm/prophet_model-20220831112046.csv', 'method=optimize', 'algorithm=lbfgs', 'iter=10000']\n",
            "11:20:46 - cmdstanpy - INFO - Chain [1] start processing\n",
            "INFO:cmdstanpy:Chain [1] start processing\n"
          ]
        },
        {
          "output_type": "stream",
          "name": "stdout",
          "text": [
            "Model Number: 540 with model ARIMA in generation 3 of 10\n",
            "Template Eval Error: ValueError(\"regression_type='User' but future_regressor not supplied\") in model 540: ARIMA\n",
            "Model Number: 541 with model FBProphet in generation 3 of 10\n"
          ]
        },
        {
          "output_type": "stream",
          "name": "stderr",
          "text": [
            "11:20:46 - cmdstanpy - INFO - Chain [1] done processing\n",
            "INFO:cmdstanpy:Chain [1] done processing\n"
          ]
        },
        {
          "output_type": "stream",
          "name": "stdout",
          "text": [
            "Model Number: 542 with model UnivariateRegression in generation 3 of 10\n",
            "Model Number: 543 with model ETS in generation 3 of 10\n",
            "New Generation: 4 of 10\n",
            "Model Number: 544 with model Theta in generation 4 of 10\n",
            "Model Number: 545 with model UnivariateMotif in generation 4 of 10\n",
            "Model Number: 546 with model ETS in generation 4 of 10\n",
            "Model Number: 547 with model ARIMA in generation 4 of 10\n",
            "Template Eval Error: Exception('Transformer BTCD failed on fit') in model 547: ARIMA\n",
            "Model Number: 548 with model ETS in generation 4 of 10\n",
            "Model Number: 549 with model GLS in generation 4 of 10\n",
            "Template Eval Error: Exception('Transformer Cointegration failed on fit') in model 549: GLS\n",
            "Model Number: 550 with model UnobservedComponents in generation 4 of 10\n",
            "Model Number: 551 with model NVAR in generation 4 of 10\n",
            "Model Number: 552 with model ConstantNaive in generation 4 of 10\n",
            "Model Number: 553 with model LastValueNaive in generation 4 of 10\n",
            "No anomalies detected.\n",
            "Template Eval Error: Exception('Transformer BTCD failed on fit') in model 553: LastValueNaive\n",
            "Model Number: 554 with model UnivariateRegression in generation 4 of 10\n",
            "Template Eval Error: ValueError(\"regression_type='User' but not future_regressor supplied.\") in model 554: UnivariateRegression\n",
            "Model Number: 555 with model UnobservedComponents in generation 4 of 10\n",
            "Model Number: 556 with model ARIMA in generation 4 of 10\n",
            "Model Number: 557 with model LastValueNaive in generation 4 of 10\n",
            "Model Number: 558 with model AverageValueNaive in generation 4 of 10\n",
            "Model Number: 559 with model AverageValueNaive in generation 4 of 10\n",
            "Model Number: 560 with model WindowRegression in generation 4 of 10\n",
            "Template Eval Error: ValueError(\"regression_type='User' but no future_regressor passed\") in model 560: WindowRegression\n",
            "Model Number: 561 with model GLM in generation 4 of 10\n",
            "Model Number: 562 with model MultivariateMotif in generation 4 of 10\n",
            "Model Number: 563 with model UnivariateRegression in generation 4 of 10\n",
            "Model Number: 564 with model DatepartRegression in generation 4 of 10\n",
            "Template Eval Error: ValueError('X has 54 features, but LinearSVR is expecting 58 features as input.') in model 564: DatepartRegression\n",
            "Model Number: 565 with model UnivariateMotif in generation 4 of 10\n",
            "Model Number: 566 with model MultivariateRegression in generation 4 of 10\n"
          ]
        },
        {
          "output_type": "stream",
          "name": "stderr",
          "text": [
            "/usr/local/lib/python3.7/dist-packages/sklearn/svm/_base.py:1208: ConvergenceWarning:\n",
            "\n",
            "Liblinear failed to converge, increase the number of iterations.\n",
            "\n",
            "/usr/local/lib/python3.7/dist-packages/sklearn/base.py:493: FutureWarning:\n",
            "\n",
            "The feature names should match those that were passed during fit. Starting version 1.2, an error will be raised.\n",
            "Feature names seen at fit time, yet now missing:\n",
            "- weekdayofmonth_1\n",
            "- weekdayofmonth_3\n",
            "- weekdayofmonth_4\n",
            "- weekdayofmonth_5\n",
            "\n",
            "\n",
            "[Parallel(n_jobs=-2)]: Using backend SequentialBackend with 1 concurrent workers.\n",
            "[Parallel(n_jobs=-2)]: Done 200 out of 200 | elapsed:    0.3s finished\n",
            "[Parallel(n_jobs=1)]: Using backend SequentialBackend with 1 concurrent workers.\n",
            "[Parallel(n_jobs=1)]: Done 200 out of 200 | elapsed:    0.0s finished\n",
            "[Parallel(n_jobs=1)]: Using backend SequentialBackend with 1 concurrent workers.\n",
            "[Parallel(n_jobs=1)]: Done 200 out of 200 | elapsed:    0.0s finished\n",
            "[Parallel(n_jobs=1)]: Using backend SequentialBackend with 1 concurrent workers.\n",
            "[Parallel(n_jobs=1)]: Done 200 out of 200 | elapsed:    0.0s finished\n",
            "[Parallel(n_jobs=1)]: Using backend SequentialBackend with 1 concurrent workers.\n",
            "[Parallel(n_jobs=1)]: Done 200 out of 200 | elapsed:    0.0s finished\n",
            "[Parallel(n_jobs=1)]: Using backend SequentialBackend with 1 concurrent workers.\n",
            "[Parallel(n_jobs=1)]: Done 200 out of 200 | elapsed:    0.0s finished\n"
          ]
        },
        {
          "output_type": "stream",
          "name": "stdout",
          "text": [
            "Model Number: 567 with model SeasonalNaive in generation 4 of 10\n",
            "Template Eval Error: ValueError('Model SeasonalNaive returned NaN for one or more series. fail_on_forecast_nan=True') in model 567: SeasonalNaive\n",
            "Model Number: 568 with model UnivariateRegression in generation 4 of 10\n",
            "Template Eval Error: ValueError(\"Input contains NaN, infinity or a value too large for dtype('float64').\") in model 568: UnivariateRegression\n",
            "Model Number: 569 with model UnobservedComponents in generation 4 of 10\n",
            "Model Number: 570 with model SectionalMotif in generation 4 of 10\n",
            "Model Number: 571 with model GLS in generation 4 of 10\n",
            "Model Number: 572 with model GLS in generation 4 of 10\n",
            "Model Number: 573 with model AverageValueNaive in generation 4 of 10\n",
            "Model Number: 574 with model AverageValueNaive in generation 4 of 10\n",
            "Model Number: 575 with model AverageValueNaive in generation 4 of 10\n",
            "Model Number: 576 with model WindowRegression in generation 4 of 10\n",
            "Model Number: 577 with model NVAR in generation 4 of 10\n",
            "Model Number: 578 with model MultivariateMotif in generation 4 of 10\n",
            "Model Number: 579 with model SeasonalNaive in generation 4 of 10\n"
          ]
        },
        {
          "output_type": "stream",
          "name": "stderr",
          "text": [
            "/usr/local/lib/python3.7/dist-packages/sklearn/neural_network/_multilayer_perceptron.py:549: ConvergenceWarning:\n",
            "\n",
            "lbfgs failed to converge (status=1):\n",
            "STOP: TOTAL NO. of ITERATIONS REACHED LIMIT.\n",
            "\n",
            "Increase the number of iterations (max_iter) or scale the data as shown in:\n",
            "    https://scikit-learn.org/stable/modules/preprocessing.html\n",
            "\n"
          ]
        },
        {
          "output_type": "stream",
          "name": "stdout",
          "text": [
            "Model Number: 580 with model ARIMA in generation 4 of 10\n",
            "Model Number: 581 with model Theta in generation 4 of 10\n",
            "Model Number: 582 with model UnobservedComponents in generation 4 of 10\n",
            "Model Number: 583 with model DatepartRegression in generation 4 of 10\n",
            "Model Number: 584 with model SeasonalNaive in generation 4 of 10\n",
            "Model Number: 585 with model UnivariateMotif in generation 4 of 10\n"
          ]
        },
        {
          "output_type": "stream",
          "name": "stderr",
          "text": [
            "/usr/local/lib/python3.7/dist-packages/autots/tools/probabilistic.py:67: RuntimeWarning:\n",
            "\n",
            "invalid value encountered in true_divide\n",
            "\n",
            "/usr/local/lib/python3.7/dist-packages/autots/tools/probabilistic.py:67: RuntimeWarning:\n",
            "\n",
            "divide by zero encountered in true_divide\n",
            "\n",
            "/usr/local/lib/python3.7/dist-packages/autots/tools/probabilistic.py:68: RuntimeWarning:\n",
            "\n",
            "divide by zero encountered in true_divide\n",
            "\n"
          ]
        },
        {
          "output_type": "stream",
          "name": "stdout",
          "text": [
            "Model Number: 586 with model UnivariateRegression in generation 4 of 10\n",
            "Model Number: 587 with model ETS in generation 4 of 10\n",
            "Model Number: 588 with model AverageValueNaive in generation 4 of 10\n",
            "Model Number: 589 with model GLM in generation 4 of 10\n",
            "Model Number: 590 with model Theta in generation 4 of 10\n",
            "Model Number: 591 with model ARIMA in generation 4 of 10\n",
            "Model Number: 592 with model MultivariateRegression in generation 4 of 10\n",
            "Model Number: 593 with model ConstantNaive in generation 4 of 10\n",
            "No anomalies detected.\n",
            "Model Number: 594 with model LastValueNaive in generation 4 of 10\n",
            "Model Number: 595 with model Theta in generation 4 of 10\n",
            "Model Number: 596 with model SeasonalNaive in generation 4 of 10\n",
            "Model Number: 597 with model MultivariateRegression in generation 4 of 10\n"
          ]
        },
        {
          "output_type": "stream",
          "name": "stderr",
          "text": [
            "[Parallel(n_jobs=-2)]: Using backend SequentialBackend with 1 concurrent workers.\n",
            "[Parallel(n_jobs=-2)]: Done 200 out of 200 | elapsed:    0.4s finished\n",
            "[Parallel(n_jobs=1)]: Using backend SequentialBackend with 1 concurrent workers.\n",
            "[Parallel(n_jobs=1)]: Done 200 out of 200 | elapsed:    0.0s finished\n",
            "[Parallel(n_jobs=1)]: Using backend SequentialBackend with 1 concurrent workers.\n",
            "[Parallel(n_jobs=1)]: Done 200 out of 200 | elapsed:    0.0s finished\n",
            "[Parallel(n_jobs=1)]: Using backend SequentialBackend with 1 concurrent workers.\n",
            "[Parallel(n_jobs=1)]: Done 200 out of 200 | elapsed:    0.0s finished\n",
            "[Parallel(n_jobs=1)]: Using backend SequentialBackend with 1 concurrent workers.\n",
            "[Parallel(n_jobs=1)]: Done 200 out of 200 | elapsed:    0.0s finished\n",
            "[Parallel(n_jobs=1)]: Using backend SequentialBackend with 1 concurrent workers.\n",
            "[Parallel(n_jobs=1)]: Done 200 out of 200 | elapsed:    0.0s finished\n"
          ]
        },
        {
          "output_type": "stream",
          "name": "stdout",
          "text": [
            "Model Number: 598 with model DatepartRegression in generation 4 of 10\n",
            "Model Number: 599 with model ConstantNaive in generation 4 of 10\n",
            "Model Number: 600 with model SeasonalNaive in generation 4 of 10\n",
            "Model Number: 601 with model AverageValueNaive in generation 4 of 10\n"
          ]
        },
        {
          "output_type": "stream",
          "name": "stderr",
          "text": [
            "/usr/local/lib/python3.7/dist-packages/sklearn/neural_network/_multilayer_perceptron.py:549: ConvergenceWarning:\n",
            "\n",
            "lbfgs failed to converge (status=1):\n",
            "STOP: TOTAL NO. of ITERATIONS REACHED LIMIT.\n",
            "\n",
            "Increase the number of iterations (max_iter) or scale the data as shown in:\n",
            "    https://scikit-learn.org/stable/modules/preprocessing.html\n",
            "\n"
          ]
        },
        {
          "output_type": "stream",
          "name": "stdout",
          "text": [
            "Model Number: 602 with model GLS in generation 4 of 10\n",
            "Model Number: 603 with model MultivariateRegression in generation 4 of 10\n",
            "Template Eval Error: ValueError(\"regression_type='User' but not future_regressor supplied.\") in model 603: MultivariateRegression\n",
            "Model Number: 604 with model ETS in generation 4 of 10\n",
            "ETS error ValueError('Can only dampen the trend component')\n",
            "ETS failed on Close Price with ValueError('Can only dampen the trend component')\n",
            "Model Number: 605 with model GLM in generation 4 of 10\n",
            "Model Number: 606 with model ARIMA in generation 4 of 10\n"
          ]
        },
        {
          "output_type": "stream",
          "name": "stderr",
          "text": [
            "/usr/local/lib/python3.7/dist-packages/statsmodels/genmod/families/family.py:1227: RuntimeWarning:\n",
            "\n",
            "divide by zero encountered in true_divide\n",
            "\n"
          ]
        },
        {
          "output_type": "stream",
          "name": "stdout",
          "text": [
            "Model Number: 607 with model GLM in generation 4 of 10\n",
            "Model Number: 608 with model GLS in generation 4 of 10\n",
            "Model Number: 609 with model ConstantNaive in generation 4 of 10\n",
            "Model Number: 610 with model AverageValueNaive in generation 4 of 10\n",
            "Model Number: 611 with model UnivariateMotif in generation 4 of 10\n",
            "Model Number: 612 with model ETS in generation 4 of 10\n",
            "ETS error ValueError('endog must be strictly positive when usingmultiplicative trend or seasonal components.')\n",
            "ETS failed on Close Price with ValueError('endog must be strictly positive when usingmultiplicative trend or seasonal components.')\n",
            "Model Number: 613 with model ARIMA in generation 4 of 10\n",
            "Model Number: 614 with model LastValueNaive in generation 4 of 10\n",
            "Model Number: 615 with model UnivariateMotif in generation 4 of 10\n",
            "Model Number: 616 with model Theta in generation 4 of 10\n",
            "Model Number: 617 with model GLM in generation 4 of 10\n",
            "Model Number: 618 with model ARIMA in generation 4 of 10\n"
          ]
        },
        {
          "output_type": "stream",
          "name": "stderr",
          "text": [
            "/usr/local/lib/python3.7/dist-packages/autots/tools/thresholding.py:713: RuntimeWarning:\n",
            "\n",
            "overflow encountered in double_scalars\n",
            "\n"
          ]
        },
        {
          "output_type": "stream",
          "name": "stdout",
          "text": [
            "Model Number: 619 with model GLM in generation 4 of 10\n",
            "Model Number: 620 with model ARIMA in generation 4 of 10\n",
            "Model Number: 621 with model ETS in generation 4 of 10\n",
            "Model Number: 622 with model DatepartRegression in generation 4 of 10\n",
            "Template Eval Error: ValueError(\"regression_type='User' but no future_regressor passed\") in model 622: DatepartRegression\n",
            "Model Number: 623 with model ARIMA in generation 4 of 10\n",
            "Model Number: 624 with model AverageValueNaive in generation 4 of 10\n",
            "Model Number: 625 with model MultivariateRegression in generation 4 of 10\n",
            "Model Number: 626 with model DatepartRegression in generation 4 of 10\n",
            "Template Eval Error: ValueError(\"regression_type='User' but no future_regressor passed\") in model 626: DatepartRegression\n",
            "Model Number: 627 with model LastValueNaive in generation 4 of 10\n"
          ]
        },
        {
          "output_type": "stream",
          "name": "stderr",
          "text": [
            "/usr/local/lib/python3.7/dist-packages/sklearn/svm/_base.py:1208: ConvergenceWarning:\n",
            "\n",
            "Liblinear failed to converge, increase the number of iterations.\n",
            "\n"
          ]
        },
        {
          "output_type": "stream",
          "name": "stdout",
          "text": [
            "Model Number: 628 with model SeasonalNaive in generation 4 of 10\n",
            "Model Number: 629 with model AverageValueNaive in generation 4 of 10\n",
            "Model Number: 630 with model Theta in generation 4 of 10\n",
            "Model Number: 631 with model FBProphet in generation 4 of 10\n"
          ]
        },
        {
          "output_type": "stream",
          "name": "stderr",
          "text": [
            "INFO:prophet:Disabling yearly seasonality. Run prophet with yearly_seasonality=True to override this.\n",
            "INFO:prophet:Disabling daily seasonality. Run prophet with daily_seasonality=True to override this.\n",
            "DEBUG:cmdstanpy:input tempfile: /tmp/tmpjl9_res0/195946fs.json\n",
            "DEBUG:cmdstanpy:input tempfile: /tmp/tmpjl9_res0/xm73bd3l.json\n",
            "DEBUG:cmdstanpy:idx 0\n",
            "DEBUG:cmdstanpy:running CmdStan, num_threads: None\n",
            "DEBUG:cmdstanpy:CmdStan args: ['/usr/local/lib/python3.7/dist-packages/prophet/stan_model/prophet_model.bin', 'random', 'seed=94318', 'data', 'file=/tmp/tmpjl9_res0/195946fs.json', 'init=/tmp/tmpjl9_res0/xm73bd3l.json', 'output', 'file=/tmp/tmp8h5mywxq/prophet_model-20220831112232.csv', 'method=optimize', 'algorithm=lbfgs', 'iter=10000']\n",
            "11:22:32 - cmdstanpy - INFO - Chain [1] start processing\n",
            "INFO:cmdstanpy:Chain [1] start processing\n",
            "11:22:32 - cmdstanpy - INFO - Chain [1] done processing\n",
            "INFO:cmdstanpy:Chain [1] done processing\n"
          ]
        },
        {
          "output_type": "stream",
          "name": "stdout",
          "text": [
            "Model Number: 632 with model UnivariateRegression in generation 4 of 10\n",
            "Template Eval Error: Exception('Transformer Cointegration failed on fit') in model 632: UnivariateRegression\n",
            "Model Number: 633 with model ETS in generation 4 of 10\n",
            "Model Number: 634 with model GLM in generation 4 of 10\n",
            "Model Number: 635 with model ARIMA in generation 4 of 10\n",
            "Model Number: 636 with model LastValueNaive in generation 4 of 10\n",
            "Model Number: 637 with model LastValueNaive in generation 4 of 10\n",
            "Model Number: 638 with model Theta in generation 4 of 10\n",
            "Model Number: 639 with model FBProphet in generation 4 of 10\n"
          ]
        },
        {
          "output_type": "stream",
          "name": "stderr",
          "text": [
            "INFO:prophet:Disabling yearly seasonality. Run prophet with yearly_seasonality=True to override this.\n",
            "INFO:prophet:Disabling daily seasonality. Run prophet with daily_seasonality=True to override this.\n",
            "DEBUG:cmdstanpy:input tempfile: /tmp/tmpjl9_res0/uy0xjeku.json\n",
            "DEBUG:cmdstanpy:input tempfile: /tmp/tmpjl9_res0/wujg4m99.json\n",
            "DEBUG:cmdstanpy:idx 0\n",
            "DEBUG:cmdstanpy:running CmdStan, num_threads: None\n",
            "DEBUG:cmdstanpy:CmdStan args: ['/usr/local/lib/python3.7/dist-packages/prophet/stan_model/prophet_model.bin', 'random', 'seed=85788', 'data', 'file=/tmp/tmpjl9_res0/uy0xjeku.json', 'init=/tmp/tmpjl9_res0/wujg4m99.json', 'output', 'file=/tmp/tmp0l1du722/prophet_model-20220831112239.csv', 'method=optimize', 'algorithm=lbfgs', 'iter=10000']\n",
            "11:22:39 - cmdstanpy - INFO - Chain [1] start processing\n",
            "INFO:cmdstanpy:Chain [1] start processing\n",
            "11:22:39 - cmdstanpy - INFO - Chain [1] done processing\n",
            "INFO:cmdstanpy:Chain [1] done processing\n"
          ]
        },
        {
          "output_type": "stream",
          "name": "stdout",
          "text": [
            "Model Number: 640 with model UnobservedComponents in generation 4 of 10\n",
            "Model Number: 641 with model UnivariateRegression in generation 4 of 10\n",
            "Model Number: 642 with model GLS in generation 4 of 10\n",
            "Model Number: 643 with model MultivariateRegression in generation 4 of 10\n",
            "Model Number: 644 with model ETS in generation 4 of 10\n",
            "Model Number: 645 with model GLM in generation 4 of 10\n",
            "Model Number: 646 with model SeasonalNaive in generation 4 of 10\n",
            "Model Number: 647 with model MultivariateRegression in generation 4 of 10\n"
          ]
        },
        {
          "output_type": "stream",
          "name": "stderr",
          "text": [
            "[Parallel(n_jobs=-2)]: Using backend SequentialBackend with 1 concurrent workers.\n",
            "[Parallel(n_jobs=-2)]: Done 200 out of 200 | elapsed:    0.6s finished\n",
            "[Parallel(n_jobs=1)]: Using backend SequentialBackend with 1 concurrent workers.\n",
            "[Parallel(n_jobs=1)]: Done 200 out of 200 | elapsed:    0.0s finished\n",
            "[Parallel(n_jobs=1)]: Using backend SequentialBackend with 1 concurrent workers.\n",
            "[Parallel(n_jobs=1)]: Done 200 out of 200 | elapsed:    0.0s finished\n",
            "[Parallel(n_jobs=1)]: Using backend SequentialBackend with 1 concurrent workers.\n",
            "[Parallel(n_jobs=1)]: Done 200 out of 200 | elapsed:    0.0s finished\n",
            "[Parallel(n_jobs=1)]: Using backend SequentialBackend with 1 concurrent workers.\n",
            "[Parallel(n_jobs=1)]: Done 200 out of 200 | elapsed:    0.0s finished\n",
            "[Parallel(n_jobs=1)]: Using backend SequentialBackend with 1 concurrent workers.\n",
            "[Parallel(n_jobs=1)]: Done 200 out of 200 | elapsed:    0.0s finished\n",
            "[Parallel(n_jobs=-2)]: Using backend SequentialBackend with 1 concurrent workers.\n"
          ]
        },
        {
          "output_type": "stream",
          "name": "stdout",
          "text": [
            "Model Number: 648 with model MultivariateRegression in generation 4 of 10\n"
          ]
        },
        {
          "output_type": "stream",
          "name": "stderr",
          "text": [
            "[Parallel(n_jobs=-2)]: Done 200 out of 200 | elapsed:    0.3s finished\n",
            "[Parallel(n_jobs=1)]: Using backend SequentialBackend with 1 concurrent workers.\n",
            "[Parallel(n_jobs=1)]: Done 200 out of 200 | elapsed:    0.0s finished\n",
            "[Parallel(n_jobs=1)]: Using backend SequentialBackend with 1 concurrent workers.\n",
            "[Parallel(n_jobs=1)]: Done 200 out of 200 | elapsed:    0.0s finished\n",
            "[Parallel(n_jobs=1)]: Using backend SequentialBackend with 1 concurrent workers.\n",
            "[Parallel(n_jobs=1)]: Done 200 out of 200 | elapsed:    0.0s finished\n",
            "[Parallel(n_jobs=1)]: Using backend SequentialBackend with 1 concurrent workers.\n",
            "[Parallel(n_jobs=1)]: Done 200 out of 200 | elapsed:    0.0s finished\n",
            "[Parallel(n_jobs=1)]: Using backend SequentialBackend with 1 concurrent workers.\n"
          ]
        },
        {
          "output_type": "stream",
          "name": "stdout",
          "text": [
            "Model Number: 649 with model SectionalMotif in generation 4 of 10\n"
          ]
        },
        {
          "output_type": "stream",
          "name": "stderr",
          "text": [
            "[Parallel(n_jobs=1)]: Done 200 out of 200 | elapsed:    0.0s finished\n",
            "[Parallel(n_jobs=-2)]: Using backend SequentialBackend with 1 concurrent workers.\n"
          ]
        },
        {
          "output_type": "stream",
          "name": "stdout",
          "text": [
            "Model Number: 650 with model MultivariateRegression in generation 4 of 10\n"
          ]
        },
        {
          "output_type": "stream",
          "name": "stderr",
          "text": [
            "[Parallel(n_jobs=-2)]: Done 200 out of 200 | elapsed:    0.3s finished\n",
            "[Parallel(n_jobs=1)]: Using backend SequentialBackend with 1 concurrent workers.\n",
            "[Parallel(n_jobs=1)]: Done 200 out of 200 | elapsed:    0.0s finished\n",
            "[Parallel(n_jobs=1)]: Using backend SequentialBackend with 1 concurrent workers.\n",
            "[Parallel(n_jobs=1)]: Done 200 out of 200 | elapsed:    0.0s finished\n",
            "[Parallel(n_jobs=1)]: Using backend SequentialBackend with 1 concurrent workers.\n",
            "[Parallel(n_jobs=1)]: Done 200 out of 200 | elapsed:    0.0s finished\n",
            "[Parallel(n_jobs=1)]: Using backend SequentialBackend with 1 concurrent workers.\n",
            "[Parallel(n_jobs=1)]: Done 200 out of 200 | elapsed:    0.0s finished\n",
            "[Parallel(n_jobs=1)]: Using backend SequentialBackend with 1 concurrent workers.\n"
          ]
        },
        {
          "output_type": "stream",
          "name": "stdout",
          "text": [
            "Model Number: 651 with model ARIMA in generation 4 of 10\n",
            "Template Eval Error: ValueError(\"regression_type='User' but future_regressor not supplied\") in model 651: ARIMA\n",
            "Model Number: 652 with model NVAR in generation 4 of 10\n",
            "Model Number: 653 with model GLM in generation 4 of 10\n"
          ]
        },
        {
          "output_type": "stream",
          "name": "stderr",
          "text": [
            "[Parallel(n_jobs=1)]: Done 200 out of 200 | elapsed:    0.0s finished\n"
          ]
        },
        {
          "output_type": "stream",
          "name": "stdout",
          "text": [
            "Model Number: 654 with model Theta in generation 4 of 10\n",
            "Model Number: 655 with model UnivariateMotif in generation 4 of 10\n",
            "Model Number: 656 with model LastValueNaive in generation 4 of 10\n",
            "Model Number: 657 with model ETS in generation 4 of 10\n",
            "Model Number: 658 with model AverageValueNaive in generation 4 of 10\n",
            "Model Number: 659 with model UnivariateMotif in generation 4 of 10\n",
            "Model Number: 660 with model UnivariateMotif in generation 4 of 10\n",
            "Model Number: 661 with model MultivariateRegression in generation 4 of 10\n"
          ]
        },
        {
          "output_type": "stream",
          "name": "stderr",
          "text": [
            "[Parallel(n_jobs=-2)]: Using backend SequentialBackend with 1 concurrent workers.\n",
            "[Parallel(n_jobs=-2)]: Done 200 out of 200 | elapsed:    0.3s finished\n",
            "[Parallel(n_jobs=1)]: Using backend SequentialBackend with 1 concurrent workers.\n",
            "[Parallel(n_jobs=1)]: Done 200 out of 200 | elapsed:    0.0s finished\n",
            "[Parallel(n_jobs=1)]: Using backend SequentialBackend with 1 concurrent workers.\n",
            "[Parallel(n_jobs=1)]: Done 200 out of 200 | elapsed:    0.0s finished\n",
            "[Parallel(n_jobs=1)]: Using backend SequentialBackend with 1 concurrent workers.\n",
            "[Parallel(n_jobs=1)]: Done 200 out of 200 | elapsed:    0.0s finished\n",
            "[Parallel(n_jobs=1)]: Using backend SequentialBackend with 1 concurrent workers.\n",
            "[Parallel(n_jobs=1)]: Done 200 out of 200 | elapsed:    0.0s finished\n",
            "[Parallel(n_jobs=1)]: Using backend SequentialBackend with 1 concurrent workers.\n",
            "[Parallel(n_jobs=1)]: Done 200 out of 200 | elapsed:    0.0s finished\n"
          ]
        },
        {
          "output_type": "stream",
          "name": "stdout",
          "text": [
            "Model Number: 662 with model UnobservedComponents in generation 4 of 10\n",
            "Model Number: 663 with model UnobservedComponents in generation 4 of 10\n",
            "New Generation: 5 of 10\n",
            "Model Number: 664 with model LastValueNaive in generation 5 of 10\n",
            "Model Number: 665 with model UnivariateRegression in generation 5 of 10\n",
            "Template Eval Error: ValueError(\"regression_type='User' but not future_regressor supplied.\") in model 665: UnivariateRegression\n",
            "Model Number: 666 with model ARIMA in generation 5 of 10\n",
            "Template Eval Error: ValueError(\"regression_type='User' but future_regressor not supplied\") in model 666: ARIMA\n",
            "Model Number: 667 with model ETS in generation 5 of 10\n"
          ]
        },
        {
          "output_type": "stream",
          "name": "stderr",
          "text": [
            "INFO:prophet:Disabling yearly seasonality. Run prophet with yearly_seasonality=True to override this.\n",
            "INFO:prophet:Disabling daily seasonality. Run prophet with daily_seasonality=True to override this.\n"
          ]
        },
        {
          "output_type": "stream",
          "name": "stdout",
          "text": [
            "Model Number: 668 with model FBProphet in generation 5 of 10\n"
          ]
        },
        {
          "output_type": "stream",
          "name": "stderr",
          "text": [
            "DEBUG:cmdstanpy:input tempfile: /tmp/tmpjl9_res0/dhhbb1ad.json\n",
            "DEBUG:cmdstanpy:input tempfile: /tmp/tmpjl9_res0/53x_ph1z.json\n",
            "DEBUG:cmdstanpy:idx 0\n",
            "DEBUG:cmdstanpy:running CmdStan, num_threads: None\n",
            "DEBUG:cmdstanpy:CmdStan args: ['/usr/local/lib/python3.7/dist-packages/prophet/stan_model/prophet_model.bin', 'random', 'seed=60063', 'data', 'file=/tmp/tmpjl9_res0/dhhbb1ad.json', 'init=/tmp/tmpjl9_res0/53x_ph1z.json', 'output', 'file=/tmp/tmpdpmgvbs5/prophet_model-20220831112247.csv', 'method=optimize', 'algorithm=lbfgs', 'iter=10000']\n",
            "11:22:47 - cmdstanpy - INFO - Chain [1] start processing\n",
            "INFO:cmdstanpy:Chain [1] start processing\n",
            "11:22:47 - cmdstanpy - INFO - Chain [1] done processing\n",
            "INFO:cmdstanpy:Chain [1] done processing\n"
          ]
        },
        {
          "output_type": "stream",
          "name": "stdout",
          "text": [
            "Model Number: 669 with model AverageValueNaive in generation 5 of 10\n",
            "Model Number: 670 with model Theta in generation 5 of 10\n",
            "Model Number: 671 with model UnobservedComponents in generation 5 of 10\n",
            "Model Number: 672 with model AverageValueNaive in generation 5 of 10\n",
            "Model Number: 673 with model ETS in generation 5 of 10\n",
            "Model Number: 674 with model ConstantNaive in generation 5 of 10\n",
            "Template Eval Error: Exception('Transformer QuantileTransformer failed on fit') in model 674: ConstantNaive\n",
            "Model Number: 675 with model LastValueNaive in generation 5 of 10\n",
            "Model Number: 676 with model MultivariateRegression in generation 5 of 10\n"
          ]
        },
        {
          "output_type": "stream",
          "name": "stderr",
          "text": [
            "/usr/local/lib/python3.7/dist-packages/sklearn/utils/validation.py:1692: FutureWarning:\n",
            "\n",
            "Feature names only support names that are all strings. Got feature names with dtypes: ['Timestamp', 'str']. An error will be raised in 1.2.\n",
            "\n",
            "/usr/local/lib/python3.7/dist-packages/numpy/lib/nanfunctions.py:1376: RuntimeWarning:\n",
            "\n",
            "All-NaN slice encountered\n",
            "\n",
            "/usr/local/lib/python3.7/dist-packages/sklearn/utils/validation.py:1692: FutureWarning:\n",
            "\n",
            "Feature names only support names that are all strings. Got feature names with dtypes: ['Timestamp', 'str']. An error will be raised in 1.2.\n",
            "\n"
          ]
        },
        {
          "output_type": "stream",
          "name": "stdout",
          "text": [
            "Model Number: 677 with model UnivariateMotif in generation 5 of 10\n",
            "Model Number: 678 with model UnivariateMotif in generation 5 of 10\n",
            "Model Number: 679 with model UnobservedComponents in generation 5 of 10\n",
            "Model Number: 680 with model Theta in generation 5 of 10\n",
            "No anomalies detected.\n",
            "Model Number: 681 with model Theta in generation 5 of 10\n",
            "Model Number: 682 with model SeasonalNaive in generation 5 of 10\n",
            "Model Number: 683 with model DatepartRegression in generation 5 of 10\n",
            "Template Eval Error: ValueError(\"regression_type='User' but no future_regressor passed\") in model 683: DatepartRegression\n",
            "Model Number: 684 with model WindowRegression in generation 5 of 10\n"
          ]
        },
        {
          "output_type": "stream",
          "name": "stderr",
          "text": [
            "/usr/local/lib/python3.7/dist-packages/sklearn/neural_network/_multilayer_perceptron.py:549: ConvergenceWarning:\n",
            "\n",
            "lbfgs failed to converge (status=1):\n",
            "STOP: TOTAL NO. of ITERATIONS REACHED LIMIT.\n",
            "\n",
            "Increase the number of iterations (max_iter) or scale the data as shown in:\n",
            "    https://scikit-learn.org/stable/modules/preprocessing.html\n",
            "\n",
            "/usr/local/lib/python3.7/dist-packages/sklearn/preprocessing/_data.py:3253: RuntimeWarning:\n",
            "\n",
            "Degrees of freedom <= 0 for slice\n",
            "\n",
            "/usr/local/lib/python3.7/dist-packages/sklearn/utils/extmath.py:985: RuntimeWarning:\n",
            "\n",
            "invalid value encountered in true_divide\n",
            "\n",
            "/usr/local/lib/python3.7/dist-packages/sklearn/utils/extmath.py:990: RuntimeWarning:\n",
            "\n",
            "invalid value encountered in true_divide\n",
            "\n",
            "/usr/local/lib/python3.7/dist-packages/sklearn/utils/extmath.py:1020: RuntimeWarning:\n",
            "\n",
            "invalid value encountered in true_divide\n",
            "\n",
            "/usr/local/lib/python3.7/dist-packages/sklearn/utils/extmath.py:985: RuntimeWarning:\n",
            "\n",
            "invalid value encountered in true_divide\n",
            "\n",
            "/usr/local/lib/python3.7/dist-packages/sklearn/utils/extmath.py:990: RuntimeWarning:\n",
            "\n",
            "invalid value encountered in true_divide\n",
            "\n",
            "/usr/local/lib/python3.7/dist-packages/sklearn/utils/extmath.py:1020: RuntimeWarning:\n",
            "\n",
            "invalid value encountered in true_divide\n",
            "\n",
            "/usr/local/lib/python3.7/dist-packages/autots/tools/percentile.py:47: RuntimeWarning:\n",
            "\n",
            "All-NaN slice encountered\n",
            "\n"
          ]
        },
        {
          "output_type": "stream",
          "name": "stdout",
          "text": [
            "Model Number: 685 with model MultivariateMotif in generation 5 of 10\n",
            "Template Eval Error: ValueError('Model MultivariateMotif returned NaN for one or more series. fail_on_forecast_nan=True') in model 685: MultivariateMotif\n",
            "Model Number: 686 with model Theta in generation 5 of 10\n",
            "Model Number: 687 with model UnobservedComponents in generation 5 of 10\n",
            "Model Number: 688 with model DatepartRegression in generation 5 of 10\n"
          ]
        },
        {
          "output_type": "stream",
          "name": "stderr",
          "text": [
            "/usr/local/lib/python3.7/dist-packages/sklearn/neural_network/_multilayer_perceptron.py:549: ConvergenceWarning:\n",
            "\n",
            "lbfgs failed to converge (status=1):\n",
            "STOP: TOTAL NO. of ITERATIONS REACHED LIMIT.\n",
            "\n",
            "Increase the number of iterations (max_iter) or scale the data as shown in:\n",
            "    https://scikit-learn.org/stable/modules/preprocessing.html\n",
            "\n"
          ]
        },
        {
          "output_type": "stream",
          "name": "stdout",
          "text": [
            "Model Number: 689 with model Theta in generation 5 of 10\n",
            "Model Number: 690 with model UnobservedComponents in generation 5 of 10\n",
            "Model Number: 691 with model SeasonalNaive in generation 5 of 10\n",
            "Model Number: 692 with model WindowRegression in generation 5 of 10\n",
            "Template Eval Error: ValueError(\"regression_type='User' but no future_regressor passed\") in model 692: WindowRegression\n",
            "Model Number: 693 with model GLM in generation 5 of 10\n",
            "Model Number: 694 with model WindowRegression in generation 5 of 10\n",
            "Model Number: 695 with model UnivariateRegression in generation 5 of 10\n"
          ]
        },
        {
          "output_type": "stream",
          "name": "stderr",
          "text": [
            "/usr/local/lib/python3.7/dist-packages/sklearn/neural_network/_multilayer_perceptron.py:549: ConvergenceWarning:\n",
            "\n",
            "lbfgs failed to converge (status=1):\n",
            "STOP: TOTAL NO. of ITERATIONS REACHED LIMIT.\n",
            "\n",
            "Increase the number of iterations (max_iter) or scale the data as shown in:\n",
            "    https://scikit-learn.org/stable/modules/preprocessing.html\n",
            "\n"
          ]
        },
        {
          "output_type": "stream",
          "name": "stdout",
          "text": [
            "Model Number: 696 with model Theta in generation 5 of 10\n",
            "Model Number: 697 with model MultivariateRegression in generation 5 of 10\n"
          ]
        },
        {
          "output_type": "stream",
          "name": "stderr",
          "text": [
            "[Parallel(n_jobs=-2)]: Using backend SequentialBackend with 1 concurrent workers.\n",
            "[Parallel(n_jobs=-2)]: Done 200 out of 200 | elapsed:    0.3s finished\n",
            "[Parallel(n_jobs=1)]: Using backend SequentialBackend with 1 concurrent workers.\n",
            "[Parallel(n_jobs=1)]: Done 200 out of 200 | elapsed:    0.0s finished\n",
            "[Parallel(n_jobs=1)]: Using backend SequentialBackend with 1 concurrent workers.\n",
            "[Parallel(n_jobs=1)]: Done 200 out of 200 | elapsed:    0.0s finished\n",
            "[Parallel(n_jobs=1)]: Using backend SequentialBackend with 1 concurrent workers.\n",
            "[Parallel(n_jobs=1)]: Done 200 out of 200 | elapsed:    0.0s finished\n",
            "[Parallel(n_jobs=1)]: Using backend SequentialBackend with 1 concurrent workers.\n",
            "[Parallel(n_jobs=1)]: Done 200 out of 200 | elapsed:    0.0s finished\n",
            "[Parallel(n_jobs=1)]: Using backend SequentialBackend with 1 concurrent workers.\n",
            "[Parallel(n_jobs=1)]: Done 200 out of 200 | elapsed:    0.0s finished\n"
          ]
        },
        {
          "output_type": "stream",
          "name": "stdout",
          "text": [
            "Model Number: 698 with model ARIMA in generation 5 of 10\n",
            "Model Number: 699 with model SeasonalNaive in generation 5 of 10\n",
            "Model Number: 700 with model UnivariateMotif in generation 5 of 10\n",
            "Model Number: 701 with model GLM in generation 5 of 10\n",
            "Template Eval Error: ValueError('regression_type=user and no future_regressor passed') in model 701: GLM\n",
            "Model Number: 702 with model SeasonalNaive in generation 5 of 10\n",
            "Model Number: 703 with model UnobservedComponents in generation 5 of 10\n",
            "Model Number: 704 with model ETS in generation 5 of 10\n",
            "ETS error ValueError('Can only dampen the trend component')\n",
            "ETS failed on Close Price with ValueError('Can only dampen the trend component')\n",
            "Model Number: 705 with model NVAR in generation 5 of 10\n",
            "Template Eval Error: LinAlgError('SVD did not converge') in model 705: NVAR\n",
            "Model Number: 706 with model UnivariateMotif in generation 5 of 10\n",
            "Model Number: 707 with model GLS in generation 5 of 10\n",
            "Model Number: 708 with model GLM in generation 5 of 10\n",
            "Model Number: 709 with model ARIMA in generation 5 of 10\n",
            "Model Number: 710 with model MultivariateRegression in generation 5 of 10\n"
          ]
        },
        {
          "output_type": "stream",
          "name": "stderr",
          "text": [
            "[Parallel(n_jobs=-2)]: Using backend SequentialBackend with 1 concurrent workers.\n",
            "[Parallel(n_jobs=-2)]: Done 200 out of 200 | elapsed:    0.4s finished\n",
            "[Parallel(n_jobs=1)]: Using backend SequentialBackend with 1 concurrent workers.\n",
            "[Parallel(n_jobs=1)]: Done 200 out of 200 | elapsed:    0.0s finished\n",
            "[Parallel(n_jobs=1)]: Using backend SequentialBackend with 1 concurrent workers.\n",
            "[Parallel(n_jobs=1)]: Done 200 out of 200 | elapsed:    0.0s finished\n",
            "[Parallel(n_jobs=1)]: Using backend SequentialBackend with 1 concurrent workers.\n",
            "[Parallel(n_jobs=1)]: Done 200 out of 200 | elapsed:    0.0s finished\n",
            "[Parallel(n_jobs=1)]: Using backend SequentialBackend with 1 concurrent workers.\n",
            "[Parallel(n_jobs=1)]: Done 200 out of 200 | elapsed:    0.0s finished\n",
            "[Parallel(n_jobs=1)]: Using backend SequentialBackend with 1 concurrent workers.\n",
            "[Parallel(n_jobs=1)]: Done 200 out of 200 | elapsed:    0.0s finished\n",
            "[Parallel(n_jobs=-2)]: Using backend SequentialBackend with 1 concurrent workers.\n"
          ]
        },
        {
          "output_type": "stream",
          "name": "stdout",
          "text": [
            "Model Number: 711 with model MultivariateRegression in generation 5 of 10\n"
          ]
        },
        {
          "output_type": "stream",
          "name": "stderr",
          "text": [
            "[Parallel(n_jobs=-2)]: Done 200 out of 200 | elapsed:    0.3s finished\n",
            "[Parallel(n_jobs=1)]: Using backend SequentialBackend with 1 concurrent workers.\n",
            "[Parallel(n_jobs=1)]: Done 200 out of 200 | elapsed:    0.0s finished\n",
            "[Parallel(n_jobs=1)]: Using backend SequentialBackend with 1 concurrent workers.\n",
            "[Parallel(n_jobs=1)]: Done 200 out of 200 | elapsed:    0.0s finished\n",
            "[Parallel(n_jobs=1)]: Using backend SequentialBackend with 1 concurrent workers.\n",
            "[Parallel(n_jobs=1)]: Done 200 out of 200 | elapsed:    0.0s finished\n",
            "[Parallel(n_jobs=1)]: Using backend SequentialBackend with 1 concurrent workers.\n",
            "[Parallel(n_jobs=1)]: Done 200 out of 200 | elapsed:    0.0s finished\n"
          ]
        },
        {
          "output_type": "stream",
          "name": "stdout",
          "text": [
            "Model Number: 712 with model SeasonalNaive in generation 5 of 10\n",
            "Model Number: 713 with model UnivariateMotif in generation 5 of 10\n"
          ]
        },
        {
          "output_type": "stream",
          "name": "stderr",
          "text": [
            "[Parallel(n_jobs=1)]: Using backend SequentialBackend with 1 concurrent workers.\n",
            "[Parallel(n_jobs=1)]: Done 200 out of 200 | elapsed:    0.0s finished\n"
          ]
        },
        {
          "output_type": "stream",
          "name": "stdout",
          "text": [
            "Model Number: 714 with model NVAR in generation 5 of 10\n",
            "Model Number: 715 with model ETS in generation 5 of 10\n",
            "ETS error ValueError('endog must be strictly positive when usingmultiplicative trend or seasonal components.')\n",
            "ETS failed on 0 with ValueError('endog must be strictly positive when usingmultiplicative trend or seasonal components.')\n",
            "Model Number: 716 with model GLS in generation 5 of 10\n",
            "Model Number: 717 with model AverageValueNaive in generation 5 of 10\n",
            "Model Number: 718 with model LastValueNaive in generation 5 of 10\n",
            "Model Number: 719 with model NVAR in generation 5 of 10\n",
            "Model Number: 720 with model AverageValueNaive in generation 5 of 10\n",
            "Model Number: 721 with model SeasonalNaive in generation 5 of 10\n",
            "Model Number: 722 with model UnivariateRegression in generation 5 of 10\n",
            "Model Number: 723 with model MultivariateRegression in generation 5 of 10\n"
          ]
        },
        {
          "output_type": "stream",
          "name": "stderr",
          "text": [
            "[Parallel(n_jobs=-2)]: Using backend SequentialBackend with 1 concurrent workers.\n",
            "[Parallel(n_jobs=-2)]: Done 200 out of 200 | elapsed:    0.4s finished\n",
            "[Parallel(n_jobs=1)]: Using backend SequentialBackend with 1 concurrent workers.\n",
            "[Parallel(n_jobs=1)]: Done 200 out of 200 | elapsed:    0.0s finished\n",
            "[Parallel(n_jobs=1)]: Using backend SequentialBackend with 1 concurrent workers.\n",
            "[Parallel(n_jobs=1)]: Done 200 out of 200 | elapsed:    0.0s finished\n",
            "[Parallel(n_jobs=1)]: Using backend SequentialBackend with 1 concurrent workers.\n",
            "[Parallel(n_jobs=1)]: Done 200 out of 200 | elapsed:    0.0s finished\n",
            "[Parallel(n_jobs=1)]: Using backend SequentialBackend with 1 concurrent workers.\n",
            "[Parallel(n_jobs=1)]: Done 200 out of 200 | elapsed:    0.0s finished\n",
            "[Parallel(n_jobs=1)]: Using backend SequentialBackend with 1 concurrent workers.\n",
            "[Parallel(n_jobs=1)]: Done 200 out of 200 | elapsed:    0.0s finished\n"
          ]
        },
        {
          "output_type": "stream",
          "name": "stdout",
          "text": [
            "Model Number: 724 with model MultivariateMotif in generation 5 of 10\n",
            "No anomalies detected.\n",
            "Template Eval Error: Exception('Transformer HolidayTransformer failed on fit') in model 724: MultivariateMotif\n",
            "Model Number: 725 with model GLS in generation 5 of 10\n",
            "Model Number: 726 with model AverageValueNaive in generation 5 of 10\n",
            "Model Number: 727 with model UnivariateRegression in generation 5 of 10\n",
            "Model Number: 728 with model LastValueNaive in generation 5 of 10\n",
            "Model Number: 729 with model AverageValueNaive in generation 5 of 10\n",
            "Model Number: 730 with model Theta in generation 5 of 10\n",
            "Model Number: 731 with model UnobservedComponents in generation 5 of 10\n",
            "Model Number: 732 with model Theta in generation 5 of 10\n",
            "Model Number: 733 with model SeasonalNaive in generation 5 of 10\n",
            "Model Number: 734 with model MultivariateMotif in generation 5 of 10\n",
            "Model Number: 735 with model ARIMA in generation 5 of 10\n",
            "Model Number: 736 with model SectionalMotif in generation 5 of 10\n",
            "Model Number: 737 with model AverageValueNaive in generation 5 of 10\n",
            "Model Number: 738 with model UnivariateRegression in generation 5 of 10\n",
            "Model Number: 739 with model LastValueNaive in generation 5 of 10\n",
            "Template Eval Error: ValueError(\"Model returned NaN due to a preprocessing transformer {'fillna': 'rolling_mean_24', 'transformations': {'0': 'Round', '1': 'SeasonalDifference', '2': 'ScipyFilter', '3': 'MaxAbsScaler', '4': 'AlignLastValue'}, 'transformation_params': {'0': {'decimals': 2, 'on_transform': False, 'on_inverse': True}, '1': {'lag_1': 7, 'method': 'Median'}, '2': {'method': 'hilbert', 'method_args': None}, '3': {}, '4': {'rows': 1, 'lag': 1, 'method': 'multiplicative', 'strength': 0.7}}}. fail_on_forecast_nan=True\") in model 739: LastValueNaive\n",
            "Model Number: 740 with model MultivariateMotif in generation 5 of 10\n",
            "Model Number: 741 with model UnobservedComponents in generation 5 of 10\n",
            "Model Number: 742 with model ConstantNaive in generation 5 of 10\n",
            "Model Number: 743 with model ARIMA in generation 5 of 10\n",
            "Model Number: 744 with model ConstantNaive in generation 5 of 10\n",
            "Model Number: 745 with model GLS in generation 5 of 10\n",
            "Model Number: 746 with model UnivariateMotif in generation 5 of 10\n",
            "Model Number: 747 with model GLS in generation 5 of 10\n",
            "Model Number: 748 with model UnivariateRegression in generation 5 of 10\n",
            "Model Number: 749 with model GLM in generation 5 of 10\n",
            "Model Number: 750 with model LastValueNaive in generation 5 of 10\n",
            "Model Number: 751 with model ARIMA in generation 5 of 10\n",
            "Template Eval Error: Exception('Transformer BTCD failed on fit') in model 751: ARIMA\n",
            "Model Number: 752 with model NVAR in generation 5 of 10\n",
            "Model Number: 753 with model FBProphet in generation 5 of 10\n"
          ]
        },
        {
          "output_type": "stream",
          "name": "stderr",
          "text": [
            "INFO:prophet:Disabling yearly seasonality. Run prophet with yearly_seasonality=True to override this.\n",
            "INFO:prophet:Disabling daily seasonality. Run prophet with daily_seasonality=True to override this.\n",
            "DEBUG:cmdstanpy:input tempfile: /tmp/tmpjl9_res0/eo2lirao.json\n",
            "DEBUG:cmdstanpy:input tempfile: /tmp/tmpjl9_res0/nw2kbteg.json\n",
            "DEBUG:cmdstanpy:idx 0\n",
            "DEBUG:cmdstanpy:running CmdStan, num_threads: None\n",
            "DEBUG:cmdstanpy:CmdStan args: ['/usr/local/lib/python3.7/dist-packages/prophet/stan_model/prophet_model.bin', 'random', 'seed=32545', 'data', 'file=/tmp/tmpjl9_res0/eo2lirao.json', 'init=/tmp/tmpjl9_res0/nw2kbteg.json', 'output', 'file=/tmp/tmpur43dk6g/prophet_model-20220831112348.csv', 'method=optimize', 'algorithm=lbfgs', 'iter=10000']\n",
            "11:23:48 - cmdstanpy - INFO - Chain [1] start processing\n",
            "INFO:cmdstanpy:Chain [1] start processing\n",
            "11:23:48 - cmdstanpy - INFO - Chain [1] done processing\n",
            "INFO:cmdstanpy:Chain [1] done processing\n"
          ]
        },
        {
          "output_type": "stream",
          "name": "stdout",
          "text": [
            "Model Number: 754 with model AverageValueNaive in generation 5 of 10\n",
            "Model Number: 755 with model ETS in generation 5 of 10\n",
            "ETS error ValueError('endog must be strictly positive when usingmultiplicative trend or seasonal components.')\n",
            "ETS failed on Close Price with ValueError('endog must be strictly positive when usingmultiplicative trend or seasonal components.')\n",
            "Model Number: 756 with model UnivariateRegression in generation 5 of 10\n",
            "Model Number: 757 with model MultivariateMotif in generation 5 of 10\n",
            "Model Number: 758 with model LastValueNaive in generation 5 of 10\n",
            "Model Number: 759 with model UnobservedComponents in generation 5 of 10\n",
            "New Generation: 6 of 10\n"
          ]
        },
        {
          "output_type": "stream",
          "name": "stderr",
          "text": [
            "INFO:prophet:Disabling yearly seasonality. Run prophet with yearly_seasonality=True to override this.\n",
            "INFO:prophet:Disabling daily seasonality. Run prophet with daily_seasonality=True to override this.\n"
          ]
        },
        {
          "output_type": "stream",
          "name": "stdout",
          "text": [
            "Model Number: 760 with model DatepartRegression in generation 6 of 10\n",
            "Template Eval Error: ValueError(\"Input contains NaN, infinity or a value too large for dtype('float64').\") in model 760: DatepartRegression\n",
            "Model Number: 761 with model FBProphet in generation 6 of 10\n"
          ]
        },
        {
          "output_type": "stream",
          "name": "stderr",
          "text": [
            "DEBUG:cmdstanpy:input tempfile: /tmp/tmpjl9_res0/fah2io7l.json\n",
            "DEBUG:cmdstanpy:input tempfile: /tmp/tmpjl9_res0/6c1yod34.json\n",
            "DEBUG:cmdstanpy:idx 0\n",
            "DEBUG:cmdstanpy:running CmdStan, num_threads: None\n",
            "DEBUG:cmdstanpy:CmdStan args: ['/usr/local/lib/python3.7/dist-packages/prophet/stan_model/prophet_model.bin', 'random', 'seed=91923', 'data', 'file=/tmp/tmpjl9_res0/fah2io7l.json', 'init=/tmp/tmpjl9_res0/6c1yod34.json', 'output', 'file=/tmp/tmp7ngv5t8s/prophet_model-20220831112351.csv', 'method=optimize', 'algorithm=lbfgs', 'iter=10000']\n",
            "11:23:51 - cmdstanpy - INFO - Chain [1] start processing\n",
            "INFO:cmdstanpy:Chain [1] start processing\n",
            "11:23:51 - cmdstanpy - INFO - Chain [1] done processing\n",
            "INFO:cmdstanpy:Chain [1] done processing\n"
          ]
        },
        {
          "output_type": "stream",
          "name": "stdout",
          "text": [
            "Model Number: 762 with model AverageValueNaive in generation 6 of 10\n",
            "Model Number: 763 with model MultivariateRegression in generation 6 of 10\n",
            "Template Eval Error: Exception('Transformer BTCD failed on fit') in model 763: MultivariateRegression\n",
            "Model Number: 764 with model ARIMA in generation 6 of 10\n",
            "Model Number: 765 with model UnivariateRegression in generation 6 of 10\n",
            "Model Number: 766 with model Theta in generation 6 of 10\n",
            "Model Number: 767 with model ARIMA in generation 6 of 10\n",
            "Model Number: 768 with model ETS in generation 6 of 10\n",
            "Model Number: 769 with model NVAR in generation 6 of 10\n",
            "Model Number: 770 with model UnivariateRegression in generation 6 of 10\n",
            "Model Number: 771 with model GLS in generation 6 of 10\n",
            "Model Number: 772 with model SectionalMotif in generation 6 of 10\n",
            "Model Number: 773 with model WindowRegression in generation 6 of 10\n",
            "Model Number: 774 with model UnivariateRegression in generation 6 of 10\n",
            "Model Number: 775 with model GLS in generation 6 of 10\n",
            "Template Eval Error: Exception('Transformer Detrend failed on fit') in model 775: GLS\n",
            "Model Number: 776 with model LastValueNaive in generation 6 of 10\n",
            "No anomalies detected.\n",
            "Model Number: 777 with model UnivariateMotif in generation 6 of 10\n",
            "Model Number: 778 with model ConstantNaive in generation 6 of 10\n",
            "Model Number: 779 with model ConstantNaive in generation 6 of 10\n",
            "Model Number: 780 with model UnivariateMotif in generation 6 of 10\n",
            "Model Number: 781 with model Theta in generation 6 of 10\n",
            "Model Number: 782 with model AverageValueNaive in generation 6 of 10\n",
            "Model Number: 783 with model SectionalMotif in generation 6 of 10\n",
            "Model Number: 784 with model MultivariateMotif in generation 6 of 10\n",
            "Model Number: 785 with model DatepartRegression in generation 6 of 10\n",
            "Model Number: 786 with model MultivariateRegression in generation 6 of 10\n"
          ]
        },
        {
          "output_type": "stream",
          "name": "stderr",
          "text": [
            "[Parallel(n_jobs=-2)]: Using backend SequentialBackend with 1 concurrent workers.\n",
            "[Parallel(n_jobs=-2)]: Done 200 out of 200 | elapsed:    0.5s finished\n",
            "[Parallel(n_jobs=1)]: Using backend SequentialBackend with 1 concurrent workers.\n",
            "[Parallel(n_jobs=1)]: Done 200 out of 200 | elapsed:    0.0s finished\n",
            "[Parallel(n_jobs=1)]: Using backend SequentialBackend with 1 concurrent workers.\n",
            "[Parallel(n_jobs=1)]: Done 200 out of 200 | elapsed:    0.0s finished\n",
            "[Parallel(n_jobs=1)]: Using backend SequentialBackend with 1 concurrent workers.\n",
            "[Parallel(n_jobs=1)]: Done 200 out of 200 | elapsed:    0.0s finished\n",
            "[Parallel(n_jobs=1)]: Using backend SequentialBackend with 1 concurrent workers.\n",
            "[Parallel(n_jobs=1)]: Done 200 out of 200 | elapsed:    0.0s finished\n",
            "[Parallel(n_jobs=1)]: Using backend SequentialBackend with 1 concurrent workers.\n",
            "[Parallel(n_jobs=1)]: Done 200 out of 200 | elapsed:    0.0s finished\n"
          ]
        },
        {
          "output_type": "stream",
          "name": "stdout",
          "text": [
            "Model Number: 787 with model MultivariateMotif in generation 6 of 10\n",
            "Model Number: 788 with model MultivariateMotif in generation 6 of 10\n",
            "Model Number: 789 with model AverageValueNaive in generation 6 of 10\n",
            "Model Number: 790 with model Theta in generation 6 of 10\n",
            "Model Number: 791 with model SeasonalNaive in generation 6 of 10\n",
            "Template Eval Error: Exception('Transformer BTCD failed on fit') in model 791: SeasonalNaive\n",
            "Model Number: 792 with model GLM in generation 6 of 10\n",
            "Template Eval Error: ValueError('NaN, inf or invalid value detected in weights, estimation infeasible.') in model 792: GLM\n",
            "Model Number: 793 with model LastValueNaive in generation 6 of 10\n",
            "Model Number: 794 with model MultivariateMotif in generation 6 of 10\n",
            "Model Number: 795 with model SectionalMotif in generation 6 of 10\n",
            "Model Number: 796 with model Theta in generation 6 of 10\n"
          ]
        },
        {
          "output_type": "stream",
          "name": "stderr",
          "text": [
            "/usr/local/lib/python3.7/dist-packages/statsmodels/genmod/families/family.py:428: RuntimeWarning:\n",
            "\n",
            "divide by zero encountered in true_divide\n",
            "\n",
            "/usr/local/lib/python3.7/dist-packages/statsmodels/genmod/families/family.py:134: RuntimeWarning:\n",
            "\n",
            "divide by zero encountered in true_divide\n",
            "\n"
          ]
        },
        {
          "output_type": "stream",
          "name": "stdout",
          "text": [
            "Model Number: 797 with model UnivariateMotif in generation 6 of 10\n",
            "Model Number: 798 with model UnivariateRegression in generation 6 of 10\n",
            "Model Number: 799 with model UnivariateMotif in generation 6 of 10\n",
            "Model Number: 800 with model SeasonalNaive in generation 6 of 10\n",
            "Model Number: 801 with model UnobservedComponents in generation 6 of 10\n",
            "Model Number: 802 with model ETS in generation 6 of 10\n",
            "ETS error ValueError('endog must be strictly positive when usingmultiplicative trend or seasonal components.')\n",
            "ETS failed on Close Price with ValueError('endog must be strictly positive when usingmultiplicative trend or seasonal components.')\n",
            "Model Number: 803 with model ARIMA in generation 6 of 10\n",
            "Model Number: 804 with model ConstantNaive in generation 6 of 10\n",
            "Model Number: 805 with model LastValueNaive in generation 6 of 10\n",
            "Template Eval Error: Exception('Transformer Detrend failed on fit') in model 805: LastValueNaive\n",
            "Model Number: 806 with model ETS in generation 6 of 10\n",
            "Model Number: 807 with model ARIMA in generation 6 of 10\n",
            "Model Number: 808 with model MultivariateMotif in generation 6 of 10\n",
            "Model Number: 809 with model UnivariateMotif in generation 6 of 10\n",
            "Model Number: 810 with model UnobservedComponents in generation 6 of 10\n",
            "Model Number: 811 with model ARIMA in generation 6 of 10\n",
            "Model Number: 812 with model UnivariateRegression in generation 6 of 10\n",
            "Model Number: 813 with model ConstantNaive in generation 6 of 10\n",
            "Model Number: 814 with model UnivariateRegression in generation 6 of 10\n",
            "Template Eval Error: ValueError(\"Input contains NaN, infinity or a value too large for dtype('float64').\") in model 814: UnivariateRegression\n",
            "Model Number: 815 with model AverageValueNaive in generation 6 of 10\n",
            "Model Number: 816 with model UnivariateMotif in generation 6 of 10\n",
            "Model Number: 817 with model MultivariateRegression in generation 6 of 10\n"
          ]
        },
        {
          "output_type": "stream",
          "name": "stderr",
          "text": [
            "/usr/local/lib/python3.7/dist-packages/numpy/lib/function_base.py:2683: RuntimeWarning:\n",
            "\n",
            "Degrees of freedom <= 0 for slice\n",
            "\n",
            "/usr/local/lib/python3.7/dist-packages/numpy/lib/function_base.py:2683: RuntimeWarning:\n",
            "\n",
            "Degrees of freedom <= 0 for slice\n",
            "\n"
          ]
        },
        {
          "output_type": "stream",
          "name": "stdout",
          "text": [
            "Template Eval Error: ValueError(\"Input contains NaN, infinity or a value too large for dtype('float64').\") in model 817: MultivariateRegression\n",
            "Model Number: 818 with model MultivariateRegression in generation 6 of 10\n",
            "[LibLinear][LibLinear][LibLinear][LibLinear][LibLinear]"
          ]
        },
        {
          "output_type": "stream",
          "name": "stderr",
          "text": [
            "/usr/local/lib/python3.7/dist-packages/sklearn/svm/_base.py:1208: ConvergenceWarning:\n",
            "\n",
            "Liblinear failed to converge, increase the number of iterations.\n",
            "\n",
            "/usr/local/lib/python3.7/dist-packages/sklearn/svm/_base.py:1208: ConvergenceWarning:\n",
            "\n",
            "Liblinear failed to converge, increase the number of iterations.\n",
            "\n",
            "/usr/local/lib/python3.7/dist-packages/sklearn/svm/_base.py:1208: ConvergenceWarning:\n",
            "\n",
            "Liblinear failed to converge, increase the number of iterations.\n",
            "\n",
            "/usr/local/lib/python3.7/dist-packages/sklearn/svm/_base.py:1208: ConvergenceWarning:\n",
            "\n",
            "Liblinear failed to converge, increase the number of iterations.\n",
            "\n",
            "/usr/local/lib/python3.7/dist-packages/sklearn/svm/_base.py:1208: ConvergenceWarning:\n",
            "\n",
            "Liblinear failed to converge, increase the number of iterations.\n",
            "\n",
            "/usr/local/lib/python3.7/dist-packages/sklearn/svm/_base.py:1208: ConvergenceWarning:\n",
            "\n",
            "Liblinear failed to converge, increase the number of iterations.\n",
            "\n"
          ]
        },
        {
          "output_type": "stream",
          "name": "stdout",
          "text": [
            "[LibLinear][LibLinear][LibLinear][LibLinear][LibLinear][LibLinear][LibLinear]"
          ]
        },
        {
          "output_type": "stream",
          "name": "stderr",
          "text": [
            "/usr/local/lib/python3.7/dist-packages/sklearn/svm/_base.py:1208: ConvergenceWarning:\n",
            "\n",
            "Liblinear failed to converge, increase the number of iterations.\n",
            "\n",
            "/usr/local/lib/python3.7/dist-packages/sklearn/svm/_base.py:1208: ConvergenceWarning:\n",
            "\n",
            "Liblinear failed to converge, increase the number of iterations.\n",
            "\n",
            "/usr/local/lib/python3.7/dist-packages/sklearn/svm/_base.py:1208: ConvergenceWarning:\n",
            "\n",
            "Liblinear failed to converge, increase the number of iterations.\n",
            "\n",
            "/usr/local/lib/python3.7/dist-packages/sklearn/svm/_base.py:1208: ConvergenceWarning:\n",
            "\n",
            "Liblinear failed to converge, increase the number of iterations.\n",
            "\n",
            "/usr/local/lib/python3.7/dist-packages/sklearn/svm/_base.py:1208: ConvergenceWarning:\n",
            "\n",
            "Liblinear failed to converge, increase the number of iterations.\n",
            "\n",
            "/usr/local/lib/python3.7/dist-packages/sklearn/svm/_base.py:1208: ConvergenceWarning:\n",
            "\n",
            "Liblinear failed to converge, increase the number of iterations.\n",
            "\n",
            "/usr/local/lib/python3.7/dist-packages/sklearn/svm/_base.py:1208: ConvergenceWarning:\n",
            "\n",
            "Liblinear failed to converge, increase the number of iterations.\n",
            "\n"
          ]
        },
        {
          "output_type": "stream",
          "name": "stdout",
          "text": [
            "[LibLinear][LibLinear][LibLinear][LibLinear][LibLinear][LibLinear]"
          ]
        },
        {
          "output_type": "stream",
          "name": "stderr",
          "text": [
            "/usr/local/lib/python3.7/dist-packages/sklearn/svm/_base.py:1208: ConvergenceWarning:\n",
            "\n",
            "Liblinear failed to converge, increase the number of iterations.\n",
            "\n",
            "/usr/local/lib/python3.7/dist-packages/sklearn/svm/_base.py:1208: ConvergenceWarning:\n",
            "\n",
            "Liblinear failed to converge, increase the number of iterations.\n",
            "\n",
            "/usr/local/lib/python3.7/dist-packages/sklearn/svm/_base.py:1208: ConvergenceWarning:\n",
            "\n",
            "Liblinear failed to converge, increase the number of iterations.\n",
            "\n",
            "/usr/local/lib/python3.7/dist-packages/sklearn/svm/_base.py:1208: ConvergenceWarning:\n",
            "\n",
            "Liblinear failed to converge, increase the number of iterations.\n",
            "\n",
            "/usr/local/lib/python3.7/dist-packages/sklearn/svm/_base.py:1208: ConvergenceWarning:\n",
            "\n",
            "Liblinear failed to converge, increase the number of iterations.\n",
            "\n",
            "/usr/local/lib/python3.7/dist-packages/sklearn/svm/_base.py:1208: ConvergenceWarning:\n",
            "\n",
            "Liblinear failed to converge, increase the number of iterations.\n",
            "\n"
          ]
        },
        {
          "output_type": "stream",
          "name": "stdout",
          "text": [
            "[LibLinear][LibLinear][LibLinear][LibLinear][LibLinear][LibLinear]"
          ]
        },
        {
          "output_type": "stream",
          "name": "stderr",
          "text": [
            "/usr/local/lib/python3.7/dist-packages/sklearn/svm/_base.py:1208: ConvergenceWarning:\n",
            "\n",
            "Liblinear failed to converge, increase the number of iterations.\n",
            "\n",
            "/usr/local/lib/python3.7/dist-packages/sklearn/svm/_base.py:1208: ConvergenceWarning:\n",
            "\n",
            "Liblinear failed to converge, increase the number of iterations.\n",
            "\n",
            "/usr/local/lib/python3.7/dist-packages/sklearn/svm/_base.py:1208: ConvergenceWarning:\n",
            "\n",
            "Liblinear failed to converge, increase the number of iterations.\n",
            "\n",
            "/usr/local/lib/python3.7/dist-packages/sklearn/svm/_base.py:1208: ConvergenceWarning:\n",
            "\n",
            "Liblinear failed to converge, increase the number of iterations.\n",
            "\n",
            "/usr/local/lib/python3.7/dist-packages/sklearn/svm/_base.py:1208: ConvergenceWarning:\n",
            "\n",
            "Liblinear failed to converge, increase the number of iterations.\n",
            "\n",
            "/usr/local/lib/python3.7/dist-packages/sklearn/svm/_base.py:1208: ConvergenceWarning:\n",
            "\n",
            "Liblinear failed to converge, increase the number of iterations.\n",
            "\n",
            "/usr/local/lib/python3.7/dist-packages/sklearn/svm/_base.py:1208: ConvergenceWarning:\n",
            "\n",
            "Liblinear failed to converge, increase the number of iterations.\n",
            "\n"
          ]
        },
        {
          "output_type": "stream",
          "name": "stdout",
          "text": [
            "[LibLinear][LibLinear][LibLinear][LibLinear][LibLinear][LibLinear]"
          ]
        },
        {
          "output_type": "stream",
          "name": "stderr",
          "text": [
            "/usr/local/lib/python3.7/dist-packages/sklearn/svm/_base.py:1208: ConvergenceWarning:\n",
            "\n",
            "Liblinear failed to converge, increase the number of iterations.\n",
            "\n",
            "/usr/local/lib/python3.7/dist-packages/sklearn/svm/_base.py:1208: ConvergenceWarning:\n",
            "\n",
            "Liblinear failed to converge, increase the number of iterations.\n",
            "\n",
            "/usr/local/lib/python3.7/dist-packages/sklearn/svm/_base.py:1208: ConvergenceWarning:\n",
            "\n",
            "Liblinear failed to converge, increase the number of iterations.\n",
            "\n",
            "/usr/local/lib/python3.7/dist-packages/sklearn/svm/_base.py:1208: ConvergenceWarning:\n",
            "\n",
            "Liblinear failed to converge, increase the number of iterations.\n",
            "\n",
            "/usr/local/lib/python3.7/dist-packages/sklearn/svm/_base.py:1208: ConvergenceWarning:\n",
            "\n",
            "Liblinear failed to converge, increase the number of iterations.\n",
            "\n",
            "/usr/local/lib/python3.7/dist-packages/sklearn/svm/_base.py:1208: ConvergenceWarning:\n",
            "\n",
            "Liblinear failed to converge, increase the number of iterations.\n",
            "\n"
          ]
        },
        {
          "output_type": "stream",
          "name": "stdout",
          "text": [
            "[LibLinear][LibLinear][LibLinear][LibLinear][LibLinear][LibLinear]"
          ]
        },
        {
          "output_type": "stream",
          "name": "stderr",
          "text": [
            "/usr/local/lib/python3.7/dist-packages/sklearn/svm/_base.py:1208: ConvergenceWarning:\n",
            "\n",
            "Liblinear failed to converge, increase the number of iterations.\n",
            "\n",
            "/usr/local/lib/python3.7/dist-packages/sklearn/svm/_base.py:1208: ConvergenceWarning:\n",
            "\n",
            "Liblinear failed to converge, increase the number of iterations.\n",
            "\n",
            "/usr/local/lib/python3.7/dist-packages/sklearn/svm/_base.py:1208: ConvergenceWarning:\n",
            "\n",
            "Liblinear failed to converge, increase the number of iterations.\n",
            "\n",
            "/usr/local/lib/python3.7/dist-packages/sklearn/svm/_base.py:1208: ConvergenceWarning:\n",
            "\n",
            "Liblinear failed to converge, increase the number of iterations.\n",
            "\n",
            "/usr/local/lib/python3.7/dist-packages/sklearn/svm/_base.py:1208: ConvergenceWarning:\n",
            "\n",
            "Liblinear failed to converge, increase the number of iterations.\n",
            "\n",
            "/usr/local/lib/python3.7/dist-packages/sklearn/svm/_base.py:1208: ConvergenceWarning:\n",
            "\n",
            "Liblinear failed to converge, increase the number of iterations.\n",
            "\n"
          ]
        },
        {
          "output_type": "stream",
          "name": "stdout",
          "text": [
            "[LibLinear][LibLinear][LibLinear][LibLinear][LibLinear][LibLinear]"
          ]
        },
        {
          "output_type": "stream",
          "name": "stderr",
          "text": [
            "/usr/local/lib/python3.7/dist-packages/sklearn/svm/_base.py:1208: ConvergenceWarning:\n",
            "\n",
            "Liblinear failed to converge, increase the number of iterations.\n",
            "\n",
            "/usr/local/lib/python3.7/dist-packages/sklearn/svm/_base.py:1208: ConvergenceWarning:\n",
            "\n",
            "Liblinear failed to converge, increase the number of iterations.\n",
            "\n",
            "/usr/local/lib/python3.7/dist-packages/sklearn/svm/_base.py:1208: ConvergenceWarning:\n",
            "\n",
            "Liblinear failed to converge, increase the number of iterations.\n",
            "\n",
            "/usr/local/lib/python3.7/dist-packages/sklearn/svm/_base.py:1208: ConvergenceWarning:\n",
            "\n",
            "Liblinear failed to converge, increase the number of iterations.\n",
            "\n",
            "/usr/local/lib/python3.7/dist-packages/sklearn/svm/_base.py:1208: ConvergenceWarning:\n",
            "\n",
            "Liblinear failed to converge, increase the number of iterations.\n",
            "\n",
            "/usr/local/lib/python3.7/dist-packages/sklearn/svm/_base.py:1208: ConvergenceWarning:\n",
            "\n",
            "Liblinear failed to converge, increase the number of iterations.\n",
            "\n"
          ]
        },
        {
          "output_type": "stream",
          "name": "stdout",
          "text": [
            "[LibLinear][LibLinear][LibLinear][LibLinear][LibLinear][LibLinear]"
          ]
        },
        {
          "output_type": "stream",
          "name": "stderr",
          "text": [
            "/usr/local/lib/python3.7/dist-packages/sklearn/svm/_base.py:1208: ConvergenceWarning:\n",
            "\n",
            "Liblinear failed to converge, increase the number of iterations.\n",
            "\n",
            "/usr/local/lib/python3.7/dist-packages/sklearn/svm/_base.py:1208: ConvergenceWarning:\n",
            "\n",
            "Liblinear failed to converge, increase the number of iterations.\n",
            "\n",
            "/usr/local/lib/python3.7/dist-packages/sklearn/svm/_base.py:1208: ConvergenceWarning:\n",
            "\n",
            "Liblinear failed to converge, increase the number of iterations.\n",
            "\n",
            "/usr/local/lib/python3.7/dist-packages/sklearn/svm/_base.py:1208: ConvergenceWarning:\n",
            "\n",
            "Liblinear failed to converge, increase the number of iterations.\n",
            "\n",
            "/usr/local/lib/python3.7/dist-packages/sklearn/svm/_base.py:1208: ConvergenceWarning:\n",
            "\n",
            "Liblinear failed to converge, increase the number of iterations.\n",
            "\n",
            "/usr/local/lib/python3.7/dist-packages/sklearn/svm/_base.py:1208: ConvergenceWarning:\n",
            "\n",
            "Liblinear failed to converge, increase the number of iterations.\n",
            "\n"
          ]
        },
        {
          "output_type": "stream",
          "name": "stdout",
          "text": [
            "[LibLinear][LibLinear][LibLinear][LibLinear][LibLinear][LibLinear][LibLinear]"
          ]
        },
        {
          "output_type": "stream",
          "name": "stderr",
          "text": [
            "/usr/local/lib/python3.7/dist-packages/sklearn/svm/_base.py:1208: ConvergenceWarning:\n",
            "\n",
            "Liblinear failed to converge, increase the number of iterations.\n",
            "\n",
            "/usr/local/lib/python3.7/dist-packages/sklearn/svm/_base.py:1208: ConvergenceWarning:\n",
            "\n",
            "Liblinear failed to converge, increase the number of iterations.\n",
            "\n",
            "/usr/local/lib/python3.7/dist-packages/sklearn/svm/_base.py:1208: ConvergenceWarning:\n",
            "\n",
            "Liblinear failed to converge, increase the number of iterations.\n",
            "\n",
            "/usr/local/lib/python3.7/dist-packages/sklearn/svm/_base.py:1208: ConvergenceWarning:\n",
            "\n",
            "Liblinear failed to converge, increase the number of iterations.\n",
            "\n",
            "/usr/local/lib/python3.7/dist-packages/sklearn/svm/_base.py:1208: ConvergenceWarning:\n",
            "\n",
            "Liblinear failed to converge, increase the number of iterations.\n",
            "\n",
            "/usr/local/lib/python3.7/dist-packages/sklearn/svm/_base.py:1208: ConvergenceWarning:\n",
            "\n",
            "Liblinear failed to converge, increase the number of iterations.\n",
            "\n",
            "/usr/local/lib/python3.7/dist-packages/sklearn/svm/_base.py:1208: ConvergenceWarning:\n",
            "\n",
            "Liblinear failed to converge, increase the number of iterations.\n",
            "\n"
          ]
        },
        {
          "output_type": "stream",
          "name": "stdout",
          "text": [
            "[LibLinear][LibLinear][LibLinear][LibLinear][LibLinear][LibLinear][LibLinear]"
          ]
        },
        {
          "output_type": "stream",
          "name": "stderr",
          "text": [
            "/usr/local/lib/python3.7/dist-packages/sklearn/svm/_base.py:1208: ConvergenceWarning:\n",
            "\n",
            "Liblinear failed to converge, increase the number of iterations.\n",
            "\n",
            "/usr/local/lib/python3.7/dist-packages/sklearn/svm/_base.py:1208: ConvergenceWarning:\n",
            "\n",
            "Liblinear failed to converge, increase the number of iterations.\n",
            "\n",
            "/usr/local/lib/python3.7/dist-packages/sklearn/svm/_base.py:1208: ConvergenceWarning:\n",
            "\n",
            "Liblinear failed to converge, increase the number of iterations.\n",
            "\n",
            "/usr/local/lib/python3.7/dist-packages/sklearn/svm/_base.py:1208: ConvergenceWarning:\n",
            "\n",
            "Liblinear failed to converge, increase the number of iterations.\n",
            "\n",
            "/usr/local/lib/python3.7/dist-packages/sklearn/svm/_base.py:1208: ConvergenceWarning:\n",
            "\n",
            "Liblinear failed to converge, increase the number of iterations.\n",
            "\n",
            "/usr/local/lib/python3.7/dist-packages/sklearn/svm/_base.py:1208: ConvergenceWarning:\n",
            "\n",
            "Liblinear failed to converge, increase the number of iterations.\n",
            "\n",
            "/usr/local/lib/python3.7/dist-packages/sklearn/svm/_base.py:1208: ConvergenceWarning:\n",
            "\n",
            "Liblinear failed to converge, increase the number of iterations.\n",
            "\n"
          ]
        },
        {
          "output_type": "stream",
          "name": "stdout",
          "text": [
            "[LibLinear][LibLinear][LibLinear][LibLinear][LibLinear][LibLinear][LibLinear]"
          ]
        },
        {
          "output_type": "stream",
          "name": "stderr",
          "text": [
            "/usr/local/lib/python3.7/dist-packages/sklearn/svm/_base.py:1208: ConvergenceWarning:\n",
            "\n",
            "Liblinear failed to converge, increase the number of iterations.\n",
            "\n",
            "/usr/local/lib/python3.7/dist-packages/sklearn/svm/_base.py:1208: ConvergenceWarning:\n",
            "\n",
            "Liblinear failed to converge, increase the number of iterations.\n",
            "\n",
            "/usr/local/lib/python3.7/dist-packages/sklearn/svm/_base.py:1208: ConvergenceWarning:\n",
            "\n",
            "Liblinear failed to converge, increase the number of iterations.\n",
            "\n",
            "/usr/local/lib/python3.7/dist-packages/sklearn/svm/_base.py:1208: ConvergenceWarning:\n",
            "\n",
            "Liblinear failed to converge, increase the number of iterations.\n",
            "\n",
            "/usr/local/lib/python3.7/dist-packages/sklearn/svm/_base.py:1208: ConvergenceWarning:\n",
            "\n",
            "Liblinear failed to converge, increase the number of iterations.\n",
            "\n",
            "/usr/local/lib/python3.7/dist-packages/sklearn/svm/_base.py:1208: ConvergenceWarning:\n",
            "\n",
            "Liblinear failed to converge, increase the number of iterations.\n",
            "\n",
            "/usr/local/lib/python3.7/dist-packages/sklearn/svm/_base.py:1208: ConvergenceWarning:\n",
            "\n",
            "Liblinear failed to converge, increase the number of iterations.\n",
            "\n"
          ]
        },
        {
          "output_type": "stream",
          "name": "stdout",
          "text": [
            "[LibLinear][LibLinear][LibLinear][LibLinear][LibLinear][LibLinear][LibLinear]"
          ]
        },
        {
          "output_type": "stream",
          "name": "stderr",
          "text": [
            "/usr/local/lib/python3.7/dist-packages/sklearn/svm/_base.py:1208: ConvergenceWarning:\n",
            "\n",
            "Liblinear failed to converge, increase the number of iterations.\n",
            "\n",
            "/usr/local/lib/python3.7/dist-packages/sklearn/svm/_base.py:1208: ConvergenceWarning:\n",
            "\n",
            "Liblinear failed to converge, increase the number of iterations.\n",
            "\n",
            "/usr/local/lib/python3.7/dist-packages/sklearn/svm/_base.py:1208: ConvergenceWarning:\n",
            "\n",
            "Liblinear failed to converge, increase the number of iterations.\n",
            "\n",
            "/usr/local/lib/python3.7/dist-packages/sklearn/svm/_base.py:1208: ConvergenceWarning:\n",
            "\n",
            "Liblinear failed to converge, increase the number of iterations.\n",
            "\n",
            "/usr/local/lib/python3.7/dist-packages/sklearn/svm/_base.py:1208: ConvergenceWarning:\n",
            "\n",
            "Liblinear failed to converge, increase the number of iterations.\n",
            "\n",
            "/usr/local/lib/python3.7/dist-packages/sklearn/svm/_base.py:1208: ConvergenceWarning:\n",
            "\n",
            "Liblinear failed to converge, increase the number of iterations.\n",
            "\n",
            "/usr/local/lib/python3.7/dist-packages/sklearn/svm/_base.py:1208: ConvergenceWarning:\n",
            "\n",
            "Liblinear failed to converge, increase the number of iterations.\n",
            "\n"
          ]
        },
        {
          "output_type": "stream",
          "name": "stdout",
          "text": [
            "[LibLinear][LibLinear][LibLinear][LibLinear][LibLinear][LibLinear][LibLinear]"
          ]
        },
        {
          "output_type": "stream",
          "name": "stderr",
          "text": [
            "/usr/local/lib/python3.7/dist-packages/sklearn/svm/_base.py:1208: ConvergenceWarning:\n",
            "\n",
            "Liblinear failed to converge, increase the number of iterations.\n",
            "\n",
            "/usr/local/lib/python3.7/dist-packages/sklearn/svm/_base.py:1208: ConvergenceWarning:\n",
            "\n",
            "Liblinear failed to converge, increase the number of iterations.\n",
            "\n",
            "/usr/local/lib/python3.7/dist-packages/sklearn/svm/_base.py:1208: ConvergenceWarning:\n",
            "\n",
            "Liblinear failed to converge, increase the number of iterations.\n",
            "\n",
            "/usr/local/lib/python3.7/dist-packages/sklearn/svm/_base.py:1208: ConvergenceWarning:\n",
            "\n",
            "Liblinear failed to converge, increase the number of iterations.\n",
            "\n",
            "/usr/local/lib/python3.7/dist-packages/sklearn/svm/_base.py:1208: ConvergenceWarning:\n",
            "\n",
            "Liblinear failed to converge, increase the number of iterations.\n",
            "\n",
            "/usr/local/lib/python3.7/dist-packages/sklearn/svm/_base.py:1208: ConvergenceWarning:\n",
            "\n",
            "Liblinear failed to converge, increase the number of iterations.\n",
            "\n",
            "/usr/local/lib/python3.7/dist-packages/sklearn/svm/_base.py:1208: ConvergenceWarning:\n",
            "\n",
            "Liblinear failed to converge, increase the number of iterations.\n",
            "\n"
          ]
        },
        {
          "output_type": "stream",
          "name": "stdout",
          "text": [
            "[LibLinear][LibLinear][LibLinear][LibLinear][LibLinear][LibLinear]"
          ]
        },
        {
          "output_type": "stream",
          "name": "stderr",
          "text": [
            "/usr/local/lib/python3.7/dist-packages/sklearn/svm/_base.py:1208: ConvergenceWarning:\n",
            "\n",
            "Liblinear failed to converge, increase the number of iterations.\n",
            "\n",
            "/usr/local/lib/python3.7/dist-packages/sklearn/svm/_base.py:1208: ConvergenceWarning:\n",
            "\n",
            "Liblinear failed to converge, increase the number of iterations.\n",
            "\n",
            "/usr/local/lib/python3.7/dist-packages/sklearn/svm/_base.py:1208: ConvergenceWarning:\n",
            "\n",
            "Liblinear failed to converge, increase the number of iterations.\n",
            "\n",
            "/usr/local/lib/python3.7/dist-packages/sklearn/svm/_base.py:1208: ConvergenceWarning:\n",
            "\n",
            "Liblinear failed to converge, increase the number of iterations.\n",
            "\n",
            "/usr/local/lib/python3.7/dist-packages/sklearn/svm/_base.py:1208: ConvergenceWarning:\n",
            "\n",
            "Liblinear failed to converge, increase the number of iterations.\n",
            "\n",
            "/usr/local/lib/python3.7/dist-packages/sklearn/svm/_base.py:1208: ConvergenceWarning:\n",
            "\n",
            "Liblinear failed to converge, increase the number of iterations.\n",
            "\n"
          ]
        },
        {
          "output_type": "stream",
          "name": "stdout",
          "text": [
            "[LibLinear][LibLinear][LibLinear][LibLinear][LibLinear][LibLinear]"
          ]
        },
        {
          "output_type": "stream",
          "name": "stderr",
          "text": [
            "/usr/local/lib/python3.7/dist-packages/sklearn/svm/_base.py:1208: ConvergenceWarning:\n",
            "\n",
            "Liblinear failed to converge, increase the number of iterations.\n",
            "\n",
            "/usr/local/lib/python3.7/dist-packages/sklearn/svm/_base.py:1208: ConvergenceWarning:\n",
            "\n",
            "Liblinear failed to converge, increase the number of iterations.\n",
            "\n",
            "/usr/local/lib/python3.7/dist-packages/sklearn/svm/_base.py:1208: ConvergenceWarning:\n",
            "\n",
            "Liblinear failed to converge, increase the number of iterations.\n",
            "\n",
            "/usr/local/lib/python3.7/dist-packages/sklearn/svm/_base.py:1208: ConvergenceWarning:\n",
            "\n",
            "Liblinear failed to converge, increase the number of iterations.\n",
            "\n",
            "/usr/local/lib/python3.7/dist-packages/sklearn/svm/_base.py:1208: ConvergenceWarning:\n",
            "\n",
            "Liblinear failed to converge, increase the number of iterations.\n",
            "\n",
            "/usr/local/lib/python3.7/dist-packages/sklearn/svm/_base.py:1208: ConvergenceWarning:\n",
            "\n",
            "Liblinear failed to converge, increase the number of iterations.\n",
            "\n"
          ]
        },
        {
          "output_type": "stream",
          "name": "stdout",
          "text": [
            "[LibLinear][LibLinear][LibLinear][LibLinear][LibLinear][LibLinear]"
          ]
        },
        {
          "output_type": "stream",
          "name": "stderr",
          "text": [
            "/usr/local/lib/python3.7/dist-packages/sklearn/svm/_base.py:1208: ConvergenceWarning:\n",
            "\n",
            "Liblinear failed to converge, increase the number of iterations.\n",
            "\n",
            "/usr/local/lib/python3.7/dist-packages/sklearn/svm/_base.py:1208: ConvergenceWarning:\n",
            "\n",
            "Liblinear failed to converge, increase the number of iterations.\n",
            "\n",
            "/usr/local/lib/python3.7/dist-packages/sklearn/svm/_base.py:1208: ConvergenceWarning:\n",
            "\n",
            "Liblinear failed to converge, increase the number of iterations.\n",
            "\n",
            "/usr/local/lib/python3.7/dist-packages/sklearn/svm/_base.py:1208: ConvergenceWarning:\n",
            "\n",
            "Liblinear failed to converge, increase the number of iterations.\n",
            "\n",
            "/usr/local/lib/python3.7/dist-packages/sklearn/svm/_base.py:1208: ConvergenceWarning:\n",
            "\n",
            "Liblinear failed to converge, increase the number of iterations.\n",
            "\n",
            "/usr/local/lib/python3.7/dist-packages/sklearn/svm/_base.py:1208: ConvergenceWarning:\n",
            "\n",
            "Liblinear failed to converge, increase the number of iterations.\n",
            "\n"
          ]
        },
        {
          "output_type": "stream",
          "name": "stdout",
          "text": [
            "[LibLinear][LibLinear][LibLinear][LibLinear][LibLinear][LibLinear]"
          ]
        },
        {
          "output_type": "stream",
          "name": "stderr",
          "text": [
            "/usr/local/lib/python3.7/dist-packages/sklearn/svm/_base.py:1208: ConvergenceWarning:\n",
            "\n",
            "Liblinear failed to converge, increase the number of iterations.\n",
            "\n",
            "/usr/local/lib/python3.7/dist-packages/sklearn/svm/_base.py:1208: ConvergenceWarning:\n",
            "\n",
            "Liblinear failed to converge, increase the number of iterations.\n",
            "\n",
            "/usr/local/lib/python3.7/dist-packages/sklearn/svm/_base.py:1208: ConvergenceWarning:\n",
            "\n",
            "Liblinear failed to converge, increase the number of iterations.\n",
            "\n",
            "/usr/local/lib/python3.7/dist-packages/sklearn/svm/_base.py:1208: ConvergenceWarning:\n",
            "\n",
            "Liblinear failed to converge, increase the number of iterations.\n",
            "\n",
            "/usr/local/lib/python3.7/dist-packages/sklearn/svm/_base.py:1208: ConvergenceWarning:\n",
            "\n",
            "Liblinear failed to converge, increase the number of iterations.\n",
            "\n",
            "/usr/local/lib/python3.7/dist-packages/sklearn/svm/_base.py:1208: ConvergenceWarning:\n",
            "\n",
            "Liblinear failed to converge, increase the number of iterations.\n",
            "\n"
          ]
        },
        {
          "output_type": "stream",
          "name": "stdout",
          "text": [
            "[LibLinear][LibLinear][LibLinear][LibLinear]"
          ]
        },
        {
          "output_type": "stream",
          "name": "stderr",
          "text": [
            "/usr/local/lib/python3.7/dist-packages/sklearn/svm/_base.py:1208: ConvergenceWarning:\n",
            "\n",
            "Liblinear failed to converge, increase the number of iterations.\n",
            "\n",
            "/usr/local/lib/python3.7/dist-packages/sklearn/svm/_base.py:1208: ConvergenceWarning:\n",
            "\n",
            "Liblinear failed to converge, increase the number of iterations.\n",
            "\n"
          ]
        },
        {
          "output_type": "stream",
          "name": "stdout",
          "text": [
            "Model Number: 819 with model ETS in generation 6 of 10\n",
            "Model Number: 820 with model NVAR in generation 6 of 10\n",
            "Model Number: 821 with model ARIMA in generation 6 of 10\n",
            "Model Number: 822 with model AverageValueNaive in generation 6 of 10\n",
            "Model Number: 823 with model SeasonalNaive in generation 6 of 10\n",
            "Model Number: 824 with model NVAR in generation 6 of 10\n",
            "Model Number: 825 with model UnivariateMotif in generation 6 of 10\n",
            "Model Number: 826 with model GLS in generation 6 of 10\n",
            "Model Number: 827 with model Theta in generation 6 of 10\n",
            "Model Number: 828 with model ARIMA in generation 6 of 10\n",
            "Model Number: 829 with model GLM in generation 6 of 10\n",
            "Model Number: 830 with model ConstantNaive in generation 6 of 10\n",
            "Model Number: 831 with model UnivariateMotif in generation 6 of 10\n",
            "Template Eval Error: ValueError('Model UnivariateMotif returned NaN for one or more series. fail_on_forecast_nan=True') in model 831: UnivariateMotif\n",
            "Model Number: 832 with model UnivariateMotif in generation 6 of 10\n",
            "Model Number: 833 with model MultivariateMotif in generation 6 of 10\n",
            "Model Number: 834 with model SeasonalNaive in generation 6 of 10\n",
            "Model Number: 835 with model UnobservedComponents in generation 6 of 10\n",
            "Model Number: 836 with model MultivariateMotif in generation 6 of 10\n",
            "Model Number: 837 with model AverageValueNaive in generation 6 of 10\n",
            "Model Number: 838 with model DatepartRegression in generation 6 of 10\n",
            "Template Eval Error: ValueError(\"regression_type='User' but no future_regressor passed\") in model 838: DatepartRegression\n",
            "Model Number: 839 with model NVAR in generation 6 of 10\n",
            "Model Number: 840 with model Theta in generation 6 of 10\n",
            "Model Number: 841 with model UnivariateRegression in generation 6 of 10\n",
            "Model Number: 842 with model ARIMA in generation 6 of 10\n",
            "Model Number: 843 with model Theta in generation 6 of 10\n",
            "Model Number: 844 with model LastValueNaive in generation 6 of 10\n",
            "Model Number: 845 with model ETS in generation 6 of 10\n",
            "Model Number: 846 with model MultivariateRegression in generation 6 of 10\n"
          ]
        },
        {
          "output_type": "stream",
          "name": "stderr",
          "text": [
            "[Parallel(n_jobs=-2)]: Using backend SequentialBackend with 1 concurrent workers.\n",
            "[Parallel(n_jobs=-2)]: Done 200 out of 200 | elapsed:    0.3s finished\n",
            "[Parallel(n_jobs=1)]: Using backend SequentialBackend with 1 concurrent workers.\n",
            "[Parallel(n_jobs=1)]: Done 200 out of 200 | elapsed:    0.0s finished\n",
            "[Parallel(n_jobs=1)]: Using backend SequentialBackend with 1 concurrent workers.\n",
            "[Parallel(n_jobs=1)]: Done 200 out of 200 | elapsed:    0.0s finished\n",
            "[Parallel(n_jobs=1)]: Using backend SequentialBackend with 1 concurrent workers.\n",
            "[Parallel(n_jobs=1)]: Done 200 out of 200 | elapsed:    0.0s finished\n",
            "[Parallel(n_jobs=1)]: Using backend SequentialBackend with 1 concurrent workers.\n",
            "[Parallel(n_jobs=1)]: Done 200 out of 200 | elapsed:    0.0s finished\n",
            "[Parallel(n_jobs=1)]: Using backend SequentialBackend with 1 concurrent workers.\n"
          ]
        },
        {
          "output_type": "stream",
          "name": "stdout",
          "text": [
            "Model Number: 847 with model ETS in generation 6 of 10\n",
            "ETS error ValueError('endog must be strictly positive when usingmultiplicative trend or seasonal components.')\n",
            "ETS failed on Close Price with ValueError('endog must be strictly positive when usingmultiplicative trend or seasonal components.')\n",
            "Model Number: 848 with model GLS in generation 6 of 10\n"
          ]
        },
        {
          "output_type": "stream",
          "name": "stderr",
          "text": [
            "[Parallel(n_jobs=1)]: Done 200 out of 200 | elapsed:    0.0s finished\n"
          ]
        },
        {
          "output_type": "stream",
          "name": "stdout",
          "text": [
            "Model Number: 849 with model LastValueNaive in generation 6 of 10\n",
            "Model Number: 850 with model GLS in generation 6 of 10\n",
            "Model Number: 851 with model MultivariateRegression in generation 6 of 10\n"
          ]
        },
        {
          "output_type": "stream",
          "name": "stderr",
          "text": [
            "[Parallel(n_jobs=-2)]: Using backend SequentialBackend with 1 concurrent workers.\n",
            "[Parallel(n_jobs=-2)]: Done 200 out of 200 | elapsed:    0.4s finished\n",
            "[Parallel(n_jobs=1)]: Using backend SequentialBackend with 1 concurrent workers.\n",
            "[Parallel(n_jobs=1)]: Done 200 out of 200 | elapsed:    0.0s finished\n",
            "[Parallel(n_jobs=1)]: Using backend SequentialBackend with 1 concurrent workers.\n",
            "[Parallel(n_jobs=1)]: Done 200 out of 200 | elapsed:    0.0s finished\n",
            "[Parallel(n_jobs=1)]: Using backend SequentialBackend with 1 concurrent workers.\n",
            "[Parallel(n_jobs=1)]: Done 200 out of 200 | elapsed:    0.0s finished\n",
            "[Parallel(n_jobs=1)]: Using backend SequentialBackend with 1 concurrent workers.\n",
            "[Parallel(n_jobs=1)]: Done 200 out of 200 | elapsed:    0.0s finished\n",
            "[Parallel(n_jobs=1)]: Using backend SequentialBackend with 1 concurrent workers.\n",
            "[Parallel(n_jobs=1)]: Done 200 out of 200 | elapsed:    0.0s finished\n"
          ]
        },
        {
          "output_type": "stream",
          "name": "stdout",
          "text": [
            "Model Number: 852 with model ETS in generation 6 of 10\n",
            "ETS error ValueError('Can only dampen the trend component')\n",
            "ETS failed on Close Price with ValueError('Can only dampen the trend component')\n",
            "Model Number: 853 with model ETS in generation 6 of 10\n",
            "ETS error ValueError('endog must be strictly positive when usingmultiplicative trend or seasonal components.')\n",
            "ETS failed on Close Price with ValueError('endog must be strictly positive when usingmultiplicative trend or seasonal components.')\n",
            "Model Number: 854 with model ETS in generation 6 of 10\n",
            "Model Number: 855 with model MultivariateMotif in generation 6 of 10\n",
            "New Generation: 7 of 10\n",
            "Model Number: 856 with model AverageValueNaive in generation 7 of 10\n",
            "Model Number: 857 with model ARIMA in generation 7 of 10\n",
            "Model Number: 858 with model SectionalMotif in generation 7 of 10\n",
            "Model Number: 859 with model ARIMA in generation 7 of 10\n",
            "Model Number: 860 with model SectionalMotif in generation 7 of 10\n",
            "Model Number: 861 with model ARIMA in generation 7 of 10\n",
            "Model Number: 862 with model MultivariateMotif in generation 7 of 10\n",
            "Model Number: 863 with model NVAR in generation 7 of 10\n",
            "Model Number: 864 with model MultivariateMotif in generation 7 of 10\n",
            "Model Number: 865 with model UnobservedComponents in generation 7 of 10\n",
            "Model Number: 866 with model UnobservedComponents in generation 7 of 10\n",
            "Model Number: 867 with model UnobservedComponents in generation 7 of 10\n",
            "Model Number: 868 with model SeasonalNaive in generation 7 of 10\n",
            "Model Number: 869 with model MultivariateMotif in generation 7 of 10\n",
            "Model Number: 870 with model UnivariateMotif in generation 7 of 10\n",
            "Template Eval Error: Exception('Transformer Detrend failed on fit') in model 870: UnivariateMotif\n",
            "Model Number: 871 with model ARIMA in generation 7 of 10\n",
            "Model Number: 872 with model ConstantNaive in generation 7 of 10\n",
            "Model Number: 873 with model DatepartRegression in generation 7 of 10\n",
            "Template Eval Error: Exception('Transformer Cointegration failed on fit') in model 873: DatepartRegression\n",
            "Model Number: 874 with model WindowRegression in generation 7 of 10\n",
            "Model Number: 875 with model ETS in generation 7 of 10\n",
            "Model Number: 876 with model ETS in generation 7 of 10\n",
            "Model Number: 877 with model MultivariateRegression in generation 7 of 10\n",
            "[LibLinear][LibLinear][LibLinear][LibLinear]"
          ]
        },
        {
          "output_type": "stream",
          "name": "stderr",
          "text": [
            "/usr/local/lib/python3.7/dist-packages/sklearn/linear_model/_ridge.py:157: LinAlgWarning:\n",
            "\n",
            "Ill-conditioned matrix (rcond=6.45737e-25): result may not be accurate.\n",
            "\n",
            "/usr/local/lib/python3.7/dist-packages/sklearn/svm/_base.py:1208: ConvergenceWarning:\n",
            "\n",
            "Liblinear failed to converge, increase the number of iterations.\n",
            "\n",
            "/usr/local/lib/python3.7/dist-packages/sklearn/svm/_base.py:1208: ConvergenceWarning:\n",
            "\n",
            "Liblinear failed to converge, increase the number of iterations.\n",
            "\n",
            "/usr/local/lib/python3.7/dist-packages/sklearn/svm/_base.py:1208: ConvergenceWarning:\n",
            "\n",
            "Liblinear failed to converge, increase the number of iterations.\n",
            "\n",
            "/usr/local/lib/python3.7/dist-packages/sklearn/svm/_base.py:1208: ConvergenceWarning:\n",
            "\n",
            "Liblinear failed to converge, increase the number of iterations.\n",
            "\n"
          ]
        },
        {
          "output_type": "stream",
          "name": "stdout",
          "text": [
            "[LibLinear][LibLinear][LibLinear][LibLinear]"
          ]
        },
        {
          "output_type": "stream",
          "name": "stderr",
          "text": [
            "/usr/local/lib/python3.7/dist-packages/sklearn/svm/_base.py:1208: ConvergenceWarning:\n",
            "\n",
            "Liblinear failed to converge, increase the number of iterations.\n",
            "\n",
            "/usr/local/lib/python3.7/dist-packages/sklearn/svm/_base.py:1208: ConvergenceWarning:\n",
            "\n",
            "Liblinear failed to converge, increase the number of iterations.\n",
            "\n",
            "/usr/local/lib/python3.7/dist-packages/sklearn/svm/_base.py:1208: ConvergenceWarning:\n",
            "\n",
            "Liblinear failed to converge, increase the number of iterations.\n",
            "\n",
            "/usr/local/lib/python3.7/dist-packages/sklearn/svm/_base.py:1208: ConvergenceWarning:\n",
            "\n",
            "Liblinear failed to converge, increase the number of iterations.\n",
            "\n"
          ]
        },
        {
          "output_type": "stream",
          "name": "stdout",
          "text": [
            "[LibLinear][LibLinear][LibLinear][LibLinear][LibLinear]"
          ]
        },
        {
          "output_type": "stream",
          "name": "stderr",
          "text": [
            "/usr/local/lib/python3.7/dist-packages/sklearn/svm/_base.py:1208: ConvergenceWarning:\n",
            "\n",
            "Liblinear failed to converge, increase the number of iterations.\n",
            "\n",
            "/usr/local/lib/python3.7/dist-packages/sklearn/svm/_base.py:1208: ConvergenceWarning:\n",
            "\n",
            "Liblinear failed to converge, increase the number of iterations.\n",
            "\n",
            "/usr/local/lib/python3.7/dist-packages/sklearn/svm/_base.py:1208: ConvergenceWarning:\n",
            "\n",
            "Liblinear failed to converge, increase the number of iterations.\n",
            "\n",
            "/usr/local/lib/python3.7/dist-packages/sklearn/svm/_base.py:1208: ConvergenceWarning:\n",
            "\n",
            "Liblinear failed to converge, increase the number of iterations.\n",
            "\n",
            "/usr/local/lib/python3.7/dist-packages/sklearn/svm/_base.py:1208: ConvergenceWarning:\n",
            "\n",
            "Liblinear failed to converge, increase the number of iterations.\n",
            "\n"
          ]
        },
        {
          "output_type": "stream",
          "name": "stdout",
          "text": [
            "[LibLinear][LibLinear][LibLinear][LibLinear][LibLinear][LibLinear]"
          ]
        },
        {
          "output_type": "stream",
          "name": "stderr",
          "text": [
            "/usr/local/lib/python3.7/dist-packages/sklearn/svm/_base.py:1208: ConvergenceWarning:\n",
            "\n",
            "Liblinear failed to converge, increase the number of iterations.\n",
            "\n",
            "/usr/local/lib/python3.7/dist-packages/sklearn/svm/_base.py:1208: ConvergenceWarning:\n",
            "\n",
            "Liblinear failed to converge, increase the number of iterations.\n",
            "\n",
            "/usr/local/lib/python3.7/dist-packages/sklearn/svm/_base.py:1208: ConvergenceWarning:\n",
            "\n",
            "Liblinear failed to converge, increase the number of iterations.\n",
            "\n",
            "/usr/local/lib/python3.7/dist-packages/sklearn/svm/_base.py:1208: ConvergenceWarning:\n",
            "\n",
            "Liblinear failed to converge, increase the number of iterations.\n",
            "\n",
            "/usr/local/lib/python3.7/dist-packages/sklearn/svm/_base.py:1208: ConvergenceWarning:\n",
            "\n",
            "Liblinear failed to converge, increase the number of iterations.\n",
            "\n",
            "/usr/local/lib/python3.7/dist-packages/sklearn/svm/_base.py:1208: ConvergenceWarning:\n",
            "\n",
            "Liblinear failed to converge, increase the number of iterations.\n",
            "\n"
          ]
        },
        {
          "output_type": "stream",
          "name": "stdout",
          "text": [
            "[LibLinear][LibLinear][LibLinear][LibLinear][LibLinear][LibLinear]"
          ]
        },
        {
          "output_type": "stream",
          "name": "stderr",
          "text": [
            "/usr/local/lib/python3.7/dist-packages/sklearn/svm/_base.py:1208: ConvergenceWarning:\n",
            "\n",
            "Liblinear failed to converge, increase the number of iterations.\n",
            "\n",
            "/usr/local/lib/python3.7/dist-packages/sklearn/svm/_base.py:1208: ConvergenceWarning:\n",
            "\n",
            "Liblinear failed to converge, increase the number of iterations.\n",
            "\n",
            "/usr/local/lib/python3.7/dist-packages/sklearn/svm/_base.py:1208: ConvergenceWarning:\n",
            "\n",
            "Liblinear failed to converge, increase the number of iterations.\n",
            "\n",
            "/usr/local/lib/python3.7/dist-packages/sklearn/svm/_base.py:1208: ConvergenceWarning:\n",
            "\n",
            "Liblinear failed to converge, increase the number of iterations.\n",
            "\n",
            "/usr/local/lib/python3.7/dist-packages/sklearn/svm/_base.py:1208: ConvergenceWarning:\n",
            "\n",
            "Liblinear failed to converge, increase the number of iterations.\n",
            "\n",
            "/usr/local/lib/python3.7/dist-packages/sklearn/svm/_base.py:1208: ConvergenceWarning:\n",
            "\n",
            "Liblinear failed to converge, increase the number of iterations.\n",
            "\n"
          ]
        },
        {
          "output_type": "stream",
          "name": "stdout",
          "text": [
            "[LibLinear][LibLinear][LibLinear][LibLinear][LibLinear][LibLinear]"
          ]
        },
        {
          "output_type": "stream",
          "name": "stderr",
          "text": [
            "/usr/local/lib/python3.7/dist-packages/sklearn/svm/_base.py:1208: ConvergenceWarning:\n",
            "\n",
            "Liblinear failed to converge, increase the number of iterations.\n",
            "\n",
            "/usr/local/lib/python3.7/dist-packages/sklearn/svm/_base.py:1208: ConvergenceWarning:\n",
            "\n",
            "Liblinear failed to converge, increase the number of iterations.\n",
            "\n",
            "/usr/local/lib/python3.7/dist-packages/sklearn/svm/_base.py:1208: ConvergenceWarning:\n",
            "\n",
            "Liblinear failed to converge, increase the number of iterations.\n",
            "\n",
            "/usr/local/lib/python3.7/dist-packages/sklearn/svm/_base.py:1208: ConvergenceWarning:\n",
            "\n",
            "Liblinear failed to converge, increase the number of iterations.\n",
            "\n",
            "/usr/local/lib/python3.7/dist-packages/sklearn/svm/_base.py:1208: ConvergenceWarning:\n",
            "\n",
            "Liblinear failed to converge, increase the number of iterations.\n",
            "\n",
            "/usr/local/lib/python3.7/dist-packages/sklearn/svm/_base.py:1208: ConvergenceWarning:\n",
            "\n",
            "Liblinear failed to converge, increase the number of iterations.\n",
            "\n"
          ]
        },
        {
          "output_type": "stream",
          "name": "stdout",
          "text": [
            "[LibLinear][LibLinear][LibLinear][LibLinear][LibLinear][LibLinear][LibLinear]"
          ]
        },
        {
          "output_type": "stream",
          "name": "stderr",
          "text": [
            "/usr/local/lib/python3.7/dist-packages/sklearn/svm/_base.py:1208: ConvergenceWarning:\n",
            "\n",
            "Liblinear failed to converge, increase the number of iterations.\n",
            "\n",
            "/usr/local/lib/python3.7/dist-packages/sklearn/svm/_base.py:1208: ConvergenceWarning:\n",
            "\n",
            "Liblinear failed to converge, increase the number of iterations.\n",
            "\n",
            "/usr/local/lib/python3.7/dist-packages/sklearn/svm/_base.py:1208: ConvergenceWarning:\n",
            "\n",
            "Liblinear failed to converge, increase the number of iterations.\n",
            "\n",
            "/usr/local/lib/python3.7/dist-packages/sklearn/svm/_base.py:1208: ConvergenceWarning:\n",
            "\n",
            "Liblinear failed to converge, increase the number of iterations.\n",
            "\n",
            "/usr/local/lib/python3.7/dist-packages/sklearn/svm/_base.py:1208: ConvergenceWarning:\n",
            "\n",
            "Liblinear failed to converge, increase the number of iterations.\n",
            "\n",
            "/usr/local/lib/python3.7/dist-packages/sklearn/svm/_base.py:1208: ConvergenceWarning:\n",
            "\n",
            "Liblinear failed to converge, increase the number of iterations.\n",
            "\n",
            "/usr/local/lib/python3.7/dist-packages/sklearn/svm/_base.py:1208: ConvergenceWarning:\n",
            "\n",
            "Liblinear failed to converge, increase the number of iterations.\n",
            "\n"
          ]
        },
        {
          "output_type": "stream",
          "name": "stdout",
          "text": [
            "[LibLinear][LibLinear][LibLinear][LibLinear][LibLinear][LibLinear]"
          ]
        },
        {
          "output_type": "stream",
          "name": "stderr",
          "text": [
            "/usr/local/lib/python3.7/dist-packages/sklearn/svm/_base.py:1208: ConvergenceWarning:\n",
            "\n",
            "Liblinear failed to converge, increase the number of iterations.\n",
            "\n",
            "/usr/local/lib/python3.7/dist-packages/sklearn/svm/_base.py:1208: ConvergenceWarning:\n",
            "\n",
            "Liblinear failed to converge, increase the number of iterations.\n",
            "\n",
            "/usr/local/lib/python3.7/dist-packages/sklearn/svm/_base.py:1208: ConvergenceWarning:\n",
            "\n",
            "Liblinear failed to converge, increase the number of iterations.\n",
            "\n",
            "/usr/local/lib/python3.7/dist-packages/sklearn/svm/_base.py:1208: ConvergenceWarning:\n",
            "\n",
            "Liblinear failed to converge, increase the number of iterations.\n",
            "\n",
            "/usr/local/lib/python3.7/dist-packages/sklearn/svm/_base.py:1208: ConvergenceWarning:\n",
            "\n",
            "Liblinear failed to converge, increase the number of iterations.\n",
            "\n",
            "/usr/local/lib/python3.7/dist-packages/sklearn/svm/_base.py:1208: ConvergenceWarning:\n",
            "\n",
            "Liblinear failed to converge, increase the number of iterations.\n",
            "\n"
          ]
        },
        {
          "output_type": "stream",
          "name": "stdout",
          "text": [
            "[LibLinear][LibLinear][LibLinear][LibLinear][LibLinear][LibLinear]"
          ]
        },
        {
          "output_type": "stream",
          "name": "stderr",
          "text": [
            "/usr/local/lib/python3.7/dist-packages/sklearn/svm/_base.py:1208: ConvergenceWarning:\n",
            "\n",
            "Liblinear failed to converge, increase the number of iterations.\n",
            "\n",
            "/usr/local/lib/python3.7/dist-packages/sklearn/svm/_base.py:1208: ConvergenceWarning:\n",
            "\n",
            "Liblinear failed to converge, increase the number of iterations.\n",
            "\n",
            "/usr/local/lib/python3.7/dist-packages/sklearn/svm/_base.py:1208: ConvergenceWarning:\n",
            "\n",
            "Liblinear failed to converge, increase the number of iterations.\n",
            "\n",
            "/usr/local/lib/python3.7/dist-packages/sklearn/svm/_base.py:1208: ConvergenceWarning:\n",
            "\n",
            "Liblinear failed to converge, increase the number of iterations.\n",
            "\n",
            "/usr/local/lib/python3.7/dist-packages/sklearn/svm/_base.py:1208: ConvergenceWarning:\n",
            "\n",
            "Liblinear failed to converge, increase the number of iterations.\n",
            "\n",
            "/usr/local/lib/python3.7/dist-packages/sklearn/svm/_base.py:1208: ConvergenceWarning:\n",
            "\n",
            "Liblinear failed to converge, increase the number of iterations.\n",
            "\n"
          ]
        },
        {
          "output_type": "stream",
          "name": "stdout",
          "text": [
            "[LibLinear][LibLinear][LibLinear][LibLinear][LibLinear]"
          ]
        },
        {
          "output_type": "stream",
          "name": "stderr",
          "text": [
            "/usr/local/lib/python3.7/dist-packages/sklearn/svm/_base.py:1208: ConvergenceWarning:\n",
            "\n",
            "Liblinear failed to converge, increase the number of iterations.\n",
            "\n",
            "/usr/local/lib/python3.7/dist-packages/sklearn/svm/_base.py:1208: ConvergenceWarning:\n",
            "\n",
            "Liblinear failed to converge, increase the number of iterations.\n",
            "\n",
            "/usr/local/lib/python3.7/dist-packages/sklearn/svm/_base.py:1208: ConvergenceWarning:\n",
            "\n",
            "Liblinear failed to converge, increase the number of iterations.\n",
            "\n",
            "/usr/local/lib/python3.7/dist-packages/sklearn/svm/_base.py:1208: ConvergenceWarning:\n",
            "\n",
            "Liblinear failed to converge, increase the number of iterations.\n",
            "\n",
            "/usr/local/lib/python3.7/dist-packages/sklearn/svm/_base.py:1208: ConvergenceWarning:\n",
            "\n",
            "Liblinear failed to converge, increase the number of iterations.\n",
            "\n"
          ]
        },
        {
          "output_type": "stream",
          "name": "stdout",
          "text": [
            "[LibLinear][LibLinear][LibLinear][LibLinear][LibLinear][LibLinear][LibLinear]"
          ]
        },
        {
          "output_type": "stream",
          "name": "stderr",
          "text": [
            "/usr/local/lib/python3.7/dist-packages/sklearn/svm/_base.py:1208: ConvergenceWarning:\n",
            "\n",
            "Liblinear failed to converge, increase the number of iterations.\n",
            "\n",
            "/usr/local/lib/python3.7/dist-packages/sklearn/svm/_base.py:1208: ConvergenceWarning:\n",
            "\n",
            "Liblinear failed to converge, increase the number of iterations.\n",
            "\n",
            "/usr/local/lib/python3.7/dist-packages/sklearn/svm/_base.py:1208: ConvergenceWarning:\n",
            "\n",
            "Liblinear failed to converge, increase the number of iterations.\n",
            "\n",
            "/usr/local/lib/python3.7/dist-packages/sklearn/svm/_base.py:1208: ConvergenceWarning:\n",
            "\n",
            "Liblinear failed to converge, increase the number of iterations.\n",
            "\n",
            "/usr/local/lib/python3.7/dist-packages/sklearn/svm/_base.py:1208: ConvergenceWarning:\n",
            "\n",
            "Liblinear failed to converge, increase the number of iterations.\n",
            "\n",
            "/usr/local/lib/python3.7/dist-packages/sklearn/svm/_base.py:1208: ConvergenceWarning:\n",
            "\n",
            "Liblinear failed to converge, increase the number of iterations.\n",
            "\n"
          ]
        },
        {
          "output_type": "stream",
          "name": "stdout",
          "text": [
            "[LibLinear][LibLinear][LibLinear]"
          ]
        },
        {
          "output_type": "stream",
          "name": "stderr",
          "text": [
            "/usr/local/lib/python3.7/dist-packages/sklearn/svm/_base.py:1208: ConvergenceWarning:\n",
            "\n",
            "Liblinear failed to converge, increase the number of iterations.\n",
            "\n",
            "/usr/local/lib/python3.7/dist-packages/sklearn/svm/_base.py:1208: ConvergenceWarning:\n",
            "\n",
            "Liblinear failed to converge, increase the number of iterations.\n",
            "\n",
            "/usr/local/lib/python3.7/dist-packages/sklearn/svm/_base.py:1208: ConvergenceWarning:\n",
            "\n",
            "Liblinear failed to converge, increase the number of iterations.\n",
            "\n",
            "/usr/local/lib/python3.7/dist-packages/sklearn/svm/_base.py:1208: ConvergenceWarning:\n",
            "\n",
            "Liblinear failed to converge, increase the number of iterations.\n",
            "\n",
            "/usr/local/lib/python3.7/dist-packages/sklearn/svm/_base.py:1208: ConvergenceWarning:\n",
            "\n",
            "Liblinear failed to converge, increase the number of iterations.\n",
            "\n",
            "/usr/local/lib/python3.7/dist-packages/sklearn/svm/_base.py:1208: ConvergenceWarning:\n",
            "\n",
            "Liblinear failed to converge, increase the number of iterations.\n",
            "\n"
          ]
        },
        {
          "output_type": "stream",
          "name": "stdout",
          "text": [
            "[LibLinear][LibLinear][LibLinear][LibLinear][LibLinear][LibLinear]"
          ]
        },
        {
          "output_type": "stream",
          "name": "stderr",
          "text": [
            "/usr/local/lib/python3.7/dist-packages/sklearn/svm/_base.py:1208: ConvergenceWarning:\n",
            "\n",
            "Liblinear failed to converge, increase the number of iterations.\n",
            "\n",
            "/usr/local/lib/python3.7/dist-packages/sklearn/svm/_base.py:1208: ConvergenceWarning:\n",
            "\n",
            "Liblinear failed to converge, increase the number of iterations.\n",
            "\n",
            "/usr/local/lib/python3.7/dist-packages/sklearn/svm/_base.py:1208: ConvergenceWarning:\n",
            "\n",
            "Liblinear failed to converge, increase the number of iterations.\n",
            "\n",
            "/usr/local/lib/python3.7/dist-packages/sklearn/svm/_base.py:1208: ConvergenceWarning:\n",
            "\n",
            "Liblinear failed to converge, increase the number of iterations.\n",
            "\n"
          ]
        },
        {
          "output_type": "stream",
          "name": "stdout",
          "text": [
            "Model Number: 878 with model ETS in generation 7 of 10\n",
            "Model Number: 879 with model Theta in generation 7 of 10\n",
            "Model Number: 880 with model UnivariateRegression in generation 7 of 10\n",
            "Model Number: 881 with model SectionalMotif in generation 7 of 10\n",
            "Model Number: 882 with model GLS in generation 7 of 10\n",
            "Model Number: 883 with model MultivariateMotif in generation 7 of 10\n",
            "Model Number: 884 with model AverageValueNaive in generation 7 of 10\n"
          ]
        },
        {
          "output_type": "stream",
          "name": "stderr",
          "text": [
            "/usr/local/lib/python3.7/dist-packages/sklearn/neural_network/_multilayer_perceptron.py:696: ConvergenceWarning:\n",
            "\n",
            "Stochastic Optimizer: Maximum iterations (250) reached and the optimization hasn't converged yet.\n",
            "\n"
          ]
        },
        {
          "output_type": "stream",
          "name": "stdout",
          "text": [
            "Model Number: 885 with model SeasonalNaive in generation 7 of 10\n",
            "Model Number: 886 with model AverageValueNaive in generation 7 of 10\n",
            "Model Number: 887 with model UnivariateMotif in generation 7 of 10\n",
            "Model Number: 888 with model ARIMA in generation 7 of 10\n",
            "Model Number: 889 with model ETS in generation 7 of 10\n",
            "Model Number: 890 with model Theta in generation 7 of 10\n",
            "Model Number: 891 with model Theta in generation 7 of 10\n",
            "Model Number: 892 with model AverageValueNaive in generation 7 of 10\n",
            "Model Number: 893 with model LastValueNaive in generation 7 of 10\n",
            "Model Number: 894 with model ARIMA in generation 7 of 10\n",
            "Model Number: 895 with model NVAR in generation 7 of 10\n",
            "Model Number: 896 with model ETS in generation 7 of 10\n",
            "Model Number: 897 with model SeasonalNaive in generation 7 of 10\n",
            "Model Number: 898 with model ARIMA in generation 7 of 10\n",
            "Model Number: 899 with model GLS in generation 7 of 10\n",
            "Model Number: 900 with model GLS in generation 7 of 10\n",
            "Model Number: 901 with model AverageValueNaive in generation 7 of 10\n",
            "Model Number: 902 with model ETS in generation 7 of 10\n",
            "ETS error ValueError('Can only dampen the trend component')\n",
            "ETS failed on Close Price with ValueError('Can only dampen the trend component')\n",
            "Model Number: 903 with model GLS in generation 7 of 10\n"
          ]
        },
        {
          "output_type": "stream",
          "name": "stderr",
          "text": [
            "/usr/local/lib/python3.7/dist-packages/sklearn/utils/validation.py:1692: FutureWarning:\n",
            "\n",
            "Feature names only support names that are all strings. Got feature names with dtypes: ['Timestamp', 'str']. An error will be raised in 1.2.\n",
            "\n",
            "/usr/local/lib/python3.7/dist-packages/sklearn/preprocessing/_data.py:3253: RuntimeWarning:\n",
            "\n",
            "Degrees of freedom <= 0 for slice\n",
            "\n"
          ]
        },
        {
          "output_type": "stream",
          "name": "stdout",
          "text": [
            "Template Eval Error: Exception('Transformer PowerTransformer failed on fit') in model 903: GLS\n",
            "Model Number: 904 with model Theta in generation 7 of 10\n"
          ]
        },
        {
          "output_type": "stream",
          "name": "stderr",
          "text": [
            "/usr/local/lib/python3.7/dist-packages/sklearn/utils/extmath.py:985: RuntimeWarning:\n",
            "\n",
            "invalid value encountered in true_divide\n",
            "\n",
            "/usr/local/lib/python3.7/dist-packages/sklearn/utils/extmath.py:990: RuntimeWarning:\n",
            "\n",
            "invalid value encountered in true_divide\n",
            "\n",
            "/usr/local/lib/python3.7/dist-packages/sklearn/utils/extmath.py:1020: RuntimeWarning:\n",
            "\n",
            "invalid value encountered in true_divide\n",
            "\n"
          ]
        },
        {
          "output_type": "stream",
          "name": "stdout",
          "text": [
            "Model Number: 905 with model WindowRegression in generation 7 of 10\n",
            "Model Number: 906 with model NVAR in generation 7 of 10\n",
            "Model Number: 907 with model GLM in generation 7 of 10\n"
          ]
        },
        {
          "output_type": "stream",
          "name": "stderr",
          "text": [
            "/usr/local/lib/python3.7/dist-packages/sklearn/neural_network/_multilayer_perceptron.py:549: ConvergenceWarning:\n",
            "\n",
            "lbfgs failed to converge (status=1):\n",
            "STOP: TOTAL NO. of ITERATIONS REACHED LIMIT.\n",
            "\n",
            "Increase the number of iterations (max_iter) or scale the data as shown in:\n",
            "    https://scikit-learn.org/stable/modules/preprocessing.html\n",
            "\n",
            "/usr/local/lib/python3.7/dist-packages/statsmodels/genmod/families/family.py:1231: RuntimeWarning:\n",
            "\n",
            "invalid value encountered in log\n",
            "\n",
            "/usr/local/lib/python3.7/dist-packages/statsmodels/genmod/families/family.py:1227: RuntimeWarning:\n",
            "\n",
            "divide by zero encountered in true_divide\n",
            "\n"
          ]
        },
        {
          "output_type": "stream",
          "name": "stdout",
          "text": [
            "Model Number: 908 with model LastValueNaive in generation 7 of 10\n",
            "Model Number: 909 with model UnivariateRegression in generation 7 of 10\n",
            "Template Eval Error: Exception('Transformer MinMaxScaler failed on fit') in model 909: UnivariateRegression\n",
            "Model Number: 910 with model UnobservedComponents in generation 7 of 10\n"
          ]
        },
        {
          "output_type": "stream",
          "name": "stderr",
          "text": [
            "/usr/local/lib/python3.7/dist-packages/sklearn/utils/validation.py:1692: FutureWarning:\n",
            "\n",
            "Feature names only support names that are all strings. Got feature names with dtypes: ['Timestamp', 'str']. An error will be raised in 1.2.\n",
            "\n",
            "/usr/local/lib/python3.7/dist-packages/sklearn/preprocessing/_data.py:461: RuntimeWarning:\n",
            "\n",
            "All-NaN slice encountered\n",
            "\n",
            "/usr/local/lib/python3.7/dist-packages/sklearn/preprocessing/_data.py:462: RuntimeWarning:\n",
            "\n",
            "All-NaN slice encountered\n",
            "\n",
            "/usr/local/lib/python3.7/dist-packages/sklearn/utils/validation.py:1692: FutureWarning:\n",
            "\n",
            "Feature names only support names that are all strings. Got feature names with dtypes: ['Timestamp', 'str']. An error will be raised in 1.2.\n",
            "\n"
          ]
        },
        {
          "output_type": "stream",
          "name": "stdout",
          "text": [
            "Model Number: 911 with model UnobservedComponents in generation 7 of 10\n",
            "Model Number: 912 with model ARIMA in generation 7 of 10\n",
            "Model Number: 913 with model ConstantNaive in generation 7 of 10\n",
            "Model Number: 914 with model SeasonalNaive in generation 7 of 10\n",
            "Model Number: 915 with model ARIMA in generation 7 of 10\n",
            "Template Eval Error: ValueError(\"regression_type='User' but future_regressor not supplied\") in model 915: ARIMA\n",
            "Model Number: 916 with model MultivariateRegression in generation 7 of 10\n",
            "[LibLinear][LibLinear][LibLinear][LibLinear][LibLinear]"
          ]
        },
        {
          "output_type": "stream",
          "name": "stderr",
          "text": [
            "/usr/local/lib/python3.7/dist-packages/sklearn/svm/_base.py:1208: ConvergenceWarning:\n",
            "\n",
            "Liblinear failed to converge, increase the number of iterations.\n",
            "\n",
            "/usr/local/lib/python3.7/dist-packages/sklearn/svm/_base.py:1208: ConvergenceWarning:\n",
            "\n",
            "Liblinear failed to converge, increase the number of iterations.\n",
            "\n",
            "/usr/local/lib/python3.7/dist-packages/sklearn/svm/_base.py:1208: ConvergenceWarning:\n",
            "\n",
            "Liblinear failed to converge, increase the number of iterations.\n",
            "\n",
            "/usr/local/lib/python3.7/dist-packages/sklearn/svm/_base.py:1208: ConvergenceWarning:\n",
            "\n",
            "Liblinear failed to converge, increase the number of iterations.\n",
            "\n",
            "/usr/local/lib/python3.7/dist-packages/sklearn/svm/_base.py:1208: ConvergenceWarning:\n",
            "\n",
            "Liblinear failed to converge, increase the number of iterations.\n",
            "\n",
            "/usr/local/lib/python3.7/dist-packages/sklearn/svm/_base.py:1208: ConvergenceWarning:\n",
            "\n",
            "Liblinear failed to converge, increase the number of iterations.\n",
            "\n",
            "/usr/local/lib/python3.7/dist-packages/sklearn/svm/_base.py:1208: ConvergenceWarning:\n",
            "\n",
            "Liblinear failed to converge, increase the number of iterations.\n",
            "\n"
          ]
        },
        {
          "output_type": "stream",
          "name": "stdout",
          "text": [
            "[LibLinear][LibLinear][LibLinear][LibLinear][LibLinear][LibLinear]"
          ]
        },
        {
          "output_type": "stream",
          "name": "stderr",
          "text": [
            "/usr/local/lib/python3.7/dist-packages/sklearn/svm/_base.py:1208: ConvergenceWarning:\n",
            "\n",
            "Liblinear failed to converge, increase the number of iterations.\n",
            "\n",
            "/usr/local/lib/python3.7/dist-packages/sklearn/svm/_base.py:1208: ConvergenceWarning:\n",
            "\n",
            "Liblinear failed to converge, increase the number of iterations.\n",
            "\n",
            "/usr/local/lib/python3.7/dist-packages/sklearn/svm/_base.py:1208: ConvergenceWarning:\n",
            "\n",
            "Liblinear failed to converge, increase the number of iterations.\n",
            "\n",
            "/usr/local/lib/python3.7/dist-packages/sklearn/svm/_base.py:1208: ConvergenceWarning:\n",
            "\n",
            "Liblinear failed to converge, increase the number of iterations.\n",
            "\n",
            "/usr/local/lib/python3.7/dist-packages/sklearn/svm/_base.py:1208: ConvergenceWarning:\n",
            "\n",
            "Liblinear failed to converge, increase the number of iterations.\n",
            "\n",
            "/usr/local/lib/python3.7/dist-packages/sklearn/svm/_base.py:1208: ConvergenceWarning:\n",
            "\n",
            "Liblinear failed to converge, increase the number of iterations.\n",
            "\n",
            "/usr/local/lib/python3.7/dist-packages/sklearn/svm/_base.py:1208: ConvergenceWarning:\n",
            "\n",
            "Liblinear failed to converge, increase the number of iterations.\n",
            "\n"
          ]
        },
        {
          "output_type": "stream",
          "name": "stdout",
          "text": [
            "[LibLinear][LibLinear][LibLinear][LibLinear][LibLinear][LibLinear]"
          ]
        },
        {
          "output_type": "stream",
          "name": "stderr",
          "text": [
            "/usr/local/lib/python3.7/dist-packages/sklearn/svm/_base.py:1208: ConvergenceWarning:\n",
            "\n",
            "Liblinear failed to converge, increase the number of iterations.\n",
            "\n",
            "/usr/local/lib/python3.7/dist-packages/sklearn/svm/_base.py:1208: ConvergenceWarning:\n",
            "\n",
            "Liblinear failed to converge, increase the number of iterations.\n",
            "\n",
            "/usr/local/lib/python3.7/dist-packages/sklearn/svm/_base.py:1208: ConvergenceWarning:\n",
            "\n",
            "Liblinear failed to converge, increase the number of iterations.\n",
            "\n",
            "/usr/local/lib/python3.7/dist-packages/sklearn/svm/_base.py:1208: ConvergenceWarning:\n",
            "\n",
            "Liblinear failed to converge, increase the number of iterations.\n",
            "\n",
            "/usr/local/lib/python3.7/dist-packages/sklearn/svm/_base.py:1208: ConvergenceWarning:\n",
            "\n",
            "Liblinear failed to converge, increase the number of iterations.\n",
            "\n",
            "/usr/local/lib/python3.7/dist-packages/sklearn/svm/_base.py:1208: ConvergenceWarning:\n",
            "\n",
            "Liblinear failed to converge, increase the number of iterations.\n",
            "\n"
          ]
        },
        {
          "output_type": "stream",
          "name": "stdout",
          "text": [
            "[LibLinear][LibLinear][LibLinear][LibLinear][LibLinear][LibLinear]"
          ]
        },
        {
          "output_type": "stream",
          "name": "stderr",
          "text": [
            "/usr/local/lib/python3.7/dist-packages/sklearn/svm/_base.py:1208: ConvergenceWarning:\n",
            "\n",
            "Liblinear failed to converge, increase the number of iterations.\n",
            "\n",
            "/usr/local/lib/python3.7/dist-packages/sklearn/svm/_base.py:1208: ConvergenceWarning:\n",
            "\n",
            "Liblinear failed to converge, increase the number of iterations.\n",
            "\n",
            "/usr/local/lib/python3.7/dist-packages/sklearn/svm/_base.py:1208: ConvergenceWarning:\n",
            "\n",
            "Liblinear failed to converge, increase the number of iterations.\n",
            "\n",
            "/usr/local/lib/python3.7/dist-packages/sklearn/svm/_base.py:1208: ConvergenceWarning:\n",
            "\n",
            "Liblinear failed to converge, increase the number of iterations.\n",
            "\n",
            "/usr/local/lib/python3.7/dist-packages/sklearn/svm/_base.py:1208: ConvergenceWarning:\n",
            "\n",
            "Liblinear failed to converge, increase the number of iterations.\n",
            "\n",
            "/usr/local/lib/python3.7/dist-packages/sklearn/svm/_base.py:1208: ConvergenceWarning:\n",
            "\n",
            "Liblinear failed to converge, increase the number of iterations.\n",
            "\n"
          ]
        },
        {
          "output_type": "stream",
          "name": "stdout",
          "text": [
            "[LibLinear][LibLinear][LibLinear][LibLinear][LibLinear][LibLinear]"
          ]
        },
        {
          "output_type": "stream",
          "name": "stderr",
          "text": [
            "/usr/local/lib/python3.7/dist-packages/sklearn/svm/_base.py:1208: ConvergenceWarning:\n",
            "\n",
            "Liblinear failed to converge, increase the number of iterations.\n",
            "\n",
            "/usr/local/lib/python3.7/dist-packages/sklearn/svm/_base.py:1208: ConvergenceWarning:\n",
            "\n",
            "Liblinear failed to converge, increase the number of iterations.\n",
            "\n",
            "/usr/local/lib/python3.7/dist-packages/sklearn/svm/_base.py:1208: ConvergenceWarning:\n",
            "\n",
            "Liblinear failed to converge, increase the number of iterations.\n",
            "\n",
            "/usr/local/lib/python3.7/dist-packages/sklearn/svm/_base.py:1208: ConvergenceWarning:\n",
            "\n",
            "Liblinear failed to converge, increase the number of iterations.\n",
            "\n",
            "/usr/local/lib/python3.7/dist-packages/sklearn/svm/_base.py:1208: ConvergenceWarning:\n",
            "\n",
            "Liblinear failed to converge, increase the number of iterations.\n",
            "\n",
            "/usr/local/lib/python3.7/dist-packages/sklearn/svm/_base.py:1208: ConvergenceWarning:\n",
            "\n",
            "Liblinear failed to converge, increase the number of iterations.\n",
            "\n"
          ]
        },
        {
          "output_type": "stream",
          "name": "stdout",
          "text": [
            "[LibLinear][LibLinear][LibLinear][LibLinear][LibLinear][LibLinear]"
          ]
        },
        {
          "output_type": "stream",
          "name": "stderr",
          "text": [
            "/usr/local/lib/python3.7/dist-packages/sklearn/svm/_base.py:1208: ConvergenceWarning:\n",
            "\n",
            "Liblinear failed to converge, increase the number of iterations.\n",
            "\n",
            "/usr/local/lib/python3.7/dist-packages/sklearn/svm/_base.py:1208: ConvergenceWarning:\n",
            "\n",
            "Liblinear failed to converge, increase the number of iterations.\n",
            "\n",
            "/usr/local/lib/python3.7/dist-packages/sklearn/svm/_base.py:1208: ConvergenceWarning:\n",
            "\n",
            "Liblinear failed to converge, increase the number of iterations.\n",
            "\n",
            "/usr/local/lib/python3.7/dist-packages/sklearn/svm/_base.py:1208: ConvergenceWarning:\n",
            "\n",
            "Liblinear failed to converge, increase the number of iterations.\n",
            "\n",
            "/usr/local/lib/python3.7/dist-packages/sklearn/svm/_base.py:1208: ConvergenceWarning:\n",
            "\n",
            "Liblinear failed to converge, increase the number of iterations.\n",
            "\n"
          ]
        },
        {
          "output_type": "stream",
          "name": "stdout",
          "text": [
            "[LibLinear][LibLinear][LibLinear][LibLinear][LibLinear][LibLinear]"
          ]
        },
        {
          "output_type": "stream",
          "name": "stderr",
          "text": [
            "/usr/local/lib/python3.7/dist-packages/sklearn/svm/_base.py:1208: ConvergenceWarning:\n",
            "\n",
            "Liblinear failed to converge, increase the number of iterations.\n",
            "\n",
            "/usr/local/lib/python3.7/dist-packages/sklearn/svm/_base.py:1208: ConvergenceWarning:\n",
            "\n",
            "Liblinear failed to converge, increase the number of iterations.\n",
            "\n",
            "/usr/local/lib/python3.7/dist-packages/sklearn/svm/_base.py:1208: ConvergenceWarning:\n",
            "\n",
            "Liblinear failed to converge, increase the number of iterations.\n",
            "\n",
            "/usr/local/lib/python3.7/dist-packages/sklearn/svm/_base.py:1208: ConvergenceWarning:\n",
            "\n",
            "Liblinear failed to converge, increase the number of iterations.\n",
            "\n",
            "/usr/local/lib/python3.7/dist-packages/sklearn/svm/_base.py:1208: ConvergenceWarning:\n",
            "\n",
            "Liblinear failed to converge, increase the number of iterations.\n",
            "\n",
            "/usr/local/lib/python3.7/dist-packages/sklearn/svm/_base.py:1208: ConvergenceWarning:\n",
            "\n",
            "Liblinear failed to converge, increase the number of iterations.\n",
            "\n"
          ]
        },
        {
          "output_type": "stream",
          "name": "stdout",
          "text": [
            "[LibLinear][LibLinear][LibLinear][LibLinear][LibLinear]"
          ]
        },
        {
          "output_type": "stream",
          "name": "stderr",
          "text": [
            "/usr/local/lib/python3.7/dist-packages/sklearn/svm/_base.py:1208: ConvergenceWarning:\n",
            "\n",
            "Liblinear failed to converge, increase the number of iterations.\n",
            "\n",
            "/usr/local/lib/python3.7/dist-packages/sklearn/svm/_base.py:1208: ConvergenceWarning:\n",
            "\n",
            "Liblinear failed to converge, increase the number of iterations.\n",
            "\n",
            "/usr/local/lib/python3.7/dist-packages/sklearn/svm/_base.py:1208: ConvergenceWarning:\n",
            "\n",
            "Liblinear failed to converge, increase the number of iterations.\n",
            "\n",
            "/usr/local/lib/python3.7/dist-packages/sklearn/svm/_base.py:1208: ConvergenceWarning:\n",
            "\n",
            "Liblinear failed to converge, increase the number of iterations.\n",
            "\n",
            "/usr/local/lib/python3.7/dist-packages/sklearn/svm/_base.py:1208: ConvergenceWarning:\n",
            "\n",
            "Liblinear failed to converge, increase the number of iterations.\n",
            "\n",
            "/usr/local/lib/python3.7/dist-packages/sklearn/svm/_base.py:1208: ConvergenceWarning:\n",
            "\n",
            "Liblinear failed to converge, increase the number of iterations.\n",
            "\n"
          ]
        },
        {
          "output_type": "stream",
          "name": "stdout",
          "text": [
            "[LibLinear][LibLinear][LibLinear][LibLinear][LibLinear][LibLinear]"
          ]
        },
        {
          "output_type": "stream",
          "name": "stderr",
          "text": [
            "/usr/local/lib/python3.7/dist-packages/sklearn/svm/_base.py:1208: ConvergenceWarning:\n",
            "\n",
            "Liblinear failed to converge, increase the number of iterations.\n",
            "\n",
            "/usr/local/lib/python3.7/dist-packages/sklearn/svm/_base.py:1208: ConvergenceWarning:\n",
            "\n",
            "Liblinear failed to converge, increase the number of iterations.\n",
            "\n",
            "/usr/local/lib/python3.7/dist-packages/sklearn/svm/_base.py:1208: ConvergenceWarning:\n",
            "\n",
            "Liblinear failed to converge, increase the number of iterations.\n",
            "\n",
            "/usr/local/lib/python3.7/dist-packages/sklearn/svm/_base.py:1208: ConvergenceWarning:\n",
            "\n",
            "Liblinear failed to converge, increase the number of iterations.\n",
            "\n",
            "/usr/local/lib/python3.7/dist-packages/sklearn/svm/_base.py:1208: ConvergenceWarning:\n",
            "\n",
            "Liblinear failed to converge, increase the number of iterations.\n",
            "\n",
            "/usr/local/lib/python3.7/dist-packages/sklearn/svm/_base.py:1208: ConvergenceWarning:\n",
            "\n",
            "Liblinear failed to converge, increase the number of iterations.\n",
            "\n"
          ]
        },
        {
          "output_type": "stream",
          "name": "stdout",
          "text": [
            "[LibLinear][LibLinear][LibLinear][LibLinear][LibLinear][LibLinear][LibLinear]"
          ]
        },
        {
          "output_type": "stream",
          "name": "stderr",
          "text": [
            "/usr/local/lib/python3.7/dist-packages/sklearn/svm/_base.py:1208: ConvergenceWarning:\n",
            "\n",
            "Liblinear failed to converge, increase the number of iterations.\n",
            "\n",
            "/usr/local/lib/python3.7/dist-packages/sklearn/svm/_base.py:1208: ConvergenceWarning:\n",
            "\n",
            "Liblinear failed to converge, increase the number of iterations.\n",
            "\n",
            "/usr/local/lib/python3.7/dist-packages/sklearn/svm/_base.py:1208: ConvergenceWarning:\n",
            "\n",
            "Liblinear failed to converge, increase the number of iterations.\n",
            "\n",
            "/usr/local/lib/python3.7/dist-packages/sklearn/svm/_base.py:1208: ConvergenceWarning:\n",
            "\n",
            "Liblinear failed to converge, increase the number of iterations.\n",
            "\n",
            "/usr/local/lib/python3.7/dist-packages/sklearn/svm/_base.py:1208: ConvergenceWarning:\n",
            "\n",
            "Liblinear failed to converge, increase the number of iterations.\n",
            "\n",
            "/usr/local/lib/python3.7/dist-packages/sklearn/svm/_base.py:1208: ConvergenceWarning:\n",
            "\n",
            "Liblinear failed to converge, increase the number of iterations.\n",
            "\n"
          ]
        },
        {
          "output_type": "stream",
          "name": "stdout",
          "text": [
            "[LibLinear][LibLinear][LibLinear][LibLinear][LibLinear][LibLinear]"
          ]
        },
        {
          "output_type": "stream",
          "name": "stderr",
          "text": [
            "/usr/local/lib/python3.7/dist-packages/sklearn/svm/_base.py:1208: ConvergenceWarning:\n",
            "\n",
            "Liblinear failed to converge, increase the number of iterations.\n",
            "\n",
            "/usr/local/lib/python3.7/dist-packages/sklearn/svm/_base.py:1208: ConvergenceWarning:\n",
            "\n",
            "Liblinear failed to converge, increase the number of iterations.\n",
            "\n",
            "/usr/local/lib/python3.7/dist-packages/sklearn/svm/_base.py:1208: ConvergenceWarning:\n",
            "\n",
            "Liblinear failed to converge, increase the number of iterations.\n",
            "\n",
            "/usr/local/lib/python3.7/dist-packages/sklearn/svm/_base.py:1208: ConvergenceWarning:\n",
            "\n",
            "Liblinear failed to converge, increase the number of iterations.\n",
            "\n",
            "/usr/local/lib/python3.7/dist-packages/sklearn/svm/_base.py:1208: ConvergenceWarning:\n",
            "\n",
            "Liblinear failed to converge, increase the number of iterations.\n",
            "\n",
            "/usr/local/lib/python3.7/dist-packages/sklearn/svm/_base.py:1208: ConvergenceWarning:\n",
            "\n",
            "Liblinear failed to converge, increase the number of iterations.\n",
            "\n"
          ]
        },
        {
          "output_type": "stream",
          "name": "stdout",
          "text": [
            "[LibLinear][LibLinear][LibLinear][LibLinear][LibLinear][LibLinear]"
          ]
        },
        {
          "output_type": "stream",
          "name": "stderr",
          "text": [
            "/usr/local/lib/python3.7/dist-packages/sklearn/svm/_base.py:1208: ConvergenceWarning:\n",
            "\n",
            "Liblinear failed to converge, increase the number of iterations.\n",
            "\n",
            "/usr/local/lib/python3.7/dist-packages/sklearn/svm/_base.py:1208: ConvergenceWarning:\n",
            "\n",
            "Liblinear failed to converge, increase the number of iterations.\n",
            "\n",
            "/usr/local/lib/python3.7/dist-packages/sklearn/svm/_base.py:1208: ConvergenceWarning:\n",
            "\n",
            "Liblinear failed to converge, increase the number of iterations.\n",
            "\n",
            "/usr/local/lib/python3.7/dist-packages/sklearn/svm/_base.py:1208: ConvergenceWarning:\n",
            "\n",
            "Liblinear failed to converge, increase the number of iterations.\n",
            "\n",
            "/usr/local/lib/python3.7/dist-packages/sklearn/svm/_base.py:1208: ConvergenceWarning:\n",
            "\n",
            "Liblinear failed to converge, increase the number of iterations.\n",
            "\n",
            "/usr/local/lib/python3.7/dist-packages/sklearn/svm/_base.py:1208: ConvergenceWarning:\n",
            "\n",
            "Liblinear failed to converge, increase the number of iterations.\n",
            "\n"
          ]
        },
        {
          "output_type": "stream",
          "name": "stdout",
          "text": [
            "[LibLinear][LibLinear][LibLinear][LibLinear][LibLinear][LibLinear]"
          ]
        },
        {
          "output_type": "stream",
          "name": "stderr",
          "text": [
            "/usr/local/lib/python3.7/dist-packages/sklearn/svm/_base.py:1208: ConvergenceWarning:\n",
            "\n",
            "Liblinear failed to converge, increase the number of iterations.\n",
            "\n",
            "/usr/local/lib/python3.7/dist-packages/sklearn/svm/_base.py:1208: ConvergenceWarning:\n",
            "\n",
            "Liblinear failed to converge, increase the number of iterations.\n",
            "\n",
            "/usr/local/lib/python3.7/dist-packages/sklearn/svm/_base.py:1208: ConvergenceWarning:\n",
            "\n",
            "Liblinear failed to converge, increase the number of iterations.\n",
            "\n",
            "/usr/local/lib/python3.7/dist-packages/sklearn/svm/_base.py:1208: ConvergenceWarning:\n",
            "\n",
            "Liblinear failed to converge, increase the number of iterations.\n",
            "\n",
            "/usr/local/lib/python3.7/dist-packages/sklearn/svm/_base.py:1208: ConvergenceWarning:\n",
            "\n",
            "Liblinear failed to converge, increase the number of iterations.\n",
            "\n",
            "/usr/local/lib/python3.7/dist-packages/sklearn/svm/_base.py:1208: ConvergenceWarning:\n",
            "\n",
            "Liblinear failed to converge, increase the number of iterations.\n",
            "\n"
          ]
        },
        {
          "output_type": "stream",
          "name": "stdout",
          "text": [
            "[LibLinear][LibLinear][LibLinear][LibLinear][LibLinear][LibLinear]"
          ]
        },
        {
          "output_type": "stream",
          "name": "stderr",
          "text": [
            "/usr/local/lib/python3.7/dist-packages/sklearn/svm/_base.py:1208: ConvergenceWarning:\n",
            "\n",
            "Liblinear failed to converge, increase the number of iterations.\n",
            "\n",
            "/usr/local/lib/python3.7/dist-packages/sklearn/svm/_base.py:1208: ConvergenceWarning:\n",
            "\n",
            "Liblinear failed to converge, increase the number of iterations.\n",
            "\n",
            "/usr/local/lib/python3.7/dist-packages/sklearn/svm/_base.py:1208: ConvergenceWarning:\n",
            "\n",
            "Liblinear failed to converge, increase the number of iterations.\n",
            "\n",
            "/usr/local/lib/python3.7/dist-packages/sklearn/svm/_base.py:1208: ConvergenceWarning:\n",
            "\n",
            "Liblinear failed to converge, increase the number of iterations.\n",
            "\n",
            "/usr/local/lib/python3.7/dist-packages/sklearn/svm/_base.py:1208: ConvergenceWarning:\n",
            "\n",
            "Liblinear failed to converge, increase the number of iterations.\n",
            "\n",
            "/usr/local/lib/python3.7/dist-packages/sklearn/svm/_base.py:1208: ConvergenceWarning:\n",
            "\n",
            "Liblinear failed to converge, increase the number of iterations.\n",
            "\n"
          ]
        },
        {
          "output_type": "stream",
          "name": "stdout",
          "text": [
            "[LibLinear][LibLinear][LibLinear][LibLinear][LibLinear][LibLinear][LibLinear]"
          ]
        },
        {
          "output_type": "stream",
          "name": "stderr",
          "text": [
            "/usr/local/lib/python3.7/dist-packages/sklearn/svm/_base.py:1208: ConvergenceWarning:\n",
            "\n",
            "Liblinear failed to converge, increase the number of iterations.\n",
            "\n",
            "/usr/local/lib/python3.7/dist-packages/sklearn/svm/_base.py:1208: ConvergenceWarning:\n",
            "\n",
            "Liblinear failed to converge, increase the number of iterations.\n",
            "\n",
            "/usr/local/lib/python3.7/dist-packages/sklearn/svm/_base.py:1208: ConvergenceWarning:\n",
            "\n",
            "Liblinear failed to converge, increase the number of iterations.\n",
            "\n",
            "/usr/local/lib/python3.7/dist-packages/sklearn/svm/_base.py:1208: ConvergenceWarning:\n",
            "\n",
            "Liblinear failed to converge, increase the number of iterations.\n",
            "\n",
            "/usr/local/lib/python3.7/dist-packages/sklearn/svm/_base.py:1208: ConvergenceWarning:\n",
            "\n",
            "Liblinear failed to converge, increase the number of iterations.\n",
            "\n",
            "/usr/local/lib/python3.7/dist-packages/sklearn/svm/_base.py:1208: ConvergenceWarning:\n",
            "\n",
            "Liblinear failed to converge, increase the number of iterations.\n",
            "\n",
            "/usr/local/lib/python3.7/dist-packages/sklearn/svm/_base.py:1208: ConvergenceWarning:\n",
            "\n",
            "Liblinear failed to converge, increase the number of iterations.\n",
            "\n"
          ]
        },
        {
          "output_type": "stream",
          "name": "stdout",
          "text": [
            "[LibLinear][LibLinear][LibLinear][LibLinear][LibLinear][LibLinear][LibLinear]"
          ]
        },
        {
          "output_type": "stream",
          "name": "stderr",
          "text": [
            "/usr/local/lib/python3.7/dist-packages/sklearn/svm/_base.py:1208: ConvergenceWarning:\n",
            "\n",
            "Liblinear failed to converge, increase the number of iterations.\n",
            "\n",
            "/usr/local/lib/python3.7/dist-packages/sklearn/svm/_base.py:1208: ConvergenceWarning:\n",
            "\n",
            "Liblinear failed to converge, increase the number of iterations.\n",
            "\n",
            "/usr/local/lib/python3.7/dist-packages/sklearn/svm/_base.py:1208: ConvergenceWarning:\n",
            "\n",
            "Liblinear failed to converge, increase the number of iterations.\n",
            "\n",
            "/usr/local/lib/python3.7/dist-packages/sklearn/svm/_base.py:1208: ConvergenceWarning:\n",
            "\n",
            "Liblinear failed to converge, increase the number of iterations.\n",
            "\n",
            "/usr/local/lib/python3.7/dist-packages/sklearn/svm/_base.py:1208: ConvergenceWarning:\n",
            "\n",
            "Liblinear failed to converge, increase the number of iterations.\n",
            "\n",
            "/usr/local/lib/python3.7/dist-packages/sklearn/svm/_base.py:1208: ConvergenceWarning:\n",
            "\n",
            "Liblinear failed to converge, increase the number of iterations.\n",
            "\n"
          ]
        },
        {
          "output_type": "stream",
          "name": "stdout",
          "text": [
            "[LibLinear][LibLinear][LibLinear][LibLinear][LibLinear][LibLinear][LibLinear]"
          ]
        },
        {
          "output_type": "stream",
          "name": "stderr",
          "text": [
            "/usr/local/lib/python3.7/dist-packages/sklearn/svm/_base.py:1208: ConvergenceWarning:\n",
            "\n",
            "Liblinear failed to converge, increase the number of iterations.\n",
            "\n",
            "/usr/local/lib/python3.7/dist-packages/sklearn/svm/_base.py:1208: ConvergenceWarning:\n",
            "\n",
            "Liblinear failed to converge, increase the number of iterations.\n",
            "\n",
            "/usr/local/lib/python3.7/dist-packages/sklearn/svm/_base.py:1208: ConvergenceWarning:\n",
            "\n",
            "Liblinear failed to converge, increase the number of iterations.\n",
            "\n",
            "/usr/local/lib/python3.7/dist-packages/sklearn/svm/_base.py:1208: ConvergenceWarning:\n",
            "\n",
            "Liblinear failed to converge, increase the number of iterations.\n",
            "\n",
            "/usr/local/lib/python3.7/dist-packages/sklearn/svm/_base.py:1208: ConvergenceWarning:\n",
            "\n",
            "Liblinear failed to converge, increase the number of iterations.\n",
            "\n",
            "/usr/local/lib/python3.7/dist-packages/sklearn/svm/_base.py:1208: ConvergenceWarning:\n",
            "\n",
            "Liblinear failed to converge, increase the number of iterations.\n",
            "\n",
            "/usr/local/lib/python3.7/dist-packages/sklearn/svm/_base.py:1208: ConvergenceWarning:\n",
            "\n",
            "Liblinear failed to converge, increase the number of iterations.\n",
            "\n"
          ]
        },
        {
          "output_type": "stream",
          "name": "stdout",
          "text": [
            "[LibLinear][LibLinear][LibLinear]"
          ]
        },
        {
          "output_type": "stream",
          "name": "stderr",
          "text": [
            "/usr/local/lib/python3.7/dist-packages/sklearn/svm/_base.py:1208: ConvergenceWarning:\n",
            "\n",
            "Liblinear failed to converge, increase the number of iterations.\n",
            "\n",
            "/usr/local/lib/python3.7/dist-packages/sklearn/svm/_base.py:1208: ConvergenceWarning:\n",
            "\n",
            "Liblinear failed to converge, increase the number of iterations.\n",
            "\n"
          ]
        },
        {
          "output_type": "stream",
          "name": "stdout",
          "text": [
            "Model Number: 917 with model ARIMA in generation 7 of 10\n",
            "Model Number: 918 with model SeasonalNaive in generation 7 of 10\n",
            "Model Number: 919 with model UnivariateRegression in generation 7 of 10\n",
            "Model Number: 920 with model Theta in generation 7 of 10\n",
            "Model Number: 921 with model UnobservedComponents in generation 7 of 10\n",
            "Model Number: 922 with model UnobservedComponents in generation 7 of 10\n",
            "Model Number: 923 with model SeasonalNaive in generation 7 of 10\n",
            "Model Number: 924 with model MultivariateMotif in generation 7 of 10\n",
            "Model Number: 925 with model UnivariateMotif in generation 7 of 10\n",
            "Model Number: 926 with model UnivariateRegression in generation 7 of 10\n",
            "Model Number: 927 with model UnivariateRegression in generation 7 of 10\n",
            "Template Eval Error: ValueError(\"regression_type='User' but not future_regressor supplied.\") in model 927: UnivariateRegression\n",
            "Model Number: 928 with model ETS in generation 7 of 10\n",
            "Model Number: 929 with model Theta in generation 7 of 10\n",
            "Template Eval Error: Exception('Transformer BTCD failed on fit') in model 929: Theta\n",
            "Model Number: 930 with model ETS in generation 7 of 10\n",
            "Model Number: 931 with model GLS in generation 7 of 10\n",
            "Template Eval Error: Exception('Transformer BTCD failed on fit') in model 931: GLS\n",
            "Model Number: 932 with model UnivariateRegression in generation 7 of 10\n",
            "Model Number: 933 with model DatepartRegression in generation 7 of 10\n",
            "Model Number: 934 with model LastValueNaive in generation 7 of 10\n",
            "Model Number: 935 with model DatepartRegression in generation 7 of 10\n",
            "Model Number: 936 with model GLM in generation 7 of 10\n",
            "Model Number: 937 with model SectionalMotif in generation 7 of 10\n"
          ]
        },
        {
          "output_type": "stream",
          "name": "stderr",
          "text": [
            "/usr/local/lib/python3.7/dist-packages/sklearn/neural_network/_multilayer_perceptron.py:549: ConvergenceWarning:\n",
            "\n",
            "lbfgs failed to converge (status=1):\n",
            "STOP: TOTAL NO. of ITERATIONS REACHED LIMIT.\n",
            "\n",
            "Increase the number of iterations (max_iter) or scale the data as shown in:\n",
            "    https://scikit-learn.org/stable/modules/preprocessing.html\n",
            "\n"
          ]
        },
        {
          "output_type": "stream",
          "name": "stdout",
          "text": [
            "Model Number: 938 with model UnivariateRegression in generation 7 of 10\n",
            "Template Eval Error: Exception('Transformer MinMaxScaler failed on fit') in model 938: UnivariateRegression\n",
            "Model Number: 939 with model UnivariateMotif in generation 7 of 10\n",
            "Model Number: 940 with model ConstantNaive in generation 7 of 10\n"
          ]
        },
        {
          "output_type": "stream",
          "name": "stderr",
          "text": [
            "/usr/local/lib/python3.7/dist-packages/sklearn/utils/validation.py:1692: FutureWarning:\n",
            "\n",
            "Feature names only support names that are all strings. Got feature names with dtypes: ['Timestamp', 'str']. An error will be raised in 1.2.\n",
            "\n",
            "/usr/local/lib/python3.7/dist-packages/sklearn/preprocessing/_data.py:461: RuntimeWarning:\n",
            "\n",
            "All-NaN slice encountered\n",
            "\n",
            "/usr/local/lib/python3.7/dist-packages/sklearn/preprocessing/_data.py:462: RuntimeWarning:\n",
            "\n",
            "All-NaN slice encountered\n",
            "\n",
            "/usr/local/lib/python3.7/dist-packages/sklearn/utils/validation.py:1692: FutureWarning:\n",
            "\n",
            "Feature names only support names that are all strings. Got feature names with dtypes: ['Timestamp', 'str']. An error will be raised in 1.2.\n",
            "\n",
            "/usr/local/lib/python3.7/dist-packages/sklearn/svm/_base.py:1208: ConvergenceWarning:\n",
            "\n",
            "Liblinear failed to converge, increase the number of iterations.\n",
            "\n"
          ]
        },
        {
          "output_type": "stream",
          "name": "stdout",
          "text": [
            "Model Number: 941 with model UnobservedComponents in generation 7 of 10\n"
          ]
        },
        {
          "output_type": "stream",
          "name": "stderr",
          "text": [
            "/usr/local/lib/python3.7/dist-packages/sklearn/base.py:493: FutureWarning:\n",
            "\n",
            "The feature names should match those that were passed during fit. Starting version 1.2, an error will be raised.\n",
            "Feature names seen at fit time, yet now missing:\n",
            "- weekdayofmonth_1\n",
            "- weekdayofmonth_3\n",
            "- weekdayofmonth_4\n",
            "- weekdayofmonth_5\n",
            "\n",
            "\n"
          ]
        },
        {
          "output_type": "stream",
          "name": "stdout",
          "text": [
            "Template Eval Error: Exception('Transformer DatepartRegression failed on inverse') in model 941: UnobservedComponents\n",
            "Model Number: 942 with model WindowRegression in generation 7 of 10\n",
            "Model Number: 943 with model Theta in generation 7 of 10\n"
          ]
        },
        {
          "output_type": "stream",
          "name": "stderr",
          "text": [
            "/usr/local/lib/python3.7/dist-packages/sklearn/neural_network/_multilayer_perceptron.py:549: ConvergenceWarning:\n",
            "\n",
            "lbfgs failed to converge (status=1):\n",
            "STOP: TOTAL NO. of ITERATIONS REACHED LIMIT.\n",
            "\n",
            "Increase the number of iterations (max_iter) or scale the data as shown in:\n",
            "    https://scikit-learn.org/stable/modules/preprocessing.html\n",
            "\n"
          ]
        },
        {
          "output_type": "stream",
          "name": "stdout",
          "text": [
            "Model Number: 944 with model Theta in generation 7 of 10\n",
            "Model Number: 945 with model UnivariateRegression in generation 7 of 10\n",
            "Model Number: 946 with model MultivariateMotif in generation 7 of 10\n",
            "Model Number: 947 with model ETS in generation 7 of 10\n",
            "Model Number: 948 with model UnivariateRegression in generation 7 of 10\n",
            "Model Number: 949 with model Theta in generation 7 of 10\n",
            "Model Number: 950 with model FBProphet in generation 7 of 10\n"
          ]
        },
        {
          "output_type": "stream",
          "name": "stderr",
          "text": [
            "INFO:prophet:Disabling yearly seasonality. Run prophet with yearly_seasonality=True to override this.\n",
            "INFO:prophet:Disabling daily seasonality. Run prophet with daily_seasonality=True to override this.\n",
            "DEBUG:cmdstanpy:input tempfile: /tmp/tmpjl9_res0/2natcgrg.json\n",
            "DEBUG:cmdstanpy:input tempfile: /tmp/tmpjl9_res0/x4xyls6o.json\n",
            "DEBUG:cmdstanpy:idx 0\n",
            "DEBUG:cmdstanpy:running CmdStan, num_threads: None\n",
            "DEBUG:cmdstanpy:CmdStan args: ['/usr/local/lib/python3.7/dist-packages/prophet/stan_model/prophet_model.bin', 'random', 'seed=21947', 'data', 'file=/tmp/tmpjl9_res0/2natcgrg.json', 'init=/tmp/tmpjl9_res0/x4xyls6o.json', 'output', 'file=/tmp/tmp1w312kjc/prophet_model-20220831112700.csv', 'method=optimize', 'algorithm=lbfgs', 'iter=10000']\n",
            "11:27:00 - cmdstanpy - INFO - Chain [1] start processing\n",
            "INFO:cmdstanpy:Chain [1] start processing\n",
            "11:27:00 - cmdstanpy - INFO - Chain [1] done processing\n",
            "INFO:cmdstanpy:Chain [1] done processing\n"
          ]
        },
        {
          "output_type": "stream",
          "name": "stdout",
          "text": [
            "Model Number: 951 with model UnivariateRegression in generation 7 of 10\n",
            "New Generation: 8 of 10\n",
            "Model Number: 952 with model UnivariateMotif in generation 8 of 10\n",
            "Model Number: 953 with model Theta in generation 8 of 10\n",
            "Model Number: 954 with model ETS in generation 8 of 10\n",
            "Template Eval Error: Exception('Transformer Cointegration failed on fit') in model 954: ETS\n",
            "Model Number: 955 with model SectionalMotif in generation 8 of 10\n"
          ]
        },
        {
          "output_type": "stream",
          "name": "stderr",
          "text": [
            "/usr/local/lib/python3.7/dist-packages/sklearn/base.py:451: UserWarning:\n",
            "\n",
            "X does not have valid feature names, but MLPRegressor was fitted with feature names\n",
            "\n",
            "/usr/local/lib/python3.7/dist-packages/sklearn/base.py:451: UserWarning:\n",
            "\n",
            "X does not have valid feature names, but MLPRegressor was fitted with feature names\n",
            "\n",
            "/usr/local/lib/python3.7/dist-packages/sklearn/base.py:451: UserWarning:\n",
            "\n",
            "X does not have valid feature names, but MLPRegressor was fitted with feature names\n",
            "\n",
            "/usr/local/lib/python3.7/dist-packages/sklearn/base.py:451: UserWarning:\n",
            "\n",
            "X does not have valid feature names, but MLPRegressor was fitted with feature names\n",
            "\n",
            "/usr/local/lib/python3.7/dist-packages/sklearn/base.py:451: UserWarning:\n",
            "\n",
            "X does not have valid feature names, but MLPRegressor was fitted with feature names\n",
            "\n",
            "/usr/local/lib/python3.7/dist-packages/sklearn/base.py:451: UserWarning:\n",
            "\n",
            "X does not have valid feature names, but MLPRegressor was fitted with feature names\n",
            "\n",
            "/usr/local/lib/python3.7/dist-packages/sklearn/base.py:451: UserWarning:\n",
            "\n",
            "X does not have valid feature names, but MLPRegressor was fitted with feature names\n",
            "\n",
            "/usr/local/lib/python3.7/dist-packages/sklearn/base.py:451: UserWarning:\n",
            "\n",
            "X does not have valid feature names, but MLPRegressor was fitted with feature names\n",
            "\n",
            "/usr/local/lib/python3.7/dist-packages/sklearn/base.py:451: UserWarning:\n",
            "\n",
            "X does not have valid feature names, but MLPRegressor was fitted with feature names\n",
            "\n",
            "/usr/local/lib/python3.7/dist-packages/sklearn/base.py:451: UserWarning:\n",
            "\n",
            "X does not have valid feature names, but MLPRegressor was fitted with feature names\n",
            "\n",
            "/usr/local/lib/python3.7/dist-packages/sklearn/base.py:451: UserWarning:\n",
            "\n",
            "X does not have valid feature names, but MLPRegressor was fitted with feature names\n",
            "\n",
            "/usr/local/lib/python3.7/dist-packages/sklearn/base.py:451: UserWarning:\n",
            "\n",
            "X does not have valid feature names, but MLPRegressor was fitted with feature names\n",
            "\n",
            "/usr/local/lib/python3.7/dist-packages/sklearn/base.py:451: UserWarning:\n",
            "\n",
            "X does not have valid feature names, but MLPRegressor was fitted with feature names\n",
            "\n",
            "/usr/local/lib/python3.7/dist-packages/sklearn/base.py:451: UserWarning:\n",
            "\n",
            "X does not have valid feature names, but MLPRegressor was fitted with feature names\n",
            "\n",
            "/usr/local/lib/python3.7/dist-packages/sklearn/base.py:451: UserWarning:\n",
            "\n",
            "X does not have valid feature names, but MLPRegressor was fitted with feature names\n",
            "\n",
            "/usr/local/lib/python3.7/dist-packages/sklearn/base.py:451: UserWarning:\n",
            "\n",
            "X does not have valid feature names, but MLPRegressor was fitted with feature names\n",
            "\n",
            "/usr/local/lib/python3.7/dist-packages/sklearn/base.py:451: UserWarning:\n",
            "\n",
            "X does not have valid feature names, but MLPRegressor was fitted with feature names\n",
            "\n",
            "/usr/local/lib/python3.7/dist-packages/sklearn/base.py:451: UserWarning:\n",
            "\n",
            "X does not have valid feature names, but MLPRegressor was fitted with feature names\n",
            "\n",
            "/usr/local/lib/python3.7/dist-packages/sklearn/base.py:451: UserWarning:\n",
            "\n",
            "X does not have valid feature names, but MLPRegressor was fitted with feature names\n",
            "\n",
            "/usr/local/lib/python3.7/dist-packages/sklearn/base.py:451: UserWarning:\n",
            "\n",
            "X does not have valid feature names, but MLPRegressor was fitted with feature names\n",
            "\n",
            "/usr/local/lib/python3.7/dist-packages/sklearn/base.py:451: UserWarning:\n",
            "\n",
            "X does not have valid feature names, but MLPRegressor was fitted with feature names\n",
            "\n",
            "/usr/local/lib/python3.7/dist-packages/sklearn/base.py:451: UserWarning:\n",
            "\n",
            "X does not have valid feature names, but MLPRegressor was fitted with feature names\n",
            "\n",
            "/usr/local/lib/python3.7/dist-packages/sklearn/base.py:451: UserWarning:\n",
            "\n",
            "X does not have valid feature names, but MLPRegressor was fitted with feature names\n",
            "\n",
            "/usr/local/lib/python3.7/dist-packages/sklearn/base.py:451: UserWarning:\n",
            "\n",
            "X does not have valid feature names, but MLPRegressor was fitted with feature names\n",
            "\n",
            "/usr/local/lib/python3.7/dist-packages/sklearn/base.py:451: UserWarning:\n",
            "\n",
            "X does not have valid feature names, but MLPRegressor was fitted with feature names\n",
            "\n",
            "/usr/local/lib/python3.7/dist-packages/sklearn/base.py:451: UserWarning:\n",
            "\n",
            "X does not have valid feature names, but MLPRegressor was fitted with feature names\n",
            "\n",
            "/usr/local/lib/python3.7/dist-packages/sklearn/base.py:451: UserWarning:\n",
            "\n",
            "X does not have valid feature names, but MLPRegressor was fitted with feature names\n",
            "\n",
            "/usr/local/lib/python3.7/dist-packages/sklearn/base.py:451: UserWarning:\n",
            "\n",
            "X does not have valid feature names, but MLPRegressor was fitted with feature names\n",
            "\n",
            "/usr/local/lib/python3.7/dist-packages/sklearn/base.py:451: UserWarning:\n",
            "\n",
            "X does not have valid feature names, but MLPRegressor was fitted with feature names\n",
            "\n",
            "/usr/local/lib/python3.7/dist-packages/sklearn/base.py:451: UserWarning:\n",
            "\n",
            "X does not have valid feature names, but MLPRegressor was fitted with feature names\n",
            "\n",
            "/usr/local/lib/python3.7/dist-packages/sklearn/base.py:451: UserWarning:\n",
            "\n",
            "X does not have valid feature names, but MLPRegressor was fitted with feature names\n",
            "\n",
            "/usr/local/lib/python3.7/dist-packages/sklearn/base.py:451: UserWarning:\n",
            "\n",
            "X does not have valid feature names, but MLPRegressor was fitted with feature names\n",
            "\n",
            "/usr/local/lib/python3.7/dist-packages/sklearn/base.py:451: UserWarning:\n",
            "\n",
            "X does not have valid feature names, but MLPRegressor was fitted with feature names\n",
            "\n"
          ]
        },
        {
          "output_type": "stream",
          "name": "stdout",
          "text": [
            "Model Number: 956 with model LastValueNaive in generation 8 of 10\n",
            "Template Eval Error: ValueError(\"Model returned NaN due to a preprocessing transformer {'fillna': 'ffill', 'transformations': {'0': 'StandardScaler', '1': 'SeasonalDifference', '2': 'AlignLastValue'}, 'transformation_params': {'0': {}, '1': {'lag_1': 62, 'method': 'LastValue'}, '2': {'rows': 1, 'lag': 1, 'method': 'multiplicative', 'strength': 0.9}}}. fail_on_forecast_nan=True\") in model 956: LastValueNaive\n",
            "Model Number: 957 with model SeasonalNaive in generation 8 of 10\n",
            "Model Number: 958 with model ETS in generation 8 of 10\n",
            "Model Number: 959 with model AverageValueNaive in generation 8 of 10\n",
            "Model Number: 960 with model LastValueNaive in generation 8 of 10\n",
            "Model Number: 961 with model MultivariateRegression in generation 8 of 10\n"
          ]
        },
        {
          "output_type": "stream",
          "name": "stderr",
          "text": [
            "[Parallel(n_jobs=-2)]: Using backend SequentialBackend with 1 concurrent workers.\n",
            "[Parallel(n_jobs=-2)]: Done 200 out of 200 | elapsed:    0.5s finished\n",
            "[Parallel(n_jobs=1)]: Using backend SequentialBackend with 1 concurrent workers.\n",
            "[Parallel(n_jobs=1)]: Done 200 out of 200 | elapsed:    0.0s finished\n",
            "[Parallel(n_jobs=1)]: Using backend SequentialBackend with 1 concurrent workers.\n",
            "[Parallel(n_jobs=1)]: Done 200 out of 200 | elapsed:    0.0s finished\n",
            "[Parallel(n_jobs=1)]: Using backend SequentialBackend with 1 concurrent workers.\n",
            "[Parallel(n_jobs=1)]: Done 200 out of 200 | elapsed:    0.0s finished\n",
            "[Parallel(n_jobs=1)]: Using backend SequentialBackend with 1 concurrent workers.\n",
            "[Parallel(n_jobs=1)]: Done 200 out of 200 | elapsed:    0.0s finished\n",
            "[Parallel(n_jobs=1)]: Using backend SequentialBackend with 1 concurrent workers.\n",
            "[Parallel(n_jobs=1)]: Done 200 out of 200 | elapsed:    0.0s finished\n"
          ]
        },
        {
          "output_type": "stream",
          "name": "stdout",
          "text": [
            "Model Number: 962 with model AverageValueNaive in generation 8 of 10\n",
            "Model Number: 963 with model ConstantNaive in generation 8 of 10\n",
            "Model Number: 964 with model WindowRegression in generation 8 of 10\n",
            "Epoch 1/50\n",
            "21/21 [==============================] - 9s 122ms/step - loss: 4.3032\n",
            "Epoch 2/50\n",
            "21/21 [==============================] - 3s 122ms/step - loss: 2.9885\n",
            "Epoch 3/50\n",
            "21/21 [==============================] - 3s 121ms/step - loss: 2.5969\n",
            "Epoch 4/50\n",
            "21/21 [==============================] - 2s 117ms/step - loss: 2.4218\n",
            "Epoch 5/50\n",
            "21/21 [==============================] - 3s 123ms/step - loss: 2.2364\n",
            "Epoch 6/50\n",
            "21/21 [==============================] - 3s 123ms/step - loss: 2.1021\n",
            "Epoch 7/50\n",
            "21/21 [==============================] - 3s 122ms/step - loss: 2.0805\n",
            "Epoch 8/50\n",
            "21/21 [==============================] - 3s 119ms/step - loss: 1.9861\n",
            "Epoch 9/50\n",
            "21/21 [==============================] - 2s 112ms/step - loss: 1.8652\n",
            "Epoch 10/50\n",
            "21/21 [==============================] - 2s 115ms/step - loss: 1.8907\n",
            "Epoch 11/50\n",
            "21/21 [==============================] - 2s 111ms/step - loss: 1.8866\n",
            "Epoch 12/50\n",
            "21/21 [==============================] - 3s 120ms/step - loss: 1.8467\n",
            "Epoch 13/50\n",
            "21/21 [==============================] - 3s 121ms/step - loss: 1.7501\n",
            "Epoch 14/50\n",
            "21/21 [==============================] - 2s 112ms/step - loss: 1.7110\n",
            "Epoch 15/50\n",
            "21/21 [==============================] - 2s 118ms/step - loss: 1.7224\n",
            "Epoch 16/50\n",
            "21/21 [==============================] - 2s 117ms/step - loss: 1.6867\n",
            "Epoch 17/50\n",
            "21/21 [==============================] - 2s 113ms/step - loss: 1.5989\n",
            "Epoch 18/50\n",
            "21/21 [==============================] - 3s 127ms/step - loss: 1.6466\n",
            "Epoch 19/50\n",
            "21/21 [==============================] - 2s 113ms/step - loss: 1.6137\n",
            "Epoch 20/50\n",
            "21/21 [==============================] - 2s 111ms/step - loss: 1.5906\n",
            "Epoch 21/50\n",
            "21/21 [==============================] - 2s 118ms/step - loss: 1.5589\n",
            "Epoch 22/50\n",
            "21/21 [==============================] - 2s 117ms/step - loss: 1.5133\n",
            "Epoch 23/50\n",
            "21/21 [==============================] - 2s 112ms/step - loss: 1.5647\n",
            "Epoch 24/50\n",
            "21/21 [==============================] - 3s 120ms/step - loss: 1.5455\n",
            "Epoch 25/50\n",
            "21/21 [==============================] - 3s 123ms/step - loss: 1.5184\n",
            "Epoch 26/50\n",
            "21/21 [==============================] - 3s 141ms/step - loss: 1.5315\n",
            "Epoch 27/50\n",
            "21/21 [==============================] - 2s 115ms/step - loss: 1.4665\n",
            "Epoch 28/50\n",
            "21/21 [==============================] - 2s 116ms/step - loss: 1.5031\n",
            "Epoch 29/50\n",
            "21/21 [==============================] - 2s 119ms/step - loss: 1.4804\n",
            "Epoch 30/50\n",
            "21/21 [==============================] - 3s 127ms/step - loss: 1.4649\n",
            "Epoch 31/50\n",
            "21/21 [==============================] - 3s 123ms/step - loss: 1.5028\n",
            "Epoch 32/50\n",
            "21/21 [==============================] - 2s 113ms/step - loss: 1.4145\n",
            "Epoch 33/50\n",
            "21/21 [==============================] - 2s 110ms/step - loss: 1.4951\n",
            "Epoch 34/50\n",
            "21/21 [==============================] - 2s 114ms/step - loss: 1.4269\n",
            "Epoch 35/50\n",
            "21/21 [==============================] - 2s 112ms/step - loss: 1.4135\n",
            "Epoch 36/50\n",
            "21/21 [==============================] - 2s 113ms/step - loss: 1.3990\n",
            "Epoch 37/50\n",
            "21/21 [==============================] - 3s 124ms/step - loss: 1.3882\n",
            "Epoch 38/50\n",
            "21/21 [==============================] - 3s 122ms/step - loss: 1.4159\n",
            "Epoch 39/50\n",
            "21/21 [==============================] - 3s 123ms/step - loss: 1.4680\n",
            "Epoch 40/50\n",
            "21/21 [==============================] - 2s 113ms/step - loss: 1.3811\n",
            "Epoch 41/50\n",
            "21/21 [==============================] - 2s 115ms/step - loss: 1.3710\n",
            "Epoch 42/50\n",
            "21/21 [==============================] - 2s 112ms/step - loss: 1.4127\n",
            "Epoch 43/50\n",
            "21/21 [==============================] - 3s 123ms/step - loss: 1.3762\n",
            "Epoch 44/50\n",
            "21/21 [==============================] - 3s 121ms/step - loss: 1.4014\n",
            "Epoch 45/50\n",
            "21/21 [==============================] - 3s 124ms/step - loss: 1.4222\n",
            "Epoch 46/50\n",
            "21/21 [==============================] - 2s 115ms/step - loss: 1.3245\n",
            "Epoch 47/50\n",
            "21/21 [==============================] - 2s 112ms/step - loss: 1.4023\n",
            "Epoch 48/50\n",
            "21/21 [==============================] - 3s 125ms/step - loss: 1.4038\n",
            "Epoch 49/50\n",
            "21/21 [==============================] - 3s 124ms/step - loss: 1.3211\n",
            "Epoch 50/50\n",
            "21/21 [==============================] - 3s 125ms/step - loss: 1.3839\n",
            "Model Number: 965 with model ETS in generation 8 of 10\n",
            "Model Number: 966 with model GLM in generation 8 of 10\n",
            "Model Number: 967 with model WindowRegression in generation 8 of 10\n",
            "Model Number: 968 with model DatepartRegression in generation 8 of 10\n",
            "Model Number: 969 with model ETS in generation 8 of 10\n",
            "Model Number: 970 with model SeasonalNaive in generation 8 of 10\n"
          ]
        },
        {
          "output_type": "stream",
          "name": "stderr",
          "text": [
            "/usr/local/lib/python3.7/dist-packages/sklearn/neural_network/_multilayer_perceptron.py:549: ConvergenceWarning:\n",
            "\n",
            "lbfgs failed to converge (status=1):\n",
            "STOP: TOTAL NO. of ITERATIONS REACHED LIMIT.\n",
            "\n",
            "Increase the number of iterations (max_iter) or scale the data as shown in:\n",
            "    https://scikit-learn.org/stable/modules/preprocessing.html\n",
            "\n"
          ]
        },
        {
          "output_type": "stream",
          "name": "stdout",
          "text": [
            "Model Number: 971 with model Theta in generation 8 of 10\n",
            "Model Number: 972 with model DatepartRegression in generation 8 of 10\n",
            "Model Number: 973 with model MultivariateMotif in generation 8 of 10\n"
          ]
        },
        {
          "output_type": "stream",
          "name": "stderr",
          "text": [
            "/usr/local/lib/python3.7/dist-packages/sklearn/neural_network/_multilayer_perceptron.py:549: ConvergenceWarning:\n",
            "\n",
            "lbfgs failed to converge (status=1):\n",
            "STOP: TOTAL NO. of ITERATIONS REACHED LIMIT.\n",
            "\n",
            "Increase the number of iterations (max_iter) or scale the data as shown in:\n",
            "    https://scikit-learn.org/stable/modules/preprocessing.html\n",
            "\n"
          ]
        },
        {
          "output_type": "stream",
          "name": "stdout",
          "text": [
            "Model Number: 974 with model UnobservedComponents in generation 8 of 10\n",
            "Model Number: 975 with model UnivariateRegression in generation 8 of 10\n",
            "Model Number: 976 with model ETS in generation 8 of 10\n"
          ]
        },
        {
          "output_type": "stream",
          "name": "stderr",
          "text": [
            "/usr/local/lib/python3.7/dist-packages/sklearn/linear_model/_coordinate_descent.py:2450: ConvergenceWarning:\n",
            "\n",
            "Objective did not converge. You might want to increase the number of iterations. Duality gap: 75.21816044207402, tolerance: 40.364467255709265\n",
            "\n"
          ]
        },
        {
          "output_type": "stream",
          "name": "stdout",
          "text": [
            "Model Number: 977 with model ARIMA in generation 8 of 10\n",
            "Model Number: 978 with model UnivariateMotif in generation 8 of 10\n",
            "Model Number: 979 with model GLS in generation 8 of 10\n",
            "Model Number: 980 with model AverageValueNaive in generation 8 of 10\n",
            "Model Number: 981 with model UnivariateRegression in generation 8 of 10\n",
            "Model Number: 982 with model UnobservedComponents in generation 8 of 10\n",
            "Model Number: 983 with model UnivariateRegression in generation 8 of 10\n",
            "Model Number: 984 with model Theta in generation 8 of 10\n",
            "Model Number: 985 with model DatepartRegression in generation 8 of 10\n",
            "Model Number: 986 with model MultivariateMotif in generation 8 of 10\n",
            "Model Number: 987 with model AverageValueNaive in generation 8 of 10\n",
            "Model Number: 988 with model NVAR in generation 8 of 10\n",
            "Model Number: 989 with model WindowRegression in generation 8 of 10\n"
          ]
        },
        {
          "output_type": "stream",
          "name": "stderr",
          "text": [
            "/usr/local/lib/python3.7/dist-packages/sklearn/linear_model/_ridge.py:157: LinAlgWarning:\n",
            "\n",
            "Ill-conditioned matrix (rcond=6.45737e-25): result may not be accurate.\n",
            "\n"
          ]
        },
        {
          "output_type": "stream",
          "name": "stdout",
          "text": [
            "Epoch 1/50\n",
            "7/7 [==============================] - 3s 102ms/step - loss: 157.4132 - val_loss: 118.9906\n",
            "Epoch 2/50\n",
            "7/7 [==============================] - 0s 45ms/step - loss: 163.5109 - val_loss: 117.6453\n",
            "Epoch 3/50\n",
            "7/7 [==============================] - 0s 37ms/step - loss: 150.0802 - val_loss: 116.3066\n",
            "Epoch 4/50\n",
            "7/7 [==============================] - 0s 35ms/step - loss: 152.3099 - val_loss: 114.9977\n",
            "Epoch 5/50\n",
            "7/7 [==============================] - 0s 41ms/step - loss: 151.8675 - val_loss: 113.4117\n",
            "Epoch 6/50\n",
            "7/7 [==============================] - 0s 37ms/step - loss: 159.5621 - val_loss: 111.9159\n",
            "Epoch 7/50\n",
            "7/7 [==============================] - 0s 45ms/step - loss: 137.0115 - val_loss: 110.5506\n",
            "Epoch 8/50\n",
            "7/7 [==============================] - 0s 42ms/step - loss: 130.9880 - val_loss: 109.2790\n",
            "Epoch 9/50\n",
            "7/7 [==============================] - 0s 44ms/step - loss: 144.3186 - val_loss: 108.1377\n",
            "Epoch 10/50\n",
            "7/7 [==============================] - 0s 35ms/step - loss: 145.0117 - val_loss: 107.1175\n",
            "Epoch 11/50\n",
            "7/7 [==============================] - 0s 36ms/step - loss: 139.8480 - val_loss: 106.0969\n",
            "Epoch 12/50\n",
            "7/7 [==============================] - 0s 38ms/step - loss: 153.1333 - val_loss: 105.1520\n",
            "Epoch 13/50\n",
            "7/7 [==============================] - 0s 32ms/step - loss: 134.5652 - val_loss: 104.0799\n",
            "Epoch 14/50\n",
            "7/7 [==============================] - 0s 36ms/step - loss: 123.1471 - val_loss: 102.9751\n",
            "Epoch 15/50\n",
            "7/7 [==============================] - 0s 34ms/step - loss: 120.2995 - val_loss: 101.9389\n",
            "Epoch 16/50\n",
            "7/7 [==============================] - 0s 38ms/step - loss: 125.2041 - val_loss: 100.9302\n",
            "Epoch 17/50\n",
            "7/7 [==============================] - 0s 36ms/step - loss: 132.9904 - val_loss: 99.9653\n",
            "Epoch 18/50\n",
            "7/7 [==============================] - 0s 33ms/step - loss: 140.3035 - val_loss: 99.1176\n",
            "Epoch 19/50\n",
            "7/7 [==============================] - 0s 32ms/step - loss: 119.4724 - val_loss: 98.4029\n",
            "Epoch 20/50\n",
            "7/7 [==============================] - 0s 39ms/step - loss: 136.9942 - val_loss: 97.7274\n",
            "Epoch 21/50\n",
            "7/7 [==============================] - 0s 33ms/step - loss: 120.1712 - val_loss: 96.7775\n",
            "Epoch 22/50\n",
            "7/7 [==============================] - 0s 35ms/step - loss: 126.8400 - val_loss: 95.9640\n",
            "Epoch 23/50\n",
            "7/7 [==============================] - 0s 34ms/step - loss: 119.3352 - val_loss: 95.3387\n",
            "Epoch 24/50\n",
            "7/7 [==============================] - 0s 42ms/step - loss: 131.0882 - val_loss: 94.7943\n",
            "Epoch 25/50\n",
            "7/7 [==============================] - 0s 33ms/step - loss: 128.4516 - val_loss: 94.2316\n",
            "Epoch 26/50\n",
            "7/7 [==============================] - 0s 46ms/step - loss: 131.8050 - val_loss: 93.5598\n",
            "Epoch 27/50\n",
            "7/7 [==============================] - 0s 46ms/step - loss: 128.7081 - val_loss: 92.8655\n",
            "Epoch 28/50\n",
            "7/7 [==============================] - 0s 45ms/step - loss: 123.3088 - val_loss: 92.0570\n",
            "Epoch 29/50\n",
            "7/7 [==============================] - 0s 48ms/step - loss: 127.6818 - val_loss: 91.4116\n",
            "Epoch 30/50\n",
            "7/7 [==============================] - 0s 43ms/step - loss: 117.7966 - val_loss: 90.8035\n",
            "Epoch 31/50\n",
            "7/7 [==============================] - 0s 45ms/step - loss: 121.7867 - val_loss: 90.2210\n",
            "Epoch 32/50\n",
            "7/7 [==============================] - 0s 42ms/step - loss: 108.2525 - val_loss: 89.6652\n",
            "Epoch 33/50\n",
            "7/7 [==============================] - 0s 39ms/step - loss: 117.7725 - val_loss: 89.1015\n",
            "Epoch 34/50\n",
            "7/7 [==============================] - 0s 45ms/step - loss: 123.9378 - val_loss: 88.6560\n",
            "Epoch 35/50\n",
            "7/7 [==============================] - 0s 45ms/step - loss: 115.0721 - val_loss: 88.4030\n",
            "Epoch 36/50\n",
            "7/7 [==============================] - 0s 42ms/step - loss: 121.1925 - val_loss: 88.0169\n",
            "Epoch 37/50\n",
            "7/7 [==============================] - 0s 42ms/step - loss: 115.4972 - val_loss: 87.5652\n",
            "Epoch 38/50\n",
            "7/7 [==============================] - 0s 46ms/step - loss: 112.8190 - val_loss: 87.1371\n",
            "Epoch 39/50\n",
            "7/7 [==============================] - 0s 47ms/step - loss: 114.5517 - val_loss: 86.6766\n",
            "Epoch 40/50\n",
            "7/7 [==============================] - 0s 47ms/step - loss: 122.9081 - val_loss: 86.1968\n",
            "Epoch 41/50\n",
            "7/7 [==============================] - 0s 36ms/step - loss: 111.3851 - val_loss: 85.7417\n",
            "Epoch 42/50\n",
            "7/7 [==============================] - 0s 36ms/step - loss: 114.9816 - val_loss: 84.8112\n",
            "Epoch 43/50\n",
            "7/7 [==============================] - 0s 37ms/step - loss: 104.7390 - val_loss: 84.0431\n",
            "Epoch 44/50\n",
            "7/7 [==============================] - 0s 41ms/step - loss: 117.3917 - val_loss: 83.1304\n",
            "Epoch 45/50\n",
            "7/7 [==============================] - 0s 37ms/step - loss: 111.9198 - val_loss: 82.3183\n",
            "Epoch 46/50\n",
            "7/7 [==============================] - 0s 41ms/step - loss: 105.5725 - val_loss: 81.7871\n",
            "Epoch 47/50\n",
            "7/7 [==============================] - 0s 46ms/step - loss: 115.6955 - val_loss: 81.4482\n",
            "Epoch 48/50\n",
            "7/7 [==============================] - 0s 45ms/step - loss: 107.0244 - val_loss: 81.1173\n",
            "Epoch 49/50\n",
            "7/7 [==============================] - 0s 44ms/step - loss: 104.7218 - val_loss: 80.6995\n",
            "Epoch 50/50\n",
            "7/7 [==============================] - 0s 44ms/step - loss: 109.7439 - val_loss: 79.8682\n",
            "Model Number: 990 with model UnivariateRegression in generation 8 of 10\n",
            "Model Number: 991 with model LastValueNaive in generation 8 of 10\n",
            "Model Number: 992 with model SeasonalNaive in generation 8 of 10\n",
            "Model Number: 993 with model SectionalMotif in generation 8 of 10\n",
            "Model Number: 994 with model DatepartRegression in generation 8 of 10\n",
            "Model Number: 995 with model SeasonalNaive in generation 8 of 10\n"
          ]
        },
        {
          "output_type": "stream",
          "name": "stderr",
          "text": [
            "/usr/local/lib/python3.7/dist-packages/sklearn/neural_network/_multilayer_perceptron.py:549: ConvergenceWarning:\n",
            "\n",
            "lbfgs failed to converge (status=1):\n",
            "STOP: TOTAL NO. of ITERATIONS REACHED LIMIT.\n",
            "\n",
            "Increase the number of iterations (max_iter) or scale the data as shown in:\n",
            "    https://scikit-learn.org/stable/modules/preprocessing.html\n",
            "\n"
          ]
        },
        {
          "output_type": "stream",
          "name": "stdout",
          "text": [
            "Model Number: 996 with model ARIMA in generation 8 of 10\n",
            "Model Number: 997 with model UnobservedComponents in generation 8 of 10\n",
            "Template Eval Error: Exception('Transformer BTCD failed on fit') in model 997: UnobservedComponents\n",
            "Model Number: 998 with model ETS in generation 8 of 10\n",
            "Template Eval Error: Exception('Transformer Cointegration failed on fit') in model 998: ETS\n",
            "Model Number: 999 with model ETS in generation 8 of 10\n",
            "Model Number: 1000 with model DatepartRegression in generation 8 of 10\n",
            "Model Number: 1001 with model MultivariateMotif in generation 8 of 10\n",
            "Model Number: 1002 with model LastValueNaive in generation 8 of 10\n"
          ]
        },
        {
          "output_type": "stream",
          "name": "stderr",
          "text": [
            "/usr/local/lib/python3.7/dist-packages/sklearn/neural_network/_multilayer_perceptron.py:549: ConvergenceWarning:\n",
            "\n",
            "lbfgs failed to converge (status=1):\n",
            "STOP: TOTAL NO. of ITERATIONS REACHED LIMIT.\n",
            "\n",
            "Increase the number of iterations (max_iter) or scale the data as shown in:\n",
            "    https://scikit-learn.org/stable/modules/preprocessing.html\n",
            "\n"
          ]
        },
        {
          "output_type": "stream",
          "name": "stdout",
          "text": [
            "Model Number: 1003 with model MultivariateRegression in generation 8 of 10\n",
            "[LibLinear][LibLinear][LibLinear][LibLinear][LibLinear][LibLinear]"
          ]
        },
        {
          "output_type": "stream",
          "name": "stderr",
          "text": [
            "/usr/local/lib/python3.7/dist-packages/sklearn/svm/_base.py:1208: ConvergenceWarning:\n",
            "\n",
            "Liblinear failed to converge, increase the number of iterations.\n",
            "\n",
            "/usr/local/lib/python3.7/dist-packages/sklearn/svm/_base.py:1208: ConvergenceWarning:\n",
            "\n",
            "Liblinear failed to converge, increase the number of iterations.\n",
            "\n",
            "/usr/local/lib/python3.7/dist-packages/sklearn/svm/_base.py:1208: ConvergenceWarning:\n",
            "\n",
            "Liblinear failed to converge, increase the number of iterations.\n",
            "\n",
            "/usr/local/lib/python3.7/dist-packages/sklearn/svm/_base.py:1208: ConvergenceWarning:\n",
            "\n",
            "Liblinear failed to converge, increase the number of iterations.\n",
            "\n",
            "/usr/local/lib/python3.7/dist-packages/sklearn/svm/_base.py:1208: ConvergenceWarning:\n",
            "\n",
            "Liblinear failed to converge, increase the number of iterations.\n",
            "\n",
            "/usr/local/lib/python3.7/dist-packages/sklearn/svm/_base.py:1208: ConvergenceWarning:\n",
            "\n",
            "Liblinear failed to converge, increase the number of iterations.\n",
            "\n",
            "/usr/local/lib/python3.7/dist-packages/sklearn/svm/_base.py:1208: ConvergenceWarning:\n",
            "\n",
            "Liblinear failed to converge, increase the number of iterations.\n",
            "\n",
            "/usr/local/lib/python3.7/dist-packages/sklearn/svm/_base.py:1208: ConvergenceWarning:\n",
            "\n",
            "Liblinear failed to converge, increase the number of iterations.\n",
            "\n"
          ]
        },
        {
          "output_type": "stream",
          "name": "stdout",
          "text": [
            "[LibLinear][LibLinear][LibLinear][LibLinear][LibLinear][LibLinear][LibLinear][LibLinear]"
          ]
        },
        {
          "output_type": "stream",
          "name": "stderr",
          "text": [
            "/usr/local/lib/python3.7/dist-packages/sklearn/svm/_base.py:1208: ConvergenceWarning:\n",
            "\n",
            "Liblinear failed to converge, increase the number of iterations.\n",
            "\n",
            "/usr/local/lib/python3.7/dist-packages/sklearn/svm/_base.py:1208: ConvergenceWarning:\n",
            "\n",
            "Liblinear failed to converge, increase the number of iterations.\n",
            "\n",
            "/usr/local/lib/python3.7/dist-packages/sklearn/svm/_base.py:1208: ConvergenceWarning:\n",
            "\n",
            "Liblinear failed to converge, increase the number of iterations.\n",
            "\n",
            "/usr/local/lib/python3.7/dist-packages/sklearn/svm/_base.py:1208: ConvergenceWarning:\n",
            "\n",
            "Liblinear failed to converge, increase the number of iterations.\n",
            "\n",
            "/usr/local/lib/python3.7/dist-packages/sklearn/svm/_base.py:1208: ConvergenceWarning:\n",
            "\n",
            "Liblinear failed to converge, increase the number of iterations.\n",
            "\n",
            "/usr/local/lib/python3.7/dist-packages/sklearn/svm/_base.py:1208: ConvergenceWarning:\n",
            "\n",
            "Liblinear failed to converge, increase the number of iterations.\n",
            "\n",
            "/usr/local/lib/python3.7/dist-packages/sklearn/svm/_base.py:1208: ConvergenceWarning:\n",
            "\n",
            "Liblinear failed to converge, increase the number of iterations.\n",
            "\n"
          ]
        },
        {
          "output_type": "stream",
          "name": "stdout",
          "text": [
            "[LibLinear]Model Number: 1004 with model AverageValueNaive in generation 8 of 10\n",
            "Model Number: 1005 with model AverageValueNaive in generation 8 of 10\n",
            "Model Number: 1006 with model ARIMA in generation 8 of 10\n",
            "Model Number: 1007 with model WindowRegression in generation 8 of 10\n",
            "Template Eval Error: ValueError(\"regression_type='User' but no future_regressor passed\") in model 1007: WindowRegression\n",
            "Model Number: 1008 with model WindowRegression in generation 8 of 10\n",
            "Template Eval Error: ValueError(\"regression_type='User' but no future_regressor passed\") in model 1008: WindowRegression\n",
            "Model Number: 1009 with model NVAR in generation 8 of 10\n",
            "Template Eval Error: LinAlgError('SVD did not converge') in model 1009: NVAR\n",
            "Model Number: 1010 with model UnivariateMotif in generation 8 of 10\n",
            "Model Number: 1011 with model ETS in generation 8 of 10\n",
            "Model Number: 1012 with model MultivariateRegression in generation 8 of 10\n"
          ]
        },
        {
          "output_type": "stream",
          "name": "stderr",
          "text": [
            "[Parallel(n_jobs=-2)]: Using backend SequentialBackend with 1 concurrent workers.\n",
            "[Parallel(n_jobs=-2)]: Done 200 out of 200 | elapsed:    0.2s finished\n",
            "[Parallel(n_jobs=1)]: Using backend SequentialBackend with 1 concurrent workers.\n",
            "[Parallel(n_jobs=1)]: Done 200 out of 200 | elapsed:    0.0s finished\n",
            "[Parallel(n_jobs=1)]: Using backend SequentialBackend with 1 concurrent workers.\n",
            "[Parallel(n_jobs=1)]: Done 200 out of 200 | elapsed:    0.0s finished\n",
            "[Parallel(n_jobs=1)]: Using backend SequentialBackend with 1 concurrent workers.\n",
            "[Parallel(n_jobs=1)]: Done 200 out of 200 | elapsed:    0.0s finished\n",
            "[Parallel(n_jobs=1)]: Using backend SequentialBackend with 1 concurrent workers.\n",
            "[Parallel(n_jobs=1)]: Done 200 out of 200 | elapsed:    0.0s finished\n",
            "[Parallel(n_jobs=1)]: Using backend SequentialBackend with 1 concurrent workers.\n",
            "[Parallel(n_jobs=1)]: Done 200 out of 200 | elapsed:    0.0s finished\n",
            "INFO:prophet:Disabling yearly seasonality. Run prophet with yearly_seasonality=True to override this.\n",
            "INFO:prophet:Disabling daily seasonality. Run prophet with daily_seasonality=True to override this.\n",
            "DEBUG:cmdstanpy:input tempfile: /tmp/tmpjl9_res0/e87bvevh.json\n",
            "DEBUG:cmdstanpy:input tempfile: /tmp/tmpjl9_res0/ucp7_p6z.json\n",
            "DEBUG:cmdstanpy:idx 0\n",
            "DEBUG:cmdstanpy:running CmdStan, num_threads: None\n",
            "DEBUG:cmdstanpy:CmdStan args: ['/usr/local/lib/python3.7/dist-packages/prophet/stan_model/prophet_model.bin', 'random', 'seed=76515', 'data', 'file=/tmp/tmpjl9_res0/e87bvevh.json', 'init=/tmp/tmpjl9_res0/ucp7_p6z.json', 'output', 'file=/tmp/tmp926hyw36/prophet_model-20220831113012.csv', 'method=optimize', 'algorithm=lbfgs', 'iter=10000']\n",
            "11:30:12 - cmdstanpy - INFO - Chain [1] start processing\n",
            "INFO:cmdstanpy:Chain [1] start processing\n",
            "11:30:12 - cmdstanpy - INFO - Chain [1] done processing\n",
            "INFO:cmdstanpy:Chain [1] done processing\n"
          ]
        },
        {
          "output_type": "stream",
          "name": "stdout",
          "text": [
            "Model Number: 1013 with model FBProphet in generation 8 of 10\n",
            "Model Number: 1014 with model GLS in generation 8 of 10\n",
            "Model Number: 1015 with model ETS in generation 8 of 10\n",
            "Model Number: 1016 with model UnivariateRegression in generation 8 of 10\n",
            "Model Number: 1017 with model MultivariateMotif in generation 8 of 10\n",
            "Model Number: 1018 with model MultivariateMotif in generation 8 of 10\n",
            "Template Eval Error: ValueError('Model MultivariateMotif returned NaN for one or more series. fail_on_forecast_nan=True') in model 1018: MultivariateMotif\n",
            "Model Number: 1019 with model MultivariateRegression in generation 8 of 10\n",
            "[LibLinear][LibLinear][LibLinear][LibLinear]"
          ]
        },
        {
          "output_type": "stream",
          "name": "stderr",
          "text": [
            "/usr/local/lib/python3.7/dist-packages/sklearn/svm/_base.py:1208: ConvergenceWarning:\n",
            "\n",
            "Liblinear failed to converge, increase the number of iterations.\n",
            "\n",
            "/usr/local/lib/python3.7/dist-packages/sklearn/svm/_base.py:1208: ConvergenceWarning:\n",
            "\n",
            "Liblinear failed to converge, increase the number of iterations.\n",
            "\n",
            "/usr/local/lib/python3.7/dist-packages/sklearn/svm/_base.py:1208: ConvergenceWarning:\n",
            "\n",
            "Liblinear failed to converge, increase the number of iterations.\n",
            "\n",
            "/usr/local/lib/python3.7/dist-packages/sklearn/svm/_base.py:1208: ConvergenceWarning:\n",
            "\n",
            "Liblinear failed to converge, increase the number of iterations.\n",
            "\n",
            "/usr/local/lib/python3.7/dist-packages/sklearn/svm/_base.py:1208: ConvergenceWarning:\n",
            "\n",
            "Liblinear failed to converge, increase the number of iterations.\n",
            "\n",
            "/usr/local/lib/python3.7/dist-packages/sklearn/svm/_base.py:1208: ConvergenceWarning:\n",
            "\n",
            "Liblinear failed to converge, increase the number of iterations.\n",
            "\n"
          ]
        },
        {
          "output_type": "stream",
          "name": "stdout",
          "text": [
            "[LibLinear][LibLinear][LibLinear][LibLinear][LibLinear][LibLinear]"
          ]
        },
        {
          "output_type": "stream",
          "name": "stderr",
          "text": [
            "/usr/local/lib/python3.7/dist-packages/sklearn/svm/_base.py:1208: ConvergenceWarning:\n",
            "\n",
            "Liblinear failed to converge, increase the number of iterations.\n",
            "\n",
            "/usr/local/lib/python3.7/dist-packages/sklearn/svm/_base.py:1208: ConvergenceWarning:\n",
            "\n",
            "Liblinear failed to converge, increase the number of iterations.\n",
            "\n",
            "/usr/local/lib/python3.7/dist-packages/sklearn/svm/_base.py:1208: ConvergenceWarning:\n",
            "\n",
            "Liblinear failed to converge, increase the number of iterations.\n",
            "\n",
            "/usr/local/lib/python3.7/dist-packages/sklearn/svm/_base.py:1208: ConvergenceWarning:\n",
            "\n",
            "Liblinear failed to converge, increase the number of iterations.\n",
            "\n",
            "/usr/local/lib/python3.7/dist-packages/sklearn/svm/_base.py:1208: ConvergenceWarning:\n",
            "\n",
            "Liblinear failed to converge, increase the number of iterations.\n",
            "\n",
            "/usr/local/lib/python3.7/dist-packages/sklearn/svm/_base.py:1208: ConvergenceWarning:\n",
            "\n",
            "Liblinear failed to converge, increase the number of iterations.\n",
            "\n"
          ]
        },
        {
          "output_type": "stream",
          "name": "stdout",
          "text": [
            "[LibLinear][LibLinear][LibLinear][LibLinear][LibLinear][LibLinear]"
          ]
        },
        {
          "output_type": "stream",
          "name": "stderr",
          "text": [
            "/usr/local/lib/python3.7/dist-packages/sklearn/svm/_base.py:1208: ConvergenceWarning:\n",
            "\n",
            "Liblinear failed to converge, increase the number of iterations.\n",
            "\n",
            "/usr/local/lib/python3.7/dist-packages/sklearn/svm/_base.py:1208: ConvergenceWarning:\n",
            "\n",
            "Liblinear failed to converge, increase the number of iterations.\n",
            "\n",
            "/usr/local/lib/python3.7/dist-packages/sklearn/svm/_base.py:1208: ConvergenceWarning:\n",
            "\n",
            "Liblinear failed to converge, increase the number of iterations.\n",
            "\n",
            "/usr/local/lib/python3.7/dist-packages/sklearn/svm/_base.py:1208: ConvergenceWarning:\n",
            "\n",
            "Liblinear failed to converge, increase the number of iterations.\n",
            "\n",
            "/usr/local/lib/python3.7/dist-packages/sklearn/svm/_base.py:1208: ConvergenceWarning:\n",
            "\n",
            "Liblinear failed to converge, increase the number of iterations.\n",
            "\n",
            "/usr/local/lib/python3.7/dist-packages/sklearn/svm/_base.py:1208: ConvergenceWarning:\n",
            "\n",
            "Liblinear failed to converge, increase the number of iterations.\n",
            "\n"
          ]
        },
        {
          "output_type": "stream",
          "name": "stdout",
          "text": [
            "[LibLinear][LibLinear][LibLinear][LibLinear][LibLinear][LibLinear]"
          ]
        },
        {
          "output_type": "stream",
          "name": "stderr",
          "text": [
            "/usr/local/lib/python3.7/dist-packages/sklearn/svm/_base.py:1208: ConvergenceWarning:\n",
            "\n",
            "Liblinear failed to converge, increase the number of iterations.\n",
            "\n",
            "/usr/local/lib/python3.7/dist-packages/sklearn/svm/_base.py:1208: ConvergenceWarning:\n",
            "\n",
            "Liblinear failed to converge, increase the number of iterations.\n",
            "\n",
            "/usr/local/lib/python3.7/dist-packages/sklearn/svm/_base.py:1208: ConvergenceWarning:\n",
            "\n",
            "Liblinear failed to converge, increase the number of iterations.\n",
            "\n",
            "/usr/local/lib/python3.7/dist-packages/sklearn/svm/_base.py:1208: ConvergenceWarning:\n",
            "\n",
            "Liblinear failed to converge, increase the number of iterations.\n",
            "\n",
            "/usr/local/lib/python3.7/dist-packages/sklearn/svm/_base.py:1208: ConvergenceWarning:\n",
            "\n",
            "Liblinear failed to converge, increase the number of iterations.\n",
            "\n",
            "/usr/local/lib/python3.7/dist-packages/sklearn/svm/_base.py:1208: ConvergenceWarning:\n",
            "\n",
            "Liblinear failed to converge, increase the number of iterations.\n",
            "\n"
          ]
        },
        {
          "output_type": "stream",
          "name": "stdout",
          "text": [
            "[LibLinear][LibLinear][LibLinear][LibLinear][LibLinear][LibLinear]"
          ]
        },
        {
          "output_type": "stream",
          "name": "stderr",
          "text": [
            "/usr/local/lib/python3.7/dist-packages/sklearn/svm/_base.py:1208: ConvergenceWarning:\n",
            "\n",
            "Liblinear failed to converge, increase the number of iterations.\n",
            "\n",
            "/usr/local/lib/python3.7/dist-packages/sklearn/svm/_base.py:1208: ConvergenceWarning:\n",
            "\n",
            "Liblinear failed to converge, increase the number of iterations.\n",
            "\n",
            "/usr/local/lib/python3.7/dist-packages/sklearn/svm/_base.py:1208: ConvergenceWarning:\n",
            "\n",
            "Liblinear failed to converge, increase the number of iterations.\n",
            "\n",
            "/usr/local/lib/python3.7/dist-packages/sklearn/svm/_base.py:1208: ConvergenceWarning:\n",
            "\n",
            "Liblinear failed to converge, increase the number of iterations.\n",
            "\n",
            "/usr/local/lib/python3.7/dist-packages/sklearn/svm/_base.py:1208: ConvergenceWarning:\n",
            "\n",
            "Liblinear failed to converge, increase the number of iterations.\n",
            "\n",
            "/usr/local/lib/python3.7/dist-packages/sklearn/svm/_base.py:1208: ConvergenceWarning:\n",
            "\n",
            "Liblinear failed to converge, increase the number of iterations.\n",
            "\n"
          ]
        },
        {
          "output_type": "stream",
          "name": "stdout",
          "text": [
            "[LibLinear][LibLinear][LibLinear][LibLinear][LibLinear][LibLinear]"
          ]
        },
        {
          "output_type": "stream",
          "name": "stderr",
          "text": [
            "/usr/local/lib/python3.7/dist-packages/sklearn/svm/_base.py:1208: ConvergenceWarning:\n",
            "\n",
            "Liblinear failed to converge, increase the number of iterations.\n",
            "\n",
            "/usr/local/lib/python3.7/dist-packages/sklearn/svm/_base.py:1208: ConvergenceWarning:\n",
            "\n",
            "Liblinear failed to converge, increase the number of iterations.\n",
            "\n",
            "/usr/local/lib/python3.7/dist-packages/sklearn/svm/_base.py:1208: ConvergenceWarning:\n",
            "\n",
            "Liblinear failed to converge, increase the number of iterations.\n",
            "\n",
            "/usr/local/lib/python3.7/dist-packages/sklearn/svm/_base.py:1208: ConvergenceWarning:\n",
            "\n",
            "Liblinear failed to converge, increase the number of iterations.\n",
            "\n",
            "/usr/local/lib/python3.7/dist-packages/sklearn/svm/_base.py:1208: ConvergenceWarning:\n",
            "\n",
            "Liblinear failed to converge, increase the number of iterations.\n",
            "\n",
            "/usr/local/lib/python3.7/dist-packages/sklearn/svm/_base.py:1208: ConvergenceWarning:\n",
            "\n",
            "Liblinear failed to converge, increase the number of iterations.\n",
            "\n"
          ]
        },
        {
          "output_type": "stream",
          "name": "stdout",
          "text": [
            "[LibLinear][LibLinear][LibLinear][LibLinear][LibLinear]"
          ]
        },
        {
          "output_type": "stream",
          "name": "stderr",
          "text": [
            "/usr/local/lib/python3.7/dist-packages/sklearn/svm/_base.py:1208: ConvergenceWarning:\n",
            "\n",
            "Liblinear failed to converge, increase the number of iterations.\n",
            "\n",
            "/usr/local/lib/python3.7/dist-packages/sklearn/svm/_base.py:1208: ConvergenceWarning:\n",
            "\n",
            "Liblinear failed to converge, increase the number of iterations.\n",
            "\n",
            "/usr/local/lib/python3.7/dist-packages/sklearn/svm/_base.py:1208: ConvergenceWarning:\n",
            "\n",
            "Liblinear failed to converge, increase the number of iterations.\n",
            "\n",
            "/usr/local/lib/python3.7/dist-packages/sklearn/svm/_base.py:1208: ConvergenceWarning:\n",
            "\n",
            "Liblinear failed to converge, increase the number of iterations.\n",
            "\n",
            "/usr/local/lib/python3.7/dist-packages/sklearn/svm/_base.py:1208: ConvergenceWarning:\n",
            "\n",
            "Liblinear failed to converge, increase the number of iterations.\n",
            "\n"
          ]
        },
        {
          "output_type": "stream",
          "name": "stdout",
          "text": [
            "[LibLinear][LibLinear][LibLinear][LibLinear][LibLinear][LibLinear]"
          ]
        },
        {
          "output_type": "stream",
          "name": "stderr",
          "text": [
            "/usr/local/lib/python3.7/dist-packages/sklearn/svm/_base.py:1208: ConvergenceWarning:\n",
            "\n",
            "Liblinear failed to converge, increase the number of iterations.\n",
            "\n",
            "/usr/local/lib/python3.7/dist-packages/sklearn/svm/_base.py:1208: ConvergenceWarning:\n",
            "\n",
            "Liblinear failed to converge, increase the number of iterations.\n",
            "\n",
            "/usr/local/lib/python3.7/dist-packages/sklearn/svm/_base.py:1208: ConvergenceWarning:\n",
            "\n",
            "Liblinear failed to converge, increase the number of iterations.\n",
            "\n",
            "/usr/local/lib/python3.7/dist-packages/sklearn/svm/_base.py:1208: ConvergenceWarning:\n",
            "\n",
            "Liblinear failed to converge, increase the number of iterations.\n",
            "\n",
            "/usr/local/lib/python3.7/dist-packages/sklearn/svm/_base.py:1208: ConvergenceWarning:\n",
            "\n",
            "Liblinear failed to converge, increase the number of iterations.\n",
            "\n",
            "/usr/local/lib/python3.7/dist-packages/sklearn/svm/_base.py:1208: ConvergenceWarning:\n",
            "\n",
            "Liblinear failed to converge, increase the number of iterations.\n",
            "\n"
          ]
        },
        {
          "output_type": "stream",
          "name": "stdout",
          "text": [
            "[LibLinear][LibLinear][LibLinear][LibLinear][LibLinear][LibLinear]"
          ]
        },
        {
          "output_type": "stream",
          "name": "stderr",
          "text": [
            "/usr/local/lib/python3.7/dist-packages/sklearn/svm/_base.py:1208: ConvergenceWarning:\n",
            "\n",
            "Liblinear failed to converge, increase the number of iterations.\n",
            "\n",
            "/usr/local/lib/python3.7/dist-packages/sklearn/svm/_base.py:1208: ConvergenceWarning:\n",
            "\n",
            "Liblinear failed to converge, increase the number of iterations.\n",
            "\n",
            "/usr/local/lib/python3.7/dist-packages/sklearn/svm/_base.py:1208: ConvergenceWarning:\n",
            "\n",
            "Liblinear failed to converge, increase the number of iterations.\n",
            "\n",
            "/usr/local/lib/python3.7/dist-packages/sklearn/svm/_base.py:1208: ConvergenceWarning:\n",
            "\n",
            "Liblinear failed to converge, increase the number of iterations.\n",
            "\n",
            "/usr/local/lib/python3.7/dist-packages/sklearn/svm/_base.py:1208: ConvergenceWarning:\n",
            "\n",
            "Liblinear failed to converge, increase the number of iterations.\n",
            "\n",
            "/usr/local/lib/python3.7/dist-packages/sklearn/svm/_base.py:1208: ConvergenceWarning:\n",
            "\n",
            "Liblinear failed to converge, increase the number of iterations.\n",
            "\n"
          ]
        },
        {
          "output_type": "stream",
          "name": "stdout",
          "text": [
            "[LibLinear][LibLinear][LibLinear][LibLinear][LibLinear][LibLinear]"
          ]
        },
        {
          "output_type": "stream",
          "name": "stderr",
          "text": [
            "/usr/local/lib/python3.7/dist-packages/sklearn/svm/_base.py:1208: ConvergenceWarning:\n",
            "\n",
            "Liblinear failed to converge, increase the number of iterations.\n",
            "\n",
            "/usr/local/lib/python3.7/dist-packages/sklearn/svm/_base.py:1208: ConvergenceWarning:\n",
            "\n",
            "Liblinear failed to converge, increase the number of iterations.\n",
            "\n",
            "/usr/local/lib/python3.7/dist-packages/sklearn/svm/_base.py:1208: ConvergenceWarning:\n",
            "\n",
            "Liblinear failed to converge, increase the number of iterations.\n",
            "\n",
            "/usr/local/lib/python3.7/dist-packages/sklearn/svm/_base.py:1208: ConvergenceWarning:\n",
            "\n",
            "Liblinear failed to converge, increase the number of iterations.\n",
            "\n",
            "/usr/local/lib/python3.7/dist-packages/sklearn/svm/_base.py:1208: ConvergenceWarning:\n",
            "\n",
            "Liblinear failed to converge, increase the number of iterations.\n",
            "\n",
            "/usr/local/lib/python3.7/dist-packages/sklearn/svm/_base.py:1208: ConvergenceWarning:\n",
            "\n",
            "Liblinear failed to converge, increase the number of iterations.\n",
            "\n",
            "/usr/local/lib/python3.7/dist-packages/sklearn/svm/_base.py:1208: ConvergenceWarning:\n",
            "\n",
            "Liblinear failed to converge, increase the number of iterations.\n",
            "\n"
          ]
        },
        {
          "output_type": "stream",
          "name": "stdout",
          "text": [
            "[LibLinear][LibLinear][LibLinear][LibLinear][LibLinear][LibLinear][LibLinear][LibLinear][LibLinear]"
          ]
        },
        {
          "output_type": "stream",
          "name": "stderr",
          "text": [
            "/usr/local/lib/python3.7/dist-packages/sklearn/svm/_base.py:1208: ConvergenceWarning:\n",
            "\n",
            "Liblinear failed to converge, increase the number of iterations.\n",
            "\n",
            "/usr/local/lib/python3.7/dist-packages/sklearn/svm/_base.py:1208: ConvergenceWarning:\n",
            "\n",
            "Liblinear failed to converge, increase the number of iterations.\n",
            "\n",
            "/usr/local/lib/python3.7/dist-packages/sklearn/svm/_base.py:1208: ConvergenceWarning:\n",
            "\n",
            "Liblinear failed to converge, increase the number of iterations.\n",
            "\n",
            "/usr/local/lib/python3.7/dist-packages/sklearn/svm/_base.py:1208: ConvergenceWarning:\n",
            "\n",
            "Liblinear failed to converge, increase the number of iterations.\n",
            "\n",
            "/usr/local/lib/python3.7/dist-packages/sklearn/svm/_base.py:1208: ConvergenceWarning:\n",
            "\n",
            "Liblinear failed to converge, increase the number of iterations.\n",
            "\n",
            "/usr/local/lib/python3.7/dist-packages/sklearn/svm/_base.py:1208: ConvergenceWarning:\n",
            "\n",
            "Liblinear failed to converge, increase the number of iterations.\n",
            "\n"
          ]
        },
        {
          "output_type": "stream",
          "name": "stdout",
          "text": [
            "[LibLinear][LibLinear][LibLinear][LibLinear][LibLinear][LibLinear]"
          ]
        },
        {
          "output_type": "stream",
          "name": "stderr",
          "text": [
            "/usr/local/lib/python3.7/dist-packages/sklearn/svm/_base.py:1208: ConvergenceWarning:\n",
            "\n",
            "Liblinear failed to converge, increase the number of iterations.\n",
            "\n",
            "/usr/local/lib/python3.7/dist-packages/sklearn/svm/_base.py:1208: ConvergenceWarning:\n",
            "\n",
            "Liblinear failed to converge, increase the number of iterations.\n",
            "\n",
            "/usr/local/lib/python3.7/dist-packages/sklearn/svm/_base.py:1208: ConvergenceWarning:\n",
            "\n",
            "Liblinear failed to converge, increase the number of iterations.\n",
            "\n",
            "/usr/local/lib/python3.7/dist-packages/sklearn/svm/_base.py:1208: ConvergenceWarning:\n",
            "\n",
            "Liblinear failed to converge, increase the number of iterations.\n",
            "\n",
            "/usr/local/lib/python3.7/dist-packages/sklearn/svm/_base.py:1208: ConvergenceWarning:\n",
            "\n",
            "Liblinear failed to converge, increase the number of iterations.\n",
            "\n",
            "/usr/local/lib/python3.7/dist-packages/sklearn/svm/_base.py:1208: ConvergenceWarning:\n",
            "\n",
            "Liblinear failed to converge, increase the number of iterations.\n",
            "\n"
          ]
        },
        {
          "output_type": "stream",
          "name": "stdout",
          "text": [
            "[LibLinear][LibLinear][LibLinear][LibLinear][LibLinear][LibLinear]"
          ]
        },
        {
          "output_type": "stream",
          "name": "stderr",
          "text": [
            "/usr/local/lib/python3.7/dist-packages/sklearn/svm/_base.py:1208: ConvergenceWarning:\n",
            "\n",
            "Liblinear failed to converge, increase the number of iterations.\n",
            "\n",
            "/usr/local/lib/python3.7/dist-packages/sklearn/svm/_base.py:1208: ConvergenceWarning:\n",
            "\n",
            "Liblinear failed to converge, increase the number of iterations.\n",
            "\n",
            "/usr/local/lib/python3.7/dist-packages/sklearn/svm/_base.py:1208: ConvergenceWarning:\n",
            "\n",
            "Liblinear failed to converge, increase the number of iterations.\n",
            "\n",
            "/usr/local/lib/python3.7/dist-packages/sklearn/svm/_base.py:1208: ConvergenceWarning:\n",
            "\n",
            "Liblinear failed to converge, increase the number of iterations.\n",
            "\n",
            "/usr/local/lib/python3.7/dist-packages/sklearn/svm/_base.py:1208: ConvergenceWarning:\n",
            "\n",
            "Liblinear failed to converge, increase the number of iterations.\n",
            "\n",
            "/usr/local/lib/python3.7/dist-packages/sklearn/svm/_base.py:1208: ConvergenceWarning:\n",
            "\n",
            "Liblinear failed to converge, increase the number of iterations.\n",
            "\n"
          ]
        },
        {
          "output_type": "stream",
          "name": "stdout",
          "text": [
            "[LibLinear][LibLinear][LibLinear][LibLinear][LibLinear][LibLinear]"
          ]
        },
        {
          "output_type": "stream",
          "name": "stderr",
          "text": [
            "/usr/local/lib/python3.7/dist-packages/sklearn/svm/_base.py:1208: ConvergenceWarning:\n",
            "\n",
            "Liblinear failed to converge, increase the number of iterations.\n",
            "\n",
            "/usr/local/lib/python3.7/dist-packages/sklearn/svm/_base.py:1208: ConvergenceWarning:\n",
            "\n",
            "Liblinear failed to converge, increase the number of iterations.\n",
            "\n",
            "/usr/local/lib/python3.7/dist-packages/sklearn/svm/_base.py:1208: ConvergenceWarning:\n",
            "\n",
            "Liblinear failed to converge, increase the number of iterations.\n",
            "\n",
            "/usr/local/lib/python3.7/dist-packages/sklearn/svm/_base.py:1208: ConvergenceWarning:\n",
            "\n",
            "Liblinear failed to converge, increase the number of iterations.\n",
            "\n",
            "/usr/local/lib/python3.7/dist-packages/sklearn/svm/_base.py:1208: ConvergenceWarning:\n",
            "\n",
            "Liblinear failed to converge, increase the number of iterations.\n",
            "\n",
            "/usr/local/lib/python3.7/dist-packages/sklearn/svm/_base.py:1208: ConvergenceWarning:\n",
            "\n",
            "Liblinear failed to converge, increase the number of iterations.\n",
            "\n"
          ]
        },
        {
          "output_type": "stream",
          "name": "stdout",
          "text": [
            "[LibLinear][LibLinear][LibLinear][LibLinear][LibLinear][LibLinear]"
          ]
        },
        {
          "output_type": "stream",
          "name": "stderr",
          "text": [
            "/usr/local/lib/python3.7/dist-packages/sklearn/svm/_base.py:1208: ConvergenceWarning:\n",
            "\n",
            "Liblinear failed to converge, increase the number of iterations.\n",
            "\n",
            "/usr/local/lib/python3.7/dist-packages/sklearn/svm/_base.py:1208: ConvergenceWarning:\n",
            "\n",
            "Liblinear failed to converge, increase the number of iterations.\n",
            "\n",
            "/usr/local/lib/python3.7/dist-packages/sklearn/svm/_base.py:1208: ConvergenceWarning:\n",
            "\n",
            "Liblinear failed to converge, increase the number of iterations.\n",
            "\n",
            "/usr/local/lib/python3.7/dist-packages/sklearn/svm/_base.py:1208: ConvergenceWarning:\n",
            "\n",
            "Liblinear failed to converge, increase the number of iterations.\n",
            "\n",
            "/usr/local/lib/python3.7/dist-packages/sklearn/svm/_base.py:1208: ConvergenceWarning:\n",
            "\n",
            "Liblinear failed to converge, increase the number of iterations.\n",
            "\n",
            "/usr/local/lib/python3.7/dist-packages/sklearn/svm/_base.py:1208: ConvergenceWarning:\n",
            "\n",
            "Liblinear failed to converge, increase the number of iterations.\n",
            "\n"
          ]
        },
        {
          "output_type": "stream",
          "name": "stdout",
          "text": [
            "[LibLinear][LibLinear][LibLinear][LibLinear][LibLinear]"
          ]
        },
        {
          "output_type": "stream",
          "name": "stderr",
          "text": [
            "/usr/local/lib/python3.7/dist-packages/sklearn/svm/_base.py:1208: ConvergenceWarning:\n",
            "\n",
            "Liblinear failed to converge, increase the number of iterations.\n",
            "\n",
            "/usr/local/lib/python3.7/dist-packages/sklearn/svm/_base.py:1208: ConvergenceWarning:\n",
            "\n",
            "Liblinear failed to converge, increase the number of iterations.\n",
            "\n",
            "/usr/local/lib/python3.7/dist-packages/sklearn/svm/_base.py:1208: ConvergenceWarning:\n",
            "\n",
            "Liblinear failed to converge, increase the number of iterations.\n",
            "\n",
            "/usr/local/lib/python3.7/dist-packages/sklearn/svm/_base.py:1208: ConvergenceWarning:\n",
            "\n",
            "Liblinear failed to converge, increase the number of iterations.\n",
            "\n",
            "/usr/local/lib/python3.7/dist-packages/sklearn/svm/_base.py:1208: ConvergenceWarning:\n",
            "\n",
            "Liblinear failed to converge, increase the number of iterations.\n",
            "\n"
          ]
        },
        {
          "output_type": "stream",
          "name": "stdout",
          "text": [
            "[LibLinear][LibLinear][LibLinear][LibLinear][LibLinear][LibLinear]"
          ]
        },
        {
          "output_type": "stream",
          "name": "stderr",
          "text": [
            "/usr/local/lib/python3.7/dist-packages/sklearn/svm/_base.py:1208: ConvergenceWarning:\n",
            "\n",
            "Liblinear failed to converge, increase the number of iterations.\n",
            "\n",
            "/usr/local/lib/python3.7/dist-packages/sklearn/svm/_base.py:1208: ConvergenceWarning:\n",
            "\n",
            "Liblinear failed to converge, increase the number of iterations.\n",
            "\n",
            "/usr/local/lib/python3.7/dist-packages/sklearn/svm/_base.py:1208: ConvergenceWarning:\n",
            "\n",
            "Liblinear failed to converge, increase the number of iterations.\n",
            "\n",
            "/usr/local/lib/python3.7/dist-packages/sklearn/svm/_base.py:1208: ConvergenceWarning:\n",
            "\n",
            "Liblinear failed to converge, increase the number of iterations.\n",
            "\n",
            "/usr/local/lib/python3.7/dist-packages/sklearn/svm/_base.py:1208: ConvergenceWarning:\n",
            "\n",
            "Liblinear failed to converge, increase the number of iterations.\n",
            "\n",
            "/usr/local/lib/python3.7/dist-packages/sklearn/svm/_base.py:1208: ConvergenceWarning:\n",
            "\n",
            "Liblinear failed to converge, increase the number of iterations.\n",
            "\n"
          ]
        },
        {
          "output_type": "stream",
          "name": "stdout",
          "text": [
            "[LibLinear][LibLinear][LibLinear][LibLinear][LibLinear][LibLinear]"
          ]
        },
        {
          "output_type": "stream",
          "name": "stderr",
          "text": [
            "/usr/local/lib/python3.7/dist-packages/sklearn/svm/_base.py:1208: ConvergenceWarning:\n",
            "\n",
            "Liblinear failed to converge, increase the number of iterations.\n",
            "\n",
            "/usr/local/lib/python3.7/dist-packages/sklearn/svm/_base.py:1208: ConvergenceWarning:\n",
            "\n",
            "Liblinear failed to converge, increase the number of iterations.\n",
            "\n",
            "/usr/local/lib/python3.7/dist-packages/sklearn/svm/_base.py:1208: ConvergenceWarning:\n",
            "\n",
            "Liblinear failed to converge, increase the number of iterations.\n",
            "\n",
            "/usr/local/lib/python3.7/dist-packages/sklearn/svm/_base.py:1208: ConvergenceWarning:\n",
            "\n",
            "Liblinear failed to converge, increase the number of iterations.\n",
            "\n",
            "/usr/local/lib/python3.7/dist-packages/sklearn/svm/_base.py:1208: ConvergenceWarning:\n",
            "\n",
            "Liblinear failed to converge, increase the number of iterations.\n",
            "\n",
            "/usr/local/lib/python3.7/dist-packages/sklearn/svm/_base.py:1208: ConvergenceWarning:\n",
            "\n",
            "Liblinear failed to converge, increase the number of iterations.\n",
            "\n"
          ]
        },
        {
          "output_type": "stream",
          "name": "stdout",
          "text": [
            "[LibLinear][LibLinear][LibLinear][LibLinear][LibLinear][LibLinear]"
          ]
        },
        {
          "output_type": "stream",
          "name": "stderr",
          "text": [
            "/usr/local/lib/python3.7/dist-packages/sklearn/svm/_base.py:1208: ConvergenceWarning:\n",
            "\n",
            "Liblinear failed to converge, increase the number of iterations.\n",
            "\n",
            "/usr/local/lib/python3.7/dist-packages/sklearn/svm/_base.py:1208: ConvergenceWarning:\n",
            "\n",
            "Liblinear failed to converge, increase the number of iterations.\n",
            "\n",
            "/usr/local/lib/python3.7/dist-packages/sklearn/svm/_base.py:1208: ConvergenceWarning:\n",
            "\n",
            "Liblinear failed to converge, increase the number of iterations.\n",
            "\n",
            "/usr/local/lib/python3.7/dist-packages/sklearn/svm/_base.py:1208: ConvergenceWarning:\n",
            "\n",
            "Liblinear failed to converge, increase the number of iterations.\n",
            "\n",
            "/usr/local/lib/python3.7/dist-packages/sklearn/svm/_base.py:1208: ConvergenceWarning:\n",
            "\n",
            "Liblinear failed to converge, increase the number of iterations.\n",
            "\n",
            "/usr/local/lib/python3.7/dist-packages/sklearn/svm/_base.py:1208: ConvergenceWarning:\n",
            "\n",
            "Liblinear failed to converge, increase the number of iterations.\n",
            "\n",
            "/usr/local/lib/python3.7/dist-packages/sklearn/svm/_base.py:1208: ConvergenceWarning:\n",
            "\n",
            "Liblinear failed to converge, increase the number of iterations.\n",
            "\n"
          ]
        },
        {
          "output_type": "stream",
          "name": "stdout",
          "text": [
            "[LibLinear][LibLinear][LibLinear][LibLinear][LibLinear][LibLinear]"
          ]
        },
        {
          "output_type": "stream",
          "name": "stderr",
          "text": [
            "/usr/local/lib/python3.7/dist-packages/sklearn/svm/_base.py:1208: ConvergenceWarning:\n",
            "\n",
            "Liblinear failed to converge, increase the number of iterations.\n",
            "\n",
            "/usr/local/lib/python3.7/dist-packages/sklearn/svm/_base.py:1208: ConvergenceWarning:\n",
            "\n",
            "Liblinear failed to converge, increase the number of iterations.\n",
            "\n",
            "/usr/local/lib/python3.7/dist-packages/sklearn/svm/_base.py:1208: ConvergenceWarning:\n",
            "\n",
            "Liblinear failed to converge, increase the number of iterations.\n",
            "\n",
            "/usr/local/lib/python3.7/dist-packages/sklearn/svm/_base.py:1208: ConvergenceWarning:\n",
            "\n",
            "Liblinear failed to converge, increase the number of iterations.\n",
            "\n",
            "/usr/local/lib/python3.7/dist-packages/sklearn/svm/_base.py:1208: ConvergenceWarning:\n",
            "\n",
            "Liblinear failed to converge, increase the number of iterations.\n",
            "\n",
            "/usr/local/lib/python3.7/dist-packages/sklearn/svm/_base.py:1208: ConvergenceWarning:\n",
            "\n",
            "Liblinear failed to converge, increase the number of iterations.\n",
            "\n"
          ]
        },
        {
          "output_type": "stream",
          "name": "stdout",
          "text": [
            "[LibLinear][LibLinear][LibLinear][LibLinear][LibLinear]"
          ]
        },
        {
          "output_type": "stream",
          "name": "stderr",
          "text": [
            "/usr/local/lib/python3.7/dist-packages/sklearn/svm/_base.py:1208: ConvergenceWarning:\n",
            "\n",
            "Liblinear failed to converge, increase the number of iterations.\n",
            "\n",
            "/usr/local/lib/python3.7/dist-packages/sklearn/svm/_base.py:1208: ConvergenceWarning:\n",
            "\n",
            "Liblinear failed to converge, increase the number of iterations.\n",
            "\n",
            "/usr/local/lib/python3.7/dist-packages/sklearn/svm/_base.py:1208: ConvergenceWarning:\n",
            "\n",
            "Liblinear failed to converge, increase the number of iterations.\n",
            "\n",
            "/usr/local/lib/python3.7/dist-packages/sklearn/svm/_base.py:1208: ConvergenceWarning:\n",
            "\n",
            "Liblinear failed to converge, increase the number of iterations.\n",
            "\n",
            "/usr/local/lib/python3.7/dist-packages/sklearn/svm/_base.py:1208: ConvergenceWarning:\n",
            "\n",
            "Liblinear failed to converge, increase the number of iterations.\n",
            "\n"
          ]
        },
        {
          "output_type": "stream",
          "name": "stdout",
          "text": [
            "[LibLinear][LibLinear][LibLinear][LibLinear][LibLinear]"
          ]
        },
        {
          "output_type": "stream",
          "name": "stderr",
          "text": [
            "/usr/local/lib/python3.7/dist-packages/sklearn/svm/_base.py:1208: ConvergenceWarning:\n",
            "\n",
            "Liblinear failed to converge, increase the number of iterations.\n",
            "\n",
            "/usr/local/lib/python3.7/dist-packages/sklearn/svm/_base.py:1208: ConvergenceWarning:\n",
            "\n",
            "Liblinear failed to converge, increase the number of iterations.\n",
            "\n",
            "/usr/local/lib/python3.7/dist-packages/sklearn/svm/_base.py:1208: ConvergenceWarning:\n",
            "\n",
            "Liblinear failed to converge, increase the number of iterations.\n",
            "\n",
            "/usr/local/lib/python3.7/dist-packages/sklearn/svm/_base.py:1208: ConvergenceWarning:\n",
            "\n",
            "Liblinear failed to converge, increase the number of iterations.\n",
            "\n",
            "/usr/local/lib/python3.7/dist-packages/sklearn/svm/_base.py:1208: ConvergenceWarning:\n",
            "\n",
            "Liblinear failed to converge, increase the number of iterations.\n",
            "\n"
          ]
        },
        {
          "output_type": "stream",
          "name": "stdout",
          "text": [
            "[LibLinear][LibLinear][LibLinear][LibLinear][LibLinear]"
          ]
        },
        {
          "output_type": "stream",
          "name": "stderr",
          "text": [
            "/usr/local/lib/python3.7/dist-packages/sklearn/svm/_base.py:1208: ConvergenceWarning:\n",
            "\n",
            "Liblinear failed to converge, increase the number of iterations.\n",
            "\n",
            "/usr/local/lib/python3.7/dist-packages/sklearn/svm/_base.py:1208: ConvergenceWarning:\n",
            "\n",
            "Liblinear failed to converge, increase the number of iterations.\n",
            "\n",
            "/usr/local/lib/python3.7/dist-packages/sklearn/svm/_base.py:1208: ConvergenceWarning:\n",
            "\n",
            "Liblinear failed to converge, increase the number of iterations.\n",
            "\n",
            "/usr/local/lib/python3.7/dist-packages/sklearn/svm/_base.py:1208: ConvergenceWarning:\n",
            "\n",
            "Liblinear failed to converge, increase the number of iterations.\n",
            "\n",
            "/usr/local/lib/python3.7/dist-packages/sklearn/svm/_base.py:1208: ConvergenceWarning:\n",
            "\n",
            "Liblinear failed to converge, increase the number of iterations.\n",
            "\n",
            "/usr/local/lib/python3.7/dist-packages/sklearn/svm/_base.py:1208: ConvergenceWarning:\n",
            "\n",
            "Liblinear failed to converge, increase the number of iterations.\n",
            "\n"
          ]
        },
        {
          "output_type": "stream",
          "name": "stdout",
          "text": [
            "[LibLinear][LibLinear][LibLinear][LibLinear][LibLinear][LibLinear]"
          ]
        },
        {
          "output_type": "stream",
          "name": "stderr",
          "text": [
            "/usr/local/lib/python3.7/dist-packages/sklearn/svm/_base.py:1208: ConvergenceWarning:\n",
            "\n",
            "Liblinear failed to converge, increase the number of iterations.\n",
            "\n",
            "/usr/local/lib/python3.7/dist-packages/sklearn/svm/_base.py:1208: ConvergenceWarning:\n",
            "\n",
            "Liblinear failed to converge, increase the number of iterations.\n",
            "\n",
            "/usr/local/lib/python3.7/dist-packages/sklearn/svm/_base.py:1208: ConvergenceWarning:\n",
            "\n",
            "Liblinear failed to converge, increase the number of iterations.\n",
            "\n",
            "/usr/local/lib/python3.7/dist-packages/sklearn/svm/_base.py:1208: ConvergenceWarning:\n",
            "\n",
            "Liblinear failed to converge, increase the number of iterations.\n",
            "\n",
            "/usr/local/lib/python3.7/dist-packages/sklearn/svm/_base.py:1208: ConvergenceWarning:\n",
            "\n",
            "Liblinear failed to converge, increase the number of iterations.\n",
            "\n",
            "/usr/local/lib/python3.7/dist-packages/sklearn/svm/_base.py:1208: ConvergenceWarning:\n",
            "\n",
            "Liblinear failed to converge, increase the number of iterations.\n",
            "\n"
          ]
        },
        {
          "output_type": "stream",
          "name": "stdout",
          "text": [
            "[LibLinear][LibLinear][LibLinear][LibLinear][LibLinear][LibLinear]"
          ]
        },
        {
          "output_type": "stream",
          "name": "stderr",
          "text": [
            "/usr/local/lib/python3.7/dist-packages/sklearn/svm/_base.py:1208: ConvergenceWarning:\n",
            "\n",
            "Liblinear failed to converge, increase the number of iterations.\n",
            "\n",
            "/usr/local/lib/python3.7/dist-packages/sklearn/svm/_base.py:1208: ConvergenceWarning:\n",
            "\n",
            "Liblinear failed to converge, increase the number of iterations.\n",
            "\n",
            "/usr/local/lib/python3.7/dist-packages/sklearn/svm/_base.py:1208: ConvergenceWarning:\n",
            "\n",
            "Liblinear failed to converge, increase the number of iterations.\n",
            "\n",
            "/usr/local/lib/python3.7/dist-packages/sklearn/svm/_base.py:1208: ConvergenceWarning:\n",
            "\n",
            "Liblinear failed to converge, increase the number of iterations.\n",
            "\n",
            "/usr/local/lib/python3.7/dist-packages/sklearn/svm/_base.py:1208: ConvergenceWarning:\n",
            "\n",
            "Liblinear failed to converge, increase the number of iterations.\n",
            "\n",
            "/usr/local/lib/python3.7/dist-packages/sklearn/svm/_base.py:1208: ConvergenceWarning:\n",
            "\n",
            "Liblinear failed to converge, increase the number of iterations.\n",
            "\n"
          ]
        },
        {
          "output_type": "stream",
          "name": "stdout",
          "text": [
            "[LibLinear][LibLinear][LibLinear][LibLinear][LibLinear][LibLinear]"
          ]
        },
        {
          "output_type": "stream",
          "name": "stderr",
          "text": [
            "/usr/local/lib/python3.7/dist-packages/sklearn/svm/_base.py:1208: ConvergenceWarning:\n",
            "\n",
            "Liblinear failed to converge, increase the number of iterations.\n",
            "\n",
            "/usr/local/lib/python3.7/dist-packages/sklearn/svm/_base.py:1208: ConvergenceWarning:\n",
            "\n",
            "Liblinear failed to converge, increase the number of iterations.\n",
            "\n",
            "/usr/local/lib/python3.7/dist-packages/sklearn/svm/_base.py:1208: ConvergenceWarning:\n",
            "\n",
            "Liblinear failed to converge, increase the number of iterations.\n",
            "\n",
            "/usr/local/lib/python3.7/dist-packages/sklearn/svm/_base.py:1208: ConvergenceWarning:\n",
            "\n",
            "Liblinear failed to converge, increase the number of iterations.\n",
            "\n",
            "/usr/local/lib/python3.7/dist-packages/sklearn/svm/_base.py:1208: ConvergenceWarning:\n",
            "\n",
            "Liblinear failed to converge, increase the number of iterations.\n",
            "\n",
            "/usr/local/lib/python3.7/dist-packages/sklearn/svm/_base.py:1208: ConvergenceWarning:\n",
            "\n",
            "Liblinear failed to converge, increase the number of iterations.\n",
            "\n"
          ]
        },
        {
          "output_type": "stream",
          "name": "stdout",
          "text": [
            "[LibLinear][LibLinear][LibLinear][LibLinear][LibLinear]"
          ]
        },
        {
          "output_type": "stream",
          "name": "stderr",
          "text": [
            "/usr/local/lib/python3.7/dist-packages/sklearn/svm/_base.py:1208: ConvergenceWarning:\n",
            "\n",
            "Liblinear failed to converge, increase the number of iterations.\n",
            "\n",
            "/usr/local/lib/python3.7/dist-packages/sklearn/svm/_base.py:1208: ConvergenceWarning:\n",
            "\n",
            "Liblinear failed to converge, increase the number of iterations.\n",
            "\n",
            "/usr/local/lib/python3.7/dist-packages/sklearn/svm/_base.py:1208: ConvergenceWarning:\n",
            "\n",
            "Liblinear failed to converge, increase the number of iterations.\n",
            "\n",
            "/usr/local/lib/python3.7/dist-packages/sklearn/svm/_base.py:1208: ConvergenceWarning:\n",
            "\n",
            "Liblinear failed to converge, increase the number of iterations.\n",
            "\n",
            "/usr/local/lib/python3.7/dist-packages/sklearn/svm/_base.py:1208: ConvergenceWarning:\n",
            "\n",
            "Liblinear failed to converge, increase the number of iterations.\n",
            "\n",
            "/usr/local/lib/python3.7/dist-packages/sklearn/svm/_base.py:1208: ConvergenceWarning:\n",
            "\n",
            "Liblinear failed to converge, increase the number of iterations.\n",
            "\n"
          ]
        },
        {
          "output_type": "stream",
          "name": "stdout",
          "text": [
            "[LibLinear][LibLinear][LibLinear][LibLinear][LibLinear][LibLinear][LibLinear]"
          ]
        },
        {
          "output_type": "stream",
          "name": "stderr",
          "text": [
            "/usr/local/lib/python3.7/dist-packages/sklearn/svm/_base.py:1208: ConvergenceWarning:\n",
            "\n",
            "Liblinear failed to converge, increase the number of iterations.\n",
            "\n",
            "/usr/local/lib/python3.7/dist-packages/sklearn/svm/_base.py:1208: ConvergenceWarning:\n",
            "\n",
            "Liblinear failed to converge, increase the number of iterations.\n",
            "\n",
            "/usr/local/lib/python3.7/dist-packages/sklearn/svm/_base.py:1208: ConvergenceWarning:\n",
            "\n",
            "Liblinear failed to converge, increase the number of iterations.\n",
            "\n",
            "/usr/local/lib/python3.7/dist-packages/sklearn/svm/_base.py:1208: ConvergenceWarning:\n",
            "\n",
            "Liblinear failed to converge, increase the number of iterations.\n",
            "\n"
          ]
        },
        {
          "output_type": "stream",
          "name": "stdout",
          "text": [
            "Model Number: 1020 with model DatepartRegression in generation 8 of 10\n",
            "Template Eval Error: ValueError(\"regression_type='User' but no future_regressor passed\") in model 1020: DatepartRegression\n",
            "Model Number: 1021 with model Theta in generation 8 of 10\n",
            "Model Number: 1022 with model NVAR in generation 8 of 10\n",
            "Model Number: 1023 with model LastValueNaive in generation 8 of 10\n",
            "Model Number: 1024 with model ETS in generation 8 of 10\n",
            "Model Number: 1025 with model FBProphet in generation 8 of 10\n"
          ]
        },
        {
          "output_type": "stream",
          "name": "stderr",
          "text": [
            "INFO:prophet:Disabling yearly seasonality. Run prophet with yearly_seasonality=True to override this.\n",
            "INFO:prophet:Disabling daily seasonality. Run prophet with daily_seasonality=True to override this.\n",
            "DEBUG:cmdstanpy:input tempfile: /tmp/tmpjl9_res0/eb3pkx4m.json\n",
            "DEBUG:cmdstanpy:input tempfile: /tmp/tmpjl9_res0/r6u75lmf.json\n",
            "DEBUG:cmdstanpy:idx 0\n",
            "DEBUG:cmdstanpy:running CmdStan, num_threads: None\n",
            "DEBUG:cmdstanpy:CmdStan args: ['/usr/local/lib/python3.7/dist-packages/prophet/stan_model/prophet_model.bin', 'random', 'seed=68692', 'data', 'file=/tmp/tmpjl9_res0/eb3pkx4m.json', 'init=/tmp/tmpjl9_res0/r6u75lmf.json', 'output', 'file=/tmp/tmpyhnsdyc_/prophet_model-20220831113020.csv', 'method=optimize', 'algorithm=lbfgs', 'iter=10000']\n",
            "11:30:20 - cmdstanpy - INFO - Chain [1] start processing\n",
            "INFO:cmdstanpy:Chain [1] start processing\n",
            "11:30:20 - cmdstanpy - INFO - Chain [1] done processing\n",
            "INFO:cmdstanpy:Chain [1] done processing\n"
          ]
        },
        {
          "output_type": "stream",
          "name": "stdout",
          "text": [
            "Model Number: 1026 with model Theta in generation 8 of 10\n",
            "Model Number: 1027 with model ARIMA in generation 8 of 10\n",
            "Model Number: 1028 with model ConstantNaive in generation 8 of 10\n",
            "Model Number: 1029 with model AverageValueNaive in generation 8 of 10\n",
            "Model Number: 1030 with model AverageValueNaive in generation 8 of 10\n",
            "Model Number: 1031 with model ARIMA in generation 8 of 10\n",
            "Model Number: 1032 with model UnobservedComponents in generation 8 of 10\n",
            "Model Number: 1033 with model ETS in generation 8 of 10\n",
            "Model Number: 1034 with model Theta in generation 8 of 10\n",
            "Model Number: 1035 with model GLS in generation 8 of 10\n",
            "Model Number: 1036 with model DatepartRegression in generation 8 of 10\n",
            "Model Number: 1037 with model Theta in generation 8 of 10\n",
            "Model Number: 1038 with model UnivariateRegression in generation 8 of 10\n",
            "Model Number: 1039 with model AverageValueNaive in generation 8 of 10\n",
            "Model Number: 1040 with model MultivariateMotif in generation 8 of 10\n",
            "Template Eval Error: Exception('Transformer BTCD failed on fit') in model 1040: MultivariateMotif\n",
            "Model Number: 1041 with model UnivariateRegression in generation 8 of 10\n",
            "Template Eval Error: ValueError(\"regression_type='User' but not future_regressor supplied.\") in model 1041: UnivariateRegression\n",
            "Model Number: 1042 with model UnivariateMotif in generation 8 of 10\n",
            "Model Number: 1043 with model ConstantNaive in generation 8 of 10\n",
            "Model Number: 1044 with model MultivariateMotif in generation 8 of 10\n",
            "Model Number: 1045 with model ConstantNaive in generation 8 of 10\n",
            "Template Eval Error: KeyError(Timestamp('2021-05-14 00:00:00', freq='B')) in model 1045: ConstantNaive\n",
            "Model Number: 1046 with model ARIMA in generation 8 of 10\n",
            "Model Number: 1047 with model LastValueNaive in generation 8 of 10\n",
            "New Generation: 9 of 10\n",
            "Model Number: 1048 with model LastValueNaive in generation 9 of 10\n",
            "Model Number: 1049 with model GLS in generation 9 of 10\n",
            "Model Number: 1050 with model GLS in generation 9 of 10\n",
            "Model Number: 1051 with model SeasonalNaive in generation 9 of 10\n",
            "Model Number: 1052 with model SectionalMotif in generation 9 of 10\n",
            "Model Number: 1053 with model ConstantNaive in generation 9 of 10\n",
            "Model Number: 1054 with model UnobservedComponents in generation 9 of 10\n",
            "Model Number: 1055 with model ETS in generation 9 of 10\n",
            "Model Number: 1056 with model UnobservedComponents in generation 9 of 10\n",
            "Model Number: 1057 with model UnivariateRegression in generation 9 of 10\n",
            "Template Eval Error: ValueError(\"Input contains NaN, infinity or a value too large for dtype('float32').\") in model 1057: UnivariateRegression\n",
            "Model Number: 1058 with model WindowRegression in generation 9 of 10\n",
            "Model Number: 1059 with model Theta in generation 9 of 10\n",
            "Model Number: 1060 with model NVAR in generation 9 of 10\n",
            "Model Number: 1061 with model ETS in generation 9 of 10\n",
            "Model Number: 1062 with model ARIMA in generation 9 of 10\n",
            "Model Number: 1063 with model ARIMA in generation 9 of 10\n",
            "Model Number: 1064 with model ARIMA in generation 9 of 10\n"
          ]
        }
      ],
      "source": [
        "from autots import AutoTS\n",
        "model = AutoTS(forecast_length=5, frequency='infer', ensemble='simple')\n",
        "model = model.fit(data, date_col='Date', value_col='Close Price', id_col=None)\n",
        "prediction = model.predict()\n",
        "forecast = prediction.forecast\n",
        "print(forecast)"
      ]
    },
    {
      "cell_type": "code",
      "source": [],
      "metadata": {
        "id": "RYfOxPuMmGKD"
      },
      "execution_count": null,
      "outputs": []
    }
  ],
  "metadata": {
    "colab": {
      "name": "Fedral bank 1 year data analysis",
      "provenance": []
    },
    "kernelspec": {
      "display_name": "Python 3",
      "name": "python3"
    },
    "language_info": {
      "name": "python"
    }
  },
  "nbformat": 4,
  "nbformat_minor": 0
}